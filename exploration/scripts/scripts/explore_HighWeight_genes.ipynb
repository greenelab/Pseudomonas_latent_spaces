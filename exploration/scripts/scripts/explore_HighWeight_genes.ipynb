{
 "cells": [
  {
   "cell_type": "markdown",
   "metadata": {},
   "source": [
    "# Explore latent space features\n",
    "We want to know if our VAE model is capturing our signal\n",
    "\n",
    "Identify high weight (HW) genes for each latent space feature (node)\n",
    "Determine if genes in group A and B are found within these highly weighted genes"
   ]
  },
  {
   "cell_type": "code",
   "execution_count": 1,
   "metadata": {
    "ExecuteTime": {
     "end_time": "2019-04-19T15:58:53.954837Z",
     "start_time": "2019-04-19T15:58:53.376818Z"
    }
   },
   "outputs": [],
   "source": [
    "%matplotlib inline\n",
    "import os\n",
    "import pandas as pd\n",
    "import numpy as np\n",
    "import seaborn as sns\n",
    "import matplotlib.pyplot as plt\n",
    "from scipy.stats import pearsonr, spearmanr\n",
    "\n",
    "\n",
    "randomState = 123\n",
    "from numpy.random import seed\n",
    "seed(randomState)"
   ]
  },
  {
   "cell_type": "code",
   "execution_count": 2,
   "metadata": {
    "ExecuteTime": {
     "end_time": "2019-04-19T15:58:53.959392Z",
     "start_time": "2019-04-19T15:58:53.957034Z"
    }
   },
   "outputs": [],
   "source": [
    "# Load arguments\n",
    "analysis_name = \"sim_balancedAB_2latent\"\n",
    "data_file = os.path.join(os.path.dirname(os.getcwd()), \"data\", analysis_name, \"VAE_weight_matrix.txt\")\n",
    "A_file = os.path.join(os.path.dirname(os.getcwd()), \"data\", analysis_name, \"geneSetA.txt\")\n",
    "B_file = os.path.join(os.path.dirname(os.getcwd()), \"data\", analysis_name, \"geneSetB.txt\")\n",
    "\n",
    "#HW_file = os.path.join(os.path.dirname(os.getcwd()), \"output\", analysis_name, \"HW_genes.txt\")"
   ]
  },
  {
   "cell_type": "code",
   "execution_count": 3,
   "metadata": {
    "ExecuteTime": {
     "end_time": "2019-04-19T15:58:54.109088Z",
     "start_time": "2019-04-19T15:58:53.960557Z"
    }
   },
   "outputs": [
    {
     "data": {
      "text/html": [
       "<div>\n",
       "<style scoped>\n",
       "    .dataframe tbody tr th:only-of-type {\n",
       "        vertical-align: middle;\n",
       "    }\n",
       "\n",
       "    .dataframe tbody tr th {\n",
       "        vertical-align: top;\n",
       "    }\n",
       "\n",
       "    .dataframe thead th {\n",
       "        text-align: right;\n",
       "    }\n",
       "</style>\n",
       "<table border=\"1\" class=\"dataframe\">\n",
       "  <thead>\n",
       "    <tr style=\"text-align: right;\">\n",
       "      <th></th>\n",
       "      <th>0</th>\n",
       "      <th>1</th>\n",
       "    </tr>\n",
       "  </thead>\n",
       "  <tbody>\n",
       "    <tr>\n",
       "      <th>PA3423</th>\n",
       "      <td>0.400786</td>\n",
       "      <td>0.390443</td>\n",
       "    </tr>\n",
       "    <tr>\n",
       "      <th>PA0084</th>\n",
       "      <td>0.401404</td>\n",
       "      <td>0.394910</td>\n",
       "    </tr>\n",
       "    <tr>\n",
       "      <th>PA2455</th>\n",
       "      <td>0.405950</td>\n",
       "      <td>0.400744</td>\n",
       "    </tr>\n",
       "    <tr>\n",
       "      <th>PA3029</th>\n",
       "      <td>0.404776</td>\n",
       "      <td>0.384604</td>\n",
       "    </tr>\n",
       "    <tr>\n",
       "      <th>PA1588</th>\n",
       "      <td>0.393269</td>\n",
       "      <td>0.393151</td>\n",
       "    </tr>\n",
       "  </tbody>\n",
       "</table>\n",
       "</div>"
      ],
      "text/plain": [
       "               0         1\n",
       "PA3423  0.400786  0.390443\n",
       "PA0084  0.401404  0.394910\n",
       "PA2455  0.405950  0.400744\n",
       "PA3029  0.404776  0.384604\n",
       "PA1588  0.393269  0.393151"
      ]
     },
     "execution_count": 3,
     "metadata": {},
     "output_type": "execute_result"
    }
   ],
   "source": [
    "# Read in data\n",
    "geneSetA = pd.read_table(A_file, header=0, index_col=0)\n",
    "geneSetB = pd.read_table(B_file, header=0, index_col=0)\n",
    "\n",
    "weight = pd.read_table(data_file, header=0, index_col=0).T\n",
    "weight.head(5)"
   ]
  },
  {
   "cell_type": "code",
   "execution_count": 4,
   "metadata": {
    "ExecuteTime": {
     "end_time": "2019-04-19T15:58:54.112391Z",
     "start_time": "2019-04-19T15:58:54.110360Z"
    }
   },
   "outputs": [],
   "source": [
    "# Plot the distribution of gene weights per latent feature\n",
    "#num_features = weight.shape[1]\n",
    "\n",
    "#f, axes = plt.subplots(num_features, 1, sharex=True)\n",
    "#for i, ax in zip(weight.columns, axes.flat):\n",
    "#    sns.distplot(weight[i] , color=\"skyblue\", rug=False, kde=False, ax=ax)\n",
    "    \n",
    "#f.set_size_inches(15, 15)"
   ]
  },
  {
   "cell_type": "code",
   "execution_count": 5,
   "metadata": {
    "ExecuteTime": {
     "end_time": "2019-04-19T15:58:54.289510Z",
     "start_time": "2019-04-19T15:58:54.113658Z"
    }
   },
   "outputs": [],
   "source": [
    "# Calculate mean per node (\"signature\" or \"feature\")\n",
    "means = weight.mean(axis=0)\n",
    "\n",
    "# Calculate 2 standard deviations per node (\"signature\" or \"feature\")\n",
    "stds = weight.std(axis=0)\n",
    "two_stds = 2*stds"
   ]
  },
  {
   "cell_type": "code",
   "execution_count": 6,
   "metadata": {
    "ExecuteTime": {
     "end_time": "2019-04-19T15:58:54.338967Z",
     "start_time": "2019-04-19T15:58:54.295657Z"
    }
   },
   "outputs": [],
   "source": [
    "# Get high positive and negative weight genes per node (\"signature\" or \"feature\") -- HW_df\n",
    "# Record metadata per latent feature in a table -- HW_metadata_df\n",
    "# Record distance between gene set weight and \n",
    "HW_df = pd.DataFrame()\n",
    "HW_metadata_df = pd.DataFrame()\n",
    "\n",
    "num_nodes = len(means)\n",
    "\n",
    "for i in range(num_nodes):\n",
    "    node_mean = means.iloc[i]\n",
    "    node_std = stds.iloc[i] \n",
    "    \n",
    "    pos_threshold = node_mean + two_stds.iloc[i]\n",
    "    neg_threshold = node_mean - two_stds.iloc[i]\n",
    "    \n",
    "    hw_pos_genes = weight[weight[i] > pos_threshold].index\n",
    "    hw_neg_genes = weight[weight[i] < neg_threshold].index\n",
    "    \n",
    "    node = str(i)\n",
    "    node_name = 'Sig'+node+'pos'\n",
    "    \n",
    "    # Add high weight positive genes\n",
    "    add_pos = pd.DataFrame({node_name: list(hw_pos_genes)})\n",
    "    HW_df = pd.concat([HW_df, add_pos], axis=1)\n",
    "    \n",
    "    # Add metadata for positive node\n",
    "    add_metadata_pos = pd.DataFrame({node_name: [node_mean, node_std, pos_threshold]})\n",
    "    HW_metadata_df = pd.concat([HW_metadata_df, add_metadata_pos], axis=1)\n",
    "    \n",
    "    # Add high weight negative genes\n",
    "    node_name = 'Sig'+node+'neg'\n",
    "    \n",
    "    add_neg = pd.DataFrame({node_name: list(hw_neg_genes)})\n",
    "    HW_df = pd.concat([HW_df, add_neg], axis=1)\n",
    "    \n",
    "    # Add metadata for negative node\n",
    "    add_metadata_neg = pd.DataFrame({node_name: [node_mean, node_std, neg_threshold]})\n",
    "    HW_metadata_df = pd.concat([HW_metadata_df, add_metadata_neg], axis=1)\n",
    "\n",
    "HW_df = HW_df.T\n",
    "HW_metadata_df = HW_metadata_df.T"
   ]
  },
  {
   "cell_type": "code",
   "execution_count": 7,
   "metadata": {
    "ExecuteTime": {
     "end_time": "2019-04-19T15:58:54.437918Z",
     "start_time": "2019-04-19T15:58:54.345969Z"
    }
   },
   "outputs": [
    {
     "data": {
      "text/html": [
       "<div>\n",
       "<style scoped>\n",
       "    .dataframe tbody tr th:only-of-type {\n",
       "        vertical-align: middle;\n",
       "    }\n",
       "\n",
       "    .dataframe tbody tr th {\n",
       "        vertical-align: top;\n",
       "    }\n",
       "\n",
       "    .dataframe thead th {\n",
       "        text-align: right;\n",
       "    }\n",
       "</style>\n",
       "<table border=\"1\" class=\"dataframe\">\n",
       "  <thead>\n",
       "    <tr style=\"text-align: right;\">\n",
       "      <th></th>\n",
       "      <th>0</th>\n",
       "      <th>1</th>\n",
       "      <th>2</th>\n",
       "    </tr>\n",
       "  </thead>\n",
       "  <tbody>\n",
       "    <tr>\n",
       "      <th>Sig0pos</th>\n",
       "      <td>NaN</td>\n",
       "      <td>NaN</td>\n",
       "      <td>NaN</td>\n",
       "    </tr>\n",
       "    <tr>\n",
       "      <th>Sig0neg</th>\n",
       "      <td>PA2208</td>\n",
       "      <td>PA0886</td>\n",
       "      <td>PA1979</td>\n",
       "    </tr>\n",
       "    <tr>\n",
       "      <th>Sig1pos</th>\n",
       "      <td>NaN</td>\n",
       "      <td>NaN</td>\n",
       "      <td>NaN</td>\n",
       "    </tr>\n",
       "    <tr>\n",
       "      <th>Sig1neg</th>\n",
       "      <td>PA4846</td>\n",
       "      <td>PA4740</td>\n",
       "      <td>PA0595</td>\n",
       "    </tr>\n",
       "  </tbody>\n",
       "</table>\n",
       "</div>"
      ],
      "text/plain": [
       "              0       1       2\n",
       "Sig0pos     NaN     NaN     NaN\n",
       "Sig0neg  PA2208  PA0886  PA1979\n",
       "Sig1pos     NaN     NaN     NaN\n",
       "Sig1neg  PA4846  PA4740  PA0595"
      ]
     },
     "execution_count": 7,
     "metadata": {},
     "output_type": "execute_result"
    }
   ],
   "source": [
    "HW_df.head()"
   ]
  },
  {
   "cell_type": "code",
   "execution_count": 8,
   "metadata": {
    "ExecuteTime": {
     "end_time": "2019-04-19T15:58:54.500569Z",
     "start_time": "2019-04-19T15:58:54.442232Z"
    }
   },
   "outputs": [
    {
     "data": {
      "text/html": [
       "<div>\n",
       "<style scoped>\n",
       "    .dataframe tbody tr th:only-of-type {\n",
       "        vertical-align: middle;\n",
       "    }\n",
       "\n",
       "    .dataframe tbody tr th {\n",
       "        vertical-align: top;\n",
       "    }\n",
       "\n",
       "    .dataframe thead th {\n",
       "        text-align: right;\n",
       "    }\n",
       "</style>\n",
       "<table border=\"1\" class=\"dataframe\">\n",
       "  <thead>\n",
       "    <tr style=\"text-align: right;\">\n",
       "      <th></th>\n",
       "      <th>mean</th>\n",
       "      <th>std</th>\n",
       "      <th>threshold</th>\n",
       "    </tr>\n",
       "  </thead>\n",
       "  <tbody>\n",
       "    <tr>\n",
       "      <th>Sig0pos</th>\n",
       "      <td>0.273938</td>\n",
       "      <td>0.145629</td>\n",
       "      <td>0.565195</td>\n",
       "    </tr>\n",
       "    <tr>\n",
       "      <th>Sig0neg</th>\n",
       "      <td>0.273938</td>\n",
       "      <td>0.145629</td>\n",
       "      <td>-0.017319</td>\n",
       "    </tr>\n",
       "    <tr>\n",
       "      <th>Sig1pos</th>\n",
       "      <td>0.259776</td>\n",
       "      <td>0.140563</td>\n",
       "      <td>0.540901</td>\n",
       "    </tr>\n",
       "    <tr>\n",
       "      <th>Sig1neg</th>\n",
       "      <td>0.259776</td>\n",
       "      <td>0.140563</td>\n",
       "      <td>-0.021349</td>\n",
       "    </tr>\n",
       "  </tbody>\n",
       "</table>\n",
       "</div>"
      ],
      "text/plain": [
       "             mean       std  threshold\n",
       "Sig0pos  0.273938  0.145629   0.565195\n",
       "Sig0neg  0.273938  0.145629  -0.017319\n",
       "Sig1pos  0.259776  0.140563   0.540901\n",
       "Sig1neg  0.259776  0.140563  -0.021349"
      ]
     },
     "execution_count": 8,
     "metadata": {},
     "output_type": "execute_result"
    }
   ],
   "source": [
    "# Dataframe with the mean, std, threshold used per feature to determine high weight gene sets\n",
    "HW_metadata_df.columns = [\"mean\", \"std\", \"threshold\"]\n",
    "HW_metadata_df.head()"
   ]
  },
  {
   "cell_type": "code",
   "execution_count": 9,
   "metadata": {
    "ExecuteTime": {
     "end_time": "2019-04-19T15:58:54.568714Z",
     "start_time": "2019-04-19T15:58:54.501908Z"
    }
   },
   "outputs": [
    {
     "data": {
      "text/html": [
       "<div>\n",
       "<style scoped>\n",
       "    .dataframe tbody tr th:only-of-type {\n",
       "        vertical-align: middle;\n",
       "    }\n",
       "\n",
       "    .dataframe tbody tr th {\n",
       "        vertical-align: top;\n",
       "    }\n",
       "\n",
       "    .dataframe thead th {\n",
       "        text-align: right;\n",
       "    }\n",
       "</style>\n",
       "<table border=\"1\" class=\"dataframe\">\n",
       "  <thead>\n",
       "    <tr style=\"text-align: right;\">\n",
       "      <th></th>\n",
       "      <th>PA3423</th>\n",
       "      <th>PA0084</th>\n",
       "      <th>PA2455</th>\n",
       "      <th>PA3029</th>\n",
       "      <th>PA1588</th>\n",
       "      <th>PA2220</th>\n",
       "      <th>PA4656</th>\n",
       "      <th>PA3585</th>\n",
       "      <th>PA1325</th>\n",
       "      <th>PA3067</th>\n",
       "      <th>...</th>\n",
       "      <th>PA5348</th>\n",
       "      <th>PA4148</th>\n",
       "      <th>PA2158</th>\n",
       "      <th>PA2839</th>\n",
       "      <th>PA2410</th>\n",
       "      <th>PA0090</th>\n",
       "      <th>PA4963</th>\n",
       "      <th>PA3790</th>\n",
       "      <th>PA0969</th>\n",
       "      <th>PA4776</th>\n",
       "    </tr>\n",
       "  </thead>\n",
       "  <tbody>\n",
       "    <tr>\n",
       "      <th>Sig1pos</th>\n",
       "      <td>0.400786</td>\n",
       "      <td>0.401404</td>\n",
       "      <td>0.405950</td>\n",
       "      <td>0.404776</td>\n",
       "      <td>0.393269</td>\n",
       "      <td>0.398822</td>\n",
       "      <td>0.403839</td>\n",
       "      <td>0.399343</td>\n",
       "      <td>0.418950</td>\n",
       "      <td>0.406352</td>\n",
       "      <td>...</td>\n",
       "      <td>0.325048</td>\n",
       "      <td>0.009685</td>\n",
       "      <td>0.02904</td>\n",
       "      <td>0.043815</td>\n",
       "      <td>0.124002</td>\n",
       "      <td>0.202072</td>\n",
       "      <td>0.187087</td>\n",
       "      <td>0.106031</td>\n",
       "      <td>0.432988</td>\n",
       "      <td>0.167887</td>\n",
       "    </tr>\n",
       "    <tr>\n",
       "      <th>Sig1neg</th>\n",
       "      <td>0.400786</td>\n",
       "      <td>0.401404</td>\n",
       "      <td>0.405950</td>\n",
       "      <td>0.404776</td>\n",
       "      <td>0.393269</td>\n",
       "      <td>0.398822</td>\n",
       "      <td>0.403839</td>\n",
       "      <td>0.399343</td>\n",
       "      <td>0.418950</td>\n",
       "      <td>0.406352</td>\n",
       "      <td>...</td>\n",
       "      <td>0.325048</td>\n",
       "      <td>0.009685</td>\n",
       "      <td>0.02904</td>\n",
       "      <td>0.043815</td>\n",
       "      <td>0.124002</td>\n",
       "      <td>0.202072</td>\n",
       "      <td>0.187087</td>\n",
       "      <td>0.106031</td>\n",
       "      <td>0.432988</td>\n",
       "      <td>0.167887</td>\n",
       "    </tr>\n",
       "    <tr>\n",
       "      <th>Sig2pos</th>\n",
       "      <td>0.390443</td>\n",
       "      <td>0.394910</td>\n",
       "      <td>0.400744</td>\n",
       "      <td>0.384604</td>\n",
       "      <td>0.393151</td>\n",
       "      <td>0.385771</td>\n",
       "      <td>0.387592</td>\n",
       "      <td>0.386408</td>\n",
       "      <td>0.387678</td>\n",
       "      <td>0.396522</td>\n",
       "      <td>...</td>\n",
       "      <td>0.153105</td>\n",
       "      <td>0.186168</td>\n",
       "      <td>0.17840</td>\n",
       "      <td>0.121395</td>\n",
       "      <td>0.130280</td>\n",
       "      <td>0.076797</td>\n",
       "      <td>0.108551</td>\n",
       "      <td>0.095826</td>\n",
       "      <td>0.066934</td>\n",
       "      <td>0.041843</td>\n",
       "    </tr>\n",
       "    <tr>\n",
       "      <th>Sig2neg</th>\n",
       "      <td>0.390443</td>\n",
       "      <td>0.394910</td>\n",
       "      <td>0.400744</td>\n",
       "      <td>0.384604</td>\n",
       "      <td>0.393151</td>\n",
       "      <td>0.385771</td>\n",
       "      <td>0.387592</td>\n",
       "      <td>0.386408</td>\n",
       "      <td>0.387678</td>\n",
       "      <td>0.396522</td>\n",
       "      <td>...</td>\n",
       "      <td>0.153105</td>\n",
       "      <td>0.186168</td>\n",
       "      <td>0.17840</td>\n",
       "      <td>0.121395</td>\n",
       "      <td>0.130280</td>\n",
       "      <td>0.076797</td>\n",
       "      <td>0.108551</td>\n",
       "      <td>0.095826</td>\n",
       "      <td>0.066934</td>\n",
       "      <td>0.041843</td>\n",
       "    </tr>\n",
       "  </tbody>\n",
       "</table>\n",
       "<p>4 rows × 2000 columns</p>\n",
       "</div>"
      ],
      "text/plain": [
       "           PA3423    PA0084    PA2455    PA3029    PA1588    PA2220    PA4656  \\\n",
       "Sig1pos  0.400786  0.401404  0.405950  0.404776  0.393269  0.398822  0.403839   \n",
       "Sig1neg  0.400786  0.401404  0.405950  0.404776  0.393269  0.398822  0.403839   \n",
       "Sig2pos  0.390443  0.394910  0.400744  0.384604  0.393151  0.385771  0.387592   \n",
       "Sig2neg  0.390443  0.394910  0.400744  0.384604  0.393151  0.385771  0.387592   \n",
       "\n",
       "           PA3585    PA1325    PA3067    ...       PA5348    PA4148   PA2158  \\\n",
       "Sig1pos  0.399343  0.418950  0.406352    ...     0.325048  0.009685  0.02904   \n",
       "Sig1neg  0.399343  0.418950  0.406352    ...     0.325048  0.009685  0.02904   \n",
       "Sig2pos  0.386408  0.387678  0.396522    ...     0.153105  0.186168  0.17840   \n",
       "Sig2neg  0.386408  0.387678  0.396522    ...     0.153105  0.186168  0.17840   \n",
       "\n",
       "           PA2839    PA2410    PA0090    PA4963    PA3790    PA0969    PA4776  \n",
       "Sig1pos  0.043815  0.124002  0.202072  0.187087  0.106031  0.432988  0.167887  \n",
       "Sig1neg  0.043815  0.124002  0.202072  0.187087  0.106031  0.432988  0.167887  \n",
       "Sig2pos  0.121395  0.130280  0.076797  0.108551  0.095826  0.066934  0.041843  \n",
       "Sig2neg  0.121395  0.130280  0.076797  0.108551  0.095826  0.066934  0.041843  \n",
       "\n",
       "[4 rows x 2000 columns]"
      ]
     },
     "execution_count": 9,
     "metadata": {},
     "output_type": "execute_result"
    }
   ],
   "source": [
    "# Create a table (feature x gene set A)\n",
    "# Each cell will contain the distance between the weight and the mean\n",
    "\n",
    "Weights_pos_neg_df = pd.DataFrame()\n",
    "\n",
    "for i in range(num_nodes):\n",
    "    node_mean = means.iloc[i]\n",
    "    \n",
    "    node = str(i+1)\n",
    "    node_name = 'Sig'+node+'pos'\n",
    "    \n",
    "    gene_weight = weight[i]\n",
    "    \n",
    "    # Add high weight positive genes\n",
    "    add_pos = pd.DataFrame({node_name: gene_weight})\n",
    "    Weights_pos_neg_df = pd.concat([Weights_pos_neg_df, add_pos], axis=1)\n",
    "    \n",
    "    # Add high weight negative genes\n",
    "    node_name = 'Sig'+node+'neg'\n",
    "    \n",
    "    add_neg = pd.DataFrame({node_name: gene_weight})\n",
    "    Weights_pos_neg_df = pd.concat([Weights_pos_neg_df, add_neg], axis=1)\n",
    "    \n",
    "    \n",
    "Weights_pos_neg_df = Weights_pos_neg_df.T\n",
    "Weights_pos_neg_df.head()"
   ]
  },
  {
   "cell_type": "code",
   "execution_count": 10,
   "metadata": {
    "ExecuteTime": {
     "end_time": "2019-04-19T15:58:54.606977Z",
     "start_time": "2019-04-19T15:58:54.572620Z"
    }
   },
   "outputs": [
    {
     "data": {
      "text/html": [
       "<div>\n",
       "<style scoped>\n",
       "    .dataframe tbody tr th:only-of-type {\n",
       "        vertical-align: middle;\n",
       "    }\n",
       "\n",
       "    .dataframe tbody tr th {\n",
       "        vertical-align: top;\n",
       "    }\n",
       "\n",
       "    .dataframe thead th {\n",
       "        text-align: right;\n",
       "    }\n",
       "</style>\n",
       "<table border=\"1\" class=\"dataframe\">\n",
       "  <thead>\n",
       "    <tr style=\"text-align: right;\">\n",
       "      <th></th>\n",
       "      <th>PA3423</th>\n",
       "      <th>PA0084</th>\n",
       "      <th>PA2455</th>\n",
       "      <th>PA3029</th>\n",
       "      <th>PA1588</th>\n",
       "      <th>PA2220</th>\n",
       "      <th>PA4656</th>\n",
       "      <th>PA3585</th>\n",
       "      <th>PA1325</th>\n",
       "      <th>PA3067</th>\n",
       "      <th>...</th>\n",
       "      <th>PA5556</th>\n",
       "      <th>PA0593</th>\n",
       "      <th>PA0204</th>\n",
       "      <th>PA3744</th>\n",
       "      <th>PA0822</th>\n",
       "      <th>PA2525</th>\n",
       "      <th>PA0014</th>\n",
       "      <th>PA1626</th>\n",
       "      <th>PA2274</th>\n",
       "      <th>PA3080</th>\n",
       "    </tr>\n",
       "  </thead>\n",
       "  <tbody>\n",
       "    <tr>\n",
       "      <th>Sig1pos</th>\n",
       "      <td>0.400786</td>\n",
       "      <td>0.401404</td>\n",
       "      <td>0.405950</td>\n",
       "      <td>0.404776</td>\n",
       "      <td>0.393269</td>\n",
       "      <td>0.398822</td>\n",
       "      <td>0.403839</td>\n",
       "      <td>0.399343</td>\n",
       "      <td>0.418950</td>\n",
       "      <td>0.406352</td>\n",
       "      <td>...</td>\n",
       "      <td>0.399329</td>\n",
       "      <td>0.392381</td>\n",
       "      <td>0.394732</td>\n",
       "      <td>0.408281</td>\n",
       "      <td>0.409553</td>\n",
       "      <td>0.399727</td>\n",
       "      <td>0.395955</td>\n",
       "      <td>0.399538</td>\n",
       "      <td>0.410195</td>\n",
       "      <td>0.395376</td>\n",
       "    </tr>\n",
       "    <tr>\n",
       "      <th>Sig1neg</th>\n",
       "      <td>0.400786</td>\n",
       "      <td>0.401404</td>\n",
       "      <td>0.405950</td>\n",
       "      <td>0.404776</td>\n",
       "      <td>0.393269</td>\n",
       "      <td>0.398822</td>\n",
       "      <td>0.403839</td>\n",
       "      <td>0.399343</td>\n",
       "      <td>0.418950</td>\n",
       "      <td>0.406352</td>\n",
       "      <td>...</td>\n",
       "      <td>0.399329</td>\n",
       "      <td>0.392381</td>\n",
       "      <td>0.394732</td>\n",
       "      <td>0.408281</td>\n",
       "      <td>0.409553</td>\n",
       "      <td>0.399727</td>\n",
       "      <td>0.395955</td>\n",
       "      <td>0.399538</td>\n",
       "      <td>0.410195</td>\n",
       "      <td>0.395376</td>\n",
       "    </tr>\n",
       "    <tr>\n",
       "      <th>Sig2pos</th>\n",
       "      <td>0.390443</td>\n",
       "      <td>0.394910</td>\n",
       "      <td>0.400744</td>\n",
       "      <td>0.384604</td>\n",
       "      <td>0.393151</td>\n",
       "      <td>0.385771</td>\n",
       "      <td>0.387592</td>\n",
       "      <td>0.386408</td>\n",
       "      <td>0.387678</td>\n",
       "      <td>0.396522</td>\n",
       "      <td>...</td>\n",
       "      <td>0.400375</td>\n",
       "      <td>0.402207</td>\n",
       "      <td>0.383567</td>\n",
       "      <td>0.390523</td>\n",
       "      <td>0.398196</td>\n",
       "      <td>0.398890</td>\n",
       "      <td>0.392312</td>\n",
       "      <td>0.398245</td>\n",
       "      <td>0.391593</td>\n",
       "      <td>0.393096</td>\n",
       "    </tr>\n",
       "    <tr>\n",
       "      <th>Sig2neg</th>\n",
       "      <td>0.390443</td>\n",
       "      <td>0.394910</td>\n",
       "      <td>0.400744</td>\n",
       "      <td>0.384604</td>\n",
       "      <td>0.393151</td>\n",
       "      <td>0.385771</td>\n",
       "      <td>0.387592</td>\n",
       "      <td>0.386408</td>\n",
       "      <td>0.387678</td>\n",
       "      <td>0.396522</td>\n",
       "      <td>...</td>\n",
       "      <td>0.400375</td>\n",
       "      <td>0.402207</td>\n",
       "      <td>0.383567</td>\n",
       "      <td>0.390523</td>\n",
       "      <td>0.398196</td>\n",
       "      <td>0.398890</td>\n",
       "      <td>0.392312</td>\n",
       "      <td>0.398245</td>\n",
       "      <td>0.391593</td>\n",
       "      <td>0.393096</td>\n",
       "    </tr>\n",
       "  </tbody>\n",
       "</table>\n",
       "<p>4 rows × 1000 columns</p>\n",
       "</div>"
      ],
      "text/plain": [
       "           PA3423    PA0084    PA2455    PA3029    PA1588    PA2220    PA4656  \\\n",
       "Sig1pos  0.400786  0.401404  0.405950  0.404776  0.393269  0.398822  0.403839   \n",
       "Sig1neg  0.400786  0.401404  0.405950  0.404776  0.393269  0.398822  0.403839   \n",
       "Sig2pos  0.390443  0.394910  0.400744  0.384604  0.393151  0.385771  0.387592   \n",
       "Sig2neg  0.390443  0.394910  0.400744  0.384604  0.393151  0.385771  0.387592   \n",
       "\n",
       "           PA3585    PA1325    PA3067    ...       PA5556    PA0593    PA0204  \\\n",
       "Sig1pos  0.399343  0.418950  0.406352    ...     0.399329  0.392381  0.394732   \n",
       "Sig1neg  0.399343  0.418950  0.406352    ...     0.399329  0.392381  0.394732   \n",
       "Sig2pos  0.386408  0.387678  0.396522    ...     0.400375  0.402207  0.383567   \n",
       "Sig2neg  0.386408  0.387678  0.396522    ...     0.400375  0.402207  0.383567   \n",
       "\n",
       "           PA3744    PA0822    PA2525    PA0014    PA1626    PA2274    PA3080  \n",
       "Sig1pos  0.408281  0.409553  0.399727  0.395955  0.399538  0.410195  0.395376  \n",
       "Sig1neg  0.408281  0.409553  0.399727  0.395955  0.399538  0.410195  0.395376  \n",
       "Sig2pos  0.390523  0.398196  0.398890  0.392312  0.398245  0.391593  0.393096  \n",
       "Sig2neg  0.390523  0.398196  0.398890  0.392312  0.398245  0.391593  0.393096  \n",
       "\n",
       "[4 rows x 1000 columns]"
      ]
     },
     "execution_count": 10,
     "metadata": {},
     "output_type": "execute_result"
    }
   ],
   "source": [
    "# Compare the weights for geneset A with threshold\n",
    "geneSetA_ls = [l[0] for l in geneSetA.values.tolist()]\n",
    "Weight_A = Weights_pos_neg_df[geneSetA_ls]\n",
    "\n",
    "Weight_A.head()"
   ]
  },
  {
   "cell_type": "code",
   "execution_count": 11,
   "metadata": {
    "ExecuteTime": {
     "end_time": "2019-04-19T15:58:54.824519Z",
     "start_time": "2019-04-19T15:58:54.611120Z"
    }
   },
   "outputs": [
    {
     "data": {
      "text/plain": [
       "<matplotlib.axes._subplots.AxesSubplot at 0x7f2e3601f748>"
      ]
     },
     "execution_count": 11,
     "metadata": {},
     "output_type": "execute_result"
    },
    {
     "data": {
      "image/png": "[encoded data removed]",
      "text/plain": [
       "<matplotlib.figure.Figure at 0x7f2e36019cc0>"
      ]
     },
     "metadata": {},
     "output_type": "display_data"
    }
   ],
   "source": [
    "sns.distplot(Weight_A.iloc[0])"
   ]
  },
  {
   "cell_type": "code",
   "execution_count": 12,
   "metadata": {
    "ExecuteTime": {
     "end_time": "2019-04-19T15:58:54.860226Z",
     "start_time": "2019-04-19T15:58:54.829512Z"
    }
   },
   "outputs": [
    {
     "data": {
      "text/html": [
       "<div>\n",
       "<style scoped>\n",
       "    .dataframe tbody tr th:only-of-type {\n",
       "        vertical-align: middle;\n",
       "    }\n",
       "\n",
       "    .dataframe tbody tr th {\n",
       "        vertical-align: top;\n",
       "    }\n",
       "\n",
       "    .dataframe thead th {\n",
       "        text-align: right;\n",
       "    }\n",
       "</style>\n",
       "<table border=\"1\" class=\"dataframe\">\n",
       "  <thead>\n",
       "    <tr style=\"text-align: right;\">\n",
       "      <th></th>\n",
       "      <th>PA0308</th>\n",
       "      <th>PA2691</th>\n",
       "      <th>PA3664</th>\n",
       "      <th>PA0069</th>\n",
       "      <th>PA4467</th>\n",
       "      <th>PA4255</th>\n",
       "      <th>PA5157</th>\n",
       "      <th>PA4881</th>\n",
       "      <th>PA0128</th>\n",
       "      <th>PA5140</th>\n",
       "      <th>...</th>\n",
       "      <th>PA5348</th>\n",
       "      <th>PA4148</th>\n",
       "      <th>PA2158</th>\n",
       "      <th>PA2839</th>\n",
       "      <th>PA2410</th>\n",
       "      <th>PA0090</th>\n",
       "      <th>PA4963</th>\n",
       "      <th>PA3790</th>\n",
       "      <th>PA0969</th>\n",
       "      <th>PA4776</th>\n",
       "    </tr>\n",
       "  </thead>\n",
       "  <tbody>\n",
       "    <tr>\n",
       "      <th>Sig1pos</th>\n",
       "      <td>0.176398</td>\n",
       "      <td>0.076403</td>\n",
       "      <td>0.325139</td>\n",
       "      <td>0.051439</td>\n",
       "      <td>0.000997</td>\n",
       "      <td>0.378818</td>\n",
       "      <td>0.081581</td>\n",
       "      <td>0.136445</td>\n",
       "      <td>0.126141</td>\n",
       "      <td>0.205700</td>\n",
       "      <td>...</td>\n",
       "      <td>0.325048</td>\n",
       "      <td>0.009685</td>\n",
       "      <td>0.02904</td>\n",
       "      <td>0.043815</td>\n",
       "      <td>0.124002</td>\n",
       "      <td>0.202072</td>\n",
       "      <td>0.187087</td>\n",
       "      <td>0.106031</td>\n",
       "      <td>0.432988</td>\n",
       "      <td>0.167887</td>\n",
       "    </tr>\n",
       "    <tr>\n",
       "      <th>Sig1neg</th>\n",
       "      <td>0.176398</td>\n",
       "      <td>0.076403</td>\n",
       "      <td>0.325139</td>\n",
       "      <td>0.051439</td>\n",
       "      <td>0.000997</td>\n",
       "      <td>0.378818</td>\n",
       "      <td>0.081581</td>\n",
       "      <td>0.136445</td>\n",
       "      <td>0.126141</td>\n",
       "      <td>0.205700</td>\n",
       "      <td>...</td>\n",
       "      <td>0.325048</td>\n",
       "      <td>0.009685</td>\n",
       "      <td>0.02904</td>\n",
       "      <td>0.043815</td>\n",
       "      <td>0.124002</td>\n",
       "      <td>0.202072</td>\n",
       "      <td>0.187087</td>\n",
       "      <td>0.106031</td>\n",
       "      <td>0.432988</td>\n",
       "      <td>0.167887</td>\n",
       "    </tr>\n",
       "    <tr>\n",
       "      <th>Sig2pos</th>\n",
       "      <td>0.150507</td>\n",
       "      <td>0.122821</td>\n",
       "      <td>0.083499</td>\n",
       "      <td>0.095599</td>\n",
       "      <td>0.184742</td>\n",
       "      <td>-0.009466</td>\n",
       "      <td>0.091484</td>\n",
       "      <td>0.086343</td>\n",
       "      <td>0.128977</td>\n",
       "      <td>0.060793</td>\n",
       "      <td>...</td>\n",
       "      <td>0.153105</td>\n",
       "      <td>0.186168</td>\n",
       "      <td>0.17840</td>\n",
       "      <td>0.121395</td>\n",
       "      <td>0.130280</td>\n",
       "      <td>0.076797</td>\n",
       "      <td>0.108551</td>\n",
       "      <td>0.095826</td>\n",
       "      <td>0.066934</td>\n",
       "      <td>0.041843</td>\n",
       "    </tr>\n",
       "    <tr>\n",
       "      <th>Sig2neg</th>\n",
       "      <td>0.150507</td>\n",
       "      <td>0.122821</td>\n",
       "      <td>0.083499</td>\n",
       "      <td>0.095599</td>\n",
       "      <td>0.184742</td>\n",
       "      <td>-0.009466</td>\n",
       "      <td>0.091484</td>\n",
       "      <td>0.086343</td>\n",
       "      <td>0.128977</td>\n",
       "      <td>0.060793</td>\n",
       "      <td>...</td>\n",
       "      <td>0.153105</td>\n",
       "      <td>0.186168</td>\n",
       "      <td>0.17840</td>\n",
       "      <td>0.121395</td>\n",
       "      <td>0.130280</td>\n",
       "      <td>0.076797</td>\n",
       "      <td>0.108551</td>\n",
       "      <td>0.095826</td>\n",
       "      <td>0.066934</td>\n",
       "      <td>0.041843</td>\n",
       "    </tr>\n",
       "  </tbody>\n",
       "</table>\n",
       "<p>4 rows × 1000 columns</p>\n",
       "</div>"
      ],
      "text/plain": [
       "           PA0308    PA2691    PA3664    PA0069    PA4467    PA4255    PA5157  \\\n",
       "Sig1pos  0.176398  0.076403  0.325139  0.051439  0.000997  0.378818  0.081581   \n",
       "Sig1neg  0.176398  0.076403  0.325139  0.051439  0.000997  0.378818  0.081581   \n",
       "Sig2pos  0.150507  0.122821  0.083499  0.095599  0.184742 -0.009466  0.091484   \n",
       "Sig2neg  0.150507  0.122821  0.083499  0.095599  0.184742 -0.009466  0.091484   \n",
       "\n",
       "           PA4881    PA0128    PA5140    ...       PA5348    PA4148   PA2158  \\\n",
       "Sig1pos  0.136445  0.126141  0.205700    ...     0.325048  0.009685  0.02904   \n",
       "Sig1neg  0.136445  0.126141  0.205700    ...     0.325048  0.009685  0.02904   \n",
       "Sig2pos  0.086343  0.128977  0.060793    ...     0.153105  0.186168  0.17840   \n",
       "Sig2neg  0.086343  0.128977  0.060793    ...     0.153105  0.186168  0.17840   \n",
       "\n",
       "           PA2839    PA2410    PA0090    PA4963    PA3790    PA0969    PA4776  \n",
       "Sig1pos  0.043815  0.124002  0.202072  0.187087  0.106031  0.432988  0.167887  \n",
       "Sig1neg  0.043815  0.124002  0.202072  0.187087  0.106031  0.432988  0.167887  \n",
       "Sig2pos  0.121395  0.130280  0.076797  0.108551  0.095826  0.066934  0.041843  \n",
       "Sig2neg  0.121395  0.130280  0.076797  0.108551  0.095826  0.066934  0.041843  \n",
       "\n",
       "[4 rows x 1000 columns]"
      ]
     },
     "execution_count": 12,
     "metadata": {},
     "output_type": "execute_result"
    }
   ],
   "source": [
    "# Compare the weights for geneset B with threshold\n",
    "geneSetB_ls = [l[0] for l in geneSetB.values.tolist()]\n",
    "Weight_B = Weights_pos_neg_df[geneSetB_ls]\n",
    "\n",
    "Weight_B.head()"
   ]
  },
  {
   "cell_type": "code",
   "execution_count": 13,
   "metadata": {
    "ExecuteTime": {
     "end_time": "2019-04-19T15:58:55.089246Z",
     "start_time": "2019-04-19T15:58:54.864136Z"
    }
   },
   "outputs": [
    {
     "data": {
      "text/plain": [
       "<matplotlib.axes._subplots.AxesSubplot at 0x7f2e35d050f0>"
      ]
     },
     "execution_count": 13,
     "metadata": {},
     "output_type": "execute_result"
    },
    {
     "data": {
      "image/png": "[encoded data removed]",
      "text/plain": [
       "<matplotlib.figure.Figure at 0x7f2e35d3f7f0>"
      ]
     },
     "metadata": {},
     "output_type": "display_data"
    }
   ],
   "source": [
    "sns.distplot(Weight_B.iloc[0])"
   ]
  },
  {
   "cell_type": "code",
   "execution_count": 14,
   "metadata": {
    "ExecuteTime": {
     "end_time": "2019-04-19T15:58:55.118427Z",
     "start_time": "2019-04-19T15:58:55.093754Z"
    }
   },
   "outputs": [
    {
     "data": {
      "text/html": [
       "<div>\n",
       "<style scoped>\n",
       "    .dataframe tbody tr th:only-of-type {\n",
       "        vertical-align: middle;\n",
       "    }\n",
       "\n",
       "    .dataframe tbody tr th {\n",
       "        vertical-align: top;\n",
       "    }\n",
       "\n",
       "    .dataframe thead th {\n",
       "        text-align: right;\n",
       "    }\n",
       "</style>\n",
       "<table border=\"1\" class=\"dataframe\">\n",
       "  <thead>\n",
       "    <tr style=\"text-align: right;\">\n",
       "      <th></th>\n",
       "      <th>feature</th>\n",
       "      <th>percent in A</th>\n",
       "      <th>percent in B</th>\n",
       "    </tr>\n",
       "  </thead>\n",
       "  <tbody>\n",
       "    <tr>\n",
       "      <th>0</th>\n",
       "      <td>Sig0pos</td>\n",
       "      <td>0.0</td>\n",
       "      <td>0.0</td>\n",
       "    </tr>\n",
       "    <tr>\n",
       "      <th>0</th>\n",
       "      <td>Sig0neg</td>\n",
       "      <td>0.0</td>\n",
       "      <td>0.3</td>\n",
       "    </tr>\n",
       "    <tr>\n",
       "      <th>0</th>\n",
       "      <td>Sig1pos</td>\n",
       "      <td>0.0</td>\n",
       "      <td>0.0</td>\n",
       "    </tr>\n",
       "    <tr>\n",
       "      <th>0</th>\n",
       "      <td>Sig1neg</td>\n",
       "      <td>0.0</td>\n",
       "      <td>0.3</td>\n",
       "    </tr>\n",
       "  </tbody>\n",
       "</table>\n",
       "</div>"
      ],
      "text/plain": [
       "   feature  percent in A  percent in B\n",
       "0  Sig0pos           0.0           0.0\n",
       "0  Sig0neg           0.0           0.3\n",
       "0  Sig1pos           0.0           0.0\n",
       "0  Sig1neg           0.0           0.3"
      ]
     },
     "execution_count": 14,
     "metadata": {},
     "output_type": "execute_result"
    }
   ],
   "source": [
    "# What is the overlap between the high weight genes and gene sets A and B?\n",
    "num_A = geneSetA.shape[0]\n",
    "num_B = geneSetB.shape[0]\n",
    "\n",
    "num_features_pos_neg = HW_df.shape[0]\n",
    "\n",
    "percent_overlap = pd.DataFrame({'feature': [], \n",
    "                                'percent in A': [],\n",
    "                                'percent in B': []\n",
    "                               })\n",
    "\n",
    "for i in range(num_features_pos_neg):\n",
    "#for i in range(2):\n",
    "    row = HW_df.iloc[i]\n",
    "    percent_in_A = (row.isin(geneSetA_ls).sum()/num_A)*100\n",
    "    percent_in_B = (row.isin(geneSetB_ls).sum()/num_B)*100\n",
    "    \n",
    "    add = pd.DataFrame({'feature': [HW_df.index[i]],\n",
    "                        'percent in A': [percent_in_A],\n",
    "                        'percent in B': [percent_in_B]\n",
    "                       })\n",
    "    percent_overlap = percent_overlap.append(add)\n",
    "\n",
    "percent_overlap"
   ]
  },
  {
   "cell_type": "code",
   "execution_count": 15,
   "metadata": {
    "ExecuteTime": {
     "end_time": "2019-04-19T15:58:55.146518Z",
     "start_time": "2019-04-19T15:58:55.124101Z"
    }
   },
   "outputs": [
    {
     "name": "stdout",
     "output_type": "stream",
     "text": [
      "(0, 3)\n",
      "(2, 3)\n"
     ]
    },
    {
     "data": {
      "text/html": [
       "<div>\n",
       "<style scoped>\n",
       "    .dataframe tbody tr th:only-of-type {\n",
       "        vertical-align: middle;\n",
       "    }\n",
       "\n",
       "    .dataframe tbody tr th {\n",
       "        vertical-align: top;\n",
       "    }\n",
       "\n",
       "    .dataframe thead th {\n",
       "        text-align: right;\n",
       "    }\n",
       "</style>\n",
       "<table border=\"1\" class=\"dataframe\">\n",
       "  <thead>\n",
       "    <tr style=\"text-align: right;\">\n",
       "      <th></th>\n",
       "      <th>feature</th>\n",
       "      <th>percent in A</th>\n",
       "      <th>percent in B</th>\n",
       "    </tr>\n",
       "  </thead>\n",
       "  <tbody>\n",
       "  </tbody>\n",
       "</table>\n",
       "</div>"
      ],
      "text/plain": [
       "Empty DataFrame\n",
       "Columns: [feature, percent in A, percent in B]\n",
       "Index: []"
      ]
     },
     "execution_count": 15,
     "metadata": {},
     "output_type": "execute_result"
    }
   ],
   "source": [
    "# Are there any features that are nonzero?\n",
    "overlap_in_A = percent_overlap.iloc[percent_overlap[\"percent in A\"].nonzero()[0]]\n",
    "overlap_in_B = percent_overlap.iloc[percent_overlap[\"percent in B\"].nonzero()[0]]\n",
    "\n",
    "print(overlap_in_A.shape)\n",
    "print(overlap_in_B.shape)\n",
    "overlap_in_A"
   ]
  },
  {
   "cell_type": "code",
   "execution_count": 16,
   "metadata": {
    "ExecuteTime": {
     "end_time": "2019-04-19T15:58:55.189778Z",
     "start_time": "2019-04-19T15:58:55.151392Z"
    }
   },
   "outputs": [
    {
     "data": {
      "text/html": [
       "<div>\n",
       "<style scoped>\n",
       "    .dataframe tbody tr th:only-of-type {\n",
       "        vertical-align: middle;\n",
       "    }\n",
       "\n",
       "    .dataframe tbody tr th {\n",
       "        vertical-align: top;\n",
       "    }\n",
       "\n",
       "    .dataframe thead th {\n",
       "        text-align: right;\n",
       "    }\n",
       "</style>\n",
       "<table border=\"1\" class=\"dataframe\">\n",
       "  <thead>\n",
       "    <tr style=\"text-align: right;\">\n",
       "      <th></th>\n",
       "      <th>feature</th>\n",
       "      <th>percent in A</th>\n",
       "      <th>percent in B</th>\n",
       "    </tr>\n",
       "  </thead>\n",
       "  <tbody>\n",
       "    <tr>\n",
       "      <th>0</th>\n",
       "      <td>Sig0neg</td>\n",
       "      <td>0.0</td>\n",
       "      <td>0.3</td>\n",
       "    </tr>\n",
       "    <tr>\n",
       "      <th>0</th>\n",
       "      <td>Sig1neg</td>\n",
       "      <td>0.0</td>\n",
       "      <td>0.3</td>\n",
       "    </tr>\n",
       "  </tbody>\n",
       "</table>\n",
       "</div>"
      ],
      "text/plain": [
       "   feature  percent in A  percent in B\n",
       "0  Sig0neg           0.0           0.3\n",
       "0  Sig1neg           0.0           0.3"
      ]
     },
     "execution_count": 16,
     "metadata": {},
     "output_type": "execute_result"
    }
   ],
   "source": [
    "overlap_in_B"
   ]
  }
 ],
 "metadata": {
  "kernelspec": {
   "display_name": "Python [conda env:Pa]",
   "language": "python",
   "name": "conda-env-Pa-py"
  },
  "language_info": {
   "codemirror_mode": {
    "name": "ipython",
    "version": 3
   },
   "file_extension": ".py",
   "mimetype": "text/x-python",
   "name": "python",
   "nbconvert_exporter": "python",
   "pygments_lexer": "ipython3",
   "version": "3.5.5"
  }
 },
 "nbformat": 4,
 "nbformat_minor": 2
}
