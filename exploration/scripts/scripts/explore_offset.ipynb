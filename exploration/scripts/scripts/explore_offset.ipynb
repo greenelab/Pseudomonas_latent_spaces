{
 "cells": [
  {
   "cell_type": "markdown",
   "metadata": {
    "ExecuteTime": {
     "end_time": "2019-02-04T17:58:24.670217Z",
     "start_time": "2019-02-04T17:58:24.227556Z"
    }
   },
   "source": [
    "# Explore offset vector\n",
    "\n",
    "We want to know what the offset vector is capturing.  Theoretically it should be capturing the \"essence of gene A\" since it is defined by taking the samples with the highest expression of gene A and the lowest expression of gene A.\n",
    "\n",
    "We want to test if this offset vector is capturing genes in group A and B"
   ]
  },
  {
   "cell_type": "code",
   "execution_count": 1,
   "metadata": {
    "ExecuteTime": {
     "end_time": "2019-02-26T16:14:19.020932Z",
     "start_time": "2019-02-26T16:14:18.546244Z"
    }
   },
   "outputs": [],
   "source": [
    "import os\n",
    "import pandas as pd\n",
    "import numpy as np\n",
    "import seaborn as sns\n",
    "import matplotlib.pyplot as plt\n",
    "from matplotlib_venn import venn2\n",
    "\n",
    "randomState = 123\n",
    "from numpy.random import seed\n",
    "seed(randomState)"
   ]
  },
  {
   "cell_type": "code",
   "execution_count": 2,
   "metadata": {
    "ExecuteTime": {
     "end_time": "2019-02-26T16:14:19.026095Z",
     "start_time": "2019-02-26T16:14:19.022562Z"
    }
   },
   "outputs": [],
   "source": [
    "# Load data\n",
    "base_dir = os.path.join(os.path.dirname(os.getcwd()), \"data\")\n",
    "analysis_name = \"sim_AB_2775_300_v2\"\n",
    "offset_gene_file = os.path.join(os.path.dirname(os.getcwd()), \"data\", analysis_name, \"offset_gene_space.txt\")\n",
    "offset_vae_file = os.path.join(os.path.dirname(os.getcwd()), \"encoded\", analysis_name, \"offset_latent_space_vae.txt\")\n",
    "A_file = os.path.join(base_dir, analysis_name, \"geneSetA.txt\")\n",
    "B_file = os.path.join(base_dir, analysis_name, \"geneSetB.txt\")\n",
    "weight_file = os.path.join(os.path.dirname(os.getcwd()), \"data\", analysis_name, \"VAE_weight_matrix.txt\")"
   ]
  },
  {
   "cell_type": "code",
   "execution_count": 3,
   "metadata": {
    "ExecuteTime": {
     "end_time": "2019-02-26T16:14:19.209259Z",
     "start_time": "2019-02-26T16:14:19.027522Z"
    }
   },
   "outputs": [
    {
     "data": {
      "text/html": [
       "<div>\n",
       "<style scoped>\n",
       "    .dataframe tbody tr th:only-of-type {\n",
       "        vertical-align: middle;\n",
       "    }\n",
       "\n",
       "    .dataframe tbody tr th {\n",
       "        vertical-align: top;\n",
       "    }\n",
       "\n",
       "    .dataframe thead th {\n",
       "        text-align: right;\n",
       "    }\n",
       "</style>\n",
       "<table border=\"1\" class=\"dataframe\">\n",
       "  <thead>\n",
       "    <tr style=\"text-align: right;\">\n",
       "      <th></th>\n",
       "      <th>PA0001</th>\n",
       "      <th>PA0002</th>\n",
       "      <th>PA0003</th>\n",
       "      <th>PA0004</th>\n",
       "      <th>PA0005</th>\n",
       "      <th>PA0006</th>\n",
       "      <th>PA0007</th>\n",
       "      <th>PA0008</th>\n",
       "      <th>PA0009</th>\n",
       "      <th>PA0010</th>\n",
       "      <th>...</th>\n",
       "      <th>PA5561</th>\n",
       "      <th>PA5562</th>\n",
       "      <th>PA5563</th>\n",
       "      <th>PA5564</th>\n",
       "      <th>PA5565</th>\n",
       "      <th>PA5566</th>\n",
       "      <th>PA5567</th>\n",
       "      <th>PA5568</th>\n",
       "      <th>PA5569</th>\n",
       "      <th>PA5570</th>\n",
       "    </tr>\n",
       "  </thead>\n",
       "  <tbody>\n",
       "    <tr>\n",
       "      <th>0</th>\n",
       "      <td>0.048716</td>\n",
       "      <td>0.29774</td>\n",
       "      <td>0.26768</td>\n",
       "      <td>0.045651</td>\n",
       "      <td>0.02613</td>\n",
       "      <td>0.000452</td>\n",
       "      <td>-0.087915</td>\n",
       "      <td>0.015366</td>\n",
       "      <td>0.032408</td>\n",
       "      <td>0.09323</td>\n",
       "      <td>...</td>\n",
       "      <td>0.020266</td>\n",
       "      <td>0.056221</td>\n",
       "      <td>0.059724</td>\n",
       "      <td>0.020424</td>\n",
       "      <td>0.022496</td>\n",
       "      <td>-0.086384</td>\n",
       "      <td>-0.020905</td>\n",
       "      <td>0.021258</td>\n",
       "      <td>0.086268</td>\n",
       "      <td>0.093674</td>\n",
       "    </tr>\n",
       "  </tbody>\n",
       "</table>\n",
       "<p>1 rows × 5549 columns</p>\n",
       "</div>"
      ],
      "text/plain": [
       "     PA0001   PA0002   PA0003    PA0004   PA0005    PA0006    PA0007  \\\n",
       "0  0.048716  0.29774  0.26768  0.045651  0.02613  0.000452 -0.087915   \n",
       "\n",
       "     PA0008    PA0009   PA0010    ...       PA5561    PA5562    PA5563  \\\n",
       "0  0.015366  0.032408  0.09323    ...     0.020266  0.056221  0.059724   \n",
       "\n",
       "     PA5564    PA5565    PA5566    PA5567    PA5568    PA5569    PA5570  \n",
       "0  0.020424  0.022496 -0.086384 -0.020905  0.021258  0.086268  0.093674  \n",
       "\n",
       "[1 rows x 5549 columns]"
      ]
     },
     "execution_count": 3,
     "metadata": {},
     "output_type": "execute_result"
    }
   ],
   "source": [
    "# Read gene space offset\n",
    "offset_gene_space = pd.read_table(offset_gene_file, header=0, index_col=0)\n",
    "offset_gene_space"
   ]
  },
  {
   "cell_type": "code",
   "execution_count": 4,
   "metadata": {
    "ExecuteTime": {
     "end_time": "2019-02-26T16:14:19.233434Z",
     "start_time": "2019-02-26T16:14:19.210782Z"
    }
   },
   "outputs": [
    {
     "data": {
      "text/html": [
       "<div>\n",
       "<style scoped>\n",
       "    .dataframe tbody tr th:only-of-type {\n",
       "        vertical-align: middle;\n",
       "    }\n",
       "\n",
       "    .dataframe tbody tr th {\n",
       "        vertical-align: top;\n",
       "    }\n",
       "\n",
       "    .dataframe thead th {\n",
       "        text-align: right;\n",
       "    }\n",
       "</style>\n",
       "<table border=\"1\" class=\"dataframe\">\n",
       "  <thead>\n",
       "    <tr style=\"text-align: right;\">\n",
       "      <th></th>\n",
       "      <th>0</th>\n",
       "      <th>1</th>\n",
       "      <th>2</th>\n",
       "      <th>3</th>\n",
       "      <th>4</th>\n",
       "      <th>5</th>\n",
       "      <th>6</th>\n",
       "      <th>7</th>\n",
       "      <th>8</th>\n",
       "      <th>9</th>\n",
       "      <th>...</th>\n",
       "      <th>290</th>\n",
       "      <th>291</th>\n",
       "      <th>292</th>\n",
       "      <th>293</th>\n",
       "      <th>294</th>\n",
       "      <th>295</th>\n",
       "      <th>296</th>\n",
       "      <th>297</th>\n",
       "      <th>298</th>\n",
       "      <th>299</th>\n",
       "    </tr>\n",
       "  </thead>\n",
       "  <tbody>\n",
       "    <tr>\n",
       "      <th>0</th>\n",
       "      <td>0.50522</td>\n",
       "      <td>0.5764</td>\n",
       "      <td>-2.2113</td>\n",
       "      <td>-0.42799</td>\n",
       "      <td>0.049305</td>\n",
       "      <td>-0.53306</td>\n",
       "      <td>0.000179</td>\n",
       "      <td>-0.18614</td>\n",
       "      <td>-0.6475</td>\n",
       "      <td>0.73362</td>\n",
       "      <td>...</td>\n",
       "      <td>-0.090537</td>\n",
       "      <td>0.14333</td>\n",
       "      <td>-0.12458</td>\n",
       "      <td>0.49669</td>\n",
       "      <td>1.3781</td>\n",
       "      <td>0.051539</td>\n",
       "      <td>0.61496</td>\n",
       "      <td>-0.88544</td>\n",
       "      <td>-0.47793</td>\n",
       "      <td>-0.99904</td>\n",
       "    </tr>\n",
       "  </tbody>\n",
       "</table>\n",
       "<p>1 rows × 300 columns</p>\n",
       "</div>"
      ],
      "text/plain": [
       "         0       1       2        3         4        5         6        7  \\\n",
       "0  0.50522  0.5764 -2.2113 -0.42799  0.049305 -0.53306  0.000179 -0.18614   \n",
       "\n",
       "        8        9   ...          290      291      292      293     294  \\\n",
       "0 -0.6475  0.73362   ...    -0.090537  0.14333 -0.12458  0.49669  1.3781   \n",
       "\n",
       "        295      296      297      298      299  \n",
       "0  0.051539  0.61496 -0.88544 -0.47793 -0.99904  \n",
       "\n",
       "[1 rows x 300 columns]"
      ]
     },
     "execution_count": 4,
     "metadata": {},
     "output_type": "execute_result"
    }
   ],
   "source": [
    "# Read VAE space offset\n",
    "offset_vae_space = pd.read_table(offset_vae_file, header=0, index_col=0)\n",
    "offset_vae_space"
   ]
  },
  {
   "cell_type": "code",
   "execution_count": 5,
   "metadata": {
    "ExecuteTime": {
     "end_time": "2019-02-26T16:14:19.240122Z",
     "start_time": "2019-02-26T16:14:19.235512Z"
    }
   },
   "outputs": [],
   "source": [
    "# Read genes in set A\n",
    "geneSetA = pd.read_table(A_file, header=0, index_col=0)\n",
    "geneSetA_ls = [l[0] for l in geneSetA.values.tolist()]\n",
    "geneSetA_set = set(geneSetA_ls)"
   ]
  },
  {
   "cell_type": "code",
   "execution_count": 6,
   "metadata": {
    "ExecuteTime": {
     "end_time": "2019-02-26T16:14:19.259941Z",
     "start_time": "2019-02-26T16:14:19.242040Z"
    }
   },
   "outputs": [],
   "source": [
    "# Read genes in set B\n",
    "geneSetB = pd.read_table(B_file, header=0, index_col=0)\n",
    "geneSetB_ls = [l[0] for l in geneSetB.values.tolist()]\n",
    "geneSetB_set = set(geneSetB_ls)"
   ]
  },
  {
   "cell_type": "code",
   "execution_count": 7,
   "metadata": {
    "ExecuteTime": {
     "end_time": "2019-02-26T16:14:19.890872Z",
     "start_time": "2019-02-26T16:14:19.261422Z"
    }
   },
   "outputs": [
    {
     "data": {
      "text/html": [
       "<div>\n",
       "<style scoped>\n",
       "    .dataframe tbody tr th:only-of-type {\n",
       "        vertical-align: middle;\n",
       "    }\n",
       "\n",
       "    .dataframe tbody tr th {\n",
       "        vertical-align: top;\n",
       "    }\n",
       "\n",
       "    .dataframe thead th {\n",
       "        text-align: right;\n",
       "    }\n",
       "</style>\n",
       "<table border=\"1\" class=\"dataframe\">\n",
       "  <thead>\n",
       "    <tr style=\"text-align: right;\">\n",
       "      <th></th>\n",
       "      <th>0</th>\n",
       "      <th>1</th>\n",
       "      <th>2</th>\n",
       "      <th>3</th>\n",
       "      <th>4</th>\n",
       "      <th>5</th>\n",
       "      <th>6</th>\n",
       "      <th>7</th>\n",
       "      <th>8</th>\n",
       "      <th>9</th>\n",
       "      <th>...</th>\n",
       "      <th>290</th>\n",
       "      <th>291</th>\n",
       "      <th>292</th>\n",
       "      <th>293</th>\n",
       "      <th>294</th>\n",
       "      <th>295</th>\n",
       "      <th>296</th>\n",
       "      <th>297</th>\n",
       "      <th>298</th>\n",
       "      <th>299</th>\n",
       "    </tr>\n",
       "  </thead>\n",
       "  <tbody>\n",
       "    <tr>\n",
       "      <th>PA0001</th>\n",
       "      <td>-0.117849</td>\n",
       "      <td>-0.038603</td>\n",
       "      <td>0.025833</td>\n",
       "      <td>-0.017812</td>\n",
       "      <td>-0.038917</td>\n",
       "      <td>-0.025886</td>\n",
       "      <td>0.059616</td>\n",
       "      <td>-0.004224</td>\n",
       "      <td>0.061998</td>\n",
       "      <td>-0.104676</td>\n",
       "      <td>...</td>\n",
       "      <td>0.019363</td>\n",
       "      <td>0.007815</td>\n",
       "      <td>-0.052154</td>\n",
       "      <td>0.025949</td>\n",
       "      <td>0.021723</td>\n",
       "      <td>0.055437</td>\n",
       "      <td>-0.018286</td>\n",
       "      <td>0.016438</td>\n",
       "      <td>0.005548</td>\n",
       "      <td>-0.062284</td>\n",
       "    </tr>\n",
       "    <tr>\n",
       "      <th>PA0002</th>\n",
       "      <td>-0.475532</td>\n",
       "      <td>-0.376902</td>\n",
       "      <td>-0.292408</td>\n",
       "      <td>-0.443579</td>\n",
       "      <td>-0.275428</td>\n",
       "      <td>-0.237486</td>\n",
       "      <td>-0.131763</td>\n",
       "      <td>-0.309244</td>\n",
       "      <td>-0.123432</td>\n",
       "      <td>-0.239483</td>\n",
       "      <td>...</td>\n",
       "      <td>-0.337239</td>\n",
       "      <td>-0.167598</td>\n",
       "      <td>-0.673273</td>\n",
       "      <td>-0.215697</td>\n",
       "      <td>0.234006</td>\n",
       "      <td>-0.104485</td>\n",
       "      <td>-0.352983</td>\n",
       "      <td>-0.189724</td>\n",
       "      <td>-0.374923</td>\n",
       "      <td>-0.435261</td>\n",
       "    </tr>\n",
       "    <tr>\n",
       "      <th>PA0003</th>\n",
       "      <td>-0.028016</td>\n",
       "      <td>-0.147888</td>\n",
       "      <td>-0.118208</td>\n",
       "      <td>-0.176184</td>\n",
       "      <td>0.085006</td>\n",
       "      <td>-0.136751</td>\n",
       "      <td>-0.007269</td>\n",
       "      <td>-0.030653</td>\n",
       "      <td>-0.057265</td>\n",
       "      <td>-0.159458</td>\n",
       "      <td>...</td>\n",
       "      <td>0.029716</td>\n",
       "      <td>-0.110118</td>\n",
       "      <td>-0.190486</td>\n",
       "      <td>-0.035492</td>\n",
       "      <td>-0.083336</td>\n",
       "      <td>-0.039024</td>\n",
       "      <td>-0.120915</td>\n",
       "      <td>0.122573</td>\n",
       "      <td>-0.090189</td>\n",
       "      <td>-0.163588</td>\n",
       "    </tr>\n",
       "    <tr>\n",
       "      <th>PA0004</th>\n",
       "      <td>-0.008260</td>\n",
       "      <td>-0.027175</td>\n",
       "      <td>-0.036942</td>\n",
       "      <td>-0.081368</td>\n",
       "      <td>-0.004079</td>\n",
       "      <td>0.048033</td>\n",
       "      <td>-0.006661</td>\n",
       "      <td>0.012838</td>\n",
       "      <td>0.123765</td>\n",
       "      <td>-0.027641</td>\n",
       "      <td>...</td>\n",
       "      <td>0.028078</td>\n",
       "      <td>0.090266</td>\n",
       "      <td>0.021577</td>\n",
       "      <td>-0.017694</td>\n",
       "      <td>0.023099</td>\n",
       "      <td>-0.028170</td>\n",
       "      <td>0.063105</td>\n",
       "      <td>0.006962</td>\n",
       "      <td>0.101481</td>\n",
       "      <td>-0.073981</td>\n",
       "    </tr>\n",
       "    <tr>\n",
       "      <th>PA0005</th>\n",
       "      <td>0.056511</td>\n",
       "      <td>0.146070</td>\n",
       "      <td>0.111143</td>\n",
       "      <td>0.195392</td>\n",
       "      <td>0.008957</td>\n",
       "      <td>0.173715</td>\n",
       "      <td>0.095491</td>\n",
       "      <td>0.130729</td>\n",
       "      <td>-0.015219</td>\n",
       "      <td>0.029992</td>\n",
       "      <td>...</td>\n",
       "      <td>-0.012573</td>\n",
       "      <td>0.007769</td>\n",
       "      <td>-0.009655</td>\n",
       "      <td>0.074925</td>\n",
       "      <td>0.057350</td>\n",
       "      <td>0.033258</td>\n",
       "      <td>0.060091</td>\n",
       "      <td>0.037214</td>\n",
       "      <td>-0.054149</td>\n",
       "      <td>0.050110</td>\n",
       "    </tr>\n",
       "  </tbody>\n",
       "</table>\n",
       "<p>5 rows × 300 columns</p>\n",
       "</div>"
      ],
      "text/plain": [
       "             0         1         2         3         4         5         6    \\\n",
       "PA0001 -0.117849 -0.038603  0.025833 -0.017812 -0.038917 -0.025886  0.059616   \n",
       "PA0002 -0.475532 -0.376902 -0.292408 -0.443579 -0.275428 -0.237486 -0.131763   \n",
       "PA0003 -0.028016 -0.147888 -0.118208 -0.176184  0.085006 -0.136751 -0.007269   \n",
       "PA0004 -0.008260 -0.027175 -0.036942 -0.081368 -0.004079  0.048033 -0.006661   \n",
       "PA0005  0.056511  0.146070  0.111143  0.195392  0.008957  0.173715  0.095491   \n",
       "\n",
       "             7         8         9      ...          290       291       292  \\\n",
       "PA0001 -0.004224  0.061998 -0.104676    ...     0.019363  0.007815 -0.052154   \n",
       "PA0002 -0.309244 -0.123432 -0.239483    ...    -0.337239 -0.167598 -0.673273   \n",
       "PA0003 -0.030653 -0.057265 -0.159458    ...     0.029716 -0.110118 -0.190486   \n",
       "PA0004  0.012838  0.123765 -0.027641    ...     0.028078  0.090266  0.021577   \n",
       "PA0005  0.130729 -0.015219  0.029992    ...    -0.012573  0.007769 -0.009655   \n",
       "\n",
       "             293       294       295       296       297       298       299  \n",
       "PA0001  0.025949  0.021723  0.055437 -0.018286  0.016438  0.005548 -0.062284  \n",
       "PA0002 -0.215697  0.234006 -0.104485 -0.352983 -0.189724 -0.374923 -0.435261  \n",
       "PA0003 -0.035492 -0.083336 -0.039024 -0.120915  0.122573 -0.090189 -0.163588  \n",
       "PA0004 -0.017694  0.023099 -0.028170  0.063105  0.006962  0.101481 -0.073981  \n",
       "PA0005  0.074925  0.057350  0.033258  0.060091  0.037214 -0.054149  0.050110  \n",
       "\n",
       "[5 rows x 300 columns]"
      ]
     },
     "execution_count": 7,
     "metadata": {},
     "output_type": "execute_result"
    }
   ],
   "source": [
    "# Read weight matrix\n",
    "weight = pd.read_table(weight_file, header=0, index_col=0).T\n",
    "weight.head(5)"
   ]
  },
  {
   "cell_type": "markdown",
   "metadata": {},
   "source": [
    "## Explore gene space offset\n",
    "\n",
    "1.  What genes are most highly weighted?\n",
    "2.  What percentage of these genes are in gene set A and B?"
   ]
  },
  {
   "cell_type": "code",
   "execution_count": 8,
   "metadata": {
    "ExecuteTime": {
     "end_time": "2019-02-26T16:14:20.067327Z",
     "start_time": "2019-02-26T16:14:19.891975Z"
    }
   },
   "outputs": [
    {
     "data": {
      "text/plain": [
       "<matplotlib.axes._subplots.AxesSubplot at 0x7f96bb898710>"
      ]
     },
     "execution_count": 8,
     "metadata": {},
     "output_type": "execute_result"
    },
    {
     "data": {
      "image/png": "[encoded data removed]",
      "text/plain": [
       "<matplotlib.figure.Figure at 0x7f96bb8204a8>"
      ]
     },
     "metadata": {},
     "output_type": "display_data"
    }
   ],
   "source": [
    "# Distribution of weights in offset vector\n",
    "sns.distplot(offset_gene_space)"
   ]
  },
  {
   "cell_type": "code",
   "execution_count": 9,
   "metadata": {
    "ExecuteTime": {
     "end_time": "2019-02-26T16:14:20.074152Z",
     "start_time": "2019-02-26T16:14:20.069358Z"
    }
   },
   "outputs": [
    {
     "name": "stdout",
     "output_type": "stream",
     "text": [
      "Threshold cutoff is 0.2661179999999996\n"
     ]
    }
   ],
   "source": [
    "# Get gene ids with the highest weight from the offset vector\n",
    "percentile = 95\n",
    "threshold = np.percentile(offset_gene_space, percentile)\n",
    "print(\"Threshold cutoff is {}\".format(threshold))\n",
    "highest_genes = offset_gene_space.T[offset_gene_space.T[0] > threshold].index"
   ]
  },
  {
   "cell_type": "code",
   "execution_count": 10,
   "metadata": {
    "ExecuteTime": {
     "end_time": "2019-02-26T16:14:20.144079Z",
     "start_time": "2019-02-26T16:14:20.076365Z"
    }
   },
   "outputs": [
    {
     "data": {
      "image/png": "[encoded data removed]",
      "text/plain": [
       "<matplotlib.figure.Figure at 0x7f96bb6077f0>"
      ]
     },
     "metadata": {},
     "output_type": "display_data"
    }
   ],
   "source": [
    "# Compare the overlap of genes in set A and highest weighted genes in offset\n",
    "venn2([set(highest_genes), geneSetA_set], set_labels = ('High weight offset genes', 'Group A genes'))\n",
    "plt.show()"
   ]
  },
  {
   "cell_type": "code",
   "execution_count": 11,
   "metadata": {
    "ExecuteTime": {
     "end_time": "2019-02-26T16:14:20.194506Z",
     "start_time": "2019-02-26T16:14:20.145280Z"
    }
   },
   "outputs": [
    {
     "data": {
      "image/png": "[encoded data removed]",
      "text/plain": [
       "<matplotlib.figure.Figure at 0x7f96bb72a278>"
      ]
     },
     "metadata": {},
     "output_type": "display_data"
    }
   ],
   "source": [
    "# Compare the overlap of genes in set B and highest weighted genes in offset\n",
    "venn2([set(highest_genes), geneSetB_set], set_labels = ('High weight offset genes', 'Group B genes'))\n",
    "plt.show()"
   ]
  },
  {
   "cell_type": "markdown",
   "metadata": {},
   "source": [
    "## Explore latent space (VAE) offset\n",
    "1.  Which feature has the highest value?\n",
    "2.  Are genes in set A and B highly weighted "
   ]
  },
  {
   "cell_type": "code",
   "execution_count": 12,
   "metadata": {
    "ExecuteTime": {
     "end_time": "2019-02-26T16:14:20.335596Z",
     "start_time": "2019-02-26T16:14:20.195596Z"
    }
   },
   "outputs": [
    {
     "data": {
      "text/plain": [
       "<matplotlib.axes._subplots.AxesSubplot at 0x7f96bb6704a8>"
      ]
     },
     "execution_count": 12,
     "metadata": {},
     "output_type": "execute_result"
    },
    {
     "data": {
      "image/png": "[encoded data removed]",
      "text/plain": [
       "<matplotlib.figure.Figure at 0x7f96bb75f5c0>"
      ]
     },
     "metadata": {},
     "output_type": "display_data"
    }
   ],
   "source": [
    "# Distribution of weights in offset vector\n",
    "sns.distplot(offset_vae_space)"
   ]
  },
  {
   "cell_type": "code",
   "execution_count": 13,
   "metadata": {
    "ExecuteTime": {
     "end_time": "2019-02-26T16:14:20.340193Z",
     "start_time": "2019-02-26T16:14:20.336784Z"
    }
   },
   "outputs": [
    {
     "name": "stdout",
     "output_type": "stream",
     "text": [
      "Max feature is 106 and min feature is 19\n"
     ]
    }
   ],
   "source": [
    "# Get latent feature with the max and min value\n",
    "max_feature = offset_vae_space.T.idxmax()[0]\n",
    "min_feature = offset_vae_space.T.idxmin()[0]\n",
    "print(\"Max feature is {} and min feature is {}\".format(max_feature, min_feature))"
   ]
  },
  {
   "cell_type": "markdown",
   "metadata": {},
   "source": [
    "### Genes in feature that corresponds to max offset score"
   ]
  },
  {
   "cell_type": "code",
   "execution_count": 14,
   "metadata": {
    "ExecuteTime": {
     "end_time": "2019-02-26T16:14:20.505027Z",
     "start_time": "2019-02-26T16:14:20.342793Z"
    }
   },
   "outputs": [
    {
     "data": {
      "text/plain": [
       "<matplotlib.axes._subplots.AxesSubplot at 0x7f96ba4d7da0>"
      ]
     },
     "execution_count": 14,
     "metadata": {},
     "output_type": "execute_result"
    },
    {
     "data": {
      "image/png": "[encoded data removed]",
      "text/plain": [
       "<matplotlib.figure.Figure at 0x7f96bb788828>"
      ]
     },
     "metadata": {},
     "output_type": "display_data"
    }
   ],
   "source": [
    "# Get gene weights for max latent feature\n",
    "genes_max_feature = weight[int(max_feature)]\n",
    "sns.distplot(genes_max_feature)"
   ]
  },
  {
   "cell_type": "code",
   "execution_count": 15,
   "metadata": {
    "ExecuteTime": {
     "end_time": "2019-02-26T16:14:20.510079Z",
     "start_time": "2019-02-26T16:14:20.506651Z"
    }
   },
   "outputs": [
    {
     "name": "stdout",
     "output_type": "stream",
     "text": [
      "Threshold cutoff is 0.2614319205284118\n"
     ]
    }
   ],
   "source": [
    "# Get gene ids with the highest positive weight from the max feature selected\n",
    "percentile = 95\n",
    "threshold = np.percentile(genes_max_feature, percentile)\n",
    "print(\"Threshold cutoff is {}\".format(threshold))\n",
    "highest_genes = genes_max_feature[genes_max_feature > threshold].index"
   ]
  },
  {
   "cell_type": "code",
   "execution_count": 16,
   "metadata": {
    "ExecuteTime": {
     "end_time": "2019-02-26T16:14:20.520317Z",
     "start_time": "2019-02-26T16:14:20.511443Z"
    }
   },
   "outputs": [
    {
     "name": "stdout",
     "output_type": "stream",
     "text": [
      "Threshold cutoff is -0.15282053053379058\n"
     ]
    }
   ],
   "source": [
    "# Get gene ids with the highest negative weight from the max feature selected\n",
    "percentile = 5\n",
    "threshold = np.percentile(genes_max_feature, percentile)\n",
    "print(\"Threshold cutoff is {}\".format(threshold))\n",
    "lowest_genes = genes_max_feature[genes_max_feature < threshold].index"
   ]
  },
  {
   "cell_type": "code",
   "execution_count": 17,
   "metadata": {
    "ExecuteTime": {
     "end_time": "2019-02-26T16:14:20.586366Z",
     "start_time": "2019-02-26T16:14:20.521730Z"
    }
   },
   "outputs": [
    {
     "data": {
      "image/png": "[encoded data removed]",
      "text/plain": [
       "<matplotlib.figure.Figure at 0x7f96bb623a90>"
      ]
     },
     "metadata": {},
     "output_type": "display_data"
    }
   ],
   "source": [
    "# Compare the overlap of genes in set A and highest positive weighted genes in the max feature\n",
    "venn2([set(highest_genes), geneSetA_set], set_labels = ('High positive weight genes in feature {}'.format(max_feature), 'Group A genes'))\n",
    "plt.show()"
   ]
  },
  {
   "cell_type": "code",
   "execution_count": 18,
   "metadata": {
    "ExecuteTime": {
     "end_time": "2019-02-26T16:14:20.594317Z",
     "start_time": "2019-02-26T16:14:20.588686Z"
    }
   },
   "outputs": [],
   "source": [
    "# Output intersected sets\n",
    "intersect_highpos_geneA = geneSetA_set.intersection(set(highest_genes))\n",
    "intersect_highpos_geneA_df = pd.DataFrame(list(intersect_highpos_geneA), columns=['gene id'])\n",
    "\n",
    "intersect_file = os.path.join(base_dir, analysis_name, \"intersect_feature{}_highpos_geneA.txt\".format(max_feature))\n",
    "intersect_highpos_geneA_df.to_csv(intersect_file, sep='\\t')"
   ]
  },
  {
   "cell_type": "code",
   "execution_count": 19,
   "metadata": {
    "ExecuteTime": {
     "end_time": "2019-02-26T16:14:20.741923Z",
     "start_time": "2019-02-26T16:14:20.595635Z"
    }
   },
   "outputs": [
    {
     "data": {
      "image/png": "[encoded data removed]",
      "text/plain": [
       "<matplotlib.figure.Figure at 0x7f96ba3f9e80>"
      ]
     },
     "metadata": {},
     "output_type": "display_data"
    }
   ],
   "source": [
    "# Compare the overlap of genes in set B and highest positive weighted genes in the max feature\n",
    "venn2([set(highest_genes), geneSetB_set], set_labels = ('High positive weight genes in feature {}'.format(max_feature), 'Group B genes'))\n",
    "plt.show()"
   ]
  },
  {
   "cell_type": "code",
   "execution_count": 20,
   "metadata": {
    "ExecuteTime": {
     "end_time": "2019-02-26T16:14:20.773451Z",
     "start_time": "2019-02-26T16:14:20.743328Z"
    }
   },
   "outputs": [],
   "source": [
    "# Output intersected sets\n",
    "intersect_highpos_geneB = geneSetB_set.intersection(set(highest_genes))\n",
    "intersect_highpos_geneB_df = pd.DataFrame(list(intersect_highpos_geneB), columns=['gene id'])\n",
    "\n",
    "intersect_file = os.path.join(base_dir, analysis_name, \"intersect_feature{}_highpos_geneB.txt\".format(max_feature))\n",
    "intersect_highpos_geneB_df.to_csv(intersect_file, sep='\\t')"
   ]
  },
  {
   "cell_type": "code",
   "execution_count": 21,
   "metadata": {
    "ExecuteTime": {
     "end_time": "2019-02-26T16:14:20.905204Z",
     "start_time": "2019-02-26T16:14:20.774716Z"
    }
   },
   "outputs": [
    {
     "data": {
      "image/png": "[encoded data removed]",
      "text/plain": [
       "<matplotlib.figure.Figure at 0x7f96ba4a2b38>"
      ]
     },
     "metadata": {},
     "output_type": "display_data"
    }
   ],
   "source": [
    "# Compare the overlap of genes in set A and highest negative weighted genes in the max feature\n",
    "venn2([set(lowest_genes), geneSetA_set], set_labels = ('High negative weight genes in feature {}'.format(max_feature), 'Group A genes'))\n",
    "plt.show()"
   ]
  },
  {
   "cell_type": "code",
   "execution_count": 22,
   "metadata": {
    "ExecuteTime": {
     "end_time": "2019-02-26T16:14:20.971460Z",
     "start_time": "2019-02-26T16:14:20.906500Z"
    }
   },
   "outputs": [
    {
     "data": {
      "image/png": "[encoded data removed]",
      "text/plain": [
       "<matplotlib.figure.Figure at 0x7f96ba38b4e0>"
      ]
     },
     "metadata": {},
     "output_type": "display_data"
    }
   ],
   "source": [
    "# Compare the overlap of genes in set B and highest negative weighted genes in the max feature\n",
    "venn2([set(lowest_genes), geneSetB_set], set_labels = ('High negative weight genes in feature {}'.format(max_feature), 'Group B genes'))\n",
    "plt.show()"
   ]
  },
  {
   "cell_type": "code",
   "execution_count": 23,
   "metadata": {
    "ExecuteTime": {
     "end_time": "2019-02-26T16:14:20.983285Z",
     "start_time": "2019-02-26T16:14:20.972596Z"
    }
   },
   "outputs": [],
   "source": [
    "# Output intersected sets\n",
    "intersect_highneg_geneB = geneSetB_set.intersection(set(lowest_genes))\n",
    "intersect_highneg_geneB_df = pd.DataFrame(list(intersect_highneg_geneB), columns=['gene id'])\n",
    "\n",
    "intersect_file = os.path.join(base_dir, analysis_name, \"intersect_feature{}_highneg_geneB.txt\".format(max_feature))\n",
    "intersect_highneg_geneB_df.to_csv(intersect_file, sep='\\t')"
   ]
  },
  {
   "cell_type": "markdown",
   "metadata": {},
   "source": [
    "### Genes in feature that corresponds to minimum offset score"
   ]
  },
  {
   "cell_type": "code",
   "execution_count": 24,
   "metadata": {
    "ExecuteTime": {
     "end_time": "2019-02-26T16:14:21.212178Z",
     "start_time": "2019-02-26T16:14:20.984800Z"
    }
   },
   "outputs": [
    {
     "data": {
      "text/plain": [
       "<matplotlib.axes._subplots.AxesSubplot at 0x7f96ba35bba8>"
      ]
     },
     "execution_count": 24,
     "metadata": {},
     "output_type": "execute_result"
    },
    {
     "data": {
      "image/png": "[encoded data removed]",
      "text/plain": [
       "<matplotlib.figure.Figure at 0x7f96ba339198>"
      ]
     },
     "metadata": {},
     "output_type": "display_data"
    }
   ],
   "source": [
    "# Get gene weights for min latent feature\n",
    "genes_min_feature = weight[int(min_feature)]\n",
    "sns.distplot(genes_min_feature)"
   ]
  },
  {
   "cell_type": "code",
   "execution_count": 25,
   "metadata": {
    "ExecuteTime": {
     "end_time": "2019-02-26T16:14:21.218021Z",
     "start_time": "2019-02-26T16:14:21.214064Z"
    }
   },
   "outputs": [
    {
     "name": "stdout",
     "output_type": "stream",
     "text": [
      "Threshold cutoff is 0.2097277015447615\n"
     ]
    }
   ],
   "source": [
    "# Get gene ids with the highest positive weight from the min feature selected\n",
    "percentile = 95\n",
    "threshold = np.percentile(genes_min_feature, percentile)\n",
    "print(\"Threshold cutoff is {}\".format(threshold))\n",
    "highest_genes = genes_min_feature[genes_min_feature > threshold].index"
   ]
  },
  {
   "cell_type": "code",
   "execution_count": 26,
   "metadata": {
    "ExecuteTime": {
     "end_time": "2019-02-26T16:14:21.232143Z",
     "start_time": "2019-02-26T16:14:21.219514Z"
    }
   },
   "outputs": [
    {
     "name": "stdout",
     "output_type": "stream",
     "text": [
      "Threshold cutoff is -0.2704321503639221\n"
     ]
    }
   ],
   "source": [
    "# Get gene ids with the highest negative weight from the min feature selected\n",
    "percentile = 5\n",
    "threshold = np.percentile(genes_min_feature, percentile)\n",
    "print(\"Threshold cutoff is {}\".format(threshold))\n",
    "lowest_genes = genes_min_feature[genes_min_feature < threshold].index"
   ]
  },
  {
   "cell_type": "code",
   "execution_count": 27,
   "metadata": {
    "ExecuteTime": {
     "end_time": "2019-02-26T16:14:21.328995Z",
     "start_time": "2019-02-26T16:14:21.235807Z"
    }
   },
   "outputs": [
    {
     "data": {
      "image/png": "[encoded data removed]",
      "text/plain": [
       "<matplotlib.figure.Figure at 0x7f96ba313b00>"
      ]
     },
     "metadata": {},
     "output_type": "display_data"
    }
   ],
   "source": [
    "# Compare the overlap of genes in set A and highest positive weighted genes in the min feature\n",
    "venn2([set(highest_genes), geneSetA_set], set_labels = ('High positive weight genes in feature {}'.format(min_feature), 'Group A genes'))\n",
    "plt.show()"
   ]
  },
  {
   "cell_type": "code",
   "execution_count": 28,
   "metadata": {
    "ExecuteTime": {
     "end_time": "2019-02-26T16:14:21.384387Z",
     "start_time": "2019-02-26T16:14:21.330187Z"
    }
   },
   "outputs": [
    {
     "data": {
      "image/png": "[encoded data removed]",
      "text/plain": [
       "<matplotlib.figure.Figure at 0x7f96ba313400>"
      ]
     },
     "metadata": {},
     "output_type": "display_data"
    }
   ],
   "source": [
    "# Compare the overlap of genes in set B and highest positive weighted genes in the min feature\n",
    "venn2([set(highest_genes), geneSetB_set], set_labels = ('High positive weight genes in feature {}'.format(min_feature), 'Group B genes'))\n",
    "plt.show()"
   ]
  },
  {
   "cell_type": "code",
   "execution_count": 29,
   "metadata": {
    "ExecuteTime": {
     "end_time": "2019-02-26T16:14:21.390669Z",
     "start_time": "2019-02-26T16:14:21.386466Z"
    }
   },
   "outputs": [],
   "source": [
    "# Output intersected sets\n",
    "intersect_highpos_geneB = geneSetB_set.intersection(set(highest_genes))\n",
    "intersect_highpos_geneB_df = pd.DataFrame(list(intersect_highpos_geneB), columns=['gene id'])\n",
    "\n",
    "intersect_file = os.path.join(base_dir, analysis_name, \"intersect_feature{}_highpos_geneB.txt\".format(min_feature))\n",
    "intersect_highpos_geneB_df.to_csv(intersect_file, sep='\\t')"
   ]
  },
  {
   "cell_type": "code",
   "execution_count": 30,
   "metadata": {
    "ExecuteTime": {
     "end_time": "2019-02-26T16:14:21.498960Z",
     "start_time": "2019-02-26T16:14:21.391871Z"
    }
   },
   "outputs": [
    {
     "data": {
      "image/png": "[encoded data removed]",
      "text/plain": [
       "<matplotlib.figure.Figure at 0x7f96ba3ac550>"
      ]
     },
     "metadata": {},
     "output_type": "display_data"
    }
   ],
   "source": [
    "# Compare the overlap of genes in set A and highest negative weighted genes in the min feature\n",
    "venn2([set(lowest_genes), geneSetA_set], set_labels = ('High negative weight genes in feature {}'.format(min_feature), 'Group A genes'))\n",
    "plt.show()"
   ]
  },
  {
   "cell_type": "code",
   "execution_count": 31,
   "metadata": {
    "ExecuteTime": {
     "end_time": "2019-02-26T16:14:21.507035Z",
     "start_time": "2019-02-26T16:14:21.501364Z"
    }
   },
   "outputs": [],
   "source": [
    "# Output intersected sets\n",
    "intersect_highneg_geneA = geneSetA_set.intersection(set(lowest_genes))\n",
    "intersect_highneg_geneA_df = pd.DataFrame(list(intersect_highneg_geneA), columns=['gene id'])\n",
    "\n",
    "intersect_file = os.path.join(base_dir, analysis_name, \"intersect_feature{}_highneg_geneA.txt\".format(min_feature))\n",
    "intersect_highneg_geneA_df.to_csv(intersect_file, sep='\\t')"
   ]
  },
  {
   "cell_type": "code",
   "execution_count": 32,
   "metadata": {
    "ExecuteTime": {
     "end_time": "2019-02-26T16:14:21.587221Z",
     "start_time": "2019-02-26T16:14:21.508575Z"
    }
   },
   "outputs": [
    {
     "data": {
      "image/png": "[encoded data removed]",
      "text/plain": [
       "<matplotlib.figure.Figure at 0x7f96ba436668>"
      ]
     },
     "metadata": {},
     "output_type": "display_data"
    }
   ],
   "source": [
    "# Compare the overlap of genes in set B and highest negative weighted genes in the min feature\n",
    "venn2([set(lowest_genes), geneSetB_set], set_labels = ('High negative weight genes in feature {}'.format(min_feature), 'Group B genes'))\n",
    "plt.show()"
   ]
  },
  {
   "cell_type": "code",
   "execution_count": 33,
   "metadata": {
    "ExecuteTime": {
     "end_time": "2019-02-26T16:14:21.593203Z",
     "start_time": "2019-02-26T16:14:21.588736Z"
    }
   },
   "outputs": [],
   "source": [
    "# Output intersected sets\n",
    "intersect_highneg_geneB = geneSetB_set.intersection(set(lowest_genes))\n",
    "intersect_highneg_geneB_df = pd.DataFrame(list(intersect_highneg_geneB), columns=['gene id'])\n",
    "\n",
    "intersect_file = os.path.join(base_dir, analysis_name, \"intersect_feature{}_highneg_geneB.txt\".format(min_feature))\n",
    "intersect_highneg_geneB_df.to_csv(intersect_file, sep='\\t')"
   ]
  },
  {
   "cell_type": "markdown",
   "metadata": {},
   "source": [
    "Observation:\n",
    "\n",
    "Notice that the overlap of the high weight genes in the min features and max feature are very similar -- why is this?"
   ]
  }
 ],
 "metadata": {
  "kernelspec": {
   "display_name": "Python [conda env:Pa]",
   "language": "python",
   "name": "conda-env-Pa-py"
  },
  "language_info": {
   "codemirror_mode": {
    "name": "ipython",
    "version": 3
   },
   "file_extension": ".py",
   "mimetype": "text/x-python",
   "name": "python",
   "nbconvert_exporter": "python",
   "pygments_lexer": "ipython3",
   "version": "3.5.5"
  }
 },
 "nbformat": 4,
 "nbformat_minor": 2
}
