{
 "cells": [
  {
   "cell_type": "code",
   "execution_count": 1,
   "metadata": {},
   "outputs": [],
   "source": [
    "%matplotlib inline"
   ]
  },
  {
   "cell_type": "code",
   "execution_count": 2,
   "metadata": {},
   "outputs": [],
   "source": [
    "#-------------------------------------------------------------------------------------------------------------------------------\n",
    "# By Alexandra Lee (July 2018) \n",
    "#\n",
    "# Plot correlation between reconstructed vs observed gene expression\n",
    "#-------------------------------------------------------------------------------------------------------------------------------\n",
    "import os\n",
    "import pandas as pd\n",
    "import numpy as np\n",
    "import seaborn as sns\n",
    "\n",
    "randomState = 123\n",
    "from numpy.random import seed\n",
    "seed(randomState)"
   ]
  },
  {
   "cell_type": "code",
   "execution_count": 3,
   "metadata": {},
   "outputs": [],
   "source": [
    "# load arguments\n",
    "estimated_file = os.path.join(os.path.dirname(os.getcwd()), \"output\", \"oxygen_level\", \"estimated_test_t90_2layer_10latent.txt\")\n",
    "obsv_file = os.path.join(os.path.dirname(os.getcwd()), \"data\", \"oxygen_level\", \"train_minO2.txt\")\n",
    "\n",
    "# output\n",
    "fig_file = os.path.join(os.path.dirname(os.getcwd()), \"viz\", \"oxygen_level\", \"Tybalt_2layer_transform_t90.png\")"
   ]
  },
  {
   "cell_type": "code",
   "execution_count": 4,
   "metadata": {},
   "outputs": [
    {
     "data": {
      "text/html": [
       "<div>\n",
       "<style scoped>\n",
       "    .dataframe tbody tr th:only-of-type {\n",
       "        vertical-align: middle;\n",
       "    }\n",
       "\n",
       "    .dataframe tbody tr th {\n",
       "        vertical-align: top;\n",
       "    }\n",
       "\n",
       "    .dataframe thead th {\n",
       "        text-align: right;\n",
       "    }\n",
       "</style>\n",
       "<table border=\"1\" class=\"dataframe\">\n",
       "  <thead>\n",
       "    <tr style=\"text-align: right;\">\n",
       "      <th></th>\n",
       "      <th>PA0001</th>\n",
       "      <th>PA0002</th>\n",
       "      <th>PA0003</th>\n",
       "      <th>PA0004</th>\n",
       "      <th>PA0005</th>\n",
       "      <th>PA0006</th>\n",
       "      <th>PA0007</th>\n",
       "      <th>PA0008</th>\n",
       "      <th>PA0009</th>\n",
       "      <th>PA0010</th>\n",
       "      <th>...</th>\n",
       "      <th>PA5561</th>\n",
       "      <th>PA5562</th>\n",
       "      <th>PA5563</th>\n",
       "      <th>PA5564</th>\n",
       "      <th>PA5565</th>\n",
       "      <th>PA5566</th>\n",
       "      <th>PA5567</th>\n",
       "      <th>PA5568</th>\n",
       "      <th>PA5569</th>\n",
       "      <th>PA5570</th>\n",
       "    </tr>\n",
       "  </thead>\n",
       "  <tbody>\n",
       "    <tr>\n",
       "      <th>GSM1267087_HZI1950_Pae_G1a.CEL</th>\n",
       "      <td>0.686177</td>\n",
       "      <td>0.72357</td>\n",
       "      <td>0.437746</td>\n",
       "      <td>0.67743</td>\n",
       "      <td>0.439992</td>\n",
       "      <td>0.364563</td>\n",
       "      <td>0.50503</td>\n",
       "      <td>0.587372</td>\n",
       "      <td>0.641727</td>\n",
       "      <td>0.192211</td>\n",
       "      <td>...</td>\n",
       "      <td>0.35716</td>\n",
       "      <td>0.543123</td>\n",
       "      <td>0.601631</td>\n",
       "      <td>0.641289</td>\n",
       "      <td>0.669666</td>\n",
       "      <td>0.16932</td>\n",
       "      <td>0.427658</td>\n",
       "      <td>0.584807</td>\n",
       "      <td>0.765351</td>\n",
       "      <td>0.728943</td>\n",
       "    </tr>\n",
       "  </tbody>\n",
       "</table>\n",
       "<p>1 rows × 5549 columns</p>\n",
       "</div>"
      ],
      "text/plain": [
       "                                  PA0001   PA0002    PA0003   PA0004  \\\n",
       "GSM1267087_HZI1950_Pae_G1a.CEL  0.686177  0.72357  0.437746  0.67743   \n",
       "\n",
       "                                  PA0005    PA0006   PA0007    PA0008  \\\n",
       "GSM1267087_HZI1950_Pae_G1a.CEL  0.439992  0.364563  0.50503  0.587372   \n",
       "\n",
       "                                  PA0009    PA0010    ...      PA5561  \\\n",
       "GSM1267087_HZI1950_Pae_G1a.CEL  0.641727  0.192211    ...     0.35716   \n",
       "\n",
       "                                  PA5562    PA5563    PA5564    PA5565  \\\n",
       "GSM1267087_HZI1950_Pae_G1a.CEL  0.543123  0.601631  0.641289  0.669666   \n",
       "\n",
       "                                 PA5566    PA5567    PA5568    PA5569  \\\n",
       "GSM1267087_HZI1950_Pae_G1a.CEL  0.16932  0.427658  0.584807  0.765351   \n",
       "\n",
       "                                  PA5570  \n",
       "GSM1267087_HZI1950_Pae_G1a.CEL  0.728943  \n",
       "\n",
       "[1 rows x 5549 columns]"
      ]
     },
     "execution_count": 4,
     "metadata": {},
     "output_type": "execute_result"
    }
   ],
   "source": [
    "# read in data\n",
    "estimated_data = pd.read_table(estimated_file, header = 0, sep = '\\t', index_col = 0)\n",
    "obsv_data = pd.read_table(obsv_file, header = 0, sep = '\\t', index_col = 0)\n",
    "\n",
    "estimated_data.columns = obsv_data.columns  #Add gene ids to merge on later\n",
    "\n",
    "#obsv_data\n",
    "estimated_data"
   ]
  },
  {
   "cell_type": "code",
   "execution_count": 5,
   "metadata": {},
   "outputs": [
    {
     "data": {
      "text/html": [
       "<div>\n",
       "<style scoped>\n",
       "    .dataframe tbody tr th:only-of-type {\n",
       "        vertical-align: middle;\n",
       "    }\n",
       "\n",
       "    .dataframe tbody tr th {\n",
       "        vertical-align: top;\n",
       "    }\n",
       "\n",
       "    .dataframe thead th {\n",
       "        text-align: right;\n",
       "    }\n",
       "</style>\n",
       "<table border=\"1\" class=\"dataframe\">\n",
       "  <thead>\n",
       "    <tr style=\"text-align: right;\">\n",
       "      <th></th>\n",
       "      <th>estimated</th>\n",
       "    </tr>\n",
       "  </thead>\n",
       "  <tbody>\n",
       "    <tr>\n",
       "      <th>PA0001</th>\n",
       "      <td>0.686177</td>\n",
       "    </tr>\n",
       "    <tr>\n",
       "      <th>PA0002</th>\n",
       "      <td>0.723570</td>\n",
       "    </tr>\n",
       "    <tr>\n",
       "      <th>PA0003</th>\n",
       "      <td>0.437746</td>\n",
       "    </tr>\n",
       "    <tr>\n",
       "      <th>PA0004</th>\n",
       "      <td>0.677430</td>\n",
       "    </tr>\n",
       "    <tr>\n",
       "      <th>PA0005</th>\n",
       "      <td>0.439992</td>\n",
       "    </tr>\n",
       "  </tbody>\n",
       "</table>\n",
       "</div>"
      ],
      "text/plain": [
       "        estimated\n",
       "PA0001   0.686177\n",
       "PA0002   0.723570\n",
       "PA0003   0.437746\n",
       "PA0004   0.677430\n",
       "PA0005   0.439992"
      ]
     },
     "execution_count": 5,
     "metadata": {},
     "output_type": "execute_result"
    }
   ],
   "source": [
    "# Average gene expression across samples\n",
    "estimated_data_mean = estimated_data.mean(axis=0)\n",
    "obsv_data_mean = obsv_data.mean(axis=0)\n",
    "\n",
    "estimated_data_mean_df = pd.DataFrame(estimated_data_mean, index = estimated_data_mean.index, columns=['estimated'])\n",
    "obsv_data_mean_df = pd.DataFrame(obsv_data_mean, index = obsv_data_mean.index, columns = ['observed'])\n",
    "\n",
    "estimated_data_mean_df.head(5)\n",
    "#obsv_data_mean_df.head(5)"
   ]
  },
  {
   "cell_type": "code",
   "execution_count": 6,
   "metadata": {},
   "outputs": [
    {
     "data": {
      "text/html": [
       "<div>\n",
       "<style scoped>\n",
       "    .dataframe tbody tr th:only-of-type {\n",
       "        vertical-align: middle;\n",
       "    }\n",
       "\n",
       "    .dataframe tbody tr th {\n",
       "        vertical-align: top;\n",
       "    }\n",
       "\n",
       "    .dataframe thead th {\n",
       "        text-align: right;\n",
       "    }\n",
       "</style>\n",
       "<table border=\"1\" class=\"dataframe\">\n",
       "  <thead>\n",
       "    <tr style=\"text-align: right;\">\n",
       "      <th></th>\n",
       "      <th>estimated</th>\n",
       "      <th>observed</th>\n",
       "    </tr>\n",
       "  </thead>\n",
       "  <tbody>\n",
       "    <tr>\n",
       "      <th>PA0001</th>\n",
       "      <td>0.686177</td>\n",
       "      <td>0.704391</td>\n",
       "    </tr>\n",
       "    <tr>\n",
       "      <th>PA0002</th>\n",
       "      <td>0.723570</td>\n",
       "      <td>0.721766</td>\n",
       "    </tr>\n",
       "    <tr>\n",
       "      <th>PA0003</th>\n",
       "      <td>0.437746</td>\n",
       "      <td>0.394952</td>\n",
       "    </tr>\n",
       "    <tr>\n",
       "      <th>PA0004</th>\n",
       "      <td>0.677430</td>\n",
       "      <td>0.674845</td>\n",
       "    </tr>\n",
       "    <tr>\n",
       "      <th>PA0005</th>\n",
       "      <td>0.439992</td>\n",
       "      <td>0.428068</td>\n",
       "    </tr>\n",
       "  </tbody>\n",
       "</table>\n",
       "</div>"
      ],
      "text/plain": [
       "        estimated  observed\n",
       "PA0001   0.686177  0.704391\n",
       "PA0002   0.723570  0.721766\n",
       "PA0003   0.437746  0.394952\n",
       "PA0004   0.677430  0.674845\n",
       "PA0005   0.439992  0.428068"
      ]
     },
     "execution_count": 6,
     "metadata": {},
     "output_type": "execute_result"
    }
   ],
   "source": [
    "# Join \n",
    "X = pd.merge(estimated_data_mean_df, obsv_data_mean_df, left_index=True, right_index=True)\n",
    "X.head(5)"
   ]
  },
  {
   "cell_type": "code",
   "execution_count": 7,
   "metadata": {},
   "outputs": [
    {
     "data": {
      "image/png": "[encoded data removed]",
      "text/plain": [
       "<matplotlib.figure.Figure at 0x7fdba1cd2240>"
      ]
     },
     "metadata": {},
     "output_type": "display_data"
    }
   ],
   "source": [
    "# Plot\n",
    "fg=sns.jointplot(x='estimated', y='observed', data=X, kind='hex');\n",
    "fg.savefig(fig_file)"
   ]
  },
  {
   "cell_type": "code",
   "execution_count": 8,
   "metadata": {},
   "outputs": [],
   "source": [
    "# Calculate error: RMSE of estimated data and observed data per sample\n",
    "\n",
    "# Note: estiamted and observed samples are not matched, so how do we compare them?\n",
    "#rmse = np.ndarray(shape=(1, estimated_data.shape[1]))\n",
    "#i = 0\n",
    "#for col in estimated_data.columns:\n",
    "#    rmse[0,i] = ((estimated_data[col] - obsv_data[col]) ** 2).mean() ** .5\n",
    "#    i+=1\n",
    "#rmse"
   ]
  },
  {
   "cell_type": "code",
   "execution_count": null,
   "metadata": {},
   "outputs": [],
   "source": []
  }
 ],
 "metadata": {
  "kernelspec": {
   "display_name": "Python [default]",
   "language": "python",
   "name": "python3"
  },
  "language_info": {
   "codemirror_mode": {
    "name": "ipython",
    "version": 3
   },
   "file_extension": ".py",
   "mimetype": "text/x-python",
   "name": "python",
   "nbconvert_exporter": "python",
   "pygments_lexer": "ipython3",
   "version": "3.5.5"
  }
 },
 "nbformat": 4,
 "nbformat_minor": 2
}
