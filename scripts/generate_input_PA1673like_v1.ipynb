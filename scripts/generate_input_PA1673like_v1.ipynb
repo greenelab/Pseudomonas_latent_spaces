{
 "cells": [
  {
   "cell_type": "code",
   "execution_count": 1,
   "metadata": {},
   "outputs": [],
   "source": [
    "%matplotlib inline"
   ]
  },
  {
   "cell_type": "code",
   "execution_count": 2,
   "metadata": {},
   "outputs": [],
   "source": [
    "#-------------------------------------------------------------------------------------------------------------------------------\n",
    "# By Alexandra Lee (Septermber 2018) \n",
    "#\n",
    "# Generate input files\n",
    "#\n",
    "# Dataset: Pseudomonas aeruginosa gene expression compendium referenced in https://www.ncbi.nlm.nih.gov/pmc/articles/PMC5069748/\n",
    "# \n",
    "# Group samples based on gene expression of PA1673\n",
    "#\n",
    "# Generate offset vector using extreme gene expression values (train_offset_original):\n",
    "# average highest gene expression - average lowest gene expression \n",
    "#-------------------------------------------------------------------------------------------------------------------------------\n",
    "import os\n",
    "import pandas as pd\n",
    "import numpy as np\n",
    "from scipy.stats import variation\n",
    "import seaborn as sns\n",
    "import matplotlib.pyplot as plt\n",
    "\n",
    "randomState = 123\n",
    "from numpy.random import seed\n",
    "seed(randomState)"
   ]
  },
  {
   "cell_type": "code",
   "execution_count": 3,
   "metadata": {},
   "outputs": [],
   "source": [
    "# Load arguments\n",
    "data_file = os.path.join(os.path.dirname(os.getcwd()), \"data\", \"all-pseudomonas-gene-normalized.zip\")  # repo file is zipped\n",
    "gene_id = \"PA1673\"\n",
    "\n",
    "# Output training\n",
    "train_highest_file = os.path.join(os.path.dirname(os.getcwd()), \"data\", \"PA1673_full_old\", \"train_highest_PA1673.txt\")\n",
    "train_lowest_file = os.path.join(os.path.dirname(os.getcwd()), \"data\", \"PA1673_full_old\", \"train_lowest_PA1673.txt\")\n",
    "train_input_file = os.path.join(os.path.dirname(os.getcwd()), \"data\", \"PA1673_full_old\", \"train_model_input.txt.xz\")\n",
    "\n",
    "# Output test\n",
    "test_lowest_file = os.path.join(os.path.dirname(os.getcwd()), \"data\", \"PA1673_full_old\", \"test_lowest_PA1673.txt\")\n",
    "test_mid1_file = os.path.join(os.path.dirname(os.getcwd()), \"data\", \"PA1673_full_old\", \"test_mid1_PA1673.txt\")\n",
    "test_mid2_file = os.path.join(os.path.dirname(os.getcwd()), \"data\", \"PA1673_full_old\", \"test_mid2_PA1673.txt\")\n",
    "\n",
    "# Output offset\n",
    "original_offset_file = os.path.join(os.path.dirname(os.getcwd()), \"data\", \"PA1673_full_old\", \"train_offset_original.txt\")"
   ]
  },
  {
   "cell_type": "code",
   "execution_count": 4,
   "metadata": {},
   "outputs": [
    {
     "data": {
      "text/plain": [
       "(1191, 5549)"
      ]
     },
     "execution_count": 4,
     "metadata": {},
     "output_type": "execute_result"
    }
   ],
   "source": [
    "# Read in data\n",
    "data = pd.read_table(data_file, header=0, sep='\\t', index_col=0, compression='zip')\n",
    "X = data.transpose()\n",
    "X.shape"
   ]
  },
  {
   "cell_type": "code",
   "execution_count": 5,
   "metadata": {},
   "outputs": [
    {
     "data": {
      "text/plain": [
       "<matplotlib.axes._subplots.AxesSubplot at 0x7f163f235c50>"
      ]
     },
     "execution_count": 5,
     "metadata": {},
     "output_type": "execute_result"
    },
    {
     "data": {
      "image/png": "[encoded data removed]",
      "text/plain": [
       "<matplotlib.figure.Figure at 0x7f163fabea20>"
      ]
     },
     "metadata": {},
     "output_type": "display_data"
    }
   ],
   "source": [
    "# Plot distribution of gene_id gene expression \n",
    "sns.distplot(X[gene_id])"
   ]
  },
  {
   "cell_type": "code",
   "execution_count": 6,
   "metadata": {},
   "outputs": [],
   "source": [
    "# Collect the extreme gene expressions\n",
    "highest = X[X[gene_id] >= np.percentile(X[gene_id], 95)]\n",
    "lowest = X[X[gene_id] <= np.percentile(X[gene_id], 5)]"
   ]
  },
  {
   "cell_type": "code",
   "execution_count": 7,
   "metadata": {},
   "outputs": [
    {
     "name": "stdout",
     "output_type": "stream",
     "text": [
      "(60, 5549)\n",
      "(60, 5549)\n"
     ]
    }
   ],
   "source": [
    "# Checkpoint\n",
    "print(highest.shape)\n",
    "print(lowest.shape)"
   ]
  },
  {
   "cell_type": "code",
   "execution_count": 8,
   "metadata": {},
   "outputs": [
    {
     "name": "stdout",
     "output_type": "stream",
     "text": [
      "0.860280993858\n",
      "GSM1143378_B1_Pae_G1a_.CEL                                    0.892186\n",
      "GSM1143380_B3_Pae_G1a_.CEL                                    0.870005\n",
      "GSM1237737_M9_PAOSX_1_51059600653060050411410396750419.CEL    0.939677\n",
      "GSM1237738_M9_PAOSX_3_51059600653060050411410396750359.CEL    0.910555\n",
      "GSM1237739_M9_PAOSX_4_51059600653061050411410396750526.CEL    0.876537\n",
      "GSM1246482_PA14bvlR_pME6032_rep2.CEL                          0.870267\n",
      "GSM1246486_PA14bvlR_pMEbvlR_rep3.CEL                          0.903608\n",
      "GSM1267091_HZI1954_Pae_G1a.CEL                                0.915225\n",
      "GSM1267093_HZI1956_Pae_G1a.CEL                                0.939142\n",
      "GSM1267094_HZI1958_Pae_G1a.CEL                                0.927052\n",
      "GSM1267095_HZI1959_Pae_G1a.CEL                                0.954175\n",
      "GSM1267096_HZI1960a_Pae_G1a.CEL                               0.983001\n",
      "GSM1267097_HZI1961_Pae_G1a.CEL                                0.917888\n",
      "GSM1267098_HZI1962_Pae_G1a.CEL                                0.860949\n",
      "GSM208602.CEL                                                 0.941379\n",
      "GSM208604.CEL                                                 0.899740\n",
      "GSM208606.CEL                                                 0.900889\n",
      "GSM208613.CEL                                                 0.895172\n",
      "GSM208614.CEL                                                 0.866107\n",
      "GSM208615.CEL                                                 0.890931\n",
      "GSM208616.CEL                                                 0.908248\n",
      "GSM208618.CEL                                                 0.865333\n",
      "GSM208619.CEL                                                 0.864104\n",
      "GSM208620.CEL                                                 0.938559\n",
      "GSM208621.CEL                                                 0.909704\n",
      "GSM252559.CEL                                                 0.963526\n",
      "GSM252560.CEL                                                 0.978580\n",
      "GSM252561.CEL                                                 1.000000\n",
      "GSM252562.CEL                                                 0.887617\n",
      "GSM261916.CEL                                                 0.875067\n",
      "GSM261922.CEL                                                 0.889186\n",
      "GSM261927.CEL                                                 0.933242\n",
      "GSM261933.CEL                                                 0.898584\n",
      "GSM424832.CEL                                                 0.896044\n",
      "GSM424833.CEL                                                 0.921618\n",
      "GSM424834.CEL                                                 0.880391\n",
      "GSM429476.CEL                                                 0.864483\n",
      "GSM429480.CEL                                                 0.935238\n",
      "GSM429481.CEL                                                 0.930475\n",
      "GSM432869.CEL                                                 0.871430\n",
      "GSM45591.CEL                                                  0.896337\n",
      "GSM462354.CEL                                                 0.895828\n",
      "GSM617286.CEL                                                 0.917763\n",
      "GSM617292.CEL                                                 0.932334\n",
      "GSM617293.CEL                                                 0.943725\n",
      "GSM617294.CEL                                                 0.884849\n",
      "GSM617296.CEL                                                 0.869583\n",
      "GSM663162_Pae-Mix-1_5-22-07_S2.CEL                            0.869067\n",
      "GSM838208_OXYR-LB-4_Pae_G1a.CEL                               0.872254\n",
      "GSM838209_OXYR-PM-1_Pae_G1a.CEL                               0.879804\n",
      "GSM838210_OXYR-PM-3_Pae_G1a.CEL                               0.924517\n",
      "GSM838211_OXYR-PM-4_Pae_G1a.CEL                               0.945207\n",
      "GSM838215_PAO1-PM-1_Pae_G1a.CEL                               0.875996\n",
      "GSM838216_PAO1-PM-3_Pae_G1a.CEL                               0.871326\n",
      "GSM838217_PAO1-PM-4_Pae_G1a.CEL                               0.894819\n",
      "GSM897995_MHH0094_Pae_G1a.CEL                                 0.924739\n",
      "GSM897996_MHH0095_Pae_G1a.CEL                                 0.876234\n",
      "GSM897997_MHH0106_Pae_G1a.CEL                                 0.870182\n",
      "GSM980539_MHH1372.CEL                                         0.911622\n",
      "GSM980540_MHH1373.CEL                                         0.910825\n",
      "Name: PA1673, dtype: float64\n",
      "0.0888225004444\n",
      "120330-10978D_23_(Pae_G1a).CEL                 0.071791\n",
      "120330-10978D_M4_(Pae_G1a).CEL                 0.027608\n",
      "DC2.CEL                                        0.068697\n",
      "Glu_6Hour_(Pae_G1a).CEL                        0.000000\n",
      "GSM1133191_Weiqing_He_D-Glu-2_022410.CEL       0.072930\n",
      "GSM1191067_sphR-pyr-2.CEL                      0.076990\n",
      "GSM1267086_HZI1981_G1a.CEL                     0.084342\n",
      "GSM1267102_HZI1968_Pae_G1a.CEL                 0.085562\n",
      "GSM1267103_HZI1969_Pae_G1a.CEL                 0.059341\n",
      "GSM1267104_HZI1970_Pae_G1a.CEL                 0.049060\n",
      "GSM1267109_HZI1975_G1a.CEL                     0.042902\n",
      "GSM1267110_HZI1976_G1a.CEL                     0.059627\n",
      "GSM1267111_HZI1977_G1a.CEL                     0.063059\n",
      "GSM1267112_HZI1978_G1a.CEL                     0.042610\n",
      "GSM1267113_HZI1979_G1a.CEL                     0.064405\n",
      "GSM1420994_anr_control1.CEL                    0.036889\n",
      "GSM1420995_anr_control2.CEL                    0.048264\n",
      "GSM1420996_anr_NO1.CEL                         0.044510\n",
      "GSM1420997_anr_NO2.CEL                         0.053376\n",
      "GSM1421003_EXdnr_control2.CEL                  0.031869\n",
      "GSM198188.CEL                                  0.070026\n",
      "GSM252496.CEL                                  0.087432\n",
      "GSM432864.CEL                                  0.039183\n",
      "GSM432865.CEL                                  0.052980\n",
      "GSM432871.CEL                                  0.060136\n",
      "GSM767700.CEL                                  0.087466\n",
      "GSM774100_CF105-1973a.CEL                      0.037760\n",
      "GSM774101_CF105-1973b.CEL                      0.039662\n",
      "GSM774102_CF105-1973c.CEL                      0.047179\n",
      "GSM774103_CF114-1973a.CEL                      0.057587\n",
      "GSM774104_CF114-1973b.CEL                      0.036974\n",
      "GSM774105_CF114-1973c.CEL                      0.044995\n",
      "GSM774132_CF333-2007c.CEL                      0.082618\n",
      "GSM774133_B6-0_1.CEL                           0.067151\n",
      "GSM774135_B6-0_3.CEL                           0.038953\n",
      "GSM774136_B6-4_1.CEL                           0.026436\n",
      "GSM774137_B6-4_2.CEL                           0.069343\n",
      "GSM774138_B6-4_3.CEL                           0.034720\n",
      "GSM774139_B12-0_1.CEL                          0.054942\n",
      "GSM774140_B12-0_2.CEL                          0.066115\n",
      "GSM774141_B12-0_3.CEL                          0.026262\n",
      "GSM774142_B12-4_1.CEL                          0.041586\n",
      "GSM774143_B12-4_2.CEL                          0.075926\n",
      "GSM774144_B12-4_3.CEL                          0.049771\n",
      "GSM774145_B12-7_1.CEL                          0.080295\n",
      "GSM774146_B12-7_2.CEL                          0.079941\n",
      "GSM774147_B12-7_3.CEL                          0.057824\n",
      "GSM774160_PAO1a.CEL                            0.064363\n",
      "GSM774161_PAO1b.CEL                            0.052827\n",
      "GSM774162_PAO1c.CEL                            0.059431\n",
      "GSM842844_Wright_6_WT-stat-3_Pae_G1a.CEL       0.065164\n",
      "GSM842845_Wright_7_4203-log-1_Pae_G1a.CEL      0.078319\n",
      "GSM842846_Wright_8_4203-log-2_Pae_G1a.CEL      0.085306\n",
      "GSM842849_Wright_11_4203-stat-2_Pae_G1a.CEL    0.087863\n",
      "GSM842850_Wright_12_4203-stat-3_Pae_G1a.CEL    0.086805\n",
      "GSM854796.CEL                                  0.065167\n",
      "GSM954576_Nomura_PA01-1_Pae_G1a_.CEL           0.050185\n",
      "JS-1B4.9.07.CEL                                0.060793\n",
      "JS-A84.9.07.CEL                                0.023501\n",
      "JS-T24.9.07.CEL                                0.051630\n",
      "Name: PA1673, dtype: float64\n"
     ]
    }
   ],
   "source": [
    "# Checkpoint\n",
    "print(np.percentile(X[gene_id], 95))\n",
    "print(highest[gene_id])\n",
    "print(np.percentile(X[gene_id], 5))\n",
    "print(lowest[gene_id])"
   ]
  },
  {
   "cell_type": "code",
   "execution_count": 9,
   "metadata": {},
   "outputs": [],
   "source": [
    "# Create dataframes with intermediate gene expression levels\n",
    "baseline = X[(X[gene_id] > np.percentile(X[gene_id], 5)) & (X[gene_id] <= np.percentile(X[gene_id], 10))]\n",
    "mid_1 = X[(X[gene_id] > np.percentile(X[gene_id], 40)) & (X[gene_id] <= np.percentile(X[gene_id], 50))]\n",
    "mid_2 = X[(X[gene_id] > np.percentile(X[gene_id], 70)) & (X[gene_id] <= np.percentile(X[gene_id], 80))]"
   ]
  },
  {
   "cell_type": "code",
   "execution_count": 10,
   "metadata": {},
   "outputs": [
    {
     "name": "stdout",
     "output_type": "stream",
     "text": [
      "(60, 5549)\n",
      "(119, 5549)\n",
      "(119, 5549)\n"
     ]
    }
   ],
   "source": [
    "# Checkpoint\n",
    "print(baseline.shape)\n",
    "print(mid_1.shape)\n",
    "print(mid_2.shape)"
   ]
  },
  {
   "cell_type": "code",
   "execution_count": 11,
   "metadata": {},
   "outputs": [],
   "source": [
    "# Create input to VAE using all samples and holding out intermediate and baseline samples\n",
    "input_holdout = (\n",
    "    X\n",
    "    .drop(baseline.index)\n",
    "    .drop(mid_1.index)\n",
    "    .drop(mid_2.index)\n",
    ")"
   ]
  },
  {
   "cell_type": "code",
   "execution_count": 12,
   "metadata": {},
   "outputs": [
    {
     "name": "stdout",
     "output_type": "stream",
     "text": [
      "(1191, 5549)\n",
      "(893, 5549)\n"
     ]
    }
   ],
   "source": [
    "# Checkpoint\n",
    "print(X.shape)\n",
    "print(input_holdout.shape)"
   ]
  },
  {
   "cell_type": "code",
   "execution_count": 13,
   "metadata": {},
   "outputs": [
    {
     "data": {
      "text/html": [
       "<div>\n",
       "<style scoped>\n",
       "    .dataframe tbody tr th:only-of-type {\n",
       "        vertical-align: middle;\n",
       "    }\n",
       "\n",
       "    .dataframe tbody tr th {\n",
       "        vertical-align: top;\n",
       "    }\n",
       "\n",
       "    .dataframe thead th {\n",
       "        text-align: right;\n",
       "    }\n",
       "</style>\n",
       "<table border=\"1\" class=\"dataframe\">\n",
       "  <thead>\n",
       "    <tr style=\"text-align: right;\">\n",
       "      <th>Gene_symbol</th>\n",
       "      <th>PA0001</th>\n",
       "      <th>PA0002</th>\n",
       "      <th>PA0003</th>\n",
       "      <th>PA0004</th>\n",
       "      <th>PA0005</th>\n",
       "      <th>PA0006</th>\n",
       "      <th>PA0007</th>\n",
       "      <th>PA0008</th>\n",
       "      <th>PA0009</th>\n",
       "      <th>PA0010</th>\n",
       "      <th>...</th>\n",
       "      <th>PA5561</th>\n",
       "      <th>PA5562</th>\n",
       "      <th>PA5563</th>\n",
       "      <th>PA5564</th>\n",
       "      <th>PA5565</th>\n",
       "      <th>PA5566</th>\n",
       "      <th>PA5567</th>\n",
       "      <th>PA5568</th>\n",
       "      <th>PA5569</th>\n",
       "      <th>PA5570</th>\n",
       "    </tr>\n",
       "  </thead>\n",
       "  <tbody>\n",
       "    <tr>\n",
       "      <th>0</th>\n",
       "      <td>-0.121803</td>\n",
       "      <td>-0.055918</td>\n",
       "      <td>-0.154019</td>\n",
       "      <td>-0.090606</td>\n",
       "      <td>-0.137587</td>\n",
       "      <td>-0.096172</td>\n",
       "      <td>0.008263</td>\n",
       "      <td>-0.19389</td>\n",
       "      <td>-0.270183</td>\n",
       "      <td>-0.037929</td>\n",
       "      <td>...</td>\n",
       "      <td>-0.173731</td>\n",
       "      <td>-0.086623</td>\n",
       "      <td>-0.093885</td>\n",
       "      <td>-0.153501</td>\n",
       "      <td>-0.120752</td>\n",
       "      <td>0.001275</td>\n",
       "      <td>-0.072138</td>\n",
       "      <td>-0.19724</td>\n",
       "      <td>-0.123138</td>\n",
       "      <td>-0.097336</td>\n",
       "    </tr>\n",
       "  </tbody>\n",
       "</table>\n",
       "<p>1 rows × 5549 columns</p>\n",
       "</div>"
      ],
      "text/plain": [
       "Gene_symbol    PA0001    PA0002    PA0003    PA0004    PA0005    PA0006  \\\n",
       "0           -0.121803 -0.055918 -0.154019 -0.090606 -0.137587 -0.096172   \n",
       "\n",
       "Gene_symbol    PA0007   PA0008    PA0009    PA0010    ...       PA5561  \\\n",
       "0            0.008263 -0.19389 -0.270183 -0.037929    ...    -0.173731   \n",
       "\n",
       "Gene_symbol    PA5562    PA5563    PA5564    PA5565    PA5566    PA5567  \\\n",
       "0           -0.086623 -0.093885 -0.153501 -0.120752  0.001275 -0.072138   \n",
       "\n",
       "Gene_symbol   PA5568    PA5569    PA5570  \n",
       "0           -0.19724 -0.123138 -0.097336  \n",
       "\n",
       "[1 rows x 5549 columns]"
      ]
     },
     "execution_count": 13,
     "metadata": {},
     "output_type": "execute_result"
    }
   ],
   "source": [
    "# Define offset vector using all genes\n",
    "# Average gene expression across samples in training set\n",
    "train_highest_mean = highest.mean(axis=0)\n",
    "train_lowest_mean = lowest.mean(axis=0)\n",
    "\n",
    "# Generate offset using average gene expression in original dataset\n",
    "train_offset_original = train_highest_mean - train_lowest_mean\n",
    "train_offset_original_df = pd.DataFrame(train_offset_original).transpose()\n",
    "train_offset_original_df"
   ]
  },
  {
   "cell_type": "code",
   "execution_count": 14,
   "metadata": {},
   "outputs": [],
   "source": [
    "# Output training and test sets\n",
    "\n",
    "# training data\n",
    "highest.to_csv(train_highest_file, sep='\\t')\n",
    "lowest.to_csv(train_lowest_file, sep='\\t')\n",
    "input_holdout.to_csv(train_input_file, sep='\\t', compression='xz')\n",
    "\n",
    "# test data\n",
    "baseline.to_csv(test_lowest_file, sep='\\t')\n",
    "mid_1.to_csv(test_mid1_file, sep='\\t')\n",
    "mid_2.to_csv(test_mid2_file, sep='\\t')\n",
    "\n",
    "# original offset\n",
    "train_offset_original_df.to_csv(original_offset_file, sep='\\t')"
   ]
  }
 ],
 "metadata": {
  "kernelspec": {
   "display_name": "Python [conda env:Pa]",
   "language": "python",
   "name": "conda-env-Pa-py"
  },
  "language_info": {
   "codemirror_mode": {
    "name": "ipython",
    "version": 3
   },
   "file_extension": ".py",
   "mimetype": "text/x-python",
   "name": "python",
   "nbconvert_exporter": "python",
   "pygments_lexer": "ipython3",
   "version": "3.5.5"
  }
 },
 "nbformat": 4,
 "nbformat_minor": 2
}
