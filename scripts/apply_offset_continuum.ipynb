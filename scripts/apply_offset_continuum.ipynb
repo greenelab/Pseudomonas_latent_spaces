{
 "cells": [
  {
   "cell_type": "code",
   "execution_count": 1,
   "metadata": {},
   "outputs": [],
   "source": [
    "#-------------------------------------------------------------------------------------------------------------------------------\n",
    "# By Alexandra Lee (July 2018) \n",
    "#\n",
    "# Apply offset vector\n",
    "#\n",
    "# In original space: Add offset vector to each sample in the test set condition A to transform the gene expression \n",
    "# profile of the test samples to look like the samples are under condition B\n",
    "#\n",
    "# In latent space:  Add offset vector to each sample in the encoded test set condition A to transform the gene \n",
    "# expression profile of the test samples to look like the samples are under condition B\n",
    "#-------------------------------------------------------------------------------------------------------------------------------\n",
    "import os\n",
    "import pandas as pd\n",
    "import numpy as np\n",
    "\n",
    "randomState = 123\n",
    "from numpy.random import seed\n",
    "seed(randomState)"
   ]
  },
  {
   "cell_type": "code",
   "execution_count": 2,
   "metadata": {},
   "outputs": [],
   "source": [
    "# load arguments\n",
    "test_file = os.path.join(os.path.dirname(os.getcwd()), \"encoded\", \"oxygen_level\", \"test_t5_2layer_10latent_encoded.txt\")\n",
    "offset_file = os.path.join(os.path.dirname(os.getcwd()), \"data\", \"oxygen_level\", \"train_offset_2layer_10latent.txt\")\n",
    "\n",
    "# Percentage of the offset to apply to the dataset\n",
    "percentage = 0.95\n",
    "\n",
    "# output files\n",
    "out_file = os.path.join(os.path.dirname(os.getcwd()), \"encoded\", \"oxygen_level\", \"estimated_test_t90_2layer_10latent_encoded.txt\")"
   ]
  },
  {
   "cell_type": "code",
   "execution_count": 3,
   "metadata": {},
   "outputs": [
    {
     "data": {
      "text/html": [
       "<div>\n",
       "<style scoped>\n",
       "    .dataframe tbody tr th:only-of-type {\n",
       "        vertical-align: middle;\n",
       "    }\n",
       "\n",
       "    .dataframe tbody tr th {\n",
       "        vertical-align: top;\n",
       "    }\n",
       "\n",
       "    .dataframe thead th {\n",
       "        text-align: right;\n",
       "    }\n",
       "</style>\n",
       "<table border=\"1\" class=\"dataframe\">\n",
       "  <thead>\n",
       "    <tr style=\"text-align: right;\">\n",
       "      <th></th>\n",
       "      <th>0</th>\n",
       "      <th>1</th>\n",
       "      <th>2</th>\n",
       "      <th>3</th>\n",
       "      <th>4</th>\n",
       "      <th>5</th>\n",
       "      <th>6</th>\n",
       "      <th>7</th>\n",
       "      <th>8</th>\n",
       "      <th>9</th>\n",
       "    </tr>\n",
       "  </thead>\n",
       "  <tbody>\n",
       "    <tr>\n",
       "      <th>GSM1267087_HZI1950_Pae_G1a.CEL</th>\n",
       "      <td>0.0</td>\n",
       "      <td>0.0</td>\n",
       "      <td>3.598785</td>\n",
       "      <td>1.30326</td>\n",
       "      <td>6.860431</td>\n",
       "      <td>0.0</td>\n",
       "      <td>0.0</td>\n",
       "      <td>7.532254</td>\n",
       "      <td>6.492113</td>\n",
       "      <td>9.623106</td>\n",
       "    </tr>\n",
       "  </tbody>\n",
       "</table>\n",
       "</div>"
      ],
      "text/plain": [
       "                                  0    1         2        3         4    5  \\\n",
       "GSM1267087_HZI1950_Pae_G1a.CEL  0.0  0.0  3.598785  1.30326  6.860431  0.0   \n",
       "\n",
       "                                  6         7         8         9  \n",
       "GSM1267087_HZI1950_Pae_G1a.CEL  0.0  7.532254  6.492113  9.623106  "
      ]
     },
     "execution_count": 3,
     "metadata": {},
     "output_type": "execute_result"
    }
   ],
   "source": [
    "# read in data\n",
    "test_data = pd.read_table(test_file, header = 0, sep = '\\t', index_col = 0)\n",
    "\n",
    "test_data"
   ]
  },
  {
   "cell_type": "code",
   "execution_count": 4,
   "metadata": {},
   "outputs": [
    {
     "data": {
      "text/html": [
       "<div>\n",
       "<style scoped>\n",
       "    .dataframe tbody tr th:only-of-type {\n",
       "        vertical-align: middle;\n",
       "    }\n",
       "\n",
       "    .dataframe tbody tr th {\n",
       "        vertical-align: top;\n",
       "    }\n",
       "\n",
       "    .dataframe thead th {\n",
       "        text-align: right;\n",
       "    }\n",
       "</style>\n",
       "<table border=\"1\" class=\"dataframe\">\n",
       "  <thead>\n",
       "    <tr style=\"text-align: right;\">\n",
       "      <th></th>\n",
       "      <th>0</th>\n",
       "      <th>1</th>\n",
       "      <th>2</th>\n",
       "      <th>3</th>\n",
       "      <th>4</th>\n",
       "      <th>5</th>\n",
       "      <th>6</th>\n",
       "      <th>7</th>\n",
       "      <th>8</th>\n",
       "      <th>9</th>\n",
       "    </tr>\n",
       "  </thead>\n",
       "  <tbody>\n",
       "    <tr>\n",
       "      <th>0</th>\n",
       "      <td>0.0</td>\n",
       "      <td>2.958421</td>\n",
       "      <td>-0.700797</td>\n",
       "      <td>-0.028921</td>\n",
       "      <td>-2.156146</td>\n",
       "      <td>0.0</td>\n",
       "      <td>2.155766</td>\n",
       "      <td>-2.260221</td>\n",
       "      <td>-1.913949</td>\n",
       "      <td>-2.170483</td>\n",
       "    </tr>\n",
       "  </tbody>\n",
       "</table>\n",
       "</div>"
      ],
      "text/plain": [
       "     0         1         2         3         4    5         6         7  \\\n",
       "0  0.0  2.958421 -0.700797 -0.028921 -2.156146  0.0  2.155766 -2.260221   \n",
       "\n",
       "          8         9  \n",
       "0 -1.913949 -2.170483  "
      ]
     },
     "execution_count": 4,
     "metadata": {},
     "output_type": "execute_result"
    }
   ],
   "source": [
    "# read offset\n",
    "offset_data = pd.read_table(offset_file, header = 0, sep = '\\t', index_col = 0)\n",
    "    \n",
    "offset_data"
   ]
  },
  {
   "cell_type": "code",
   "execution_count": 5,
   "metadata": {},
   "outputs": [
    {
     "data": {
      "text/html": [
       "<div>\n",
       "<style scoped>\n",
       "    .dataframe tbody tr th:only-of-type {\n",
       "        vertical-align: middle;\n",
       "    }\n",
       "\n",
       "    .dataframe tbody tr th {\n",
       "        vertical-align: top;\n",
       "    }\n",
       "\n",
       "    .dataframe thead th {\n",
       "        text-align: right;\n",
       "    }\n",
       "</style>\n",
       "<table border=\"1\" class=\"dataframe\">\n",
       "  <thead>\n",
       "    <tr style=\"text-align: right;\">\n",
       "      <th></th>\n",
       "      <th>0</th>\n",
       "      <th>1</th>\n",
       "      <th>2</th>\n",
       "      <th>3</th>\n",
       "      <th>4</th>\n",
       "      <th>5</th>\n",
       "      <th>6</th>\n",
       "      <th>7</th>\n",
       "      <th>8</th>\n",
       "      <th>9</th>\n",
       "    </tr>\n",
       "  </thead>\n",
       "  <tbody>\n",
       "    <tr>\n",
       "      <th>GSM1267087_HZI1950_Pae_G1a.CEL</th>\n",
       "      <td>0.0</td>\n",
       "      <td>2.8105</td>\n",
       "      <td>2.933027</td>\n",
       "      <td>1.275784</td>\n",
       "      <td>4.812092</td>\n",
       "      <td>0.0</td>\n",
       "      <td>2.047977</td>\n",
       "      <td>5.385044</td>\n",
       "      <td>4.673862</td>\n",
       "      <td>7.561147</td>\n",
       "    </tr>\n",
       "  </tbody>\n",
       "</table>\n",
       "</div>"
      ],
      "text/plain": [
       "                                  0       1         2         3         4  \\\n",
       "GSM1267087_HZI1950_Pae_G1a.CEL  0.0  2.8105  2.933027  1.275784  4.812092   \n",
       "\n",
       "                                  5         6         7         8         9  \n",
       "GSM1267087_HZI1950_Pae_G1a.CEL  0.0  2.047977  5.385044  4.673862  7.561147  "
      ]
     },
     "execution_count": 5,
     "metadata": {},
     "output_type": "execute_result"
    }
   ],
   "source": [
    "# Apply offset\n",
    "estimated_data = test_data.values + percentage*offset_data.values\n",
    "estimated_data = pd.DataFrame(estimated_data, index = test_data.index)\n",
    "\n",
    "estimated_data"
   ]
  },
  {
   "cell_type": "code",
   "execution_count": 6,
   "metadata": {},
   "outputs": [],
   "source": [
    "# Output estimated gene experession values\n",
    "estimated_data.to_csv(out_file, sep='\\t')"
   ]
  }
 ],
 "metadata": {
  "kernelspec": {
   "display_name": "Python [conda env:Pa]",
   "language": "python",
   "name": "conda-env-Pa-py"
  },
  "language_info": {
   "codemirror_mode": {
    "name": "ipython",
    "version": 3
   },
   "file_extension": ".py",
   "mimetype": "text/x-python",
   "name": "python",
   "nbconvert_exporter": "python",
   "pygments_lexer": "ipython3",
   "version": "3.5.5"
  }
 },
 "nbformat": 4,
 "nbformat_minor": 2
}
