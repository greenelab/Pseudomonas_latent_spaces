{
 "cells": [
  {
   "cell_type": "code",
   "execution_count": 1,
   "metadata": {},
   "outputs": [],
   "source": [
    "#-------------------------------------------------------------------------------------------------------------------------------\n",
    "# By Alexandra Lee (July 2018) \n",
    "#\n",
    "# Apply offset vector\n",
    "#\n",
    "# In original space: Add offset vector to each sample in the test set condition A to transform the gene expression \n",
    "# profile of the test samples to look like the samples are under condition B\n",
    "#\n",
    "# In latent space:  Add offset vector to each sample in the encoded test set condition A to transform the gene \n",
    "# expression profile of the test samples to look like the samples are under condition B\n",
    "#-------------------------------------------------------------------------------------------------------------------------------\n",
    "import os\n",
    "import pandas as pd\n",
    "import numpy as np\n",
    "\n",
    "randomState = 123\n",
    "from numpy.random import seed\n",
    "seed(randomState)"
   ]
  },
  {
   "cell_type": "code",
   "execution_count": 2,
   "metadata": {},
   "outputs": [],
   "source": [
    "# load arguments\n",
    "test_file = os.path.join(os.path.dirname(os.getcwd()), \"encoded\", \"tybalt_2layer_10_test_anr_t5_encoded.txt\")\n",
    "offset_file = os.path.join(os.path.dirname(os.getcwd()), \"data\", \"train_offset_latent_2layer_anr.txt\")\n",
    "\n",
    "# Are you applying the offset in the latent space?\n",
    "latent = True\n",
    "\n",
    "# Percentage of the offset to apply to the dataset\n",
    "percentage = 0.95\n",
    "\n",
    "# output files\n",
    "out_file = os.path.join(os.path.dirname(os.getcwd()), \"encoded\", \"estimated_test_t90_encoded.txt\")"
   ]
  },
  {
   "cell_type": "code",
   "execution_count": 3,
   "metadata": {},
   "outputs": [
    {
     "data": {
      "text/html": [
       "<div>\n",
       "<style scoped>\n",
       "    .dataframe tbody tr th:only-of-type {\n",
       "        vertical-align: middle;\n",
       "    }\n",
       "\n",
       "    .dataframe tbody tr th {\n",
       "        vertical-align: top;\n",
       "    }\n",
       "\n",
       "    .dataframe thead th {\n",
       "        text-align: right;\n",
       "    }\n",
       "</style>\n",
       "<table border=\"1\" class=\"dataframe\">\n",
       "  <thead>\n",
       "    <tr style=\"text-align: right;\">\n",
       "      <th></th>\n",
       "      <th>0</th>\n",
       "      <th>1</th>\n",
       "      <th>2</th>\n",
       "      <th>3</th>\n",
       "      <th>4</th>\n",
       "      <th>5</th>\n",
       "      <th>6</th>\n",
       "      <th>7</th>\n",
       "      <th>8</th>\n",
       "      <th>9</th>\n",
       "    </tr>\n",
       "  </thead>\n",
       "  <tbody>\n",
       "    <tr>\n",
       "      <th>GSM1267087_HZI1950_Pae_G1a.CEL</th>\n",
       "      <td>5.404104</td>\n",
       "      <td>3.106719</td>\n",
       "      <td>2.780884</td>\n",
       "      <td>6.321855</td>\n",
       "      <td>1.675307</td>\n",
       "      <td>0.0</td>\n",
       "      <td>0.0</td>\n",
       "      <td>0.0</td>\n",
       "      <td>4.534088</td>\n",
       "      <td>0.0</td>\n",
       "    </tr>\n",
       "  </tbody>\n",
       "</table>\n",
       "</div>"
      ],
      "text/plain": [
       "                                       0         1         2         3  \\\n",
       "GSM1267087_HZI1950_Pae_G1a.CEL  5.404104  3.106719  2.780884  6.321855   \n",
       "\n",
       "                                       4    5    6    7         8    9  \n",
       "GSM1267087_HZI1950_Pae_G1a.CEL  1.675307  0.0  0.0  0.0  4.534088  0.0  "
      ]
     },
     "execution_count": 3,
     "metadata": {},
     "output_type": "execute_result"
    }
   ],
   "source": [
    "# read in data\n",
    "test_data = pd.read_table(test_file, header = 0, sep = '\\t', index_col = 0)\n",
    "\n",
    "# save header to attach back later\n",
    "header = test_data.index\n",
    "\n",
    "test_data"
   ]
  },
  {
   "cell_type": "code",
   "execution_count": 4,
   "metadata": {},
   "outputs": [
    {
     "data": {
      "text/html": [
       "<div>\n",
       "<style scoped>\n",
       "    .dataframe tbody tr th:only-of-type {\n",
       "        vertical-align: middle;\n",
       "    }\n",
       "\n",
       "    .dataframe tbody tr th {\n",
       "        vertical-align: top;\n",
       "    }\n",
       "\n",
       "    .dataframe thead th {\n",
       "        text-align: right;\n",
       "    }\n",
       "</style>\n",
       "<table border=\"1\" class=\"dataframe\">\n",
       "  <thead>\n",
       "    <tr style=\"text-align: right;\">\n",
       "      <th></th>\n",
       "      <th>0</th>\n",
       "      <th>1</th>\n",
       "      <th>2</th>\n",
       "      <th>3</th>\n",
       "      <th>4</th>\n",
       "      <th>5</th>\n",
       "      <th>6</th>\n",
       "      <th>7</th>\n",
       "      <th>8</th>\n",
       "      <th>9</th>\n",
       "    </tr>\n",
       "  </thead>\n",
       "  <tbody>\n",
       "    <tr>\n",
       "      <th>0</th>\n",
       "      <td>-0.613376</td>\n",
       "      <td>-2.521705</td>\n",
       "      <td>-1.096144</td>\n",
       "      <td>-0.971769</td>\n",
       "      <td>-0.408401</td>\n",
       "      <td>1.446642</td>\n",
       "      <td>-0.346095</td>\n",
       "      <td>0.0</td>\n",
       "      <td>-0.634456</td>\n",
       "      <td>2.499972</td>\n",
       "    </tr>\n",
       "  </tbody>\n",
       "</table>\n",
       "</div>"
      ],
      "text/plain": [
       "          0         1         2         3         4         5         6    7  \\\n",
       "0 -0.613376 -2.521705 -1.096144 -0.971769 -0.408401  1.446642 -0.346095  0.0   \n",
       "\n",
       "          8         9  \n",
       "0 -0.634456  2.499972  "
      ]
     },
     "execution_count": 4,
     "metadata": {},
     "output_type": "execute_result"
    }
   ],
   "source": [
    "# read offset\n",
    "if latent:\n",
    "    offset_data = pd.read_table(offset_file, header = 0, sep = '\\t', index_col = 0)\n",
    "    offset_data.index = [str(i) for i in offset_data.index]  # match index between test_data and offset_data\n",
    "else:\n",
    "    offset_data = pd.read_table(offset_file, header = 0, sep = '\\t', index_col = 0)\n",
    "    \n",
    "#offset_data.index\n",
    "offset_data"
   ]
  },
  {
   "cell_type": "code",
   "execution_count": 5,
   "metadata": {},
   "outputs": [
    {
     "data": {
      "text/html": [
       "<div>\n",
       "<style scoped>\n",
       "    .dataframe tbody tr th:only-of-type {\n",
       "        vertical-align: middle;\n",
       "    }\n",
       "\n",
       "    .dataframe tbody tr th {\n",
       "        vertical-align: top;\n",
       "    }\n",
       "\n",
       "    .dataframe thead th {\n",
       "        text-align: right;\n",
       "    }\n",
       "</style>\n",
       "<table border=\"1\" class=\"dataframe\">\n",
       "  <thead>\n",
       "    <tr style=\"text-align: right;\">\n",
       "      <th></th>\n",
       "      <th>0</th>\n",
       "      <th>1</th>\n",
       "      <th>2</th>\n",
       "      <th>3</th>\n",
       "      <th>4</th>\n",
       "      <th>5</th>\n",
       "      <th>6</th>\n",
       "      <th>7</th>\n",
       "      <th>8</th>\n",
       "      <th>9</th>\n",
       "    </tr>\n",
       "  </thead>\n",
       "  <tbody>\n",
       "    <tr>\n",
       "      <th>GSM1267087_HZI1950_Pae_G1a.CEL</th>\n",
       "      <td>4.821397</td>\n",
       "      <td>0.711099</td>\n",
       "      <td>1.739548</td>\n",
       "      <td>5.398674</td>\n",
       "      <td>1.287326</td>\n",
       "      <td>1.37431</td>\n",
       "      <td>-0.32879</td>\n",
       "      <td>0.0</td>\n",
       "      <td>3.931355</td>\n",
       "      <td>2.374973</td>\n",
       "    </tr>\n",
       "  </tbody>\n",
       "</table>\n",
       "</div>"
      ],
      "text/plain": [
       "                                       0         1         2         3  \\\n",
       "GSM1267087_HZI1950_Pae_G1a.CEL  4.821397  0.711099  1.739548  5.398674   \n",
       "\n",
       "                                       4        5        6    7         8  \\\n",
       "GSM1267087_HZI1950_Pae_G1a.CEL  1.287326  1.37431 -0.32879  0.0  3.931355   \n",
       "\n",
       "                                       9  \n",
       "GSM1267087_HZI1950_Pae_G1a.CEL  2.374973  "
      ]
     },
     "execution_count": 5,
     "metadata": {},
     "output_type": "execute_result"
    }
   ],
   "source": [
    "# Apply offset\n",
    "estimated_data = test_data.values + percentage*offset_data.values\n",
    "estimated_data = pd.DataFrame(estimated_data, index = test_data.index)\n",
    "\n",
    "estimated_data"
   ]
  },
  {
   "cell_type": "code",
   "execution_count": 6,
   "metadata": {},
   "outputs": [],
   "source": [
    "# Output estimated gene experession values\n",
    "estimated_data.to_csv(out_file, sep='\\t')"
   ]
  }
 ],
 "metadata": {
  "kernelspec": {
   "display_name": "Python [conda env:Pa]",
   "language": "python",
   "name": "conda-env-Pa-py"
  },
  "language_info": {
   "codemirror_mode": {
    "name": "ipython",
    "version": 3
   },
   "file_extension": ".py",
   "mimetype": "text/x-python",
   "name": "python",
   "nbconvert_exporter": "python",
   "pygments_lexer": "ipython3",
   "version": "3.5.5"
  }
 },
 "nbformat": 4,
 "nbformat_minor": 2
}
