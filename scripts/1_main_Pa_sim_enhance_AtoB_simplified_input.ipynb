{
 "cells": [
  {
   "cell_type": "markdown",
   "metadata": {
    "ExecuteTime": {
     "end_time": "2019-02-06T16:19:43.939569Z",
     "start_time": "2019-02-06T16:19:43.935158Z"
    }
   },
   "source": [
    "# Simulation experiment\n",
    "\n",
    "**Hypothesis**: If we generate a gene expression dataset with a strong signal, a nonlinear compression method (VAE)\n",
    "            will be able to learn this signal and predict new gene expression patterns better compared to \n",
    "            using a linear comparession method (PCA) and using no compression method (all the genes)\n",
    " \n",
    "**Study design**:\n",
    "\n",
    "*(Input)* Add signal to Pa gene expression dataset:\n",
    "\n",
    "Network: gene set A --> gene set B\n",
    "\n",
    "Add signal to relate A and B using the following algorithm:\n",
    "\n",
    "Hyperparmeters should include:\n",
    " 1. Size of gene set A\n",
    " 2. Size of gene set B\n",
    " 3. Effect size\n",
    " 4. Threshold\n",
    " 5. Log file with hyperparameter selections\n",
    "         \n",
    "*(Approach)* Train nonlinear (VAE) and linear (PCA) compression algorithms using this simulated data\n",
    "\n",
    "*(Evaluation)*  For each sample in the Pa dataset compare corr(predicted expression, actual expression)\n",
    "\n",
    "*(Output)* Figure of the correlation scores per sample "
   ]
  },
  {
   "cell_type": "code",
   "execution_count": 1,
   "metadata": {
    "ExecuteTime": {
     "end_time": "2019-03-14T15:11:30.193762Z",
     "start_time": "2019-03-14T15:11:28.952604Z"
    }
   },
   "outputs": [
    {
     "name": "stderr",
     "output_type": "stream",
     "text": [
      "Using TensorFlow backend.\n"
     ]
    }
   ],
   "source": [
    "%load_ext autoreload\n",
    "%autoreload 2\n",
    "\n",
    "import os\n",
    "import pandas as pd\n",
    "import numpy as np\n",
    "import random\n",
    "import seaborn as sns\n",
    "\n",
    "from functions import generate_input, vae, def_offset, interpolate, pca, plot\n",
    "\n",
    "from numpy.random import seed\n",
    "randomState = 123\n",
    "seed(randomState)"
   ]
  },
  {
   "cell_type": "code",
   "execution_count": 2,
   "metadata": {
    "ExecuteTime": {
     "end_time": "2019-03-14T15:11:30.215623Z",
     "start_time": "2019-03-14T15:11:30.195451Z"
    }
   },
   "outputs": [],
   "source": [
    "# Hyperparameters\n",
    "\n",
    "# Size of the gene set A\n",
    "geneSetA_size = 100\n",
    "\n",
    "# Size of the gene set that will be regulated by gene A\n",
    "geneSetB_size = 1000 \n",
    "\n",
    "# Percentage to upregulate each gene in set B\n",
    "effect_size = 0.5\n",
    "\n",
    "# Threshold for activation of gene A \n",
    "thresholdA = 0.5\n",
    "\n",
    "# Name of analysis\n",
    "analysis_name = 'sim_AB_simplified_down'"
   ]
  },
  {
   "cell_type": "code",
   "execution_count": 3,
   "metadata": {
    "ExecuteTime": {
     "end_time": "2019-03-14T15:11:30.245562Z",
     "start_time": "2019-03-14T15:11:30.217274Z"
    }
   },
   "outputs": [
    {
     "name": "stdout",
     "output_type": "stream",
     "text": [
      "creating new directory: /home/alexandra/Documents/Repos/Pseudomonas_latent_spaces/data/sim_AB_simplified_down\n",
      "creating new directory: /home/alexandra/Documents/Repos/Pseudomonas_latent_spaces/encoded/sim_AB_simplified_down\n",
      "creating new directory: /home/alexandra/Documents/Repos/Pseudomonas_latent_spaces/models/sim_AB_simplified_down\n",
      "creating new directory: /home/alexandra/Documents/Repos/Pseudomonas_latent_spaces/output/sim_AB_simplified_down\n",
      "creating new directory: /home/alexandra/Documents/Repos/Pseudomonas_latent_spaces/stats/sim_AB_simplified_down\n",
      "creating new directory: /home/alexandra/Documents/Repos/Pseudomonas_latent_spaces/viz/sim_AB_simplified_down\n"
     ]
    }
   ],
   "source": [
    "# Create list of base directories\n",
    "base_dirs = [os.path.join(os.path.dirname(os.getcwd()), 'data'),\n",
    "             os.path.join(os.path.dirname(os.getcwd()), 'encoded'),\n",
    "             os.path.join(os.path.dirname(os.getcwd()), 'models'),\n",
    "             os.path.join(os.path.dirname(os.getcwd()), 'output'),\n",
    "             os.path.join(os.path.dirname(os.getcwd()), 'stats'),\n",
    "             os.path.join(os.path.dirname(os.getcwd()), 'viz')    \n",
    "]\n",
    "\n",
    "# Check if directory exist otherwise create\n",
    "for each_dir in base_dirs:\n",
    "    analysis_dir = os.path.join(each_dir, analysis_name)\n",
    "    \n",
    "    if os.path.exists(analysis_dir):\n",
    "        print('directory already exists: {}'.format(analysis_dir))\n",
    "    else:\n",
    "        print('creating new directory: {}'.format(analysis_dir))\n",
    "    os.makedirs(analysis_dir, exist_ok=True)"
   ]
  },
  {
   "cell_type": "code",
   "execution_count": 4,
   "metadata": {
    "ExecuteTime": {
     "end_time": "2019-03-14T15:11:30.265479Z",
     "start_time": "2019-03-14T15:11:30.246896Z"
    }
   },
   "outputs": [],
   "source": [
    "# Load arguments\n",
    "data_file = os.path.join(os.path.dirname(os.getcwd()), \"data\", \"all-pseudomonas-gene-normalized.zip\")"
   ]
  },
  {
   "cell_type": "code",
   "execution_count": 5,
   "metadata": {
    "ExecuteTime": {
     "end_time": "2019-03-14T15:11:32.286777Z",
     "start_time": "2019-03-14T15:11:30.269302Z"
    }
   },
   "outputs": [
    {
     "data": {
      "text/html": [
       "<div>\n",
       "<style scoped>\n",
       "    .dataframe tbody tr th:only-of-type {\n",
       "        vertical-align: middle;\n",
       "    }\n",
       "\n",
       "    .dataframe tbody tr th {\n",
       "        vertical-align: top;\n",
       "    }\n",
       "\n",
       "    .dataframe thead th {\n",
       "        text-align: right;\n",
       "    }\n",
       "</style>\n",
       "<table border=\"1\" class=\"dataframe\">\n",
       "  <thead>\n",
       "    <tr style=\"text-align: right;\">\n",
       "      <th>Gene_symbol</th>\n",
       "      <th>PA0001</th>\n",
       "      <th>PA0002</th>\n",
       "      <th>PA0003</th>\n",
       "      <th>PA0004</th>\n",
       "      <th>PA0005</th>\n",
       "      <th>PA0006</th>\n",
       "      <th>PA0007</th>\n",
       "      <th>PA0008</th>\n",
       "      <th>PA0009</th>\n",
       "      <th>PA0010</th>\n",
       "      <th>...</th>\n",
       "      <th>PA5561</th>\n",
       "      <th>PA5562</th>\n",
       "      <th>PA5563</th>\n",
       "      <th>PA5564</th>\n",
       "      <th>PA5565</th>\n",
       "      <th>PA5566</th>\n",
       "      <th>PA5567</th>\n",
       "      <th>PA5568</th>\n",
       "      <th>PA5569</th>\n",
       "      <th>PA5570</th>\n",
       "    </tr>\n",
       "  </thead>\n",
       "  <tbody>\n",
       "    <tr>\n",
       "      <th>0.1_12hr_CSV86(Pae_G1a).CEL</th>\n",
       "      <td>0.472897</td>\n",
       "      <td>0.396658</td>\n",
       "      <td>0.253776</td>\n",
       "      <td>0.000000</td>\n",
       "      <td>0.175640</td>\n",
       "      <td>0.554385</td>\n",
       "      <td>0.411370</td>\n",
       "      <td>0.382222</td>\n",
       "      <td>0.310144</td>\n",
       "      <td>0.642522</td>\n",
       "      <td>...</td>\n",
       "      <td>0.358597</td>\n",
       "      <td>0.390048</td>\n",
       "      <td>0.457406</td>\n",
       "      <td>0.684082</td>\n",
       "      <td>0.338351</td>\n",
       "      <td>0.608325</td>\n",
       "      <td>0.643496</td>\n",
       "      <td>0.276075</td>\n",
       "      <td>0.112773</td>\n",
       "      <td>0.145170</td>\n",
       "    </tr>\n",
       "    <tr>\n",
       "      <th>0.1_2hr_CSV86(Pae_G1a).CEL</th>\n",
       "      <td>0.262346</td>\n",
       "      <td>0.086216</td>\n",
       "      <td>0.359853</td>\n",
       "      <td>0.439214</td>\n",
       "      <td>0.269749</td>\n",
       "      <td>0.768433</td>\n",
       "      <td>0.212505</td>\n",
       "      <td>0.062043</td>\n",
       "      <td>0.567695</td>\n",
       "      <td>0.467073</td>\n",
       "      <td>...</td>\n",
       "      <td>0.358504</td>\n",
       "      <td>0.414206</td>\n",
       "      <td>0.389879</td>\n",
       "      <td>0.477693</td>\n",
       "      <td>0.000000</td>\n",
       "      <td>0.479385</td>\n",
       "      <td>0.154471</td>\n",
       "      <td>0.140891</td>\n",
       "      <td>0.167505</td>\n",
       "      <td>0.157060</td>\n",
       "    </tr>\n",
       "    <tr>\n",
       "      <th>0.1_6hr_CSV86(Pae_G1a).CEL</th>\n",
       "      <td>0.473658</td>\n",
       "      <td>0.244862</td>\n",
       "      <td>0.330750</td>\n",
       "      <td>0.097697</td>\n",
       "      <td>0.387226</td>\n",
       "      <td>0.328319</td>\n",
       "      <td>0.228820</td>\n",
       "      <td>0.330039</td>\n",
       "      <td>0.318081</td>\n",
       "      <td>0.512864</td>\n",
       "      <td>...</td>\n",
       "      <td>0.180744</td>\n",
       "      <td>0.380741</td>\n",
       "      <td>0.173501</td>\n",
       "      <td>0.251571</td>\n",
       "      <td>0.182793</td>\n",
       "      <td>0.528301</td>\n",
       "      <td>0.504985</td>\n",
       "      <td>0.499782</td>\n",
       "      <td>0.061106</td>\n",
       "      <td>0.365612</td>\n",
       "    </tr>\n",
       "    <tr>\n",
       "      <th>0.1_7hr_CSV86(Pae_G1a).CEL</th>\n",
       "      <td>0.439273</td>\n",
       "      <td>0.343402</td>\n",
       "      <td>0.192698</td>\n",
       "      <td>0.274677</td>\n",
       "      <td>0.628979</td>\n",
       "      <td>0.553796</td>\n",
       "      <td>0.431391</td>\n",
       "      <td>0.363480</td>\n",
       "      <td>0.385721</td>\n",
       "      <td>0.094584</td>\n",
       "      <td>...</td>\n",
       "      <td>0.346837</td>\n",
       "      <td>0.153927</td>\n",
       "      <td>0.067349</td>\n",
       "      <td>0.319723</td>\n",
       "      <td>0.282442</td>\n",
       "      <td>0.490655</td>\n",
       "      <td>0.531415</td>\n",
       "      <td>0.153880</td>\n",
       "      <td>0.132333</td>\n",
       "      <td>0.260087</td>\n",
       "    </tr>\n",
       "    <tr>\n",
       "      <th>0.1_9hr_CSV86(Pae_G1a).CEL</th>\n",
       "      <td>0.220827</td>\n",
       "      <td>0.145525</td>\n",
       "      <td>0.437803</td>\n",
       "      <td>0.293201</td>\n",
       "      <td>0.635120</td>\n",
       "      <td>0.462893</td>\n",
       "      <td>0.488733</td>\n",
       "      <td>0.309584</td>\n",
       "      <td>0.318646</td>\n",
       "      <td>0.591914</td>\n",
       "      <td>...</td>\n",
       "      <td>0.237726</td>\n",
       "      <td>0.301945</td>\n",
       "      <td>0.070222</td>\n",
       "      <td>0.513605</td>\n",
       "      <td>0.114277</td>\n",
       "      <td>0.360259</td>\n",
       "      <td>0.386868</td>\n",
       "      <td>0.223995</td>\n",
       "      <td>0.105343</td>\n",
       "      <td>0.102088</td>\n",
       "    </tr>\n",
       "  </tbody>\n",
       "</table>\n",
       "<p>5 rows × 5549 columns</p>\n",
       "</div>"
      ],
      "text/plain": [
       "Gene_symbol                    PA0001    PA0002    PA0003    PA0004    PA0005  \\\n",
       "0.1_12hr_CSV86(Pae_G1a).CEL  0.472897  0.396658  0.253776  0.000000  0.175640   \n",
       "0.1_2hr_CSV86(Pae_G1a).CEL   0.262346  0.086216  0.359853  0.439214  0.269749   \n",
       "0.1_6hr_CSV86(Pae_G1a).CEL   0.473658  0.244862  0.330750  0.097697  0.387226   \n",
       "0.1_7hr_CSV86(Pae_G1a).CEL   0.439273  0.343402  0.192698  0.274677  0.628979   \n",
       "0.1_9hr_CSV86(Pae_G1a).CEL   0.220827  0.145525  0.437803  0.293201  0.635120   \n",
       "\n",
       "Gene_symbol                    PA0006    PA0007    PA0008    PA0009    PA0010  \\\n",
       "0.1_12hr_CSV86(Pae_G1a).CEL  0.554385  0.411370  0.382222  0.310144  0.642522   \n",
       "0.1_2hr_CSV86(Pae_G1a).CEL   0.768433  0.212505  0.062043  0.567695  0.467073   \n",
       "0.1_6hr_CSV86(Pae_G1a).CEL   0.328319  0.228820  0.330039  0.318081  0.512864   \n",
       "0.1_7hr_CSV86(Pae_G1a).CEL   0.553796  0.431391  0.363480  0.385721  0.094584   \n",
       "0.1_9hr_CSV86(Pae_G1a).CEL   0.462893  0.488733  0.309584  0.318646  0.591914   \n",
       "\n",
       "Gene_symbol                    ...       PA5561    PA5562    PA5563    PA5564  \\\n",
       "0.1_12hr_CSV86(Pae_G1a).CEL    ...     0.358597  0.390048  0.457406  0.684082   \n",
       "0.1_2hr_CSV86(Pae_G1a).CEL     ...     0.358504  0.414206  0.389879  0.477693   \n",
       "0.1_6hr_CSV86(Pae_G1a).CEL     ...     0.180744  0.380741  0.173501  0.251571   \n",
       "0.1_7hr_CSV86(Pae_G1a).CEL     ...     0.346837  0.153927  0.067349  0.319723   \n",
       "0.1_9hr_CSV86(Pae_G1a).CEL     ...     0.237726  0.301945  0.070222  0.513605   \n",
       "\n",
       "Gene_symbol                    PA5565    PA5566    PA5567    PA5568    PA5569  \\\n",
       "0.1_12hr_CSV86(Pae_G1a).CEL  0.338351  0.608325  0.643496  0.276075  0.112773   \n",
       "0.1_2hr_CSV86(Pae_G1a).CEL   0.000000  0.479385  0.154471  0.140891  0.167505   \n",
       "0.1_6hr_CSV86(Pae_G1a).CEL   0.182793  0.528301  0.504985  0.499782  0.061106   \n",
       "0.1_7hr_CSV86(Pae_G1a).CEL   0.282442  0.490655  0.531415  0.153880  0.132333   \n",
       "0.1_9hr_CSV86(Pae_G1a).CEL   0.114277  0.360259  0.386868  0.223995  0.105343   \n",
       "\n",
       "Gene_symbol                    PA5570  \n",
       "0.1_12hr_CSV86(Pae_G1a).CEL  0.145170  \n",
       "0.1_2hr_CSV86(Pae_G1a).CEL   0.157060  \n",
       "0.1_6hr_CSV86(Pae_G1a).CEL   0.365612  \n",
       "0.1_7hr_CSV86(Pae_G1a).CEL   0.260087  \n",
       "0.1_9hr_CSV86(Pae_G1a).CEL   0.102088  \n",
       "\n",
       "[5 rows x 5549 columns]"
      ]
     },
     "execution_count": 5,
     "metadata": {},
     "output_type": "execute_result"
    }
   ],
   "source": [
    "# Read in data\n",
    "data = pd.read_table(data_file, header=0, sep='\\t', index_col=0, compression='zip').T\n",
    "data.head(5)"
   ]
  },
  {
   "cell_type": "code",
   "execution_count": 6,
   "metadata": {
    "ExecuteTime": {
     "end_time": "2019-03-14T15:11:32.306290Z",
     "start_time": "2019-03-14T15:11:32.288039Z"
    }
   },
   "outputs": [],
   "source": [
    "# Randomly select genes for set A\n",
    "gene_ids = list(data.columns)\n",
    "geneSetA = random.sample(gene_ids, geneSetA_size)"
   ]
  },
  {
   "cell_type": "code",
   "execution_count": 7,
   "metadata": {
    "ExecuteTime": {
     "end_time": "2019-03-14T15:11:32.334038Z",
     "start_time": "2019-03-14T15:11:32.308814Z"
    }
   },
   "outputs": [
    {
     "name": "stdout",
     "output_type": "stream",
     "text": [
      "Confirmed that all gene ids are available\n"
     ]
    }
   ],
   "source": [
    "# checkpoint:  Check the number of genes\n",
    "assert(len(gene_ids)==5549)\n",
    "print(\"Confirmed that all gene ids are available\")"
   ]
  },
  {
   "cell_type": "code",
   "execution_count": 8,
   "metadata": {
    "ExecuteTime": {
     "end_time": "2019-03-14T15:11:32.367763Z",
     "start_time": "2019-03-14T15:11:32.338070Z"
    }
   },
   "outputs": [
    {
     "name": "stdout",
     "output_type": "stream",
     "text": [
      "After removing 100 gene ids for set A, there are 5449 gene ids remaining.\n"
     ]
    }
   ],
   "source": [
    "# Remove gene ids that were selected for gene set A\n",
    "gene_ids = [elem for elem in gene_ids if elem not in geneSetA]\n",
    "print(\"After removing {} gene ids for set A, there are {} gene ids remaining.\"\n",
    "      .format(geneSetA_size, len(gene_ids)))"
   ]
  },
  {
   "cell_type": "code",
   "execution_count": 9,
   "metadata": {
    "ExecuteTime": {
     "end_time": "2019-03-14T15:11:32.468520Z",
     "start_time": "2019-03-14T15:11:32.370289Z"
    }
   },
   "outputs": [
    {
     "name": "stdout",
     "output_type": "stream",
     "text": [
      "After removing 1000 gene ids for set B, there are 4449 gene ids remaining.\n"
     ]
    }
   ],
   "source": [
    "# Randomly select genes for gene set B\n",
    "geneSetB = random.sample(gene_ids, geneSetB_size)\n",
    "\n",
    "# Remove gene ids that were selected for gene set B\n",
    "gene_ids = [elem for elem in gene_ids if elem not in geneSetB]\n",
    "print(\"After removing {} gene ids for set B, there are {} gene ids remaining.\"\n",
    "      .format(geneSetB_size, len(gene_ids)))"
   ]
  },
  {
   "cell_type": "code",
   "execution_count": 10,
   "metadata": {
    "ExecuteTime": {
     "end_time": "2019-03-14T15:11:32.488528Z",
     "start_time": "2019-03-14T15:11:32.469734Z"
    }
   },
   "outputs": [],
   "source": [
    "# checkpoint:  Check that genes in set A are distinct from genes in set B\n",
    "assert(len(set(geneSetA).intersection(set(geneSetB))) == 0)"
   ]
  },
  {
   "cell_type": "markdown",
   "metadata": {},
   "source": [
    "## Output gene groupings \n",
    "Output gene assignments (group A, B) to be used in [explore_simulated_data.py](explore_simulated_data.ipynb)"
   ]
  },
  {
   "cell_type": "code",
   "execution_count": 11,
   "metadata": {
    "ExecuteTime": {
     "end_time": "2019-03-14T15:11:32.514927Z",
     "start_time": "2019-03-14T15:11:32.491036Z"
    }
   },
   "outputs": [],
   "source": [
    "# Output gene groupings\n",
    "geneSetA_df = pd.DataFrame(geneSetA, columns=['gene id'])\n",
    "geneSetB_df = pd.DataFrame(geneSetB, columns=['gene id'])\n",
    "\n",
    "geneSetA_file = os.path.join(os.path.dirname(os.getcwd()), \"data\", analysis_name, \"geneSetA.txt\")\n",
    "geneSetB_file = os.path.join(os.path.dirname(os.getcwd()), \"data\", analysis_name, \"geneSetB.txt\")\n",
    "\n",
    "\n",
    "geneSetA_df.to_csv(geneSetA_file, sep='\\t')\n",
    "geneSetB_df.to_csv(geneSetB_file, sep='\\t')"
   ]
  },
  {
   "cell_type": "markdown",
   "metadata": {},
   "source": [
    "## Add artificial signal to the data\n",
    "Algorithm:\n",
    "```python\n",
    "for sample in compendium:\n",
    "    expression(gene_in_set_A) = random(0,1)\n",
    "    if expression(gene_in_set_A) > threshold_A:\n",
    "        expression(gene_in_set_B) = expression(gene_in_set_B)*(1+percentage) \n",
    "```\n",
    "Note: This algorithm is applied to each sample in the compendium \n",
    "      (essentially adding a signal to the existing gene expression data in the compendium)"
   ]
  },
  {
   "cell_type": "code",
   "execution_count": 12,
   "metadata": {
    "ExecuteTime": {
     "end_time": "2019-03-14T15:13:05.555925Z",
     "start_time": "2019-03-14T15:11:32.516400Z"
    }
   },
   "outputs": [],
   "source": [
    "# Number of samples \n",
    "num_samples = data.shape[1]\n",
    "\n",
    "# Select sample gene from set A to be representative since the expression is the same\n",
    "# for all genes in the set\n",
    "geneSetA_pick = geneSetA[0]\n",
    "\n",
    "# Loop through all samples\n",
    "for sample_id in data.index:\n",
    "    \n",
    "    # Randomly select a value [0,1] where each value is uniformly likely to be chosen\n",
    "    new_A_exp = random.uniform(0.0, 1.0)\n",
    "    \n",
    "    # Set gene expression value for genes in set A to be the same random value selected\n",
    "    data.loc[sample_id][geneSetA] = new_A_exp\n",
    "    \n",
    "    # Check if expression of genes in set A exceed the threshold\n",
    "    # Use representatve gene from set A \"geneSetA_pick\" selected above\n",
    "    if data.loc[sample_id,geneSetA_pick] > thresholdA:\n",
    "        \n",
    "        # Scale genes by some fixed percentage\n",
    "        for gene in geneSetB:\n",
    "            data.loc[sample_id,gene] = (1-effect_size)*data.loc[sample_id,gene]            \n",
    "            \n",
    "# if any exceed 1 then set to 1 since gene expression is normalized\n",
    "data[data>=1.0] = 1.0"
   ]
  },
  {
   "cell_type": "code",
   "execution_count": 13,
   "metadata": {
    "ExecuteTime": {
     "end_time": "2019-03-14T15:13:05.577859Z",
     "start_time": "2019-03-14T15:13:05.557281Z"
    }
   },
   "outputs": [
    {
     "data": {
      "text/html": [
       "<div>\n",
       "<style scoped>\n",
       "    .dataframe tbody tr th:only-of-type {\n",
       "        vertical-align: middle;\n",
       "    }\n",
       "\n",
       "    .dataframe tbody tr th {\n",
       "        vertical-align: top;\n",
       "    }\n",
       "\n",
       "    .dataframe thead th {\n",
       "        text-align: right;\n",
       "    }\n",
       "</style>\n",
       "<table border=\"1\" class=\"dataframe\">\n",
       "  <thead>\n",
       "    <tr style=\"text-align: right;\">\n",
       "      <th></th>\n",
       "      <th>PA3423</th>\n",
       "    </tr>\n",
       "  </thead>\n",
       "  <tbody>\n",
       "    <tr>\n",
       "      <th>0.1_12hr_CSV86(Pae_G1a).CEL</th>\n",
       "      <td>0.417736</td>\n",
       "    </tr>\n",
       "    <tr>\n",
       "      <th>0.1_2hr_CSV86(Pae_G1a).CEL</th>\n",
       "      <td>0.980972</td>\n",
       "    </tr>\n",
       "    <tr>\n",
       "      <th>0.1_6hr_CSV86(Pae_G1a).CEL</th>\n",
       "      <td>0.090807</td>\n",
       "    </tr>\n",
       "    <tr>\n",
       "      <th>0.1_7hr_CSV86(Pae_G1a).CEL</th>\n",
       "      <td>0.837731</td>\n",
       "    </tr>\n",
       "    <tr>\n",
       "      <th>0.1_9hr_CSV86(Pae_G1a).CEL</th>\n",
       "      <td>0.850805</td>\n",
       "    </tr>\n",
       "  </tbody>\n",
       "</table>\n",
       "</div>"
      ],
      "text/plain": [
       "                               PA3423\n",
       "0.1_12hr_CSV86(Pae_G1a).CEL  0.417736\n",
       "0.1_2hr_CSV86(Pae_G1a).CEL   0.980972\n",
       "0.1_6hr_CSV86(Pae_G1a).CEL   0.090807\n",
       "0.1_7hr_CSV86(Pae_G1a).CEL   0.837731\n",
       "0.1_9hr_CSV86(Pae_G1a).CEL   0.850805"
      ]
     },
     "execution_count": 13,
     "metadata": {},
     "output_type": "execute_result"
    }
   ],
   "source": [
    "# Dataframe with only gene A expression\n",
    "# Used in interpolation analysis\n",
    "geneA_only = pd.DataFrame(data[geneSetA_pick], index=data.index, columns=[geneSetA_pick])\n",
    "\n",
    "geneA_only.head()"
   ]
  },
  {
   "cell_type": "markdown",
   "metadata": {},
   "source": [
    "## Outputs\n",
    "Output\n",
    "1. Simulated dataset (\\data)\n",
    "2. Log file containing hyperparmeters used (\\metadata)\n",
    "3. Expression of representative gene from group A (\\data)"
   ]
  },
  {
   "cell_type": "code",
   "execution_count": 14,
   "metadata": {
    "ExecuteTime": {
     "end_time": "2019-03-14T15:13:14.465640Z",
     "start_time": "2019-03-14T15:13:05.579451Z"
    }
   },
   "outputs": [],
   "source": [
    "# Output the new gene expression values for each sample\n",
    "train_input_file = os.path.join(base_dirs[0], analysis_name, \"train_model_input.txt.xz\")\n",
    "\n",
    "# Only include genes in group A and B\n",
    "geneSetAB = geneSetA + geneSetB\n",
    "simplified_data = data[geneSetAB]\n",
    "simplified_data.to_csv(train_input_file, sep='\\t', compression='xz', float_format=\"%.5g\")\n",
    "\n",
    "# Output log file with parameters used to generate simulated data\n",
    "log_file = os.path.join(os.path.dirname(os.getcwd()), 'metadata', analysis_name + '_log.txt')\n",
    "\n",
    "args_dict = {\n",
    "    \"size of gene set A\": geneSetA_size,\n",
    "    \"size of gene set B\": geneSetB_size,\n",
    "    \"genes in set B\": geneSetB,\n",
    "    \"effect size of genes in set B\": effect_size,\n",
    "    \"threshold of A activation\": thresholdA,\n",
    "}\n",
    "\n",
    "with open(log_file, 'w') as f:\n",
    "    for key, value in args_dict.items():\n",
    "        f.write('%s: %s\\n' % (key, value))\n",
    "        \n",
    "# Output geneA only file using sample gene A selected\n",
    "geneA_file = os.path.join(base_dirs[0], analysis_name, geneSetA_pick + \".txt\")\n",
    "geneA_only.to_csv(geneA_file, sep='\\t', float_format=\"%.5g\")"
   ]
  },
  {
   "cell_type": "markdown",
   "metadata": {},
   "source": [
    "## Train \n",
    "Train compression methods (VAE, PCA) using simulated data"
   ]
  },
  {
   "cell_type": "code",
   "execution_count": 15,
   "metadata": {
    "ExecuteTime": {
     "end_time": "2019-03-14T15:15:15.993085Z",
     "start_time": "2019-03-14T15:13:14.466805Z"
    }
   },
   "outputs": [
    {
     "name": "stderr",
     "output_type": "stream",
     "text": [
      "/home/alexandra/Documents/Repos/Pseudomonas_latent_spaces/scripts/functions/vae.py:206: UserWarning: Output \"custom_variational_layer_1\" missing from loss dictionary. We assume this was done on purpose, and we will not be expecting any data to be passed to \"custom_variational_layer_1\" during training.\n",
      "  vae.compile(optimizer=adam, loss=None, loss_weights=[beta])\n"
     ]
    },
    {
     "name": "stdout",
     "output_type": "stream",
     "text": [
      "Train on 1072 samples, validate on 119 samples\n",
      "Epoch 1/200\n",
      "1072/1072 [==============================] - 1s 819us/step - loss: 693.5176 - val_loss: 675.9171\n",
      "Epoch 2/200\n",
      "1072/1072 [==============================] - 1s 579us/step - loss: 636.5114 - val_loss: 650.2772\n",
      "Epoch 3/200\n",
      "1072/1072 [==============================] - 1s 567us/step - loss: 626.4970 - val_loss: 631.6856\n",
      "Epoch 4/200\n",
      "1072/1072 [==============================] - 1s 566us/step - loss: 621.5039 - val_loss: 635.3786\n",
      "Epoch 5/200\n",
      "1072/1072 [==============================] - 1s 605us/step - loss: 617.8597 - val_loss: 633.4120\n",
      "Epoch 6/200\n",
      "1072/1072 [==============================] - 1s 568us/step - loss: 615.3376 - val_loss: 632.6150\n",
      "Epoch 7/200\n",
      "1072/1072 [==============================] - 1s 571us/step - loss: 613.4649 - val_loss: 629.0122\n",
      "Epoch 8/200\n",
      "1072/1072 [==============================] - 1s 571us/step - loss: 612.0437 - val_loss: 624.9902\n",
      "Epoch 9/200\n",
      "1072/1072 [==============================] - 1s 549us/step - loss: 610.2912 - val_loss: 623.3401\n",
      "Epoch 10/200\n",
      "1072/1072 [==============================] - 1s 571us/step - loss: 609.5000 - val_loss: 620.2948\n",
      "Epoch 11/200\n",
      "1072/1072 [==============================] - 1s 562us/step - loss: 608.5427 - val_loss: 618.9553\n",
      "Epoch 12/200\n",
      "1072/1072 [==============================] - 1s 603us/step - loss: 608.0475 - val_loss: 618.0761\n",
      "Epoch 13/200\n",
      "1072/1072 [==============================] - 1s 578us/step - loss: 606.6370 - val_loss: 619.1416\n",
      "Epoch 14/200\n",
      "1072/1072 [==============================] - 1s 558us/step - loss: 606.5205 - val_loss: 618.5048\n",
      "Epoch 15/200\n",
      "1072/1072 [==============================] - 1s 560us/step - loss: 605.4909 - val_loss: 615.6256\n",
      "Epoch 16/200\n",
      "1072/1072 [==============================] - 1s 577us/step - loss: 605.6550 - val_loss: 614.3544\n",
      "Epoch 17/200\n",
      "1072/1072 [==============================] - 1s 574us/step - loss: 604.7926 - val_loss: 614.1405\n",
      "Epoch 18/200\n",
      "1072/1072 [==============================] - 1s 573us/step - loss: 603.8465 - val_loss: 613.3523\n",
      "Epoch 19/200\n",
      "1072/1072 [==============================] - 1s 588us/step - loss: 603.1438 - val_loss: 611.4796\n",
      "Epoch 20/200\n",
      "1072/1072 [==============================] - 1s 533us/step - loss: 602.6935 - val_loss: 611.1239\n",
      "Epoch 21/200\n",
      "1072/1072 [==============================] - 1s 567us/step - loss: 602.1757 - val_loss: 611.5500\n",
      "Epoch 22/200\n",
      "1072/1072 [==============================] - 1s 711us/step - loss: 602.4645 - val_loss: 609.4346\n",
      "Epoch 23/200\n",
      "1072/1072 [==============================] - 1s 567us/step - loss: 601.5729 - val_loss: 608.9410\n",
      "Epoch 24/200\n",
      "1072/1072 [==============================] - 1s 577us/step - loss: 601.1101 - val_loss: 610.4848\n",
      "Epoch 25/200\n",
      "1072/1072 [==============================] - 1s 563us/step - loss: 600.7135 - val_loss: 608.8831\n",
      "Epoch 26/200\n",
      "1072/1072 [==============================] - 1s 585us/step - loss: 599.9371 - val_loss: 607.8055\n",
      "Epoch 27/200\n",
      "1072/1072 [==============================] - 1s 555us/step - loss: 599.8256 - val_loss: 608.2395\n",
      "Epoch 28/200\n",
      "1072/1072 [==============================] - 1s 548us/step - loss: 599.4250 - val_loss: 606.7933\n",
      "Epoch 29/200\n",
      "1072/1072 [==============================] - 1s 578us/step - loss: 599.3553 - val_loss: 607.5644\n",
      "Epoch 30/200\n",
      "1072/1072 [==============================] - 1s 595us/step - loss: 598.8556 - val_loss: 606.1816\n",
      "Epoch 31/200\n",
      "1072/1072 [==============================] - 1s 574us/step - loss: 598.7004 - val_loss: 607.1885\n",
      "Epoch 32/200\n",
      "1072/1072 [==============================] - 1s 550us/step - loss: 598.8944 - val_loss: 605.6310\n",
      "Epoch 33/200\n",
      "1072/1072 [==============================] - 1s 555us/step - loss: 598.5858 - val_loss: 606.3170\n",
      "Epoch 34/200\n",
      "1072/1072 [==============================] - 1s 554us/step - loss: 597.5693 - val_loss: 604.5845\n",
      "Epoch 35/200\n",
      "1072/1072 [==============================] - 1s 555us/step - loss: 597.7952 - val_loss: 607.8267\n",
      "Epoch 36/200\n",
      "1072/1072 [==============================] - 1s 571us/step - loss: 596.9623 - val_loss: 604.4345\n",
      "Epoch 37/200\n",
      "1072/1072 [==============================] - 1s 585us/step - loss: 596.7253 - val_loss: 606.1027\n",
      "Epoch 38/200\n",
      "1072/1072 [==============================] - 1s 567us/step - loss: 596.8723 - val_loss: 602.6424\n",
      "Epoch 39/200\n",
      "1072/1072 [==============================] - 1s 563us/step - loss: 596.2024 - val_loss: 604.8601\n",
      "Epoch 40/200\n",
      "1072/1072 [==============================] - 1s 604us/step - loss: 596.3552 - val_loss: 603.4314\n",
      "Epoch 41/200\n",
      "1072/1072 [==============================] - 1s 561us/step - loss: 596.0835 - val_loss: 603.2998\n",
      "Epoch 42/200\n",
      "1072/1072 [==============================] - 1s 574us/step - loss: 596.2101 - val_loss: 602.8783\n",
      "Epoch 43/200\n",
      "1072/1072 [==============================] - 1s 587us/step - loss: 596.2402 - val_loss: 602.6729\n",
      "Epoch 44/200\n",
      "1072/1072 [==============================] - 1s 571us/step - loss: 595.7225 - val_loss: 601.8892\n",
      "Epoch 45/200\n",
      "1072/1072 [==============================] - 1s 580us/step - loss: 595.3396 - val_loss: 600.8275\n",
      "Epoch 46/200\n",
      "1072/1072 [==============================] - 1s 575us/step - loss: 595.2427 - val_loss: 601.5828\n",
      "Epoch 47/200\n",
      "1072/1072 [==============================] - 1s 570us/step - loss: 595.0945 - val_loss: 602.8296\n",
      "Epoch 48/200\n",
      "1072/1072 [==============================] - 1s 579us/step - loss: 594.3155 - val_loss: 600.6533\n",
      "Epoch 49/200\n",
      "1072/1072 [==============================] - 1s 596us/step - loss: 594.9260 - val_loss: 603.9430\n",
      "Epoch 50/200\n",
      "1072/1072 [==============================] - 1s 590us/step - loss: 594.2554 - val_loss: 602.5410\n",
      "Epoch 51/200\n",
      "1072/1072 [==============================] - 1s 552us/step - loss: 594.1919 - val_loss: 601.4237\n",
      "Epoch 52/200\n",
      "1072/1072 [==============================] - 1s 581us/step - loss: 593.7789 - val_loss: 600.8533\n",
      "Epoch 53/200\n",
      "1072/1072 [==============================] - 1s 569us/step - loss: 593.5306 - val_loss: 599.7081\n",
      "Epoch 54/200\n",
      "1072/1072 [==============================] - 1s 580us/step - loss: 593.3023 - val_loss: 599.3037\n",
      "Epoch 55/200\n",
      "1072/1072 [==============================] - 1s 572us/step - loss: 593.5139 - val_loss: 600.9375\n",
      "Epoch 56/200\n",
      "1072/1072 [==============================] - 1s 563us/step - loss: 593.4014 - val_loss: 600.2106\n",
      "Epoch 57/200\n",
      "1072/1072 [==============================] - 1s 584us/step - loss: 593.2415 - val_loss: 600.6541\n",
      "Epoch 58/200\n",
      "1072/1072 [==============================] - 1s 557us/step - loss: 592.8377 - val_loss: 599.0142\n",
      "Epoch 59/200\n",
      "1072/1072 [==============================] - 1s 581us/step - loss: 592.2754 - val_loss: 598.7012\n",
      "Epoch 60/200\n",
      "1072/1072 [==============================] - 1s 578us/step - loss: 592.0535 - val_loss: 598.7604\n",
      "Epoch 61/200\n",
      "1072/1072 [==============================] - 1s 551us/step - loss: 592.1797 - val_loss: 599.0191\n",
      "Epoch 62/200\n",
      "1072/1072 [==============================] - 1s 571us/step - loss: 591.7403 - val_loss: 598.7627\n",
      "Epoch 63/200\n",
      "1072/1072 [==============================] - 1s 563us/step - loss: 591.7547 - val_loss: 597.4152\n",
      "Epoch 64/200\n",
      "1072/1072 [==============================] - 1s 549us/step - loss: 591.7314 - val_loss: 598.2118\n",
      "Epoch 65/200\n",
      "1072/1072 [==============================] - 1s 579us/step - loss: 591.5532 - val_loss: 598.0839\n",
      "Epoch 66/200\n",
      "1072/1072 [==============================] - 1s 530us/step - loss: 591.4930 - val_loss: 596.7023\n",
      "Epoch 67/200\n",
      "1072/1072 [==============================] - 1s 598us/step - loss: 591.3633 - val_loss: 597.6398\n",
      "Epoch 68/200\n",
      "1072/1072 [==============================] - 1s 574us/step - loss: 591.1845 - val_loss: 599.4792\n",
      "Epoch 69/200\n",
      "1072/1072 [==============================] - 1s 578us/step - loss: 591.2049 - val_loss: 596.7210\n",
      "Epoch 70/200\n",
      "1072/1072 [==============================] - 1s 574us/step - loss: 590.8486 - val_loss: 597.5047\n",
      "Epoch 71/200\n",
      "1072/1072 [==============================] - 1s 542us/step - loss: 590.5176 - val_loss: 597.6952\n",
      "Epoch 72/200\n",
      "1072/1072 [==============================] - 1s 570us/step - loss: 590.4445 - val_loss: 596.5695\n",
      "Epoch 73/200\n",
      "1072/1072 [==============================] - 1s 586us/step - loss: 590.3459 - val_loss: 596.5417\n",
      "Epoch 74/200\n",
      "1072/1072 [==============================] - 1s 586us/step - loss: 590.3085 - val_loss: 596.5197\n",
      "Epoch 75/200\n"
     ]
    },
    {
     "name": "stdout",
     "output_type": "stream",
     "text": [
      "1072/1072 [==============================] - 1s 608us/step - loss: 589.9341 - val_loss: 596.5465\n",
      "Epoch 76/200\n",
      "1072/1072 [==============================] - 1s 607us/step - loss: 589.9777 - val_loss: 595.6266\n",
      "Epoch 77/200\n",
      "1072/1072 [==============================] - 1s 586us/step - loss: 589.5832 - val_loss: 596.5592\n",
      "Epoch 78/200\n",
      "1072/1072 [==============================] - 1s 555us/step - loss: 589.4293 - val_loss: 595.8632\n",
      "Epoch 79/200\n",
      "1072/1072 [==============================] - 1s 592us/step - loss: 589.6782 - val_loss: 596.5460\n",
      "Epoch 80/200\n",
      "1072/1072 [==============================] - 1s 604us/step - loss: 590.0200 - val_loss: 595.4444\n",
      "Epoch 81/200\n",
      "1072/1072 [==============================] - 1s 591us/step - loss: 589.9944 - val_loss: 596.0602\n",
      "Epoch 82/200\n",
      "1072/1072 [==============================] - 1s 595us/step - loss: 589.2479 - val_loss: 595.9957\n",
      "Epoch 83/200\n",
      "1072/1072 [==============================] - 1s 619us/step - loss: 589.2965 - val_loss: 597.7408\n",
      "Epoch 84/200\n",
      "1072/1072 [==============================] - 1s 531us/step - loss: 589.2543 - val_loss: 596.1471\n",
      "Epoch 85/200\n",
      "1072/1072 [==============================] - 1s 510us/step - loss: 589.1014 - val_loss: 595.3351\n",
      "Epoch 86/200\n",
      "1072/1072 [==============================] - 1s 587us/step - loss: 588.4214 - val_loss: 595.3370\n",
      "Epoch 87/200\n",
      "1072/1072 [==============================] - 1s 520us/step - loss: 588.7111 - val_loss: 595.6677\n",
      "Epoch 88/200\n",
      "1072/1072 [==============================] - 1s 514us/step - loss: 588.7460 - val_loss: 594.7914\n",
      "Epoch 89/200\n",
      "1072/1072 [==============================] - 1s 513us/step - loss: 588.3948 - val_loss: 594.8405\n",
      "Epoch 90/200\n",
      "1072/1072 [==============================] - 1s 504us/step - loss: 588.4781 - val_loss: 594.8033\n",
      "Epoch 91/200\n",
      "1072/1072 [==============================] - 1s 509us/step - loss: 588.2294 - val_loss: 594.4271\n",
      "Epoch 92/200\n",
      "1072/1072 [==============================] - 1s 507us/step - loss: 588.1379 - val_loss: 594.4480\n",
      "Epoch 93/200\n",
      "1072/1072 [==============================] - 1s 514us/step - loss: 588.0526 - val_loss: 596.4176\n",
      "Epoch 94/200\n",
      "1072/1072 [==============================] - 1s 515us/step - loss: 588.1384 - val_loss: 594.4922\n",
      "Epoch 95/200\n",
      "1072/1072 [==============================] - 1s 509us/step - loss: 587.9969 - val_loss: 595.0836\n",
      "Epoch 96/200\n",
      "1072/1072 [==============================] - 1s 506us/step - loss: 587.6907 - val_loss: 594.7302\n",
      "Epoch 97/200\n",
      "1072/1072 [==============================] - 1s 509us/step - loss: 587.4620 - val_loss: 593.7312\n",
      "Epoch 98/200\n",
      "1072/1072 [==============================] - 1s 567us/step - loss: 587.7139 - val_loss: 594.1483\n",
      "Epoch 99/200\n",
      "1072/1072 [==============================] - 1s 573us/step - loss: 587.4462 - val_loss: 594.4092\n",
      "Epoch 100/200\n",
      "1072/1072 [==============================] - 1s 536us/step - loss: 587.4545 - val_loss: 594.1425\n",
      "Epoch 101/200\n",
      "1072/1072 [==============================] - 1s 556us/step - loss: 587.2515 - val_loss: 593.9885\n",
      "Epoch 102/200\n",
      "1072/1072 [==============================] - 1s 503us/step - loss: 587.1054 - val_loss: 593.0173\n",
      "Epoch 103/200\n",
      "1072/1072 [==============================] - 1s 495us/step - loss: 587.0166 - val_loss: 593.6031\n",
      "Epoch 104/200\n",
      "1072/1072 [==============================] - 1s 494us/step - loss: 587.0395 - val_loss: 593.1044\n",
      "Epoch 105/200\n",
      "1072/1072 [==============================] - 1s 493us/step - loss: 586.8423 - val_loss: 592.8561\n",
      "Epoch 106/200\n",
      "1072/1072 [==============================] - 1s 494us/step - loss: 586.8908 - val_loss: 593.6155\n",
      "Epoch 107/200\n",
      "1072/1072 [==============================] - 1s 493us/step - loss: 586.5987 - val_loss: 593.7391\n",
      "Epoch 108/200\n",
      "1072/1072 [==============================] - 1s 501us/step - loss: 586.7640 - val_loss: 594.7053\n",
      "Epoch 109/200\n",
      "1072/1072 [==============================] - 1s 498us/step - loss: 586.3235 - val_loss: 592.7617\n",
      "Epoch 110/200\n",
      "1072/1072 [==============================] - 1s 502us/step - loss: 586.3674 - val_loss: 594.8749\n",
      "Epoch 111/200\n",
      "1072/1072 [==============================] - 1s 497us/step - loss: 586.1770 - val_loss: 592.9399\n",
      "Epoch 112/200\n",
      "1072/1072 [==============================] - 1s 494us/step - loss: 586.0055 - val_loss: 592.9428\n",
      "Epoch 113/200\n",
      "1072/1072 [==============================] - 1s 495us/step - loss: 586.1079 - val_loss: 594.1580\n",
      "Epoch 114/200\n",
      "1072/1072 [==============================] - 1s 495us/step - loss: 586.2427 - val_loss: 594.1610\n",
      "Epoch 115/200\n",
      "1072/1072 [==============================] - 1s 506us/step - loss: 586.0370 - val_loss: 592.5179\n",
      "Epoch 116/200\n",
      "1072/1072 [==============================] - 1s 501us/step - loss: 585.7470 - val_loss: 591.8386\n",
      "Epoch 117/200\n",
      "1072/1072 [==============================] - 1s 503us/step - loss: 585.6776 - val_loss: 592.5646\n",
      "Epoch 118/200\n",
      "1072/1072 [==============================] - 1s 519us/step - loss: 585.6477 - val_loss: 591.7710\n",
      "Epoch 119/200\n",
      "1072/1072 [==============================] - 1s 516us/step - loss: 585.7840 - val_loss: 592.4524\n",
      "Epoch 120/200\n",
      "1072/1072 [==============================] - 1s 493us/step - loss: 585.8956 - val_loss: 592.5964\n",
      "Epoch 121/200\n",
      "1072/1072 [==============================] - 1s 498us/step - loss: 585.6163 - val_loss: 592.5419\n",
      "Epoch 122/200\n",
      "1072/1072 [==============================] - 1s 493us/step - loss: 585.6305 - val_loss: 592.4924\n",
      "Epoch 123/200\n",
      "1072/1072 [==============================] - 1s 494us/step - loss: 585.7154 - val_loss: 592.0782\n",
      "Epoch 124/200\n",
      "1072/1072 [==============================] - 1s 494us/step - loss: 585.3620 - val_loss: 591.5240\n",
      "Epoch 125/200\n",
      "1072/1072 [==============================] - 1s 503us/step - loss: 585.1791 - val_loss: 592.0031\n",
      "Epoch 126/200\n",
      "1072/1072 [==============================] - 1s 515us/step - loss: 584.9963 - val_loss: 591.8551\n",
      "Epoch 127/200\n",
      "1072/1072 [==============================] - 1s 527us/step - loss: 585.0077 - val_loss: 591.6119\n",
      "Epoch 128/200\n",
      "1072/1072 [==============================] - 1s 583us/step - loss: 584.8590 - val_loss: 591.9777\n",
      "Epoch 129/200\n",
      "1072/1072 [==============================] - 1s 563us/step - loss: 585.0189 - val_loss: 591.2674\n",
      "Epoch 130/200\n",
      "1072/1072 [==============================] - 1s 628us/step - loss: 584.7583 - val_loss: 591.5906\n",
      "Epoch 131/200\n",
      "1072/1072 [==============================] - 1s 575us/step - loss: 584.6770 - val_loss: 591.5622\n",
      "Epoch 132/200\n",
      "1072/1072 [==============================] - 1s 529us/step - loss: 584.8077 - val_loss: 591.3609\n",
      "Epoch 133/200\n",
      "1072/1072 [==============================] - 1s 604us/step - loss: 584.8218 - val_loss: 591.1854\n",
      "Epoch 134/200\n",
      "1072/1072 [==============================] - 1s 594us/step - loss: 584.5872 - val_loss: 591.6055\n",
      "Epoch 135/200\n",
      "1072/1072 [==============================] - 1s 555us/step - loss: 584.6739 - val_loss: 591.6138\n",
      "Epoch 136/200\n",
      "1072/1072 [==============================] - 1s 529us/step - loss: 584.5628 - val_loss: 591.9170\n",
      "Epoch 137/200\n",
      "1072/1072 [==============================] - 1s 530us/step - loss: 584.4063 - val_loss: 591.1017\n",
      "Epoch 138/200\n",
      "1072/1072 [==============================] - 1s 552us/step - loss: 584.3541 - val_loss: 591.0192\n",
      "Epoch 139/200\n",
      "1072/1072 [==============================] - 1s 527us/step - loss: 584.6385 - val_loss: 590.8421\n",
      "Epoch 140/200\n",
      "1072/1072 [==============================] - 1s 496us/step - loss: 584.3593 - val_loss: 591.6025\n",
      "Epoch 141/200\n",
      "1072/1072 [==============================] - 1s 496us/step - loss: 584.1870 - val_loss: 591.0386\n",
      "Epoch 142/200\n",
      "1072/1072 [==============================] - 1s 506us/step - loss: 584.1053 - val_loss: 591.1022\n",
      "Epoch 143/200\n",
      "1072/1072 [==============================] - 1s 504us/step - loss: 584.2744 - val_loss: 590.9675\n",
      "Epoch 144/200\n",
      "1072/1072 [==============================] - 1s 537us/step - loss: 584.5944 - val_loss: 591.1583\n",
      "Epoch 145/200\n",
      "1072/1072 [==============================] - 1s 579us/step - loss: 584.1363 - val_loss: 591.9596\n",
      "Epoch 146/200\n",
      "1072/1072 [==============================] - 1s 519us/step - loss: 583.9723 - val_loss: 590.5723\n",
      "Epoch 147/200\n",
      "1072/1072 [==============================] - 1s 505us/step - loss: 583.8152 - val_loss: 590.6992\n",
      "Epoch 148/200\n",
      "1072/1072 [==============================] - 1s 528us/step - loss: 583.7827 - val_loss: 591.4123\n",
      "Epoch 149/200\n"
     ]
    },
    {
     "name": "stdout",
     "output_type": "stream",
     "text": [
      "1072/1072 [==============================] - 1s 561us/step - loss: 583.8504 - val_loss: 590.0149\n",
      "Epoch 150/200\n",
      "1072/1072 [==============================] - 1s 536us/step - loss: 583.8554 - val_loss: 591.0302\n",
      "Epoch 151/200\n",
      "1072/1072 [==============================] - 1s 630us/step - loss: 583.6696 - val_loss: 591.3915\n",
      "Epoch 152/200\n",
      "1072/1072 [==============================] - 1s 647us/step - loss: 583.6857 - val_loss: 590.0859\n",
      "Epoch 153/200\n",
      "1072/1072 [==============================] - 1s 626us/step - loss: 583.4941 - val_loss: 590.6318\n",
      "Epoch 154/200\n",
      "1072/1072 [==============================] - 1s 537us/step - loss: 583.5498 - val_loss: 590.6956\n",
      "Epoch 155/200\n",
      "1072/1072 [==============================] - 1s 601us/step - loss: 583.4344 - val_loss: 590.2249\n",
      "Epoch 156/200\n",
      "1072/1072 [==============================] - 1s 532us/step - loss: 583.3312 - val_loss: 589.7401\n",
      "Epoch 157/200\n",
      "1072/1072 [==============================] - 1s 500us/step - loss: 583.2420 - val_loss: 590.7772\n",
      "Epoch 158/200\n",
      "1072/1072 [==============================] - 1s 497us/step - loss: 583.2729 - val_loss: 589.9897\n",
      "Epoch 159/200\n",
      "1072/1072 [==============================] - 1s 523us/step - loss: 583.3265 - val_loss: 589.8458\n",
      "Epoch 160/200\n",
      "1072/1072 [==============================] - 1s 516us/step - loss: 583.3253 - val_loss: 590.7868\n",
      "Epoch 161/200\n",
      "1072/1072 [==============================] - 1s 506us/step - loss: 583.2834 - val_loss: 589.6173\n",
      "Epoch 162/200\n",
      "1072/1072 [==============================] - 1s 528us/step - loss: 583.1757 - val_loss: 591.2974\n",
      "Epoch 163/200\n",
      "1072/1072 [==============================] - 1s 506us/step - loss: 583.1521 - val_loss: 590.0895\n",
      "Epoch 164/200\n",
      "1072/1072 [==============================] - 1s 522us/step - loss: 582.8824 - val_loss: 590.1024\n",
      "Epoch 165/200\n",
      "1072/1072 [==============================] - 1s 632us/step - loss: 582.9856 - val_loss: 589.6346\n",
      "Epoch 166/200\n",
      "1072/1072 [==============================] - 1s 590us/step - loss: 583.0836 - val_loss: 590.1782\n",
      "Epoch 167/200\n",
      "1072/1072 [==============================] - 1s 653us/step - loss: 582.8790 - val_loss: 590.0573\n",
      "Epoch 168/200\n",
      "1072/1072 [==============================] - 1s 657us/step - loss: 582.9388 - val_loss: 590.0208\n",
      "Epoch 169/200\n",
      "1072/1072 [==============================] - 1s 583us/step - loss: 582.9482 - val_loss: 589.7336\n",
      "Epoch 170/200\n",
      "1072/1072 [==============================] - 1s 546us/step - loss: 582.8439 - val_loss: 589.9192\n",
      "Epoch 171/200\n",
      "1072/1072 [==============================] - 1s 565us/step - loss: 582.8580 - val_loss: 589.3864\n",
      "Epoch 172/200\n",
      "1072/1072 [==============================] - 1s 585us/step - loss: 582.6579 - val_loss: 589.7465\n",
      "Epoch 173/200\n",
      "1072/1072 [==============================] - 1s 594us/step - loss: 582.6958 - val_loss: 589.6581\n",
      "Epoch 174/200\n",
      "1072/1072 [==============================] - 1s 618us/step - loss: 582.7141 - val_loss: 589.7671\n",
      "Epoch 175/200\n",
      "1072/1072 [==============================] - 1s 540us/step - loss: 582.5414 - val_loss: 589.7423\n",
      "Epoch 176/200\n",
      "1072/1072 [==============================] - 1s 505us/step - loss: 582.6897 - val_loss: 589.8086\n",
      "Epoch 177/200\n",
      "1072/1072 [==============================] - 1s 517us/step - loss: 582.5402 - val_loss: 589.5050\n",
      "Epoch 178/200\n",
      "1072/1072 [==============================] - 1s 506us/step - loss: 582.5638 - val_loss: 589.7851\n",
      "Epoch 179/200\n",
      "1072/1072 [==============================] - 1s 524us/step - loss: 582.5685 - val_loss: 589.4721\n",
      "Epoch 180/200\n",
      "1072/1072 [==============================] - 1s 535us/step - loss: 582.4138 - val_loss: 589.5195\n",
      "Epoch 181/200\n",
      "1072/1072 [==============================] - 1s 519us/step - loss: 582.3158 - val_loss: 588.9463\n",
      "Epoch 182/200\n",
      "1072/1072 [==============================] - 1s 511us/step - loss: 582.4233 - val_loss: 589.1886\n",
      "Epoch 183/200\n",
      "1072/1072 [==============================] - 1s 549us/step - loss: 582.2488 - val_loss: 589.4998\n",
      "Epoch 184/200\n",
      "1072/1072 [==============================] - 1s 612us/step - loss: 582.1457 - val_loss: 589.3644\n",
      "Epoch 185/200\n",
      "1072/1072 [==============================] - 1s 619us/step - loss: 582.2150 - val_loss: 589.3885\n",
      "Epoch 186/200\n",
      "1072/1072 [==============================] - 1s 589us/step - loss: 582.4344 - val_loss: 590.2553\n",
      "Epoch 187/200\n",
      "1072/1072 [==============================] - 1s 581us/step - loss: 582.2498 - val_loss: 589.7117\n",
      "Epoch 188/200\n",
      "1072/1072 [==============================] - 1s 649us/step - loss: 582.3340 - val_loss: 589.1439\n",
      "Epoch 189/200\n",
      "1072/1072 [==============================] - 1s 574us/step - loss: 582.3001 - val_loss: 589.3239\n",
      "Epoch 190/200\n",
      "1072/1072 [==============================] - 1s 580us/step - loss: 582.1728 - val_loss: 589.0424\n",
      "Epoch 191/200\n",
      "1072/1072 [==============================] - 1s 548us/step - loss: 582.0019 - val_loss: 589.1234\n",
      "Epoch 192/200\n",
      "1072/1072 [==============================] - 1s 528us/step - loss: 582.0406 - val_loss: 589.8931\n",
      "Epoch 193/200\n",
      "1072/1072 [==============================] - 1s 573us/step - loss: 581.8854 - val_loss: 589.0953\n",
      "Epoch 194/200\n",
      "1072/1072 [==============================] - 1s 582us/step - loss: 581.8984 - val_loss: 588.9821\n",
      "Epoch 195/200\n",
      "1072/1072 [==============================] - 1s 564us/step - loss: 581.8667 - val_loss: 589.2001\n",
      "Epoch 196/200\n",
      "1072/1072 [==============================] - 1s 568us/step - loss: 581.7742 - val_loss: 589.6882\n",
      "Epoch 197/200\n",
      "1072/1072 [==============================] - 1s 570us/step - loss: 581.8118 - val_loss: 589.8752\n",
      "Epoch 198/200\n",
      "1072/1072 [==============================] - 1s 599us/step - loss: 581.8593 - val_loss: 589.4135\n",
      "Epoch 199/200\n",
      "1072/1072 [==============================] - 1s 557us/step - loss: 581.6389 - val_loss: 588.8699\n",
      "Epoch 200/200\n",
      "1072/1072 [==============================] - 1s 499us/step - loss: 581.6196 - val_loss: 589.1637\n",
      "CPU times: user 2min 2s, sys: 549 ms, total: 2min 3s\n",
      "Wall time: 2min 1s\n"
     ]
    },
    {
     "data": {
      "image/png": "[encoded data removed]",
      "text/plain": [
       "<matplotlib.figure.Figure at 0x7f3923ba3d30>"
      ]
     },
     "metadata": {},
     "output_type": "display_data"
    }
   ],
   "source": [
    "%%time\n",
    "# Parameters to train nonlinear (VAE) compression method\n",
    "learning_rate = 0.001\n",
    "batch_size = 100\n",
    "epochs = 200\n",
    "kappa = 0.01\n",
    "intermediate_dim = 500\n",
    "latent_dim = 100\n",
    "epsilon_std = 1.0\n",
    "num_PCs = latent_dim\n",
    "\n",
    "base_dir = os.path.dirname(os.getcwd())\n",
    "\n",
    "# Train nonlinear (VAE)\n",
    "vae.tybalt_2layer_model(learning_rate, batch_size, epochs, kappa, intermediate_dim,\n",
    "                        latent_dim, epsilon_std, base_dir, analysis_name)\n",
    "# Train linear (PCA)\n",
    "pca.pca_model(base_dir, analysis_name, num_PCs)"
   ]
  },
  {
   "cell_type": "markdown",
   "metadata": {},
   "source": [
    "## Prediction\n",
    "Predict gene expression for each sample in the compendium\n",
    "\n",
    "Details about how the prediction computation works can be found within the prediction script: [interpolate.py](/functions/interpolate.py)\n",
    "\n",
    "Algorithm:\n",
    "```python\n",
    "sort samples based on gene A expression\n",
    "\n",
    "for sample in compendium:\n",
    "    baseline_expression = expression(sample with low gene A expression)\n",
    "    offset_vector = (expression(high gene A expression) - expression(low gene A expression)\n",
    "    scale_factor = expression(sample)/((expression(high gene A expression) - expression(low gene A expression))\n",
    "    predict_expression = baseline_expression + scale_factor*offset_vector \n",
    "```"
   ]
  },
  {
   "cell_type": "code",
   "execution_count": 16,
   "metadata": {
    "ExecuteTime": {
     "end_time": "2019-03-14T15:15:26.227285Z",
     "start_time": "2019-03-14T15:15:15.995104Z"
    }
   },
   "outputs": [
    {
     "name": "stdout",
     "output_type": "stream",
     "text": [
      "Number of genes in low expression group is (60, 1100)\n",
      "Number of gene in high expression group is (60, 1100)\n"
     ]
    },
    {
     "name": "stderr",
     "output_type": "stream",
     "text": [
      "/home/alexandra/anaconda3/envs/Pa/lib/python3.5/site-packages/keras/models.py:255: UserWarning: No training configuration found in save file: the model was *not* compiled. Compile it manually.\n",
      "  warnings.warn('No training configuration found in save file: '\n"
     ]
    },
    {
     "name": "stdout",
     "output_type": "stream",
     "text": [
      "Number of genes in low expression group is (60, 1100)\n",
      "Number of gene in high expression group is (60, 1100)\n",
      "Number of genes in low expression group is (60, 1100)\n",
      "Number of gene in high expression group is (60, 1100)\n"
     ]
    }
   ],
   "source": [
    "# Prediction based calculation described in interpolate.py\n",
    "\n",
    "# Define offset vectors in gene space\n",
    "data_dir = os.path.join(base_dirs[0], analysis_name)\n",
    "target_gene = geneSetA_pick\n",
    "percent_low = 5\n",
    "percent_high = 95\n",
    "\n",
    "def_offset.gene_space_offset(data_dir, target_gene, percent_low, percent_high)\n",
    "\n",
    "model_dir = os.path.join(base_dirs[2], analysis_name)\n",
    "encoded_dir = os.path.join(base_dirs[1], analysis_name)\n",
    "\n",
    "# Define offset vectors for VAE latent space\n",
    "# The offset vector represents the \"essence\" of gene A\n",
    "# The offset vector = highest percent_high gene expression - lowest percent_low gene expression  \n",
    "def_offset.vae_latent_space_offset(data_dir, model_dir, encoded_dir, latent_dim, target_gene, percent_low,\n",
    "                                   percent_high)\n",
    "# Define offset vectors for PCA latent space\n",
    "def_offset.pca_latent_space_offset(data_dir, model_dir, encoded_dir, target_gene, percent_low, percent_high)\n",
    "\n",
    "\n",
    "# Predict gene expression using offset in gene space and latent space\n",
    "# Predict sample gene expression = baseline low gene expression + scale factor * offset vector\n",
    "# interpolate.py returns correlation between predicted expression and actual expression\n",
    "out_dir = os.path.join(base_dirs[3], analysis_name)\n",
    "\n",
    "interpolate.interpolate_in_gene_space(data_dir, target_gene, out_dir, percent_low, percent_high)\n",
    "interpolate.interpolate_in_vae_latent_space(data_dir, model_dir, encoded_dir, latent_dim, \n",
    "                                            target_gene, out_dir, percent_low, percent_high)\n",
    "interpolate.interpolate_in_pca_latent_space(data_dir, model_dir, encoded_dir, target_gene, \n",
    "                                            out_dir, percent_low, percent_high)"
   ]
  },
  {
   "cell_type": "markdown",
   "metadata": {},
   "source": [
    "## Visualize\n",
    "Visualize prediction performance comparing VAE, PCA, No compression"
   ]
  },
  {
   "cell_type": "code",
   "execution_count": 17,
   "metadata": {
    "ExecuteTime": {
     "end_time": "2019-03-14T15:15:28.331659Z",
     "start_time": "2019-03-14T15:15:26.233300Z"
    }
   },
   "outputs": [
    {
     "name": "stderr",
     "output_type": "stream",
     "text": [
      "/home/alexandra/Documents/Repos/Pseudomonas_latent_spaces/scripts/functions/plot.py:87: FutureWarning: \n",
      "Passing list-likes to .loc or [] with any missing label will raise\n",
      "KeyError in the future, you can use .reindex() as an alternative.\n",
      "\n",
      "See the documentation here:\n",
      "http://pandas.pydata.org/pandas-docs/stable/indexing.html#deprecate-loc-reindex-listlike\n",
      "  X_sorted = X.loc[sorted_id.index].dropna()\n"
     ]
    },
    {
     "data": {
      "image/png": "[encoded data removed]",
      "text/plain": [
       "<matplotlib.figure.Figure at 0x7f3923c58eb8>"
      ]
     },
     "metadata": {},
     "output_type": "display_data"
    },
    {
     "data": {
      "image/png": "[encoded data removed]",
      "text/plain": [
       "<matplotlib.figure.Figure at 0x7f390cb8a898>"
      ]
     },
     "metadata": {},
     "output_type": "display_data"
    },
    {
     "data": {
      "image/png": "[encoded data removed]",
      "text/plain": [
       "<matplotlib.figure.Figure at 0x7f39229840f0>"
      ]
     },
     "metadata": {},
     "output_type": "display_data"
    }
   ],
   "source": [
    "# True if the x-axis of the plot uses the sample index\n",
    "# False if the x-asix of the plot uses the gene expression of the target gene\n",
    "by_sample_ind = False\n",
    "\n",
    "# Plot correlation score per sample along gradient of gene A expression\n",
    "viz_dir = os.path.join(base_dirs[5], analysis_name)\n",
    "plot.plot_corr_gradient(out_dir, viz_dir, target_gene, by_sample_ind)"
   ]
  }
 ],
 "metadata": {
  "kernelspec": {
   "display_name": "Python [conda env:Pa]",
   "language": "python",
   "name": "conda-env-Pa-py"
  },
  "language_info": {
   "codemirror_mode": {
    "name": "ipython",
    "version": 3
   },
   "file_extension": ".py",
   "mimetype": "text/x-python",
   "name": "python",
   "nbconvert_exporter": "python",
   "pygments_lexer": "ipython3",
   "version": "3.5.5"
  }
 },
 "nbformat": 4,
 "nbformat_minor": 2
}
