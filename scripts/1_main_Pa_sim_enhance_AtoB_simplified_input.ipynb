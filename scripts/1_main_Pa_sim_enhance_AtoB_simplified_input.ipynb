{
 "cells": [
  {
   "cell_type": "markdown",
   "metadata": {
    "ExecuteTime": {
     "end_time": "2019-02-06T16:19:43.939569Z",
     "start_time": "2019-02-06T16:19:43.935158Z"
    }
   },
   "source": [
    "# Simulation experiment\n",
    "\n",
    "**Hypothesis**: If we generate a gene expression dataset with a strong signal, a nonlinear compression method (VAE)\n",
    "            will be able to learn this signal and predict new gene expression patterns better compared to \n",
    "            using a linear comparession method (PCA) and using no compression method (all the genes)\n",
    " \n",
    "**Study design**:\n",
    "\n",
    "*(Input)* Add signal to Pa gene expression dataset:\n",
    "\n",
    "Network: gene set A --> gene set B\n",
    "\n",
    "Add signal to relate A and B using the following algorithm:\n",
    "\n",
    "Hyperparmeters should include:\n",
    " 1. Size of gene set A\n",
    " 2. Size of gene set B\n",
    " 3. Effect size\n",
    " 4. Threshold\n",
    " 5. Log file with hyperparameter selections\n",
    "         \n",
    "*(Approach)* Train nonlinear (VAE) and linear (PCA) compression algorithms using this simulated data\n",
    "\n",
    "*(Evaluation)*  For each sample in the Pa dataset compare corr(predicted expression, actual expression)\n",
    "\n",
    "*(Output)* Figure of the correlation scores per sample "
   ]
  },
  {
   "cell_type": "code",
   "execution_count": 1,
   "metadata": {
    "ExecuteTime": {
     "end_time": "2019-04-09T22:38:22.463676Z",
     "start_time": "2019-04-09T22:38:21.273263Z"
    }
   },
   "outputs": [
    {
     "name": "stderr",
     "output_type": "stream",
     "text": [
      "Using TensorFlow backend.\n"
     ]
    }
   ],
   "source": [
    "%load_ext autoreload\n",
    "%autoreload 2\n",
    "\n",
    "import os\n",
    "import pandas as pd\n",
    "import numpy as np\n",
    "import random\n",
    "import seaborn as sns\n",
    "\n",
    "from functions import generate_input, vae, def_offset, interpolate, pca, plot\n",
    "\n",
    "from numpy.random import seed\n",
    "randomState = 123\n",
    "seed(randomState)"
   ]
  },
  {
   "cell_type": "code",
   "execution_count": 2,
   "metadata": {
    "ExecuteTime": {
     "end_time": "2019-04-09T22:38:22.480330Z",
     "start_time": "2019-04-09T22:38:22.465867Z"
    }
   },
   "outputs": [],
   "source": [
    "# Hyperparameters\n",
    "\n",
    "# Size of the gene set A\n",
    "geneSetA_size = 100\n",
    "\n",
    "# Size of the gene set that will be regulated by gene A\n",
    "geneSetB_size = 100 \n",
    "\n",
    "# Percentage to upregulate each gene in set B\n",
    "effect_size = 0.5\n",
    "\n",
    "# Threshold for activation of gene A \n",
    "thresholdA = 0.5\n",
    "\n",
    "# Name of analysis\n",
    "analysis_name = 'sim_balancedAB_100_2latent'"
   ]
  },
  {
   "cell_type": "code",
   "execution_count": 3,
   "metadata": {
    "ExecuteTime": {
     "end_time": "2019-04-09T22:38:22.499319Z",
     "start_time": "2019-04-09T22:38:22.481339Z"
    }
   },
   "outputs": [
    {
     "name": "stdout",
     "output_type": "stream",
     "text": [
      "creating new directory: /home/alexandra/Documents/Repos/Pseudomonas_latent_spaces/data/sim_balancedAB_100_2latent\n",
      "creating new directory: /home/alexandra/Documents/Repos/Pseudomonas_latent_spaces/encoded/sim_balancedAB_100_2latent\n",
      "creating new directory: /home/alexandra/Documents/Repos/Pseudomonas_latent_spaces/models/sim_balancedAB_100_2latent\n",
      "creating new directory: /home/alexandra/Documents/Repos/Pseudomonas_latent_spaces/output/sim_balancedAB_100_2latent\n",
      "creating new directory: /home/alexandra/Documents/Repos/Pseudomonas_latent_spaces/stats/sim_balancedAB_100_2latent\n",
      "creating new directory: /home/alexandra/Documents/Repos/Pseudomonas_latent_spaces/viz/sim_balancedAB_100_2latent\n"
     ]
    }
   ],
   "source": [
    "# Create list of base directories\n",
    "base_dirs = [os.path.join(os.path.dirname(os.getcwd()), 'data'),\n",
    "             os.path.join(os.path.dirname(os.getcwd()), 'encoded'),\n",
    "             os.path.join(os.path.dirname(os.getcwd()), 'models'),\n",
    "             os.path.join(os.path.dirname(os.getcwd()), 'output'),\n",
    "             os.path.join(os.path.dirname(os.getcwd()), 'stats'),\n",
    "             os.path.join(os.path.dirname(os.getcwd()), 'viz')    \n",
    "]\n",
    "\n",
    "# Check if directory exist otherwise create\n",
    "for each_dir in base_dirs:\n",
    "    analysis_dir = os.path.join(each_dir, analysis_name)\n",
    "    \n",
    "    if os.path.exists(analysis_dir):\n",
    "        print('directory already exists: {}'.format(analysis_dir))\n",
    "    else:\n",
    "        print('creating new directory: {}'.format(analysis_dir))\n",
    "    os.makedirs(analysis_dir, exist_ok=True)"
   ]
  },
  {
   "cell_type": "code",
   "execution_count": 4,
   "metadata": {
    "ExecuteTime": {
     "end_time": "2019-04-09T22:38:22.515665Z",
     "start_time": "2019-04-09T22:38:22.500666Z"
    }
   },
   "outputs": [],
   "source": [
    "# Load arguments\n",
    "data_file = os.path.join(os.path.dirname(os.getcwd()), \"data\", \"all-pseudomonas-gene-normalized.zip\")"
   ]
  },
  {
   "cell_type": "code",
   "execution_count": 5,
   "metadata": {
    "ExecuteTime": {
     "end_time": "2019-04-09T22:38:24.412881Z",
     "start_time": "2019-04-09T22:38:22.516985Z"
    }
   },
   "outputs": [
    {
     "data": {
      "text/html": [
       "<div>\n",
       "<style scoped>\n",
       "    .dataframe tbody tr th:only-of-type {\n",
       "        vertical-align: middle;\n",
       "    }\n",
       "\n",
       "    .dataframe tbody tr th {\n",
       "        vertical-align: top;\n",
       "    }\n",
       "\n",
       "    .dataframe thead th {\n",
       "        text-align: right;\n",
       "    }\n",
       "</style>\n",
       "<table border=\"1\" class=\"dataframe\">\n",
       "  <thead>\n",
       "    <tr style=\"text-align: right;\">\n",
       "      <th>Gene_symbol</th>\n",
       "      <th>PA0001</th>\n",
       "      <th>PA0002</th>\n",
       "      <th>PA0003</th>\n",
       "      <th>PA0004</th>\n",
       "      <th>PA0005</th>\n",
       "      <th>PA0006</th>\n",
       "      <th>PA0007</th>\n",
       "      <th>PA0008</th>\n",
       "      <th>PA0009</th>\n",
       "      <th>PA0010</th>\n",
       "      <th>...</th>\n",
       "      <th>PA5561</th>\n",
       "      <th>PA5562</th>\n",
       "      <th>PA5563</th>\n",
       "      <th>PA5564</th>\n",
       "      <th>PA5565</th>\n",
       "      <th>PA5566</th>\n",
       "      <th>PA5567</th>\n",
       "      <th>PA5568</th>\n",
       "      <th>PA5569</th>\n",
       "      <th>PA5570</th>\n",
       "    </tr>\n",
       "  </thead>\n",
       "  <tbody>\n",
       "    <tr>\n",
       "      <th>0.1_12hr_CSV86(Pae_G1a).CEL</th>\n",
       "      <td>0.472897</td>\n",
       "      <td>0.396658</td>\n",
       "      <td>0.253776</td>\n",
       "      <td>0.000000</td>\n",
       "      <td>0.175640</td>\n",
       "      <td>0.554385</td>\n",
       "      <td>0.411370</td>\n",
       "      <td>0.382222</td>\n",
       "      <td>0.310144</td>\n",
       "      <td>0.642522</td>\n",
       "      <td>...</td>\n",
       "      <td>0.358597</td>\n",
       "      <td>0.390048</td>\n",
       "      <td>0.457406</td>\n",
       "      <td>0.684082</td>\n",
       "      <td>0.338351</td>\n",
       "      <td>0.608325</td>\n",
       "      <td>0.643496</td>\n",
       "      <td>0.276075</td>\n",
       "      <td>0.112773</td>\n",
       "      <td>0.145170</td>\n",
       "    </tr>\n",
       "    <tr>\n",
       "      <th>0.1_2hr_CSV86(Pae_G1a).CEL</th>\n",
       "      <td>0.262346</td>\n",
       "      <td>0.086216</td>\n",
       "      <td>0.359853</td>\n",
       "      <td>0.439214</td>\n",
       "      <td>0.269749</td>\n",
       "      <td>0.768433</td>\n",
       "      <td>0.212505</td>\n",
       "      <td>0.062043</td>\n",
       "      <td>0.567695</td>\n",
       "      <td>0.467073</td>\n",
       "      <td>...</td>\n",
       "      <td>0.358504</td>\n",
       "      <td>0.414206</td>\n",
       "      <td>0.389879</td>\n",
       "      <td>0.477693</td>\n",
       "      <td>0.000000</td>\n",
       "      <td>0.479385</td>\n",
       "      <td>0.154471</td>\n",
       "      <td>0.140891</td>\n",
       "      <td>0.167505</td>\n",
       "      <td>0.157060</td>\n",
       "    </tr>\n",
       "    <tr>\n",
       "      <th>0.1_6hr_CSV86(Pae_G1a).CEL</th>\n",
       "      <td>0.473658</td>\n",
       "      <td>0.244862</td>\n",
       "      <td>0.330750</td>\n",
       "      <td>0.097697</td>\n",
       "      <td>0.387226</td>\n",
       "      <td>0.328319</td>\n",
       "      <td>0.228820</td>\n",
       "      <td>0.330039</td>\n",
       "      <td>0.318081</td>\n",
       "      <td>0.512864</td>\n",
       "      <td>...</td>\n",
       "      <td>0.180744</td>\n",
       "      <td>0.380741</td>\n",
       "      <td>0.173501</td>\n",
       "      <td>0.251571</td>\n",
       "      <td>0.182793</td>\n",
       "      <td>0.528301</td>\n",
       "      <td>0.504985</td>\n",
       "      <td>0.499782</td>\n",
       "      <td>0.061106</td>\n",
       "      <td>0.365612</td>\n",
       "    </tr>\n",
       "    <tr>\n",
       "      <th>0.1_7hr_CSV86(Pae_G1a).CEL</th>\n",
       "      <td>0.439273</td>\n",
       "      <td>0.343402</td>\n",
       "      <td>0.192698</td>\n",
       "      <td>0.274677</td>\n",
       "      <td>0.628979</td>\n",
       "      <td>0.553796</td>\n",
       "      <td>0.431391</td>\n",
       "      <td>0.363480</td>\n",
       "      <td>0.385721</td>\n",
       "      <td>0.094584</td>\n",
       "      <td>...</td>\n",
       "      <td>0.346837</td>\n",
       "      <td>0.153927</td>\n",
       "      <td>0.067349</td>\n",
       "      <td>0.319723</td>\n",
       "      <td>0.282442</td>\n",
       "      <td>0.490655</td>\n",
       "      <td>0.531415</td>\n",
       "      <td>0.153880</td>\n",
       "      <td>0.132333</td>\n",
       "      <td>0.260087</td>\n",
       "    </tr>\n",
       "    <tr>\n",
       "      <th>0.1_9hr_CSV86(Pae_G1a).CEL</th>\n",
       "      <td>0.220827</td>\n",
       "      <td>0.145525</td>\n",
       "      <td>0.437803</td>\n",
       "      <td>0.293201</td>\n",
       "      <td>0.635120</td>\n",
       "      <td>0.462893</td>\n",
       "      <td>0.488733</td>\n",
       "      <td>0.309584</td>\n",
       "      <td>0.318646</td>\n",
       "      <td>0.591914</td>\n",
       "      <td>...</td>\n",
       "      <td>0.237726</td>\n",
       "      <td>0.301945</td>\n",
       "      <td>0.070222</td>\n",
       "      <td>0.513605</td>\n",
       "      <td>0.114277</td>\n",
       "      <td>0.360259</td>\n",
       "      <td>0.386868</td>\n",
       "      <td>0.223995</td>\n",
       "      <td>0.105343</td>\n",
       "      <td>0.102088</td>\n",
       "    </tr>\n",
       "  </tbody>\n",
       "</table>\n",
       "<p>5 rows × 5549 columns</p>\n",
       "</div>"
      ],
      "text/plain": [
       "Gene_symbol                    PA0001    PA0002    PA0003    PA0004    PA0005  \\\n",
       "0.1_12hr_CSV86(Pae_G1a).CEL  0.472897  0.396658  0.253776  0.000000  0.175640   \n",
       "0.1_2hr_CSV86(Pae_G1a).CEL   0.262346  0.086216  0.359853  0.439214  0.269749   \n",
       "0.1_6hr_CSV86(Pae_G1a).CEL   0.473658  0.244862  0.330750  0.097697  0.387226   \n",
       "0.1_7hr_CSV86(Pae_G1a).CEL   0.439273  0.343402  0.192698  0.274677  0.628979   \n",
       "0.1_9hr_CSV86(Pae_G1a).CEL   0.220827  0.145525  0.437803  0.293201  0.635120   \n",
       "\n",
       "Gene_symbol                    PA0006    PA0007    PA0008    PA0009    PA0010  \\\n",
       "0.1_12hr_CSV86(Pae_G1a).CEL  0.554385  0.411370  0.382222  0.310144  0.642522   \n",
       "0.1_2hr_CSV86(Pae_G1a).CEL   0.768433  0.212505  0.062043  0.567695  0.467073   \n",
       "0.1_6hr_CSV86(Pae_G1a).CEL   0.328319  0.228820  0.330039  0.318081  0.512864   \n",
       "0.1_7hr_CSV86(Pae_G1a).CEL   0.553796  0.431391  0.363480  0.385721  0.094584   \n",
       "0.1_9hr_CSV86(Pae_G1a).CEL   0.462893  0.488733  0.309584  0.318646  0.591914   \n",
       "\n",
       "Gene_symbol                    ...       PA5561    PA5562    PA5563    PA5564  \\\n",
       "0.1_12hr_CSV86(Pae_G1a).CEL    ...     0.358597  0.390048  0.457406  0.684082   \n",
       "0.1_2hr_CSV86(Pae_G1a).CEL     ...     0.358504  0.414206  0.389879  0.477693   \n",
       "0.1_6hr_CSV86(Pae_G1a).CEL     ...     0.180744  0.380741  0.173501  0.251571   \n",
       "0.1_7hr_CSV86(Pae_G1a).CEL     ...     0.346837  0.153927  0.067349  0.319723   \n",
       "0.1_9hr_CSV86(Pae_G1a).CEL     ...     0.237726  0.301945  0.070222  0.513605   \n",
       "\n",
       "Gene_symbol                    PA5565    PA5566    PA5567    PA5568    PA5569  \\\n",
       "0.1_12hr_CSV86(Pae_G1a).CEL  0.338351  0.608325  0.643496  0.276075  0.112773   \n",
       "0.1_2hr_CSV86(Pae_G1a).CEL   0.000000  0.479385  0.154471  0.140891  0.167505   \n",
       "0.1_6hr_CSV86(Pae_G1a).CEL   0.182793  0.528301  0.504985  0.499782  0.061106   \n",
       "0.1_7hr_CSV86(Pae_G1a).CEL   0.282442  0.490655  0.531415  0.153880  0.132333   \n",
       "0.1_9hr_CSV86(Pae_G1a).CEL   0.114277  0.360259  0.386868  0.223995  0.105343   \n",
       "\n",
       "Gene_symbol                    PA5570  \n",
       "0.1_12hr_CSV86(Pae_G1a).CEL  0.145170  \n",
       "0.1_2hr_CSV86(Pae_G1a).CEL   0.157060  \n",
       "0.1_6hr_CSV86(Pae_G1a).CEL   0.365612  \n",
       "0.1_7hr_CSV86(Pae_G1a).CEL   0.260087  \n",
       "0.1_9hr_CSV86(Pae_G1a).CEL   0.102088  \n",
       "\n",
       "[5 rows x 5549 columns]"
      ]
     },
     "execution_count": 5,
     "metadata": {},
     "output_type": "execute_result"
    }
   ],
   "source": [
    "# Read in data\n",
    "data = pd.read_table(data_file, header=0, sep='\\t', index_col=0, compression='zip').T\n",
    "data.head(5)"
   ]
  },
  {
   "cell_type": "code",
   "execution_count": 6,
   "metadata": {
    "ExecuteTime": {
     "end_time": "2019-04-09T22:38:24.430599Z",
     "start_time": "2019-04-09T22:38:24.414503Z"
    }
   },
   "outputs": [],
   "source": [
    "# Randomly select genes for set A\n",
    "gene_ids = list(data.columns)\n",
    "geneSetA = random.sample(gene_ids, geneSetA_size)"
   ]
  },
  {
   "cell_type": "code",
   "execution_count": 7,
   "metadata": {
    "ExecuteTime": {
     "end_time": "2019-04-09T22:38:24.458078Z",
     "start_time": "2019-04-09T22:38:24.431843Z"
    }
   },
   "outputs": [
    {
     "name": "stdout",
     "output_type": "stream",
     "text": [
      "Confirmed that all gene ids are available\n"
     ]
    }
   ],
   "source": [
    "# checkpoint:  Check the number of genes\n",
    "assert(len(gene_ids)==5549)\n",
    "print(\"Confirmed that all gene ids are available\")"
   ]
  },
  {
   "cell_type": "code",
   "execution_count": 8,
   "metadata": {
    "ExecuteTime": {
     "end_time": "2019-04-09T22:38:24.526538Z",
     "start_time": "2019-04-09T22:38:24.459520Z"
    }
   },
   "outputs": [
    {
     "name": "stdout",
     "output_type": "stream",
     "text": [
      "After removing 100 gene ids for set A, there are 5449 gene ids remaining.\n"
     ]
    }
   ],
   "source": [
    "# Remove gene ids that were selected for gene set A\n",
    "gene_ids = [elem for elem in gene_ids if elem not in geneSetA]\n",
    "print(\"After removing {} gene ids for set A, there are {} gene ids remaining.\"\n",
    "      .format(geneSetA_size, len(gene_ids)))"
   ]
  },
  {
   "cell_type": "code",
   "execution_count": 9,
   "metadata": {
    "ExecuteTime": {
     "end_time": "2019-04-09T22:38:24.565628Z",
     "start_time": "2019-04-09T22:38:24.528544Z"
    }
   },
   "outputs": [
    {
     "name": "stdout",
     "output_type": "stream",
     "text": [
      "After removing 100 gene ids for set B, there are 5349 gene ids remaining.\n"
     ]
    }
   ],
   "source": [
    "# Randomly select genes for gene set B\n",
    "geneSetB = random.sample(gene_ids, geneSetB_size)\n",
    "\n",
    "# Remove gene ids that were selected for gene set B\n",
    "gene_ids = [elem for elem in gene_ids if elem not in geneSetB]\n",
    "print(\"After removing {} gene ids for set B, there are {} gene ids remaining.\"\n",
    "      .format(geneSetB_size, len(gene_ids)))"
   ]
  },
  {
   "cell_type": "code",
   "execution_count": 10,
   "metadata": {
    "ExecuteTime": {
     "end_time": "2019-04-09T22:38:24.583485Z",
     "start_time": "2019-04-09T22:38:24.566850Z"
    }
   },
   "outputs": [],
   "source": [
    "# checkpoint:  Check that genes in set A are distinct from genes in set B\n",
    "assert(len(set(geneSetA).intersection(set(geneSetB))) == 0)"
   ]
  },
  {
   "cell_type": "markdown",
   "metadata": {},
   "source": [
    "## Output gene groupings \n",
    "Output gene assignments (group A, B) to be used in [explore_simulated_data.py](explore_simulated_data.ipynb)"
   ]
  },
  {
   "cell_type": "code",
   "execution_count": 11,
   "metadata": {
    "ExecuteTime": {
     "end_time": "2019-04-09T22:38:24.602038Z",
     "start_time": "2019-04-09T22:38:24.584995Z"
    }
   },
   "outputs": [],
   "source": [
    "# Output gene groupings\n",
    "geneSetA_df = pd.DataFrame(geneSetA, columns=['gene id'])\n",
    "geneSetB_df = pd.DataFrame(geneSetB, columns=['gene id'])\n",
    "\n",
    "geneSetA_file = os.path.join(os.path.dirname(os.getcwd()), \"data\", analysis_name, \"geneSetA.txt\")\n",
    "geneSetB_file = os.path.join(os.path.dirname(os.getcwd()), \"data\", analysis_name, \"geneSetB.txt\")\n",
    "\n",
    "\n",
    "geneSetA_df.to_csv(geneSetA_file, sep='\\t')\n",
    "geneSetB_df.to_csv(geneSetB_file, sep='\\t')"
   ]
  },
  {
   "cell_type": "markdown",
   "metadata": {},
   "source": [
    "## Add artificial signal to the data\n",
    "Algorithm:\n",
    "```python\n",
    "for sample in compendium:\n",
    "    expression(gene_in_set_A) = random(0,1)\n",
    "    if expression(gene_in_set_A) > threshold_A:\n",
    "        expression(gene_in_set_B) = expression(gene_in_set_B)*(1+percentage) \n",
    "```\n",
    "Note: This algorithm is applied to each sample in the compendium \n",
    "      (essentially adding a signal to the existing gene expression data in the compendium)"
   ]
  },
  {
   "cell_type": "code",
   "execution_count": 12,
   "metadata": {
    "ExecuteTime": {
     "end_time": "2019-04-09T22:38:34.430202Z",
     "start_time": "2019-04-09T22:38:24.603198Z"
    }
   },
   "outputs": [],
   "source": [
    "# Number of samples \n",
    "num_samples = data.shape[1]\n",
    "\n",
    "# Select sample gene from set A to be representative since the expression is the same\n",
    "# for all genes in the set\n",
    "geneSetA_pick = geneSetA[0]\n",
    "\n",
    "# Loop through all samples\n",
    "for sample_id in data.index:\n",
    "    \n",
    "    # Randomly select a value [0,1] where each value is uniformly likely to be chosen\n",
    "    new_A_exp = random.uniform(0.0, 1.0)\n",
    "    \n",
    "    # Set gene expression value for genes in set A to be the same random value selected\n",
    "    data.loc[sample_id][geneSetA] = new_A_exp\n",
    "    \n",
    "    # Check if expression of genes in set A exceed the threshold\n",
    "    # Use representatve gene from set A \"geneSetA_pick\" selected above\n",
    "    if data.loc[sample_id,geneSetA_pick] > thresholdA:\n",
    "        \n",
    "        # Scale genes by some fixed percentage\n",
    "        for gene in geneSetB:\n",
    "            data.loc[sample_id,gene] = (1+effect_size)*data.loc[sample_id,gene]            \n",
    "            \n",
    "# if any exceed 1 then set to 1 since gene expression is normalized\n",
    "data[data>=1.0] = 1.0"
   ]
  },
  {
   "cell_type": "code",
   "execution_count": 13,
   "metadata": {
    "ExecuteTime": {
     "end_time": "2019-04-09T22:38:34.449148Z",
     "start_time": "2019-04-09T22:38:34.431400Z"
    }
   },
   "outputs": [
    {
     "data": {
      "text/html": [
       "<div>\n",
       "<style scoped>\n",
       "    .dataframe tbody tr th:only-of-type {\n",
       "        vertical-align: middle;\n",
       "    }\n",
       "\n",
       "    .dataframe tbody tr th {\n",
       "        vertical-align: top;\n",
       "    }\n",
       "\n",
       "    .dataframe thead th {\n",
       "        text-align: right;\n",
       "    }\n",
       "</style>\n",
       "<table border=\"1\" class=\"dataframe\">\n",
       "  <thead>\n",
       "    <tr style=\"text-align: right;\">\n",
       "      <th></th>\n",
       "      <th>PA3423</th>\n",
       "    </tr>\n",
       "  </thead>\n",
       "  <tbody>\n",
       "    <tr>\n",
       "      <th>0.1_12hr_CSV86(Pae_G1a).CEL</th>\n",
       "      <td>0.029353</td>\n",
       "    </tr>\n",
       "    <tr>\n",
       "      <th>0.1_2hr_CSV86(Pae_G1a).CEL</th>\n",
       "      <td>0.345071</td>\n",
       "    </tr>\n",
       "    <tr>\n",
       "      <th>0.1_6hr_CSV86(Pae_G1a).CEL</th>\n",
       "      <td>0.920992</td>\n",
       "    </tr>\n",
       "    <tr>\n",
       "      <th>0.1_7hr_CSV86(Pae_G1a).CEL</th>\n",
       "      <td>0.676145</td>\n",
       "    </tr>\n",
       "    <tr>\n",
       "      <th>0.1_9hr_CSV86(Pae_G1a).CEL</th>\n",
       "      <td>0.625602</td>\n",
       "    </tr>\n",
       "  </tbody>\n",
       "</table>\n",
       "</div>"
      ],
      "text/plain": [
       "                               PA3423\n",
       "0.1_12hr_CSV86(Pae_G1a).CEL  0.029353\n",
       "0.1_2hr_CSV86(Pae_G1a).CEL   0.345071\n",
       "0.1_6hr_CSV86(Pae_G1a).CEL   0.920992\n",
       "0.1_7hr_CSV86(Pae_G1a).CEL   0.676145\n",
       "0.1_9hr_CSV86(Pae_G1a).CEL   0.625602"
      ]
     },
     "execution_count": 13,
     "metadata": {},
     "output_type": "execute_result"
    }
   ],
   "source": [
    "# Dataframe with only gene A expression\n",
    "# Used in interpolation analysis\n",
    "geneA_only = pd.DataFrame(data[geneSetA_pick], index=data.index, columns=[geneSetA_pick])\n",
    "\n",
    "geneA_only.head()"
   ]
  },
  {
   "cell_type": "markdown",
   "metadata": {},
   "source": [
    "## Outputs\n",
    "Output\n",
    "1. Simulated dataset (\\data)\n",
    "2. Log file containing hyperparmeters used (\\metadata)\n",
    "3. Expression of representative gene from group A (\\data)"
   ]
  },
  {
   "cell_type": "code",
   "execution_count": 14,
   "metadata": {
    "ExecuteTime": {
     "end_time": "2019-04-09T22:38:35.083962Z",
     "start_time": "2019-04-09T22:38:34.450484Z"
    }
   },
   "outputs": [],
   "source": [
    "# Output the new gene expression values for each sample\n",
    "train_input_file = os.path.join(base_dirs[0], analysis_name, \"train_model_input.txt.xz\")\n",
    "\n",
    "# Only include genes in group A and B\n",
    "geneSetAB = geneSetA + geneSetB\n",
    "simplified_data = data[geneSetAB]\n",
    "simplified_data.to_csv(train_input_file, sep='\\t', compression='xz', float_format=\"%.5g\")\n",
    "\n",
    "# Output log file with parameters used to generate simulated data\n",
    "log_file = os.path.join(os.path.dirname(os.getcwd()), 'metadata', analysis_name + '_log.txt')\n",
    "\n",
    "args_dict = {\n",
    "    \"size of gene set A\": geneSetA_size,\n",
    "    \"size of gene set B\": geneSetB_size,\n",
    "    \"genes in set B\": geneSetB,\n",
    "    \"effect size of genes in set B\": effect_size,\n",
    "    \"threshold of A activation\": thresholdA,\n",
    "}\n",
    "\n",
    "with open(log_file, 'w') as f:\n",
    "    for key, value in args_dict.items():\n",
    "        f.write('%s: %s\\n' % (key, value))\n",
    "        \n",
    "# Output geneA only file using sample gene A selected\n",
    "geneA_file = os.path.join(base_dirs[0], analysis_name, geneSetA_pick + \".txt\")\n",
    "geneA_only.to_csv(geneA_file, sep='\\t', float_format=\"%.5g\")"
   ]
  },
  {
   "cell_type": "markdown",
   "metadata": {},
   "source": [
    "## Train \n",
    "Train compression methods (VAE, PCA) using simulated data"
   ]
  },
  {
   "cell_type": "code",
   "execution_count": 15,
   "metadata": {
    "ExecuteTime": {
     "end_time": "2019-04-09T22:38:42.677341Z",
     "start_time": "2019-04-09T22:38:35.085203Z"
    }
   },
   "outputs": [
    {
     "name": "stderr",
     "output_type": "stream",
     "text": [
      "/home/alexandra/Documents/Repos/Pseudomonas_latent_spaces/scripts/functions/vae.py:206: UserWarning: Output \"custom_variational_layer_1\" missing from loss dictionary. We assume this was done on purpose, and we will not be expecting any data to be passed to \"custom_variational_layer_1\" during training.\n",
      "  vae.compile(optimizer=adam, loss=None, loss_weights=[beta])\n"
     ]
    },
    {
     "name": "stdout",
     "output_type": "stream",
     "text": [
      "Train on 1072 samples, validate on 119 samples\n",
      "Epoch 1/100\n",
      "1072/1072 [==============================] - 0s 289us/step - loss: 138.1072 - val_loss: 136.3068\n",
      "Epoch 2/100\n",
      "1072/1072 [==============================] - 0s 60us/step - loss: 135.4739 - val_loss: 131.8833\n",
      "Epoch 3/100\n",
      "1072/1072 [==============================] - 0s 54us/step - loss: 132.9492 - val_loss: 130.7618\n",
      "Epoch 4/100\n",
      "1072/1072 [==============================] - 0s 56us/step - loss: 130.7846 - val_loss: 130.9888\n",
      "Epoch 5/100\n",
      "1072/1072 [==============================] - 0s 59us/step - loss: 128.9328 - val_loss: 126.9091\n",
      "Epoch 6/100\n",
      "1072/1072 [==============================] - 0s 59us/step - loss: 127.5153 - val_loss: 128.5941\n",
      "Epoch 7/100\n",
      "1072/1072 [==============================] - 0s 61us/step - loss: 127.0566 - val_loss: 122.0782\n",
      "Epoch 8/100\n",
      "1072/1072 [==============================] - 0s 61us/step - loss: 126.6579 - val_loss: 135.2197\n",
      "Epoch 9/100\n",
      "1072/1072 [==============================] - 0s 57us/step - loss: 125.4114 - val_loss: 132.4035\n",
      "Epoch 10/100\n",
      "1072/1072 [==============================] - 0s 57us/step - loss: 125.8333 - val_loss: 126.8632\n",
      "Epoch 11/100\n",
      "1072/1072 [==============================] - 0s 55us/step - loss: 125.0481 - val_loss: 120.8205\n",
      "Epoch 12/100\n",
      "1072/1072 [==============================] - 0s 55us/step - loss: 124.7789 - val_loss: 124.4223\n",
      "Epoch 13/100\n",
      "1072/1072 [==============================] - 0s 55us/step - loss: 125.1262 - val_loss: 124.0007\n",
      "Epoch 14/100\n",
      "1072/1072 [==============================] - 0s 58us/step - loss: 124.8958 - val_loss: 120.6572\n",
      "Epoch 15/100\n",
      "1072/1072 [==============================] - 0s 56us/step - loss: 123.8064 - val_loss: 119.6982\n",
      "Epoch 16/100\n",
      "1072/1072 [==============================] - 0s 56us/step - loss: 123.5779 - val_loss: 120.6625\n",
      "Epoch 17/100\n",
      "1072/1072 [==============================] - 0s 55us/step - loss: 122.9780 - val_loss: 122.3476\n",
      "Epoch 18/100\n",
      "1072/1072 [==============================] - 0s 56us/step - loss: 123.3689 - val_loss: 119.2773\n",
      "Epoch 19/100\n",
      "1072/1072 [==============================] - 0s 55us/step - loss: 123.5079 - val_loss: 118.8100\n",
      "Epoch 20/100\n",
      "1072/1072 [==============================] - 0s 64us/step - loss: 122.4684 - val_loss: 120.1715\n",
      "Epoch 21/100\n",
      "1072/1072 [==============================] - 0s 66us/step - loss: 122.1526 - val_loss: 120.9087\n",
      "Epoch 22/100\n",
      "1072/1072 [==============================] - 0s 64us/step - loss: 121.8359 - val_loss: 121.0250\n",
      "Epoch 23/100\n",
      "1072/1072 [==============================] - 0s 56us/step - loss: 121.5232 - val_loss: 119.2899\n",
      "Epoch 24/100\n",
      "1072/1072 [==============================] - 0s 55us/step - loss: 122.3185 - val_loss: 117.7756\n",
      "Epoch 25/100\n",
      "1072/1072 [==============================] - 0s 67us/step - loss: 121.1709 - val_loss: 118.3598\n",
      "Epoch 26/100\n",
      "1072/1072 [==============================] - 0s 64us/step - loss: 121.2627 - val_loss: 118.3110\n",
      "Epoch 27/100\n",
      "1072/1072 [==============================] - 0s 62us/step - loss: 120.7706 - val_loss: 117.0576\n",
      "Epoch 28/100\n",
      "1072/1072 [==============================] - 0s 56us/step - loss: 120.2587 - val_loss: 119.0458\n",
      "Epoch 29/100\n",
      "1072/1072 [==============================] - 0s 54us/step - loss: 120.6805 - val_loss: 117.9376\n",
      "Epoch 30/100\n",
      "1072/1072 [==============================] - 0s 54us/step - loss: 120.2353 - val_loss: 115.6692\n",
      "Epoch 31/100\n",
      "1072/1072 [==============================] - 0s 54us/step - loss: 119.4824 - val_loss: 117.4653\n",
      "Epoch 32/100\n",
      "1072/1072 [==============================] - 0s 54us/step - loss: 119.9937 - val_loss: 116.9446\n",
      "Epoch 33/100\n",
      "1072/1072 [==============================] - 0s 55us/step - loss: 119.9209 - val_loss: 117.5240\n",
      "Epoch 34/100\n",
      "1072/1072 [==============================] - 0s 52us/step - loss: 120.5134 - val_loss: 117.3559\n",
      "Epoch 35/100\n",
      "1072/1072 [==============================] - 0s 57us/step - loss: 119.1692 - val_loss: 117.7135\n",
      "Epoch 36/100\n",
      "1072/1072 [==============================] - 0s 57us/step - loss: 119.2786 - val_loss: 116.0882\n",
      "Epoch 37/100\n",
      "1072/1072 [==============================] - 0s 55us/step - loss: 119.1951 - val_loss: 115.7834\n",
      "Epoch 38/100\n",
      "1072/1072 [==============================] - 0s 55us/step - loss: 119.0835 - val_loss: 117.3414\n",
      "Epoch 39/100\n",
      "1072/1072 [==============================] - 0s 55us/step - loss: 119.1303 - val_loss: 117.5091\n",
      "Epoch 40/100\n",
      "1072/1072 [==============================] - 0s 55us/step - loss: 119.7651 - val_loss: 115.7553\n",
      "Epoch 41/100\n",
      "1072/1072 [==============================] - 0s 55us/step - loss: 118.8715 - val_loss: 116.3872\n",
      "Epoch 42/100\n",
      "1072/1072 [==============================] - 0s 56us/step - loss: 118.8801 - val_loss: 116.3689\n",
      "Epoch 43/100\n",
      "1072/1072 [==============================] - 0s 60us/step - loss: 117.9693 - val_loss: 116.0731\n",
      "Epoch 44/100\n",
      "1072/1072 [==============================] - 0s 58us/step - loss: 118.8821 - val_loss: 116.5032\n",
      "Epoch 45/100\n",
      "1072/1072 [==============================] - 0s 55us/step - loss: 118.5356 - val_loss: 115.6373\n",
      "Epoch 46/100\n",
      "1072/1072 [==============================] - 0s 56us/step - loss: 118.2415 - val_loss: 116.1884\n",
      "Epoch 47/100\n",
      "1072/1072 [==============================] - 0s 57us/step - loss: 118.2936 - val_loss: 115.0763\n",
      "Epoch 48/100\n",
      "1072/1072 [==============================] - 0s 55us/step - loss: 118.4371 - val_loss: 116.8183\n",
      "Epoch 49/100\n",
      "1072/1072 [==============================] - 0s 57us/step - loss: 118.0324 - val_loss: 116.9889\n",
      "Epoch 50/100\n",
      "1072/1072 [==============================] - 0s 56us/step - loss: 118.5113 - val_loss: 116.1416\n",
      "Epoch 51/100\n",
      "1072/1072 [==============================] - 0s 54us/step - loss: 118.3013 - val_loss: 116.1703\n",
      "Epoch 52/100\n",
      "1072/1072 [==============================] - 0s 54us/step - loss: 118.7604 - val_loss: 115.9824\n",
      "Epoch 53/100\n",
      "1072/1072 [==============================] - 0s 54us/step - loss: 118.1915 - val_loss: 116.4582\n",
      "Epoch 54/100\n",
      "1072/1072 [==============================] - 0s 55us/step - loss: 117.6242 - val_loss: 115.5020\n",
      "Epoch 55/100\n",
      "1072/1072 [==============================] - 0s 53us/step - loss: 117.7166 - val_loss: 116.5066\n",
      "Epoch 56/100\n",
      "1072/1072 [==============================] - 0s 55us/step - loss: 117.6932 - val_loss: 117.1499\n",
      "Epoch 57/100\n",
      "1072/1072 [==============================] - 0s 53us/step - loss: 117.4159 - val_loss: 115.3034\n",
      "Epoch 58/100\n",
      "1072/1072 [==============================] - 0s 55us/step - loss: 117.5891 - val_loss: 115.7351\n",
      "Epoch 59/100\n",
      "1072/1072 [==============================] - 0s 53us/step - loss: 117.4856 - val_loss: 115.8140\n",
      "Epoch 60/100\n",
      "1072/1072 [==============================] - 0s 56us/step - loss: 117.3161 - val_loss: 115.3116\n",
      "Epoch 61/100\n",
      "1072/1072 [==============================] - 0s 54us/step - loss: 117.7145 - val_loss: 115.9791\n",
      "Epoch 62/100\n",
      "1072/1072 [==============================] - 0s 53us/step - loss: 117.6254 - val_loss: 115.2293\n",
      "Epoch 63/100\n",
      "1072/1072 [==============================] - 0s 53us/step - loss: 117.6266 - val_loss: 115.8879\n",
      "Epoch 64/100\n",
      "1072/1072 [==============================] - 0s 53us/step - loss: 116.6723 - val_loss: 115.0919\n",
      "Epoch 65/100\n",
      "1072/1072 [==============================] - 0s 53us/step - loss: 117.4544 - val_loss: 116.6522\n",
      "Epoch 66/100\n",
      "1072/1072 [==============================] - 0s 55us/step - loss: 117.6240 - val_loss: 114.5247\n",
      "Epoch 67/100\n",
      "1072/1072 [==============================] - 0s 54us/step - loss: 117.2666 - val_loss: 114.4862\n",
      "Epoch 68/100\n",
      "1072/1072 [==============================] - 0s 53us/step - loss: 117.1144 - val_loss: 116.1901\n",
      "Epoch 69/100\n",
      "1072/1072 [==============================] - 0s 52us/step - loss: 116.9723 - val_loss: 114.8305\n",
      "Epoch 70/100\n",
      "1072/1072 [==============================] - 0s 55us/step - loss: 116.8861 - val_loss: 115.0656\n",
      "Epoch 71/100\n",
      "1072/1072 [==============================] - 0s 64us/step - loss: 117.0960 - val_loss: 115.0757\n",
      "Epoch 72/100\n",
      "1072/1072 [==============================] - 0s 67us/step - loss: 116.7463 - val_loss: 114.3904\n",
      "Epoch 73/100\n",
      "1072/1072 [==============================] - 0s 64us/step - loss: 116.8956 - val_loss: 115.2053\n",
      "Epoch 74/100\n",
      "1072/1072 [==============================] - 0s 61us/step - loss: 116.5889 - val_loss: 114.5206\n",
      "Epoch 75/100\n",
      "1072/1072 [==============================] - 0s 56us/step - loss: 116.9371 - val_loss: 115.1452\n"
     ]
    },
    {
     "name": "stdout",
     "output_type": "stream",
     "text": [
      "Epoch 76/100\n",
      "1072/1072 [==============================] - 0s 55us/step - loss: 116.6323 - val_loss: 113.9831\n",
      "Epoch 77/100\n",
      "1072/1072 [==============================] - 0s 54us/step - loss: 116.4978 - val_loss: 115.0807\n",
      "Epoch 78/100\n",
      "1072/1072 [==============================] - 0s 56us/step - loss: 116.8335 - val_loss: 116.7177\n",
      "Epoch 79/100\n",
      "1072/1072 [==============================] - 0s 54us/step - loss: 116.4675 - val_loss: 115.1224\n",
      "Epoch 80/100\n",
      "1072/1072 [==============================] - 0s 55us/step - loss: 116.4426 - val_loss: 114.8202\n",
      "Epoch 81/100\n",
      "1072/1072 [==============================] - 0s 52us/step - loss: 116.8593 - val_loss: 114.7877\n",
      "Epoch 82/100\n",
      "1072/1072 [==============================] - 0s 53us/step - loss: 116.3232 - val_loss: 114.6277\n",
      "Epoch 83/100\n",
      "1072/1072 [==============================] - 0s 56us/step - loss: 116.5780 - val_loss: 114.7552\n",
      "Epoch 84/100\n",
      "1072/1072 [==============================] - 0s 58us/step - loss: 116.6942 - val_loss: 115.8163\n",
      "Epoch 85/100\n",
      "1072/1072 [==============================] - 0s 57us/step - loss: 116.5785 - val_loss: 114.9267\n",
      "Epoch 86/100\n",
      "1072/1072 [==============================] - 0s 58us/step - loss: 116.5810 - val_loss: 114.7192\n",
      "Epoch 87/100\n",
      "1072/1072 [==============================] - 0s 55us/step - loss: 116.6452 - val_loss: 114.8271\n",
      "Epoch 88/100\n",
      "1072/1072 [==============================] - 0s 57us/step - loss: 116.1246 - val_loss: 114.9040\n",
      "Epoch 89/100\n",
      "1072/1072 [==============================] - 0s 59us/step - loss: 116.1987 - val_loss: 115.8741\n",
      "Epoch 90/100\n",
      "1072/1072 [==============================] - 0s 59us/step - loss: 116.2161 - val_loss: 115.1787\n",
      "Epoch 91/100\n",
      "1072/1072 [==============================] - 0s 56us/step - loss: 116.2188 - val_loss: 114.7025\n",
      "Epoch 92/100\n",
      "1072/1072 [==============================] - 0s 53us/step - loss: 116.4868 - val_loss: 115.3548\n",
      "Epoch 93/100\n",
      "1072/1072 [==============================] - 0s 58us/step - loss: 116.0894 - val_loss: 114.6770\n",
      "Epoch 94/100\n",
      "1072/1072 [==============================] - 0s 58us/step - loss: 116.1044 - val_loss: 114.6910\n",
      "Epoch 95/100\n",
      "1072/1072 [==============================] - 0s 58us/step - loss: 115.7879 - val_loss: 114.9283\n",
      "Epoch 96/100\n",
      "1072/1072 [==============================] - 0s 56us/step - loss: 116.0569 - val_loss: 115.4720\n",
      "Epoch 97/100\n",
      "1072/1072 [==============================] - 0s 55us/step - loss: 115.8582 - val_loss: 114.6529\n",
      "Epoch 98/100\n",
      "1072/1072 [==============================] - 0s 57us/step - loss: 116.0641 - val_loss: 113.9630\n",
      "Epoch 99/100\n",
      "1072/1072 [==============================] - 0s 59us/step - loss: 116.2460 - val_loss: 114.3177\n",
      "Epoch 100/100\n",
      "1072/1072 [==============================] - 0s 58us/step - loss: 115.8743 - val_loss: 114.0406\n",
      "CPU times: user 7.55 s, sys: 98.5 ms, total: 7.65 s\n",
      "Wall time: 7.51 s\n"
     ]
    },
    {
     "data": {
      "image/png": "[encoded data removed]",
      "text/plain": [
       "<matplotlib.figure.Figure at 0x7f7239772dd8>"
      ]
     },
     "metadata": {},
     "output_type": "display_data"
    }
   ],
   "source": [
    "%%time\n",
    "# Parameters to train nonlinear (VAE) compression method\n",
    "learning_rate = 0.001\n",
    "batch_size = 100\n",
    "epochs = 100\n",
    "kappa = 0.01\n",
    "intermediate_dim = 100\n",
    "latent_dim = 2\n",
    "epsilon_std = 1.0\n",
    "num_PCs = latent_dim\n",
    "\n",
    "base_dir = os.path.dirname(os.getcwd())\n",
    "\n",
    "# Train nonlinear (VAE)\n",
    "vae.tybalt_2layer_model(learning_rate, batch_size, epochs, kappa, intermediate_dim,\n",
    "                        latent_dim, epsilon_std, base_dir, analysis_name)\n",
    "# Train linear (PCA)\n",
    "pca.pca_model(base_dir, analysis_name, num_PCs)"
   ]
  },
  {
   "cell_type": "markdown",
   "metadata": {},
   "source": [
    "## Prediction\n",
    "Predict gene expression for each sample in the compendium\n",
    "\n",
    "Details about how the prediction computation works can be found within the prediction script: [interpolate.py](/functions/interpolate.py)\n",
    "\n",
    "Algorithm:\n",
    "```python\n",
    "sort samples based on gene A expression\n",
    "\n",
    "for sample in compendium:\n",
    "    baseline_expression = expression(sample with low gene A expression)\n",
    "    offset_vector = (expression(high gene A expression) - expression(low gene A expression)\n",
    "    scale_factor = expression(sample)/((expression(high gene A expression) - expression(low gene A expression))\n",
    "    predict_expression = baseline_expression + scale_factor*offset_vector \n",
    "```"
   ]
  },
  {
   "cell_type": "code",
   "execution_count": 16,
   "metadata": {
    "ExecuteTime": {
     "end_time": "2019-04-09T22:38:49.866197Z",
     "start_time": "2019-04-09T22:38:42.678550Z"
    }
   },
   "outputs": [
    {
     "name": "stdout",
     "output_type": "stream",
     "text": [
      "Number of genes in low expression group is (60, 200)\n",
      "Number of gene in high expression group is (60, 200)\n"
     ]
    },
    {
     "name": "stderr",
     "output_type": "stream",
     "text": [
      "/home/alexandra/anaconda3/envs/Pa/lib/python3.5/site-packages/keras/models.py:255: UserWarning: No training configuration found in save file: the model was *not* compiled. Compile it manually.\n",
      "  warnings.warn('No training configuration found in save file: '\n"
     ]
    },
    {
     "name": "stdout",
     "output_type": "stream",
     "text": [
      "Number of genes in low expression group is (60, 200)\n",
      "Number of gene in high expression group is (60, 200)\n",
      "Number of genes in low expression group is (60, 200)\n",
      "Number of gene in high expression group is (60, 200)\n"
     ]
    }
   ],
   "source": [
    "# Prediction based calculation described in interpolate.py\n",
    "\n",
    "# Define offset vectors in gene space\n",
    "data_dir = os.path.join(base_dirs[0], analysis_name)\n",
    "target_gene = geneSetA_pick\n",
    "percent_low = 5\n",
    "percent_high = 95\n",
    "\n",
    "def_offset.gene_space_offset(data_dir, target_gene, percent_low, percent_high)\n",
    "\n",
    "model_dir = os.path.join(base_dirs[2], analysis_name)\n",
    "encoded_dir = os.path.join(base_dirs[1], analysis_name)\n",
    "\n",
    "# Define offset vectors for VAE latent space\n",
    "# The offset vector represents the \"essence\" of gene A\n",
    "# The offset vector = highest percent_high gene expression - lowest percent_low gene expression  \n",
    "def_offset.vae_latent_space_offset(data_dir, model_dir, encoded_dir, latent_dim, target_gene, percent_low,\n",
    "                                   percent_high)\n",
    "# Define offset vectors for PCA latent space\n",
    "def_offset.pca_latent_space_offset(data_dir, model_dir, encoded_dir, target_gene, percent_low, percent_high)\n",
    "\n",
    "\n",
    "# Predict gene expression using offset in gene space and latent space\n",
    "# Predict sample gene expression = baseline low gene expression + scale factor * offset vector\n",
    "# interpolate.py returns correlation between predicted expression and actual expression\n",
    "out_dir = os.path.join(base_dirs[3], analysis_name)\n",
    "\n",
    "interpolate.interpolate_in_gene_space(data_dir, target_gene, out_dir, percent_low, percent_high)\n",
    "interpolate.interpolate_in_vae_latent_space(data_dir, model_dir, encoded_dir, latent_dim, \n",
    "                                            target_gene, out_dir, percent_low, percent_high)\n",
    "interpolate.interpolate_in_pca_latent_space(data_dir, model_dir, encoded_dir, target_gene, \n",
    "                                            out_dir, percent_low, percent_high)"
   ]
  },
  {
   "cell_type": "markdown",
   "metadata": {},
   "source": [
    "## Visualize\n",
    "Visualize prediction performance comparing VAE, PCA, No compression"
   ]
  },
  {
   "cell_type": "code",
   "execution_count": 17,
   "metadata": {
    "ExecuteTime": {
     "end_time": "2019-04-09T22:38:51.935321Z",
     "start_time": "2019-04-09T22:38:49.867507Z"
    }
   },
   "outputs": [
    {
     "name": "stderr",
     "output_type": "stream",
     "text": [
      "/home/alexandra/Documents/Repos/Pseudomonas_latent_spaces/scripts/functions/plot.py:87: FutureWarning: \n",
      "Passing list-likes to .loc or [] with any missing label will raise\n",
      "KeyError in the future, you can use .reindex() as an alternative.\n",
      "\n",
      "See the documentation here:\n",
      "http://pandas.pydata.org/pandas-docs/stable/indexing.html#deprecate-loc-reindex-listlike\n",
      "  X_sorted = X.loc[sorted_id.index].dropna()\n"
     ]
    },
    {
     "data": {
      "image/png": "[encoded data removed]",
      "text/plain": [
       "<matplotlib.figure.Figure at 0x7f7233199978>"
      ]
     },
     "metadata": {},
     "output_type": "display_data"
    },
    {
     "data": {
      "image/png": "[encoded data removed]",
      "text/plain": [
       "<matplotlib.figure.Figure at 0x7f723303f518>"
      ]
     },
     "metadata": {},
     "output_type": "display_data"
    },
    {
     "data": {
      "image/png": "[encoded data removed]",
      "text/plain": [
       "<matplotlib.figure.Figure at 0x7f7239079780>"
      ]
     },
     "metadata": {},
     "output_type": "display_data"
    }
   ],
   "source": [
    "# True if the x-axis of the plot uses the sample index\n",
    "# False if the x-asix of the plot uses the gene expression of the target gene\n",
    "by_sample_ind = False\n",
    "\n",
    "# Plot correlation score per sample along gradient of gene A expression\n",
    "viz_dir = os.path.join(base_dirs[5], analysis_name)\n",
    "plot.plot_corr_gradient(out_dir, viz_dir, target_gene, by_sample_ind)"
   ]
  }
 ],
 "metadata": {
  "kernelspec": {
   "display_name": "Python [conda env:Pa]",
   "language": "python",
   "name": "conda-env-Pa-py"
  },
  "language_info": {
   "codemirror_mode": {
    "name": "ipython",
    "version": 3
   },
   "file_extension": ".py",
   "mimetype": "text/x-python",
   "name": "python",
   "nbconvert_exporter": "python",
   "pygments_lexer": "ipython3",
   "version": "3.5.5"
  }
 },
 "nbformat": 4,
 "nbformat_minor": 2
}
