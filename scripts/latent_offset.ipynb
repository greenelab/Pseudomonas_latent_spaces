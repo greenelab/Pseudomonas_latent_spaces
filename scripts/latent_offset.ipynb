{
 "cells": [
  {
   "cell_type": "code",
   "execution_count": 1,
   "metadata": {},
   "outputs": [],
   "source": [
    "#-------------------------------------------------------------------------------------------------------------------------------\n",
    "# By Alexandra Lee (July 2018) \n",
    "#\n",
    "# Take the average of the encoded gene expression for the two experimental conditions\n",
    "# Take the difference of the averages -- this will be the offset for the latent space\n",
    "#-------------------------------------------------------------------------------------------------------------------------------\n",
    "import os\n",
    "import pandas as pd\n",
    "import numpy as np\n",
    "np.random.seed(123)"
   ]
  },
  {
   "cell_type": "code",
   "execution_count": 2,
   "metadata": {},
   "outputs": [],
   "source": [
    "# load arguments\n",
    "encodedA_file = os.path.join(os.path.dirname(os.getcwd()), \"encoded\", \"tybalt_1layer_10_trainA_encoded.tsv\")\n",
    "encodedB_file = os.path.join(os.path.dirname(os.getcwd()), \"encoded\", \"encoded_train_B.txt\")\n",
    "\n",
    "# output files\n",
    "out_file = os.path.join(os.path.dirname(os.getcwd()), \"data\", \"train_offset_latent.txt\")"
   ]
  },
  {
   "cell_type": "code",
   "execution_count": 3,
   "metadata": {},
   "outputs": [
    {
     "data": {
      "text/html": [
       "<div>\n",
       "<style scoped>\n",
       "    .dataframe tbody tr th:only-of-type {\n",
       "        vertical-align: middle;\n",
       "    }\n",
       "\n",
       "    .dataframe tbody tr th {\n",
       "        vertical-align: top;\n",
       "    }\n",
       "\n",
       "    .dataframe thead th {\n",
       "        text-align: right;\n",
       "    }\n",
       "</style>\n",
       "<table border=\"1\" class=\"dataframe\">\n",
       "  <thead>\n",
       "    <tr style=\"text-align: right;\">\n",
       "      <th></th>\n",
       "      <th>1</th>\n",
       "      <th>2</th>\n",
       "      <th>3</th>\n",
       "      <th>4</th>\n",
       "      <th>5</th>\n",
       "      <th>6</th>\n",
       "      <th>7</th>\n",
       "      <th>8</th>\n",
       "      <th>9</th>\n",
       "      <th>10</th>\n",
       "    </tr>\n",
       "  </thead>\n",
       "  <tbody>\n",
       "    <tr>\n",
       "      <th>GSM767700.CEL</th>\n",
       "      <td>0.000011</td>\n",
       "      <td>0.000034</td>\n",
       "      <td>0.000011</td>\n",
       "      <td>0.000019</td>\n",
       "      <td>0.0</td>\n",
       "      <td>0.000012</td>\n",
       "      <td>0.0</td>\n",
       "      <td>0.000000</td>\n",
       "      <td>0.000002</td>\n",
       "      <td>0.00001</td>\n",
       "    </tr>\n",
       "    <tr>\n",
       "      <th>GSM767701.CEL</th>\n",
       "      <td>0.000000</td>\n",
       "      <td>0.000000</td>\n",
       "      <td>1.144873</td>\n",
       "      <td>0.782276</td>\n",
       "      <td>0.0</td>\n",
       "      <td>0.000000</td>\n",
       "      <td>0.0</td>\n",
       "      <td>2.999931</td>\n",
       "      <td>0.000000</td>\n",
       "      <td>0.00000</td>\n",
       "    </tr>\n",
       "  </tbody>\n",
       "</table>\n",
       "</div>"
      ],
      "text/plain": [
       "                      1         2         3         4    5         6    7  \\\n",
       "GSM767700.CEL  0.000011  0.000034  0.000011  0.000019  0.0  0.000012  0.0   \n",
       "GSM767701.CEL  0.000000  0.000000  1.144873  0.782276  0.0  0.000000  0.0   \n",
       "\n",
       "                      8         9       10  \n",
       "GSM767700.CEL  0.000000  0.000002  0.00001  \n",
       "GSM767701.CEL  2.999931  0.000000  0.00000  "
      ]
     },
     "execution_count": 3,
     "metadata": {},
     "output_type": "execute_result"
    }
   ],
   "source": [
    "# read in data\n",
    "encodedA_data = pd.read_table(encodedA_file, header = 0, sep = '\\t', index_col = 0)\n",
    "encodedB_data = pd.read_table(encodedB_file, header = 0, sep = '\\t', index_col = 0)\n",
    "encodedA_data.head(5)"
   ]
  },
  {
   "cell_type": "code",
   "execution_count": 4,
   "metadata": {},
   "outputs": [],
   "source": [
    "# Change index names to integer for downstream sorting\n",
    "encodedA_data.columns = [str(i) for i in list(range(0,10))]\n",
    "encodedB_data.columns = [str(i) for i in list(range(0,10))]"
   ]
  },
  {
   "cell_type": "code",
   "execution_count": 5,
   "metadata": {},
   "outputs": [],
   "source": [
    "# Average gene expression across samples in training set\n",
    "train_A_mean = encodedA_data.mean(axis=0)\n",
    "train_B_mean = encodedB_data.mean(axis=0)\n",
    "\n",
    "# Generate offset using average gene expression in original dataset\n",
    "train_offset_latent = (train_A_mean - train_B_mean).sort_index(ascending=True)\n",
    "train_offset_latent = pd.DataFrame(train_offset_latent, index = train_offset_latent.index)"
   ]
  },
  {
   "cell_type": "code",
   "execution_count": 6,
   "metadata": {},
   "outputs": [],
   "source": [
    "# output\n",
    "train_offset_latent.to_csv(out_file, sep='\\t')"
   ]
  }
 ],
 "metadata": {
  "kernelspec": {
   "display_name": "Python 3",
   "language": "python",
   "name": "python3"
  },
  "language_info": {
   "codemirror_mode": {
    "name": "ipython",
    "version": 3
   },
   "file_extension": ".py",
   "mimetype": "text/x-python",
   "name": "python",
   "nbconvert_exporter": "python",
   "pygments_lexer": "ipython3",
   "version": "3.5.5"
  }
 },
 "nbformat": 4,
 "nbformat_minor": 2
}
