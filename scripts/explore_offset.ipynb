{
 "cells": [
  {
   "cell_type": "markdown",
   "metadata": {
    "ExecuteTime": {
     "end_time": "2019-02-04T17:58:24.670217Z",
     "start_time": "2019-02-04T17:58:24.227556Z"
    }
   },
   "source": [
    "# Explore offset vector\n",
    "\n",
    "We want to know what the offset vector is capturing.  Theoretically it should be capturing the \"essence of gene A\" since it is defined by taking the samples with the highest expression of gene A and the lowest expression of gene A.\n",
    "\n",
    "We want to test if this offset vector is capturing genes in group A and B"
   ]
  },
  {
   "cell_type": "code",
   "execution_count": 34,
   "metadata": {
    "ExecuteTime": {
     "end_time": "2019-02-12T19:37:42.870659Z",
     "start_time": "2019-02-12T19:37:42.868164Z"
    }
   },
   "outputs": [],
   "source": [
    "import os\n",
    "import pandas as pd\n",
    "import numpy as np\n",
    "import seaborn as sns\n",
    "import matplotlib.pyplot as plt\n",
    "from matplotlib_venn import venn2\n",
    "\n",
    "randomState = 123\n",
    "from numpy.random import seed\n",
    "seed(randomState)"
   ]
  },
  {
   "cell_type": "code",
   "execution_count": 35,
   "metadata": {
    "ExecuteTime": {
     "end_time": "2019-02-12T19:37:43.502882Z",
     "start_time": "2019-02-12T19:37:43.499549Z"
    }
   },
   "outputs": [],
   "source": [
    "# Load data\n",
    "base_dir = os.path.join(os.path.dirname(os.getcwd()), \"data\")\n",
    "analysis_name = \"sim_AB_2775_300_v2\"\n",
    "offset_gene_file = os.path.join(os.path.dirname(os.getcwd()), \"data\", analysis_name, \"offset_gene_space.txt\")\n",
    "offset_vae_file = os.path.join(os.path.dirname(os.getcwd()), \"encoded\", analysis_name, \"offset_latent_space_vae.txt\")\n",
    "A_file = os.path.join(base_dir, analysis_name, \"geneSetA.txt\")\n",
    "B_file = os.path.join(base_dir, analysis_name, \"geneSetB.txt\")\n",
    "weight_file = os.path.join(os.path.dirname(os.getcwd()), \"data\", analysis_name, \"VAE_weight_matrix.txt\")"
   ]
  },
  {
   "cell_type": "code",
   "execution_count": 36,
   "metadata": {
    "ExecuteTime": {
     "end_time": "2019-02-12T19:37:44.279078Z",
     "start_time": "2019-02-12T19:37:44.162217Z"
    }
   },
   "outputs": [
    {
     "data": {
      "text/html": [
       "<div>\n",
       "<style scoped>\n",
       "    .dataframe tbody tr th:only-of-type {\n",
       "        vertical-align: middle;\n",
       "    }\n",
       "\n",
       "    .dataframe tbody tr th {\n",
       "        vertical-align: top;\n",
       "    }\n",
       "\n",
       "    .dataframe thead th {\n",
       "        text-align: right;\n",
       "    }\n",
       "</style>\n",
       "<table border=\"1\" class=\"dataframe\">\n",
       "  <thead>\n",
       "    <tr style=\"text-align: right;\">\n",
       "      <th></th>\n",
       "      <th>PA0001</th>\n",
       "      <th>PA0002</th>\n",
       "      <th>PA0003</th>\n",
       "      <th>PA0004</th>\n",
       "      <th>PA0005</th>\n",
       "      <th>PA0006</th>\n",
       "      <th>PA0007</th>\n",
       "      <th>PA0008</th>\n",
       "      <th>PA0009</th>\n",
       "      <th>PA0010</th>\n",
       "      <th>...</th>\n",
       "      <th>PA5561</th>\n",
       "      <th>PA5562</th>\n",
       "      <th>PA5563</th>\n",
       "      <th>PA5564</th>\n",
       "      <th>PA5565</th>\n",
       "      <th>PA5566</th>\n",
       "      <th>PA5567</th>\n",
       "      <th>PA5568</th>\n",
       "      <th>PA5569</th>\n",
       "      <th>PA5570</th>\n",
       "    </tr>\n",
       "  </thead>\n",
       "  <tbody>\n",
       "    <tr>\n",
       "      <th>0</th>\n",
       "      <td>0.048716</td>\n",
       "      <td>0.29774</td>\n",
       "      <td>0.26768</td>\n",
       "      <td>0.045651</td>\n",
       "      <td>0.02613</td>\n",
       "      <td>0.000452</td>\n",
       "      <td>-0.087915</td>\n",
       "      <td>0.015366</td>\n",
       "      <td>0.032408</td>\n",
       "      <td>0.09323</td>\n",
       "      <td>...</td>\n",
       "      <td>0.020266</td>\n",
       "      <td>0.056221</td>\n",
       "      <td>0.059724</td>\n",
       "      <td>0.020424</td>\n",
       "      <td>0.022496</td>\n",
       "      <td>-0.086384</td>\n",
       "      <td>-0.020905</td>\n",
       "      <td>0.021258</td>\n",
       "      <td>0.086268</td>\n",
       "      <td>0.093674</td>\n",
       "    </tr>\n",
       "  </tbody>\n",
       "</table>\n",
       "<p>1 rows × 5549 columns</p>\n",
       "</div>"
      ],
      "text/plain": [
       "     PA0001   PA0002   PA0003    PA0004   PA0005    PA0006    PA0007  \\\n",
       "0  0.048716  0.29774  0.26768  0.045651  0.02613  0.000452 -0.087915   \n",
       "\n",
       "     PA0008    PA0009   PA0010    ...       PA5561    PA5562    PA5563  \\\n",
       "0  0.015366  0.032408  0.09323    ...     0.020266  0.056221  0.059724   \n",
       "\n",
       "     PA5564    PA5565    PA5566    PA5567    PA5568    PA5569    PA5570  \n",
       "0  0.020424  0.022496 -0.086384 -0.020905  0.021258  0.086268  0.093674  \n",
       "\n",
       "[1 rows x 5549 columns]"
      ]
     },
     "execution_count": 36,
     "metadata": {},
     "output_type": "execute_result"
    }
   ],
   "source": [
    "# Read gene space offset\n",
    "offset_gene_space = pd.read_table(offset_gene_file, header=0, index_col=0)\n",
    "offset_gene_space"
   ]
  },
  {
   "cell_type": "code",
   "execution_count": 37,
   "metadata": {
    "ExecuteTime": {
     "end_time": "2019-02-12T19:37:44.894300Z",
     "start_time": "2019-02-12T19:37:44.871424Z"
    }
   },
   "outputs": [
    {
     "data": {
      "text/html": [
       "<div>\n",
       "<style scoped>\n",
       "    .dataframe tbody tr th:only-of-type {\n",
       "        vertical-align: middle;\n",
       "    }\n",
       "\n",
       "    .dataframe tbody tr th {\n",
       "        vertical-align: top;\n",
       "    }\n",
       "\n",
       "    .dataframe thead th {\n",
       "        text-align: right;\n",
       "    }\n",
       "</style>\n",
       "<table border=\"1\" class=\"dataframe\">\n",
       "  <thead>\n",
       "    <tr style=\"text-align: right;\">\n",
       "      <th></th>\n",
       "      <th>0</th>\n",
       "      <th>1</th>\n",
       "      <th>2</th>\n",
       "      <th>3</th>\n",
       "      <th>4</th>\n",
       "      <th>5</th>\n",
       "      <th>6</th>\n",
       "      <th>7</th>\n",
       "      <th>8</th>\n",
       "      <th>9</th>\n",
       "      <th>...</th>\n",
       "      <th>290</th>\n",
       "      <th>291</th>\n",
       "      <th>292</th>\n",
       "      <th>293</th>\n",
       "      <th>294</th>\n",
       "      <th>295</th>\n",
       "      <th>296</th>\n",
       "      <th>297</th>\n",
       "      <th>298</th>\n",
       "      <th>299</th>\n",
       "    </tr>\n",
       "  </thead>\n",
       "  <tbody>\n",
       "    <tr>\n",
       "      <th>0</th>\n",
       "      <td>0.21778</td>\n",
       "      <td>-0.29499</td>\n",
       "      <td>-1.1781</td>\n",
       "      <td>0.54693</td>\n",
       "      <td>1.1309</td>\n",
       "      <td>1.5641</td>\n",
       "      <td>-1.7873</td>\n",
       "      <td>-0.17815</td>\n",
       "      <td>1.0093</td>\n",
       "      <td>0.2959</td>\n",
       "      <td>...</td>\n",
       "      <td>-2.7089</td>\n",
       "      <td>0.41333</td>\n",
       "      <td>0.11264</td>\n",
       "      <td>0.056392</td>\n",
       "      <td>2.9155</td>\n",
       "      <td>-0.45113</td>\n",
       "      <td>0.11076</td>\n",
       "      <td>-1.27</td>\n",
       "      <td>-0.73142</td>\n",
       "      <td>-1.9786</td>\n",
       "    </tr>\n",
       "  </tbody>\n",
       "</table>\n",
       "<p>1 rows × 300 columns</p>\n",
       "</div>"
      ],
      "text/plain": [
       "         0        1       2        3       4       5       6        7       8  \\\n",
       "0  0.21778 -0.29499 -1.1781  0.54693  1.1309  1.5641 -1.7873 -0.17815  1.0093   \n",
       "\n",
       "        9   ...       290      291      292       293     294      295  \\\n",
       "0  0.2959   ...   -2.7089  0.41333  0.11264  0.056392  2.9155 -0.45113   \n",
       "\n",
       "       296   297      298     299  \n",
       "0  0.11076 -1.27 -0.73142 -1.9786  \n",
       "\n",
       "[1 rows x 300 columns]"
      ]
     },
     "execution_count": 37,
     "metadata": {},
     "output_type": "execute_result"
    }
   ],
   "source": [
    "# Read VAE space offset\n",
    "offset_vae_space = pd.read_table(offset_vae_file, header=0, index_col=0)\n",
    "offset_vae_space"
   ]
  },
  {
   "cell_type": "code",
   "execution_count": 38,
   "metadata": {
    "ExecuteTime": {
     "end_time": "2019-02-12T19:37:45.763510Z",
     "start_time": "2019-02-12T19:37:45.755049Z"
    }
   },
   "outputs": [],
   "source": [
    "# Read genes in set A\n",
    "geneSetA = pd.read_table(A_file, header=0, index_col=0)\n",
    "geneSetA_ls = [l[0] for l in geneSetA.values.tolist()]\n",
    "geneSetA_set = set(geneSetA_ls)"
   ]
  },
  {
   "cell_type": "code",
   "execution_count": 39,
   "metadata": {
    "ExecuteTime": {
     "end_time": "2019-02-12T19:37:48.059051Z",
     "start_time": "2019-02-12T19:37:48.053876Z"
    }
   },
   "outputs": [],
   "source": [
    "# Read genes in set B\n",
    "geneSetB = pd.read_table(B_file, header=0, index_col=0)\n",
    "geneSetB_ls = [l[0] for l in geneSetB.values.tolist()]\n",
    "geneSetB_set = set(geneSetB_ls)"
   ]
  },
  {
   "cell_type": "code",
   "execution_count": 40,
   "metadata": {
    "ExecuteTime": {
     "end_time": "2019-02-12T19:37:49.437522Z",
     "start_time": "2019-02-12T19:37:48.887536Z"
    }
   },
   "outputs": [
    {
     "data": {
      "text/html": [
       "<div>\n",
       "<style scoped>\n",
       "    .dataframe tbody tr th:only-of-type {\n",
       "        vertical-align: middle;\n",
       "    }\n",
       "\n",
       "    .dataframe tbody tr th {\n",
       "        vertical-align: top;\n",
       "    }\n",
       "\n",
       "    .dataframe thead th {\n",
       "        text-align: right;\n",
       "    }\n",
       "</style>\n",
       "<table border=\"1\" class=\"dataframe\">\n",
       "  <thead>\n",
       "    <tr style=\"text-align: right;\">\n",
       "      <th></th>\n",
       "      <th>1</th>\n",
       "      <th>2</th>\n",
       "      <th>3</th>\n",
       "      <th>4</th>\n",
       "      <th>5</th>\n",
       "      <th>6</th>\n",
       "      <th>7</th>\n",
       "      <th>8</th>\n",
       "      <th>9</th>\n",
       "      <th>10</th>\n",
       "      <th>...</th>\n",
       "      <th>291</th>\n",
       "      <th>292</th>\n",
       "      <th>293</th>\n",
       "      <th>294</th>\n",
       "      <th>295</th>\n",
       "      <th>296</th>\n",
       "      <th>297</th>\n",
       "      <th>298</th>\n",
       "      <th>299</th>\n",
       "      <th>300</th>\n",
       "    </tr>\n",
       "  </thead>\n",
       "  <tbody>\n",
       "    <tr>\n",
       "      <th>PA0001</th>\n",
       "      <td>-0.109896</td>\n",
       "      <td>-0.046397</td>\n",
       "      <td>-0.074332</td>\n",
       "      <td>-0.147623</td>\n",
       "      <td>-0.001468</td>\n",
       "      <td>-0.144918</td>\n",
       "      <td>-0.082134</td>\n",
       "      <td>-0.025183</td>\n",
       "      <td>-0.032311</td>\n",
       "      <td>-0.066211</td>\n",
       "      <td>...</td>\n",
       "      <td>-0.069226</td>\n",
       "      <td>-0.100556</td>\n",
       "      <td>0.027667</td>\n",
       "      <td>-0.103827</td>\n",
       "      <td>0.012406</td>\n",
       "      <td>-0.080507</td>\n",
       "      <td>-0.081776</td>\n",
       "      <td>-0.119806</td>\n",
       "      <td>-0.058431</td>\n",
       "      <td>-0.052509</td>\n",
       "    </tr>\n",
       "    <tr>\n",
       "      <th>PA0002</th>\n",
       "      <td>-0.246034</td>\n",
       "      <td>-0.291839</td>\n",
       "      <td>-0.312141</td>\n",
       "      <td>-0.160919</td>\n",
       "      <td>-0.081482</td>\n",
       "      <td>0.099776</td>\n",
       "      <td>-0.260427</td>\n",
       "      <td>-0.091375</td>\n",
       "      <td>-0.048770</td>\n",
       "      <td>-0.187572</td>\n",
       "      <td>...</td>\n",
       "      <td>-0.381651</td>\n",
       "      <td>-0.206640</td>\n",
       "      <td>-0.150470</td>\n",
       "      <td>-0.108064</td>\n",
       "      <td>-0.068341</td>\n",
       "      <td>-0.169337</td>\n",
       "      <td>-0.291553</td>\n",
       "      <td>-0.219857</td>\n",
       "      <td>-0.213785</td>\n",
       "      <td>-0.347230</td>\n",
       "    </tr>\n",
       "    <tr>\n",
       "      <th>PA0003</th>\n",
       "      <td>-0.034835</td>\n",
       "      <td>-0.178960</td>\n",
       "      <td>-0.045592</td>\n",
       "      <td>-0.132694</td>\n",
       "      <td>0.053346</td>\n",
       "      <td>-0.045186</td>\n",
       "      <td>-0.110322</td>\n",
       "      <td>-0.075096</td>\n",
       "      <td>-0.068044</td>\n",
       "      <td>-0.003200</td>\n",
       "      <td>...</td>\n",
       "      <td>-0.152220</td>\n",
       "      <td>-0.220926</td>\n",
       "      <td>-0.048476</td>\n",
       "      <td>-0.119541</td>\n",
       "      <td>-0.185043</td>\n",
       "      <td>-0.079093</td>\n",
       "      <td>-0.124860</td>\n",
       "      <td>-0.130549</td>\n",
       "      <td>-0.041711</td>\n",
       "      <td>-0.109421</td>\n",
       "    </tr>\n",
       "    <tr>\n",
       "      <th>PA0004</th>\n",
       "      <td>-0.041675</td>\n",
       "      <td>0.076071</td>\n",
       "      <td>-0.029738</td>\n",
       "      <td>-0.071658</td>\n",
       "      <td>-0.020806</td>\n",
       "      <td>-0.025592</td>\n",
       "      <td>-0.053239</td>\n",
       "      <td>-0.095967</td>\n",
       "      <td>-0.014828</td>\n",
       "      <td>-0.147332</td>\n",
       "      <td>...</td>\n",
       "      <td>0.019170</td>\n",
       "      <td>-0.072496</td>\n",
       "      <td>-0.040608</td>\n",
       "      <td>0.010228</td>\n",
       "      <td>0.003787</td>\n",
       "      <td>-0.054657</td>\n",
       "      <td>-0.021753</td>\n",
       "      <td>-0.045891</td>\n",
       "      <td>-0.085524</td>\n",
       "      <td>-0.100793</td>\n",
       "    </tr>\n",
       "    <tr>\n",
       "      <th>PA0005</th>\n",
       "      <td>-0.011299</td>\n",
       "      <td>-0.013832</td>\n",
       "      <td>0.064513</td>\n",
       "      <td>0.027427</td>\n",
       "      <td>0.024888</td>\n",
       "      <td>0.045149</td>\n",
       "      <td>0.021256</td>\n",
       "      <td>0.028361</td>\n",
       "      <td>-0.035507</td>\n",
       "      <td>0.060045</td>\n",
       "      <td>...</td>\n",
       "      <td>0.010586</td>\n",
       "      <td>-0.029618</td>\n",
       "      <td>0.017413</td>\n",
       "      <td>-0.061491</td>\n",
       "      <td>-0.045682</td>\n",
       "      <td>0.008379</td>\n",
       "      <td>0.074103</td>\n",
       "      <td>0.058450</td>\n",
       "      <td>-0.052197</td>\n",
       "      <td>-0.008725</td>\n",
       "    </tr>\n",
       "  </tbody>\n",
       "</table>\n",
       "<p>5 rows × 300 columns</p>\n",
       "</div>"
      ],
      "text/plain": [
       "             1         2         3         4         5         6         7    \\\n",
       "PA0001 -0.109896 -0.046397 -0.074332 -0.147623 -0.001468 -0.144918 -0.082134   \n",
       "PA0002 -0.246034 -0.291839 -0.312141 -0.160919 -0.081482  0.099776 -0.260427   \n",
       "PA0003 -0.034835 -0.178960 -0.045592 -0.132694  0.053346 -0.045186 -0.110322   \n",
       "PA0004 -0.041675  0.076071 -0.029738 -0.071658 -0.020806 -0.025592 -0.053239   \n",
       "PA0005 -0.011299 -0.013832  0.064513  0.027427  0.024888  0.045149  0.021256   \n",
       "\n",
       "             8         9         10     ...          291       292       293  \\\n",
       "PA0001 -0.025183 -0.032311 -0.066211    ...    -0.069226 -0.100556  0.027667   \n",
       "PA0002 -0.091375 -0.048770 -0.187572    ...    -0.381651 -0.206640 -0.150470   \n",
       "PA0003 -0.075096 -0.068044 -0.003200    ...    -0.152220 -0.220926 -0.048476   \n",
       "PA0004 -0.095967 -0.014828 -0.147332    ...     0.019170 -0.072496 -0.040608   \n",
       "PA0005  0.028361 -0.035507  0.060045    ...     0.010586 -0.029618  0.017413   \n",
       "\n",
       "             294       295       296       297       298       299       300  \n",
       "PA0001 -0.103827  0.012406 -0.080507 -0.081776 -0.119806 -0.058431 -0.052509  \n",
       "PA0002 -0.108064 -0.068341 -0.169337 -0.291553 -0.219857 -0.213785 -0.347230  \n",
       "PA0003 -0.119541 -0.185043 -0.079093 -0.124860 -0.130549 -0.041711 -0.109421  \n",
       "PA0004  0.010228  0.003787 -0.054657 -0.021753 -0.045891 -0.085524 -0.100793  \n",
       "PA0005 -0.061491 -0.045682  0.008379  0.074103  0.058450 -0.052197 -0.008725  \n",
       "\n",
       "[5 rows x 300 columns]"
      ]
     },
     "execution_count": 40,
     "metadata": {},
     "output_type": "execute_result"
    }
   ],
   "source": [
    "# Read weight matrix\n",
    "weight = pd.read_table(weight_file, header=0, index_col=0).T\n",
    "weight.head(5)"
   ]
  },
  {
   "cell_type": "markdown",
   "metadata": {},
   "source": [
    "## Explore gene space offset\n",
    "\n",
    "1.  What genes are most highly weighted?\n",
    "2.  What percentage of these genes are in gene set A and B?"
   ]
  },
  {
   "cell_type": "code",
   "execution_count": 41,
   "metadata": {
    "ExecuteTime": {
     "end_time": "2019-02-12T19:37:52.594557Z",
     "start_time": "2019-02-12T19:37:52.437079Z"
    }
   },
   "outputs": [
    {
     "data": {
      "text/plain": [
       "<matplotlib.axes._subplots.AxesSubplot at 0x7f4c2c167198>"
      ]
     },
     "execution_count": 41,
     "metadata": {},
     "output_type": "execute_result"
    },
    {
     "data": {
      "image/png": "[encoded data removed]",
      "text/plain": [
       "<matplotlib.figure.Figure at 0x7f4c2c4005f8>"
      ]
     },
     "metadata": {},
     "output_type": "display_data"
    }
   ],
   "source": [
    "# Distribution of weights in offset vector\n",
    "sns.distplot(offset_gene_space)"
   ]
  },
  {
   "cell_type": "code",
   "execution_count": 42,
   "metadata": {
    "ExecuteTime": {
     "end_time": "2019-02-12T19:37:55.218560Z",
     "start_time": "2019-02-12T19:37:55.213360Z"
    }
   },
   "outputs": [
    {
     "name": "stdout",
     "output_type": "stream",
     "text": [
      "Threshold cutoff is 0.2661179999999996\n"
     ]
    }
   ],
   "source": [
    "# Get gene ids with the highest weight from the offset vector\n",
    "percentile = 95\n",
    "threshold = np.percentile(offset_gene_space, percentile)\n",
    "print(\"Threshold cutoff is {}\".format(threshold))\n",
    "highest_genes = offset_gene_space.T[offset_gene_space.T[0] > threshold].index"
   ]
  },
  {
   "cell_type": "code",
   "execution_count": 43,
   "metadata": {
    "ExecuteTime": {
     "end_time": "2019-02-12T19:37:55.825839Z",
     "start_time": "2019-02-12T19:37:55.771962Z"
    }
   },
   "outputs": [
    {
     "data": {
      "image/png": "[encoded data removed]",
      "text/plain": [
       "<matplotlib.figure.Figure at 0x7f4c2c28bac8>"
      ]
     },
     "metadata": {},
     "output_type": "display_data"
    }
   ],
   "source": [
    "# Compare the overlap of genes in set A and highest weighted genes in offset\n",
    "venn2([set(highest_genes), geneSetA_set], set_labels = ('High weight offset genes', 'Group A genes'))\n",
    "plt.show()"
   ]
  },
  {
   "cell_type": "code",
   "execution_count": 44,
   "metadata": {
    "ExecuteTime": {
     "end_time": "2019-02-12T19:37:56.409191Z",
     "start_time": "2019-02-12T19:37:56.352217Z"
    }
   },
   "outputs": [
    {
     "data": {
      "image/png": "[encoded data removed]",
      "text/plain": [
       "<matplotlib.figure.Figure at 0x7f4c2c2d4358>"
      ]
     },
     "metadata": {},
     "output_type": "display_data"
    }
   ],
   "source": [
    "# Compare the overlap of genes in set B and highest weighted genes in offset\n",
    "venn2([set(highest_genes), geneSetB_set], set_labels = ('High weight offset genes', 'Group B genes'))\n",
    "plt.show()"
   ]
  },
  {
   "cell_type": "markdown",
   "metadata": {},
   "source": [
    "## Explore latent space (VAE) offset\n",
    "1.  Which feature has the highest value?\n",
    "2.  Are genes in set A and B highly weighted "
   ]
  },
  {
   "cell_type": "code",
   "execution_count": 45,
   "metadata": {
    "ExecuteTime": {
     "end_time": "2019-02-12T19:37:59.299872Z",
     "start_time": "2019-02-12T19:37:59.114479Z"
    }
   },
   "outputs": [
    {
     "data": {
      "text/plain": [
       "<matplotlib.axes._subplots.AxesSubplot at 0x7f4c2c3a64e0>"
      ]
     },
     "execution_count": 45,
     "metadata": {},
     "output_type": "execute_result"
    },
    {
     "data": {
      "image/png": "[encoded data removed]",
      "text/plain": [
       "<matplotlib.figure.Figure at 0x7f4c2c383b38>"
      ]
     },
     "metadata": {},
     "output_type": "display_data"
    }
   ],
   "source": [
    "# Distribution of weights in offset vector\n",
    "sns.distplot(offset_vae_space)"
   ]
  },
  {
   "cell_type": "code",
   "execution_count": 64,
   "metadata": {
    "ExecuteTime": {
     "end_time": "2019-02-12T19:44:44.689714Z",
     "start_time": "2019-02-12T19:44:44.685808Z"
    }
   },
   "outputs": [
    {
     "name": "stdout",
     "output_type": "stream",
     "text": [
      "Max feature is 158 and min feature is 118\n"
     ]
    }
   ],
   "source": [
    "# Get latent feature with the max and min value\n",
    "max_feature = offset_vae_space.T.idxmax()[0]\n",
    "min_feature = offset_vae_space.T.idxmin()[0]\n",
    "print(\"Max feature is {} and min feature is {}\".format(max_feature, min_feature))"
   ]
  },
  {
   "cell_type": "code",
   "execution_count": 14,
   "metadata": {
    "ExecuteTime": {
     "end_time": "2019-02-04T17:58:26.021359Z",
     "start_time": "2019-02-04T17:58:25.819245Z"
    }
   },
   "outputs": [
    {
     "data": {
      "text/plain": [
       "<matplotlib.axes._subplots.AxesSubplot at 0x7f4c2d92e9b0>"
      ]
     },
     "execution_count": 14,
     "metadata": {},
     "output_type": "execute_result"
    },
    {
     "data": {
      "image/png": "[encoded data removed]",
      "text/plain": [
       "<matplotlib.figure.Figure at 0x7f4c2d820a20>"
      ]
     },
     "metadata": {},
     "output_type": "display_data"
    }
   ],
   "source": [
    "# Get gene weights for max latent feature\n",
    "genes_max_feature = weight[int(max_feature)]\n",
    "sns.distplot(genes_max_feature)"
   ]
  },
  {
   "cell_type": "code",
   "execution_count": 15,
   "metadata": {
    "ExecuteTime": {
     "end_time": "2019-02-04T17:58:26.028563Z",
     "start_time": "2019-02-04T17:58:26.022933Z"
    }
   },
   "outputs": [
    {
     "name": "stdout",
     "output_type": "stream",
     "text": [
      "Threshold cutoff is 0.17025277316570273\n"
     ]
    }
   ],
   "source": [
    "# Get gene ids with the highest positive weight from the max feature selected\n",
    "percentile = 95\n",
    "threshold = np.percentile(genes_max_feature, percentile)\n",
    "print(\"Threshold cutoff is {}\".format(threshold))\n",
    "highest_genes = genes_max_feature[genes_max_feature > threshold].index"
   ]
  },
  {
   "cell_type": "code",
   "execution_count": 16,
   "metadata": {
    "ExecuteTime": {
     "end_time": "2019-02-04T17:58:26.050031Z",
     "start_time": "2019-02-04T17:58:26.030431Z"
    }
   },
   "outputs": [
    {
     "name": "stdout",
     "output_type": "stream",
     "text": [
      "Threshold cutoff is -0.16365019381046295\n"
     ]
    }
   ],
   "source": [
    "# Get gene ids with the highest negative weight from the max feature selected\n",
    "percentile = 5\n",
    "threshold = np.percentile(genes_max_feature, percentile)\n",
    "print(\"Threshold cutoff is {}\".format(threshold))\n",
    "lowest_genes = genes_max_feature[genes_max_feature < threshold].index"
   ]
  },
  {
   "cell_type": "code",
   "execution_count": 17,
   "metadata": {
    "ExecuteTime": {
     "end_time": "2019-02-04T17:58:26.111272Z",
     "start_time": "2019-02-04T17:58:26.051249Z"
    }
   },
   "outputs": [
    {
     "data": {
      "image/png": "[encoded data removed]",
      "text/plain": [
       "<matplotlib.figure.Figure at 0x7f4c2c663b38>"
      ]
     },
     "metadata": {},
     "output_type": "display_data"
    }
   ],
   "source": [
    "# Compare the overlap of genes in set A and highest positive weighted genes in the max feature\n",
    "venn2([set(highest_genes), geneSetA_set], set_labels = ('High positive weight genes in feature {}'.format(max_feature), 'Group A genes'))\n",
    "plt.show()"
   ]
  },
  {
   "cell_type": "code",
   "execution_count": 18,
   "metadata": {
    "ExecuteTime": {
     "end_time": "2019-02-04T17:58:26.168596Z",
     "start_time": "2019-02-04T17:58:26.112452Z"
    }
   },
   "outputs": [
    {
     "data": {
      "image/png": "[encoded data removed]",
      "text/plain": [
       "<matplotlib.figure.Figure at 0x7f4c2c5d5438>"
      ]
     },
     "metadata": {},
     "output_type": "display_data"
    }
   ],
   "source": [
    "# Compare the overlap of genes in set B and highest positive weighted genes in the max feature\n",
    "venn2([set(highest_genes), geneSetB_set], set_labels = ('High positive weight genes in feature {}'.format(max_feature), 'Group B genes'))\n",
    "plt.show()"
   ]
  },
  {
   "cell_type": "code",
   "execution_count": 28,
   "metadata": {
    "ExecuteTime": {
     "end_time": "2019-02-04T18:00:23.841967Z",
     "start_time": "2019-02-04T18:00:23.788169Z"
    }
   },
   "outputs": [
    {
     "data": {
      "image/png": "[encoded data removed]",
      "text/plain": [
       "<matplotlib.figure.Figure at 0x7f4c2c55ebe0>"
      ]
     },
     "metadata": {},
     "output_type": "display_data"
    }
   ],
   "source": [
    "# Compare the overlap of genes in set A and highest negative weighted genes in the max feature\n",
    "venn2([set(lowest_genes), geneSetA_set], set_labels = ('High negative weight genes in feature {}'.format(max_feature), 'Group A genes'))\n",
    "plt.show()"
   ]
  },
  {
   "cell_type": "code",
   "execution_count": 29,
   "metadata": {
    "ExecuteTime": {
     "end_time": "2019-02-04T18:00:26.208967Z",
     "start_time": "2019-02-04T18:00:26.157881Z"
    }
   },
   "outputs": [
    {
     "data": {
      "image/png": "[encoded data removed]",
      "text/plain": [
       "<matplotlib.figure.Figure at 0x7f4c2d9971d0>"
      ]
     },
     "metadata": {},
     "output_type": "display_data"
    }
   ],
   "source": [
    "# Compare the overlap of genes in set B and highest negative weighted genes in the max feature\n",
    "venn2([set(lowest_genes), geneSetB_set], set_labels = ('High negative weight genes in feature {}'.format(max_feature), 'Group B genes'))\n",
    "plt.show()"
   ]
  },
  {
   "cell_type": "code",
   "execution_count": 21,
   "metadata": {
    "ExecuteTime": {
     "end_time": "2019-02-04T17:58:26.435192Z",
     "start_time": "2019-02-04T17:58:26.275665Z"
    }
   },
   "outputs": [
    {
     "data": {
      "text/plain": [
       "<matplotlib.axes._subplots.AxesSubplot at 0x7f4c2c6378d0>"
      ]
     },
     "execution_count": 21,
     "metadata": {},
     "output_type": "execute_result"
    },
    {
     "data": {
      "image/png": "[encoded data removed]",
      "text/plain": [
       "<matplotlib.figure.Figure at 0x7f4c2c55e1d0>"
      ]
     },
     "metadata": {},
     "output_type": "display_data"
    }
   ],
   "source": [
    "# Get gene weights for min latent feature\n",
    "genes_min_feature = weight[int(min_feature)]\n",
    "sns.distplot(genes_min_feature)"
   ]
  },
  {
   "cell_type": "code",
   "execution_count": 22,
   "metadata": {
    "ExecuteTime": {
     "end_time": "2019-02-04T17:58:26.440806Z",
     "start_time": "2019-02-04T17:58:26.436671Z"
    }
   },
   "outputs": [
    {
     "name": "stdout",
     "output_type": "stream",
     "text": [
      "Threshold cutoff is 0.14844369590282433\n"
     ]
    }
   ],
   "source": [
    "# Get gene ids with the highest positive weight from the min feature selected\n",
    "percentile = 95\n",
    "threshold = np.percentile(genes_min_feature, percentile)\n",
    "print(\"Threshold cutoff is {}\".format(threshold))\n",
    "highest_genes = genes_min_feature[genes_min_feature > threshold].index"
   ]
  },
  {
   "cell_type": "code",
   "execution_count": 23,
   "metadata": {
    "ExecuteTime": {
     "end_time": "2019-02-04T17:58:26.456499Z",
     "start_time": "2019-02-04T17:58:26.442818Z"
    }
   },
   "outputs": [
    {
     "name": "stdout",
     "output_type": "stream",
     "text": [
      "Threshold cutoff is -0.2155961960554123\n"
     ]
    }
   ],
   "source": [
    "# Get gene ids with the highest negative weight from the min feature selected\n",
    "percentile = 5\n",
    "threshold = np.percentile(genes_min_feature, percentile)\n",
    "print(\"Threshold cutoff is {}\".format(threshold))\n",
    "lowest_genes = genes_min_feature[genes_min_feature < threshold].index"
   ]
  },
  {
   "cell_type": "code",
   "execution_count": 33,
   "metadata": {
    "ExecuteTime": {
     "end_time": "2019-02-04T23:13:04.455748Z",
     "start_time": "2019-02-04T23:13:04.383405Z"
    }
   },
   "outputs": [
    {
     "data": {
      "image/png": "[encoded data removed]",
      "text/plain": [
       "<matplotlib.figure.Figure at 0x7f4c2c44c630>"
      ]
     },
     "metadata": {},
     "output_type": "display_data"
    }
   ],
   "source": [
    "# Compare the overlap of genes in set A and highest positive weighted genes in the min feature\n",
    "venn2([set(highest_genes), geneSetA_set], set_labels = ('High positive weight genes in feature {}'.format(min_feature), 'Group A genes'))\n",
    "plt.show()"
   ]
  },
  {
   "cell_type": "code",
   "execution_count": 32,
   "metadata": {
    "ExecuteTime": {
     "end_time": "2019-02-04T23:13:01.503027Z",
     "start_time": "2019-02-04T23:13:01.425663Z"
    }
   },
   "outputs": [
    {
     "data": {
      "image/png": "[encoded data removed]",
      "text/plain": [
       "<matplotlib.figure.Figure at 0x7f4c2c5937f0>"
      ]
     },
     "metadata": {},
     "output_type": "display_data"
    }
   ],
   "source": [
    "# Compare the overlap of genes in set B and highest positive weighted genes in the min feature\n",
    "venn2([set(highest_genes), geneSetB_set], set_labels = ('High positive weight genes in feature {}'.format(min_feature), 'Group B genes'))\n",
    "plt.show()"
   ]
  },
  {
   "cell_type": "code",
   "execution_count": 30,
   "metadata": {
    "ExecuteTime": {
     "end_time": "2019-02-04T23:12:56.985062Z",
     "start_time": "2019-02-04T23:12:56.909067Z"
    }
   },
   "outputs": [
    {
     "data": {
      "image/png": "[encoded data removed]",
      "text/plain": [
       "<matplotlib.figure.Figure at 0x7f4c2c5d6240>"
      ]
     },
     "metadata": {},
     "output_type": "display_data"
    }
   ],
   "source": [
    "# Compare the overlap of genes in set A and highest negative weighted genes in the min feature\n",
    "venn2([set(lowest_genes), geneSetA_set], set_labels = ('High negative weight genes in feature {}'.format(min_feature), 'Group A genes'))\n",
    "plt.show()"
   ]
  },
  {
   "cell_type": "code",
   "execution_count": 31,
   "metadata": {
    "ExecuteTime": {
     "end_time": "2019-02-04T23:12:59.442868Z",
     "start_time": "2019-02-04T23:12:59.391465Z"
    }
   },
   "outputs": [
    {
     "data": {
      "image/png": "[encoded data removed]",
      "text/plain": [
       "<matplotlib.figure.Figure at 0x7f4c2d8e0ba8>"
      ]
     },
     "metadata": {},
     "output_type": "display_data"
    }
   ],
   "source": [
    "# Compare the overlap of genes in set B and highest negative weighted genes in the min feature\n",
    "venn2([set(lowest_genes), geneSetB_set], set_labels = ('High negative weight genes in feature {}'.format(min_feature), 'Group B genes'))\n",
    "plt.show()"
   ]
  },
  {
   "cell_type": "markdown",
   "metadata": {},
   "source": [
    "Observation:\n",
    "\n",
    "Notice that the overlap of the high weight genes in the min features and max feature are very similar -- why is this?"
   ]
  }
 ],
 "metadata": {
  "kernelspec": {
   "display_name": "Python [conda env:Pa]",
   "language": "python",
   "name": "conda-env-Pa-py"
  },
  "language_info": {
   "codemirror_mode": {
    "name": "ipython",
    "version": 3
   },
   "file_extension": ".py",
   "mimetype": "text/x-python",
   "name": "python",
   "nbconvert_exporter": "python",
   "pygments_lexer": "ipython3",
   "version": "3.5.5"
  }
 },
 "nbformat": 4,
 "nbformat_minor": 2
}
