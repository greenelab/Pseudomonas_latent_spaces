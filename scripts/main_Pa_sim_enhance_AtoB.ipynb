{
 "cells": [
  {
   "cell_type": "markdown",
   "metadata": {
    "ExecuteTime": {
     "end_time": "2019-02-06T16:19:43.939569Z",
     "start_time": "2019-02-06T16:19:43.935158Z"
    }
   },
   "source": [
    "# Simulation experiment\n",
    "\n",
    "**Hypothesis**: If we generate a gene expression dataset with a strong signal, a nonlinear compression method (VAE)\n",
    "            will be able to learn this signal and predict new gene expression patterns better compared to \n",
    "            using a linear comparession method (PCA) and using no compression method (all the genes)\n",
    " \n",
    "**Study design**:\n",
    "\n",
    "*(Input)* Add signal to Pa gene expression dataset:\n",
    "\n",
    "Network: gene set A --> gene set B\n",
    "\n",
    "Add signal to relate A and B using the following algorithm:\n",
    "\n",
    "Hyperparmeters should include:\n",
    " 1. Size of gene set A\n",
    " 2. Size of gene set B\n",
    " 3. Effect size\n",
    " 4. Threshold\n",
    " 5. Log file with hyperparameter selections\n",
    "         \n",
    "*(Approach)* Train nonlinear (VAE) and linear (PCA) compression algorithms using this simulated data\n",
    "\n",
    "*(Evaluation)*  For each sample in the Pa dataset compare corr(predicted expression, actual expression)\n",
    "\n",
    "*(Output)* Figure of the correlation scores per sample "
   ]
  },
  {
   "cell_type": "code",
   "execution_count": null,
   "metadata": {},
   "outputs": [],
   "source": [
    "%load_ext autoreload\n",
    "%autoreload 2\n",
    "\n",
    "import os\n",
    "import pandas as pd\n",
    "import numpy as np\n",
    "import random\n",
    "import seaborn as sns\n",
    "\n",
    "from functions import generate_input, vae, def_offset, interpolate, pca, plot\n",
    "\n",
    "from numpy.random import seed\n",
    "randomState = 123\n",
    "seed(randomState)"
   ]
  },
  {
   "cell_type": "code",
   "execution_count": 2,
   "metadata": {
    "ExecuteTime": {
     "end_time": "2019-01-31T15:16:26.883844Z",
     "start_time": "2019-01-31T15:16:26.838005Z"
    }
   },
   "outputs": [],
   "source": [
    "# Hyperparameters\n",
    "\n",
    "# Size of the gene set A\n",
    "geneSetA_size = 100\n",
    "\n",
    "# Size of the gene set that will be regulated by gene A\n",
    "geneSetB_size = 1000 \n",
    "\n",
    "# Percentage to upregulate each gene in set B\n",
    "effect_size = 0.5\n",
    "\n",
    "# Threshold for activation of gene A \n",
    "thresholdA = 0.5\n",
    "\n",
    "# Name of analysis\n",
    "analysis_name = 'sim_AB_2775_300_v2'"
   ]
  },
  {
   "cell_type": "code",
   "execution_count": 3,
   "metadata": {
    "ExecuteTime": {
     "end_time": "2019-01-31T15:16:26.920379Z",
     "start_time": "2019-01-31T15:16:26.886781Z"
    }
   },
   "outputs": [],
   "source": [
    "# Load arguments\n",
    "data_file = os.path.join(os.path.dirname(os.getcwd()), \"data\", \"all-pseudomonas-gene-normalized.zip\")"
   ]
  },
  {
   "cell_type": "code",
   "execution_count": 4,
   "metadata": {
    "ExecuteTime": {
     "end_time": "2019-01-31T15:16:29.052032Z",
     "start_time": "2019-01-31T15:16:26.921631Z"
    }
   },
   "outputs": [
    {
     "data": {
      "text/html": [
       "<div>\n",
       "<style scoped>\n",
       "    .dataframe tbody tr th:only-of-type {\n",
       "        vertical-align: middle;\n",
       "    }\n",
       "\n",
       "    .dataframe tbody tr th {\n",
       "        vertical-align: top;\n",
       "    }\n",
       "\n",
       "    .dataframe thead th {\n",
       "        text-align: right;\n",
       "    }\n",
       "</style>\n",
       "<table border=\"1\" class=\"dataframe\">\n",
       "  <thead>\n",
       "    <tr style=\"text-align: right;\">\n",
       "      <th>Gene_symbol</th>\n",
       "      <th>PA0001</th>\n",
       "      <th>PA0002</th>\n",
       "      <th>PA0003</th>\n",
       "      <th>PA0004</th>\n",
       "      <th>PA0005</th>\n",
       "      <th>PA0006</th>\n",
       "      <th>PA0007</th>\n",
       "      <th>PA0008</th>\n",
       "      <th>PA0009</th>\n",
       "      <th>PA0010</th>\n",
       "      <th>...</th>\n",
       "      <th>PA5561</th>\n",
       "      <th>PA5562</th>\n",
       "      <th>PA5563</th>\n",
       "      <th>PA5564</th>\n",
       "      <th>PA5565</th>\n",
       "      <th>PA5566</th>\n",
       "      <th>PA5567</th>\n",
       "      <th>PA5568</th>\n",
       "      <th>PA5569</th>\n",
       "      <th>PA5570</th>\n",
       "    </tr>\n",
       "  </thead>\n",
       "  <tbody>\n",
       "    <tr>\n",
       "      <th>0.1_12hr_CSV86(Pae_G1a).CEL</th>\n",
       "      <td>0.472897</td>\n",
       "      <td>0.396658</td>\n",
       "      <td>0.253776</td>\n",
       "      <td>0.000000</td>\n",
       "      <td>0.175640</td>\n",
       "      <td>0.554385</td>\n",
       "      <td>0.411370</td>\n",
       "      <td>0.382222</td>\n",
       "      <td>0.310144</td>\n",
       "      <td>0.642522</td>\n",
       "      <td>...</td>\n",
       "      <td>0.358597</td>\n",
       "      <td>0.390048</td>\n",
       "      <td>0.457406</td>\n",
       "      <td>0.684082</td>\n",
       "      <td>0.338351</td>\n",
       "      <td>0.608325</td>\n",
       "      <td>0.643496</td>\n",
       "      <td>0.276075</td>\n",
       "      <td>0.112773</td>\n",
       "      <td>0.145170</td>\n",
       "    </tr>\n",
       "    <tr>\n",
       "      <th>0.1_2hr_CSV86(Pae_G1a).CEL</th>\n",
       "      <td>0.262346</td>\n",
       "      <td>0.086216</td>\n",
       "      <td>0.359853</td>\n",
       "      <td>0.439214</td>\n",
       "      <td>0.269749</td>\n",
       "      <td>0.768433</td>\n",
       "      <td>0.212505</td>\n",
       "      <td>0.062043</td>\n",
       "      <td>0.567695</td>\n",
       "      <td>0.467073</td>\n",
       "      <td>...</td>\n",
       "      <td>0.358504</td>\n",
       "      <td>0.414206</td>\n",
       "      <td>0.389879</td>\n",
       "      <td>0.477693</td>\n",
       "      <td>0.000000</td>\n",
       "      <td>0.479385</td>\n",
       "      <td>0.154471</td>\n",
       "      <td>0.140891</td>\n",
       "      <td>0.167505</td>\n",
       "      <td>0.157060</td>\n",
       "    </tr>\n",
       "    <tr>\n",
       "      <th>0.1_6hr_CSV86(Pae_G1a).CEL</th>\n",
       "      <td>0.473658</td>\n",
       "      <td>0.244862</td>\n",
       "      <td>0.330750</td>\n",
       "      <td>0.097697</td>\n",
       "      <td>0.387226</td>\n",
       "      <td>0.328319</td>\n",
       "      <td>0.228820</td>\n",
       "      <td>0.330039</td>\n",
       "      <td>0.318081</td>\n",
       "      <td>0.512864</td>\n",
       "      <td>...</td>\n",
       "      <td>0.180744</td>\n",
       "      <td>0.380741</td>\n",
       "      <td>0.173501</td>\n",
       "      <td>0.251571</td>\n",
       "      <td>0.182793</td>\n",
       "      <td>0.528301</td>\n",
       "      <td>0.504985</td>\n",
       "      <td>0.499782</td>\n",
       "      <td>0.061106</td>\n",
       "      <td>0.365612</td>\n",
       "    </tr>\n",
       "    <tr>\n",
       "      <th>0.1_7hr_CSV86(Pae_G1a).CEL</th>\n",
       "      <td>0.439273</td>\n",
       "      <td>0.343402</td>\n",
       "      <td>0.192698</td>\n",
       "      <td>0.274677</td>\n",
       "      <td>0.628979</td>\n",
       "      <td>0.553796</td>\n",
       "      <td>0.431391</td>\n",
       "      <td>0.363480</td>\n",
       "      <td>0.385721</td>\n",
       "      <td>0.094584</td>\n",
       "      <td>...</td>\n",
       "      <td>0.346837</td>\n",
       "      <td>0.153927</td>\n",
       "      <td>0.067349</td>\n",
       "      <td>0.319723</td>\n",
       "      <td>0.282442</td>\n",
       "      <td>0.490655</td>\n",
       "      <td>0.531415</td>\n",
       "      <td>0.153880</td>\n",
       "      <td>0.132333</td>\n",
       "      <td>0.260087</td>\n",
       "    </tr>\n",
       "    <tr>\n",
       "      <th>0.1_9hr_CSV86(Pae_G1a).CEL</th>\n",
       "      <td>0.220827</td>\n",
       "      <td>0.145525</td>\n",
       "      <td>0.437803</td>\n",
       "      <td>0.293201</td>\n",
       "      <td>0.635120</td>\n",
       "      <td>0.462893</td>\n",
       "      <td>0.488733</td>\n",
       "      <td>0.309584</td>\n",
       "      <td>0.318646</td>\n",
       "      <td>0.591914</td>\n",
       "      <td>...</td>\n",
       "      <td>0.237726</td>\n",
       "      <td>0.301945</td>\n",
       "      <td>0.070222</td>\n",
       "      <td>0.513605</td>\n",
       "      <td>0.114277</td>\n",
       "      <td>0.360259</td>\n",
       "      <td>0.386868</td>\n",
       "      <td>0.223995</td>\n",
       "      <td>0.105343</td>\n",
       "      <td>0.102088</td>\n",
       "    </tr>\n",
       "  </tbody>\n",
       "</table>\n",
       "<p>5 rows × 5549 columns</p>\n",
       "</div>"
      ],
      "text/plain": [
       "Gene_symbol                    PA0001    PA0002    PA0003    PA0004    PA0005  \\\n",
       "0.1_12hr_CSV86(Pae_G1a).CEL  0.472897  0.396658  0.253776  0.000000  0.175640   \n",
       "0.1_2hr_CSV86(Pae_G1a).CEL   0.262346  0.086216  0.359853  0.439214  0.269749   \n",
       "0.1_6hr_CSV86(Pae_G1a).CEL   0.473658  0.244862  0.330750  0.097697  0.387226   \n",
       "0.1_7hr_CSV86(Pae_G1a).CEL   0.439273  0.343402  0.192698  0.274677  0.628979   \n",
       "0.1_9hr_CSV86(Pae_G1a).CEL   0.220827  0.145525  0.437803  0.293201  0.635120   \n",
       "\n",
       "Gene_symbol                    PA0006    PA0007    PA0008    PA0009    PA0010  \\\n",
       "0.1_12hr_CSV86(Pae_G1a).CEL  0.554385  0.411370  0.382222  0.310144  0.642522   \n",
       "0.1_2hr_CSV86(Pae_G1a).CEL   0.768433  0.212505  0.062043  0.567695  0.467073   \n",
       "0.1_6hr_CSV86(Pae_G1a).CEL   0.328319  0.228820  0.330039  0.318081  0.512864   \n",
       "0.1_7hr_CSV86(Pae_G1a).CEL   0.553796  0.431391  0.363480  0.385721  0.094584   \n",
       "0.1_9hr_CSV86(Pae_G1a).CEL   0.462893  0.488733  0.309584  0.318646  0.591914   \n",
       "\n",
       "Gene_symbol                    ...       PA5561    PA5562    PA5563    PA5564  \\\n",
       "0.1_12hr_CSV86(Pae_G1a).CEL    ...     0.358597  0.390048  0.457406  0.684082   \n",
       "0.1_2hr_CSV86(Pae_G1a).CEL     ...     0.358504  0.414206  0.389879  0.477693   \n",
       "0.1_6hr_CSV86(Pae_G1a).CEL     ...     0.180744  0.380741  0.173501  0.251571   \n",
       "0.1_7hr_CSV86(Pae_G1a).CEL     ...     0.346837  0.153927  0.067349  0.319723   \n",
       "0.1_9hr_CSV86(Pae_G1a).CEL     ...     0.237726  0.301945  0.070222  0.513605   \n",
       "\n",
       "Gene_symbol                    PA5565    PA5566    PA5567    PA5568    PA5569  \\\n",
       "0.1_12hr_CSV86(Pae_G1a).CEL  0.338351  0.608325  0.643496  0.276075  0.112773   \n",
       "0.1_2hr_CSV86(Pae_G1a).CEL   0.000000  0.479385  0.154471  0.140891  0.167505   \n",
       "0.1_6hr_CSV86(Pae_G1a).CEL   0.182793  0.528301  0.504985  0.499782  0.061106   \n",
       "0.1_7hr_CSV86(Pae_G1a).CEL   0.282442  0.490655  0.531415  0.153880  0.132333   \n",
       "0.1_9hr_CSV86(Pae_G1a).CEL   0.114277  0.360259  0.386868  0.223995  0.105343   \n",
       "\n",
       "Gene_symbol                    PA5570  \n",
       "0.1_12hr_CSV86(Pae_G1a).CEL  0.145170  \n",
       "0.1_2hr_CSV86(Pae_G1a).CEL   0.157060  \n",
       "0.1_6hr_CSV86(Pae_G1a).CEL   0.365612  \n",
       "0.1_7hr_CSV86(Pae_G1a).CEL   0.260087  \n",
       "0.1_9hr_CSV86(Pae_G1a).CEL   0.102088  \n",
       "\n",
       "[5 rows x 5549 columns]"
      ]
     },
     "execution_count": 4,
     "metadata": {},
     "output_type": "execute_result"
    }
   ],
   "source": [
    "# Read in data\n",
    "data = pd.read_table(data_file, header=0, sep='\\t', index_col=0, compression='zip').T\n",
    "data.head(5)"
   ]
  },
  {
   "cell_type": "code",
   "execution_count": 5,
   "metadata": {
    "ExecuteTime": {
     "end_time": "2019-01-31T15:16:29.068578Z",
     "start_time": "2019-01-31T15:16:29.053314Z"
    }
   },
   "outputs": [],
   "source": [
    "# Randomly select genes for set A\n",
    "gene_ids = list(data.columns)\n",
    "geneSetA = random.sample(gene_ids, geneSetA_size)"
   ]
  },
  {
   "cell_type": "code",
   "execution_count": 6,
   "metadata": {
    "ExecuteTime": {
     "end_time": "2019-01-31T15:16:29.134656Z",
     "start_time": "2019-01-31T15:16:29.069797Z"
    }
   },
   "outputs": [
    {
     "name": "stdout",
     "output_type": "stream",
     "text": [
      "Confirmed that all gene ids are available\n"
     ]
    }
   ],
   "source": [
    "# checkpoint:  Check the number of genes\n",
    "assert(len(gene_ids)==5549)\n",
    "print(\"Confirmed that all gene ids are available\")"
   ]
  },
  {
   "cell_type": "code",
   "execution_count": 7,
   "metadata": {
    "ExecuteTime": {
     "end_time": "2019-01-31T15:16:29.222169Z",
     "start_time": "2019-01-31T15:16:29.136232Z"
    }
   },
   "outputs": [
    {
     "name": "stdout",
     "output_type": "stream",
     "text": [
      "After removing 100 gene ids for set A, there are 5449 gene ids remaining.\n"
     ]
    }
   ],
   "source": [
    "# Remove gene ids that were selected for gene set A\n",
    "gene_ids = [elem for elem in gene_ids if elem not in geneSetA]\n",
    "print(\"After removing {} gene ids for set A, there are {} gene ids remaining.\"\n",
    "      .format(geneSetA_size, len(gene_ids)))"
   ]
  },
  {
   "cell_type": "code",
   "execution_count": 8,
   "metadata": {
    "ExecuteTime": {
     "end_time": "2019-01-31T15:16:29.324235Z",
     "start_time": "2019-01-31T15:16:29.225079Z"
    }
   },
   "outputs": [
    {
     "name": "stdout",
     "output_type": "stream",
     "text": [
      "After removing 1000 gene ids for set B, there are 4449 gene ids remaining.\n"
     ]
    }
   ],
   "source": [
    "# Randomly select genes for gene set B\n",
    "geneSetB = random.sample(gene_ids, geneSetB_size)\n",
    "\n",
    "# Remove gene ids that were selected for gene set B\n",
    "gene_ids = [elem for elem in gene_ids if elem not in geneSetB]\n",
    "print(\"After removing {} gene ids for set B, there are {} gene ids remaining.\"\n",
    "      .format(geneSetB_size, len(gene_ids)))"
   ]
  },
  {
   "cell_type": "code",
   "execution_count": 9,
   "metadata": {
    "ExecuteTime": {
     "end_time": "2019-01-31T15:16:29.342211Z",
     "start_time": "2019-01-31T15:16:29.325648Z"
    }
   },
   "outputs": [],
   "source": [
    "# checkpoint:  Check that genes in set A are distinct from genes in set B\n",
    "assert(len(set(geneSetA).intersection(set(geneSetB))) == 0)"
   ]
  },
  {
   "cell_type": "markdown",
   "metadata": {},
   "source": [
    "## Output gene groupings \n",
    "Output gene assignments (group A, B) to be used in [explore_simulated_data.py](explore_simulated_data.ipynb)"
   ]
  },
  {
   "cell_type": "code",
   "execution_count": 10,
   "metadata": {
    "ExecuteTime": {
     "end_time": "2019-01-31T15:16:29.364336Z",
     "start_time": "2019-01-31T15:16:29.343716Z"
    }
   },
   "outputs": [],
   "source": [
    "# Output gene groupings\n",
    "geneSetA_df = pd.DataFrame(geneSetA)\n",
    "geneSetB_df = pd.DataFrame(geneSetB)\n",
    "\n",
    "geneSetA_file = os.path.join(os.path.dirname(os.getcwd()), \"data\", analysis_name, \"geneSetA.txt\")\n",
    "geneSetB_file = os.path.join(os.path.dirname(os.getcwd()), \"data\", analysis_name, \"geneSetB.txt\")\n",
    "\n",
    "\n",
    "geneSetA_df.to_csv(geneSetA_file, sep='\\t')\n",
    "geneSetB_df.to_csv(geneSetB_file, sep='\\t')"
   ]
  },
  {
   "cell_type": "markdown",
   "metadata": {},
   "source": [
    "## Add artificial signal to the data\n",
    "Algorithm:\n",
    "```python\n",
    "for sample in compendium:\n",
    "    expression(gene_in_set_A) = random(0,1)\n",
    "    if expression(gene_in_set_A) > threshold_A:\n",
    "        expression(gene_in_set_B) = expression(gene_in_set_B)*(1+percentage) \n",
    "```\n",
    "Note: This algorithm is applied to each sample in the compendium \n",
    "      (essentially adding a signal to the existing gene expression data in the compendium)"
   ]
  },
  {
   "cell_type": "code",
   "execution_count": 11,
   "metadata": {
    "ExecuteTime": {
     "end_time": "2019-01-31T15:18:04.000941Z",
     "start_time": "2019-01-31T15:16:29.365724Z"
    }
   },
   "outputs": [],
   "source": [
    "# Number of samples \n",
    "num_samples = data.shape[1]\n",
    "\n",
    "# Select sample gene from set A to be representative since the expression is the same\n",
    "# for all genes in the set\n",
    "geneSetA_pick = geneSetA[0]\n",
    "\n",
    "# Loop through all samples\n",
    "for sample_id in data.index:\n",
    "    \n",
    "    # Randomly select a value [0,1] where each value is uniformly likely to be chosen\n",
    "    new_A_exp = random.uniform(0.0, 1.0)\n",
    "    \n",
    "    # Set gene expression value for genes in set A to be the same random value selected\n",
    "    data.loc[sample_id][geneSetA] = new_A_exp\n",
    "    \n",
    "    # Check if expression of genes in set A exceed the threshold\n",
    "    # Use representatve gene from set A \"geneSetA_pick\" selected above\n",
    "    if data.loc[sample_id,geneSetA_pick] > thresholdA:\n",
    "        \n",
    "        # Scale genes by some fixed percentage\n",
    "        for gene in geneSetB:\n",
    "            data.loc[sample_id,gene] = (1+effect_size)*data.loc[sample_id,gene]            \n",
    "            \n",
    "# if any exceed 1 then set to 1 since gene expression is normalized\n",
    "data[data>=1.0] = 1.0"
   ]
  },
  {
   "cell_type": "code",
   "execution_count": 12,
   "metadata": {
    "ExecuteTime": {
     "end_time": "2019-01-31T15:18:04.022969Z",
     "start_time": "2019-01-31T15:18:04.002065Z"
    }
   },
   "outputs": [
    {
     "data": {
      "text/html": [
       "<div>\n",
       "<style scoped>\n",
       "    .dataframe tbody tr th:only-of-type {\n",
       "        vertical-align: middle;\n",
       "    }\n",
       "\n",
       "    .dataframe tbody tr th {\n",
       "        vertical-align: top;\n",
       "    }\n",
       "\n",
       "    .dataframe thead th {\n",
       "        text-align: right;\n",
       "    }\n",
       "</style>\n",
       "<table border=\"1\" class=\"dataframe\">\n",
       "  <thead>\n",
       "    <tr style=\"text-align: right;\">\n",
       "      <th></th>\n",
       "      <th>PA3423</th>\n",
       "    </tr>\n",
       "  </thead>\n",
       "  <tbody>\n",
       "    <tr>\n",
       "      <th>0.1_12hr_CSV86(Pae_G1a).CEL</th>\n",
       "      <td>0.417736</td>\n",
       "    </tr>\n",
       "    <tr>\n",
       "      <th>0.1_2hr_CSV86(Pae_G1a).CEL</th>\n",
       "      <td>0.980972</td>\n",
       "    </tr>\n",
       "    <tr>\n",
       "      <th>0.1_6hr_CSV86(Pae_G1a).CEL</th>\n",
       "      <td>0.090807</td>\n",
       "    </tr>\n",
       "    <tr>\n",
       "      <th>0.1_7hr_CSV86(Pae_G1a).CEL</th>\n",
       "      <td>0.837731</td>\n",
       "    </tr>\n",
       "    <tr>\n",
       "      <th>0.1_9hr_CSV86(Pae_G1a).CEL</th>\n",
       "      <td>0.850805</td>\n",
       "    </tr>\n",
       "  </tbody>\n",
       "</table>\n",
       "</div>"
      ],
      "text/plain": [
       "                               PA3423\n",
       "0.1_12hr_CSV86(Pae_G1a).CEL  0.417736\n",
       "0.1_2hr_CSV86(Pae_G1a).CEL   0.980972\n",
       "0.1_6hr_CSV86(Pae_G1a).CEL   0.090807\n",
       "0.1_7hr_CSV86(Pae_G1a).CEL   0.837731\n",
       "0.1_9hr_CSV86(Pae_G1a).CEL   0.850805"
      ]
     },
     "execution_count": 12,
     "metadata": {},
     "output_type": "execute_result"
    }
   ],
   "source": [
    "# Dataframe with only gene A expression\n",
    "# Used in interpolation analysis\n",
    "geneA_only = pd.DataFrame(data[geneSetA_pick], index=data.index, columns=[geneSetA_pick])\n",
    "\n",
    "geneA_only.head()"
   ]
  },
  {
   "cell_type": "code",
   "execution_count": 13,
   "metadata": {
    "ExecuteTime": {
     "end_time": "2019-01-31T15:18:04.065403Z",
     "start_time": "2019-01-31T15:18:04.024609Z"
    }
   },
   "outputs": [
    {
     "name": "stdout",
     "output_type": "stream",
     "text": [
      "directory already exists: /home/alexandra/Documents/Repos/Pseudomonas_latent_spaces/data/sim_AB_2775_300_v2\n",
      "directory already exists: /home/alexandra/Documents/Repos/Pseudomonas_latent_spaces/encoded/sim_AB_2775_300_v2\n",
      "directory already exists: /home/alexandra/Documents/Repos/Pseudomonas_latent_spaces/models/sim_AB_2775_300_v2\n",
      "directory already exists: /home/alexandra/Documents/Repos/Pseudomonas_latent_spaces/output/sim_AB_2775_300_v2\n",
      "directory already exists: /home/alexandra/Documents/Repos/Pseudomonas_latent_spaces/stats/sim_AB_2775_300_v2\n",
      "directory already exists: /home/alexandra/Documents/Repos/Pseudomonas_latent_spaces/viz/sim_AB_2775_300_v2\n"
     ]
    }
   ],
   "source": [
    "# Create list of base directories\n",
    "base_dirs = [os.path.join(os.path.dirname(os.getcwd()), 'data'),\n",
    "             os.path.join(os.path.dirname(os.getcwd()), 'encoded'),\n",
    "             os.path.join(os.path.dirname(os.getcwd()), 'models'),\n",
    "             os.path.join(os.path.dirname(os.getcwd()), 'output'),\n",
    "             os.path.join(os.path.dirname(os.getcwd()), 'stats'),\n",
    "             os.path.join(os.path.dirname(os.getcwd()), 'viz')    \n",
    "]\n",
    "\n",
    "# Check if directory exist otherwise create\n",
    "for each_dir in base_dirs:\n",
    "    analysis_dir = os.path.join(each_dir, analysis_name)\n",
    "    \n",
    "    if os.path.exists(analysis_dir):\n",
    "        print('directory already exists: {}'.format(analysis_dir))\n",
    "    else:\n",
    "        print('creating new directory: {}'.format(analysis_dir))\n",
    "    os.makedirs(analysis_dir, exist_ok=True)"
   ]
  },
  {
   "cell_type": "markdown",
   "metadata": {},
   "source": [
    "## Outputs\n",
    "Output\n",
    "1. Simulated dataset (\\data)\n",
    "2. Log file containing hyperparmeters used (\\metadata)\n",
    "3. Expression of representative gene from group A (\\data)"
   ]
  },
  {
   "cell_type": "code",
   "execution_count": 14,
   "metadata": {
    "ExecuteTime": {
     "end_time": "2019-01-31T15:18:53.349271Z",
     "start_time": "2019-01-31T15:18:04.066830Z"
    }
   },
   "outputs": [],
   "source": [
    "# Output the new gene expression values for each sample\n",
    "train_input_file = os.path.join(base_dirs[0], analysis_name, \"train_model_input.txt.xz\")\n",
    "data.to_csv(train_input_file, sep='\\t', compression='xz', float_format=\"%.5g\")\n",
    "\n",
    "# Output log file with parameters used to generate simulated data\n",
    "log_file = os.path.join(os.path.dirname(os.getcwd()), 'metadata', analysis_name + '_log.txt')\n",
    "\n",
    "args_dict = {\n",
    "    \"size of gene set A\": geneSetA_size,\n",
    "    \"size of gene set B\": geneSetB_size,\n",
    "    \"genes in set B\": geneSetB,\n",
    "    \"effect size of genes in set B\": effect_size,\n",
    "    \"threshold of A activation\": thresholdA,\n",
    "}\n",
    "\n",
    "with open(log_file, 'w') as f:\n",
    "    for key, value in args_dict.items():\n",
    "        f.write('%s: %s\\n' % (key, value))\n",
    "        \n",
    "# Output geneA only file using sample gene A selected\n",
    "geneA_file = os.path.join(base_dirs[0], analysis_name, geneSetA_pick + \".txt\")\n",
    "geneA_only.to_csv(geneA_file, sep='\\t', float_format=\"%.5g\")"
   ]
  },
  {
   "cell_type": "markdown",
   "metadata": {},
   "source": [
    "## Train \n",
    "Train compression methods (VAE, PCA) using simulated data"
   ]
  },
  {
   "cell_type": "code",
   "execution_count": 15,
   "metadata": {
    "ExecuteTime": {
     "end_time": "2019-01-31T16:00:07.252825Z",
     "start_time": "2019-01-31T15:18:53.350495Z"
    }
   },
   "outputs": [
    {
     "name": "stderr",
     "output_type": "stream",
     "text": [
      "/home/alexandra/Documents/Repos/Pseudomonas_latent_spaces/scripts/functions/vae.py:206: UserWarning: Output \"custom_variational_layer_1\" missing from loss dictionary. We assume this was done on purpose, and we will not be expecting any data to be passed to \"custom_variational_layer_1\" during training.\n",
      "  vae.compile(optimizer=adam, loss=None, loss_weights=[beta])\n"
     ]
    },
    {
     "name": "stdout",
     "output_type": "stream",
     "text": [
      "Train on 1072 samples, validate on 119 samples\n",
      "Epoch 1/200\n",
      "1072/1072 [==============================] - 13s 12ms/step - loss: 3625.0793 - val_loss: 3911.4382\n",
      "Epoch 2/200\n",
      "1072/1072 [==============================] - 12s 11ms/step - loss: 3449.7842 - val_loss: 3626.2825\n",
      "Epoch 3/200\n",
      "1072/1072 [==============================] - 13s 12ms/step - loss: 3412.3977 - val_loss: 3452.5305\n",
      "Epoch 4/200\n",
      "1072/1072 [==============================] - 13s 12ms/step - loss: 3387.7922 - val_loss: 3425.3148\n",
      "Epoch 5/200\n",
      "1072/1072 [==============================] - 13s 12ms/step - loss: 3370.7417 - val_loss: 3409.2791\n",
      "Epoch 6/200\n",
      "1072/1072 [==============================] - 13s 12ms/step - loss: 3356.3183 - val_loss: 3403.1342\n",
      "Epoch 7/200\n",
      "1072/1072 [==============================] - 13s 12ms/step - loss: 3349.6360 - val_loss: 3371.0626\n",
      "Epoch 8/200\n",
      "1072/1072 [==============================] - 13s 12ms/step - loss: 3343.0249 - val_loss: 3366.5338\n",
      "Epoch 9/200\n",
      "1072/1072 [==============================] - 12s 12ms/step - loss: 3339.0085 - val_loss: 3361.0981\n",
      "Epoch 10/200\n",
      "1072/1072 [==============================] - 13s 12ms/step - loss: 3327.8070 - val_loss: 3357.9344\n",
      "Epoch 11/200\n",
      "1072/1072 [==============================] - 13s 12ms/step - loss: 3322.4327 - val_loss: 3361.0943\n",
      "Epoch 12/200\n",
      "1072/1072 [==============================] - 12s 12ms/step - loss: 3317.1670 - val_loss: 3350.9017\n",
      "Epoch 13/200\n",
      "1072/1072 [==============================] - 13s 12ms/step - loss: 3309.9889 - val_loss: 3341.0837\n",
      "Epoch 14/200\n",
      "1072/1072 [==============================] - 13s 12ms/step - loss: 3304.8101 - val_loss: 3339.6868\n",
      "Epoch 15/200\n",
      "1072/1072 [==============================] - 13s 12ms/step - loss: 3299.2941 - val_loss: 3334.8912\n",
      "Epoch 16/200\n",
      "1072/1072 [==============================] - 13s 12ms/step - loss: 3297.6637 - val_loss: 3331.9208\n",
      "Epoch 17/200\n",
      "1072/1072 [==============================] - 13s 12ms/step - loss: 3292.9971 - val_loss: 3326.1932\n",
      "Epoch 18/200\n",
      "1072/1072 [==============================] - 13s 12ms/step - loss: 3290.4366 - val_loss: 3321.0863\n",
      "Epoch 19/200\n",
      "1072/1072 [==============================] - 12s 12ms/step - loss: 3283.9979 - val_loss: 3324.2300\n",
      "Epoch 20/200\n",
      "1072/1072 [==============================] - 12s 12ms/step - loss: 3280.6727 - val_loss: 3324.5373\n",
      "Epoch 21/200\n",
      "1072/1072 [==============================] - 13s 12ms/step - loss: 3278.4235 - val_loss: 3322.5933\n",
      "Epoch 22/200\n",
      "1072/1072 [==============================] - 13s 12ms/step - loss: 3274.7895 - val_loss: 3323.7316\n",
      "Epoch 23/200\n",
      "1072/1072 [==============================] - 12s 12ms/step - loss: 3271.9194 - val_loss: 3312.6124\n",
      "Epoch 24/200\n",
      "1072/1072 [==============================] - 12s 12ms/step - loss: 3268.6018 - val_loss: 3310.3331\n",
      "Epoch 25/200\n",
      "1072/1072 [==============================] - 12s 11ms/step - loss: 3267.6828 - val_loss: 3312.3017\n",
      "Epoch 26/200\n",
      "1072/1072 [==============================] - 12s 11ms/step - loss: 3262.9912 - val_loss: 3310.1115\n",
      "Epoch 27/200\n",
      "1072/1072 [==============================] - 12s 11ms/step - loss: 3260.9419 - val_loss: 3309.4765\n",
      "Epoch 28/200\n",
      "1072/1072 [==============================] - 12s 11ms/step - loss: 3258.5964 - val_loss: 3305.9739\n",
      "Epoch 29/200\n",
      "1072/1072 [==============================] - 12s 11ms/step - loss: 3257.7648 - val_loss: 3302.0199\n",
      "Epoch 30/200\n",
      "1072/1072 [==============================] - 12s 11ms/step - loss: 3254.8329 - val_loss: 3302.8173\n",
      "Epoch 31/200\n",
      "1072/1072 [==============================] - 12s 11ms/step - loss: 3253.6213 - val_loss: 3302.0468\n",
      "Epoch 32/200\n",
      "1072/1072 [==============================] - 12s 12ms/step - loss: 3251.8015 - val_loss: 3303.4440\n",
      "Epoch 33/200\n",
      "1072/1072 [==============================] - 12s 12ms/step - loss: 3249.0664 - val_loss: 3297.0997\n",
      "Epoch 34/200\n",
      "1072/1072 [==============================] - 13s 12ms/step - loss: 3247.1106 - val_loss: 3294.0964\n",
      "Epoch 35/200\n",
      "1072/1072 [==============================] - 12s 11ms/step - loss: 3246.2793 - val_loss: 3296.2739\n",
      "Epoch 36/200\n",
      "1072/1072 [==============================] - 12s 11ms/step - loss: 3244.0845 - val_loss: 3292.4082\n",
      "Epoch 37/200\n",
      "1072/1072 [==============================] - 12s 11ms/step - loss: 3240.7107 - val_loss: 3286.3226\n",
      "Epoch 38/200\n",
      "1072/1072 [==============================] - 12s 11ms/step - loss: 3239.8606 - val_loss: 3289.3896\n",
      "Epoch 39/200\n",
      "1072/1072 [==============================] - 12s 11ms/step - loss: 3238.0762 - val_loss: 3284.7395\n",
      "Epoch 40/200\n",
      "1072/1072 [==============================] - 12s 11ms/step - loss: 3237.2841 - val_loss: 3285.2312\n",
      "Epoch 41/200\n",
      "1072/1072 [==============================] - 12s 11ms/step - loss: 3235.7860 - val_loss: 3287.8022\n",
      "Epoch 42/200\n",
      "1072/1072 [==============================] - 12s 11ms/step - loss: 3236.0503 - val_loss: 3285.2472\n",
      "Epoch 43/200\n",
      "1072/1072 [==============================] - 12s 11ms/step - loss: 3235.5859 - val_loss: 3283.2743\n",
      "Epoch 44/200\n",
      "1072/1072 [==============================] - 12s 11ms/step - loss: 3234.0233 - val_loss: 3281.7288\n",
      "Epoch 45/200\n",
      "1072/1072 [==============================] - 12s 11ms/step - loss: 3231.6144 - val_loss: 3281.5325\n",
      "Epoch 46/200\n",
      "1072/1072 [==============================] - 13s 12ms/step - loss: 3230.6083 - val_loss: 3280.4023\n",
      "Epoch 47/200\n",
      "1072/1072 [==============================] - 13s 13ms/step - loss: 3230.5536 - val_loss: 3282.4456\n",
      "Epoch 48/200\n",
      "1072/1072 [==============================] - 13s 12ms/step - loss: 3228.1881 - val_loss: 3274.9765\n",
      "Epoch 49/200\n",
      "1072/1072 [==============================] - 13s 12ms/step - loss: 3227.3704 - val_loss: 3275.7238\n",
      "Epoch 50/200\n",
      "1072/1072 [==============================] - 13s 12ms/step - loss: 3226.3739 - val_loss: 3275.5588\n",
      "Epoch 51/200\n",
      "1072/1072 [==============================] - 13s 12ms/step - loss: 3226.0112 - val_loss: 3270.9643\n",
      "Epoch 52/200\n",
      "1072/1072 [==============================] - 12s 11ms/step - loss: 3224.6642 - val_loss: 3276.7581\n",
      "Epoch 53/200\n",
      "1072/1072 [==============================] - 12s 11ms/step - loss: 3223.6198 - val_loss: 3272.4283\n",
      "Epoch 54/200\n",
      "1072/1072 [==============================] - 12s 11ms/step - loss: 3222.6494 - val_loss: 3272.3641\n",
      "Epoch 55/200\n",
      "1072/1072 [==============================] - 12s 11ms/step - loss: 3221.8106 - val_loss: 3275.2165\n",
      "Epoch 56/200\n",
      "1072/1072 [==============================] - 12s 11ms/step - loss: 3221.2124 - val_loss: 3269.1138\n",
      "Epoch 57/200\n",
      "1072/1072 [==============================] - 12s 11ms/step - loss: 3219.4972 - val_loss: 3268.4049\n",
      "Epoch 58/200\n",
      "1072/1072 [==============================] - 12s 11ms/step - loss: 3219.4843 - val_loss: 3266.7348\n",
      "Epoch 59/200\n",
      "1072/1072 [==============================] - 12s 11ms/step - loss: 3219.0282 - val_loss: 3269.6450\n",
      "Epoch 60/200\n",
      "1072/1072 [==============================] - 12s 11ms/step - loss: 3217.0391 - val_loss: 3269.2066\n",
      "Epoch 61/200\n",
      "1072/1072 [==============================] - 12s 11ms/step - loss: 3215.8010 - val_loss: 3267.8431\n",
      "Epoch 62/200\n",
      "1072/1072 [==============================] - 12s 11ms/step - loss: 3215.2757 - val_loss: 3266.0677\n",
      "Epoch 63/200\n",
      "1072/1072 [==============================] - 12s 11ms/step - loss: 3215.6809 - val_loss: 3266.5717\n",
      "Epoch 64/200\n",
      "1072/1072 [==============================] - 12s 11ms/step - loss: 3215.6646 - val_loss: 3265.7747\n",
      "Epoch 65/200\n",
      "1072/1072 [==============================] - 12s 11ms/step - loss: 3215.2587 - val_loss: 3266.0425\n",
      "Epoch 66/200\n",
      "1072/1072 [==============================] - 12s 11ms/step - loss: 3214.2317 - val_loss: 3264.5757\n",
      "Epoch 67/200\n",
      "1072/1072 [==============================] - 12s 11ms/step - loss: 3211.8225 - val_loss: 3262.9154\n",
      "Epoch 68/200\n",
      "1072/1072 [==============================] - 12s 11ms/step - loss: 3210.7589 - val_loss: 3264.4173\n",
      "Epoch 69/200\n",
      "1072/1072 [==============================] - 12s 11ms/step - loss: 3211.3144 - val_loss: 3265.1101\n",
      "Epoch 70/200\n",
      "1072/1072 [==============================] - 12s 11ms/step - loss: 3210.4709 - val_loss: 3266.2911\n",
      "Epoch 71/200\n",
      "1072/1072 [==============================] - 12s 11ms/step - loss: 3209.0115 - val_loss: 3266.0142\n",
      "Epoch 72/200\n",
      "1072/1072 [==============================] - 12s 11ms/step - loss: 3208.2714 - val_loss: 3263.3134\n",
      "Epoch 73/200\n",
      "1072/1072 [==============================] - 12s 11ms/step - loss: 3208.0782 - val_loss: 3264.2614\n"
     ]
    },
    {
     "name": "stdout",
     "output_type": "stream",
     "text": [
      "Epoch 74/200\n",
      "1072/1072 [==============================] - 12s 12ms/step - loss: 3206.5079 - val_loss: 3265.3245\n",
      "Epoch 75/200\n",
      "1072/1072 [==============================] - 13s 12ms/step - loss: 3206.3744 - val_loss: 3265.0142\n",
      "Epoch 76/200\n",
      "1072/1072 [==============================] - 12s 11ms/step - loss: 3206.0794 - val_loss: 3260.2602\n",
      "Epoch 77/200\n",
      "1072/1072 [==============================] - 12s 12ms/step - loss: 3204.7883 - val_loss: 3264.3184\n",
      "Epoch 78/200\n",
      "1072/1072 [==============================] - 12s 11ms/step - loss: 3204.1208 - val_loss: 3261.2938\n",
      "Epoch 79/200\n",
      "1072/1072 [==============================] - 12s 11ms/step - loss: 3203.3620 - val_loss: 3259.3503\n",
      "Epoch 80/200\n",
      "1072/1072 [==============================] - 12s 11ms/step - loss: 3203.5507 - val_loss: 3264.9374\n",
      "Epoch 81/200\n",
      "1072/1072 [==============================] - 12s 11ms/step - loss: 3203.1809 - val_loss: 3262.6492\n",
      "Epoch 82/200\n",
      "1072/1072 [==============================] - 13s 12ms/step - loss: 3201.5900 - val_loss: 3260.3201\n",
      "Epoch 83/200\n",
      "1072/1072 [==============================] - 13s 12ms/step - loss: 3201.3457 - val_loss: 3263.1884\n",
      "Epoch 84/200\n",
      "1072/1072 [==============================] - 13s 12ms/step - loss: 3201.1499 - val_loss: 3262.7462\n",
      "Epoch 85/200\n",
      "1072/1072 [==============================] - 13s 12ms/step - loss: 3200.8647 - val_loss: 3262.5908\n",
      "Epoch 86/200\n",
      "1072/1072 [==============================] - 12s 11ms/step - loss: 3198.8293 - val_loss: 3260.6728\n",
      "Epoch 87/200\n",
      "1072/1072 [==============================] - 12s 11ms/step - loss: 3198.7986 - val_loss: 3263.6326\n",
      "Epoch 88/200\n",
      "1072/1072 [==============================] - 12s 11ms/step - loss: 3199.3797 - val_loss: 3263.8788\n",
      "Epoch 89/200\n",
      "1072/1072 [==============================] - 12s 11ms/step - loss: 3199.1828 - val_loss: 3263.3575\n",
      "Epoch 90/200\n",
      "1072/1072 [==============================] - 12s 11ms/step - loss: 3197.9176 - val_loss: 3262.0801\n",
      "Epoch 91/200\n",
      "1072/1072 [==============================] - 12s 11ms/step - loss: 3197.0119 - val_loss: 3261.4486\n",
      "Epoch 92/200\n",
      "1072/1072 [==============================] - 12s 12ms/step - loss: 3196.5108 - val_loss: 3261.1866\n",
      "Epoch 93/200\n",
      "1072/1072 [==============================] - 12s 12ms/step - loss: 3195.9294 - val_loss: 3259.3795\n",
      "Epoch 94/200\n",
      "1072/1072 [==============================] - 12s 12ms/step - loss: 3196.2292 - val_loss: 3260.4175\n",
      "Epoch 95/200\n",
      "1072/1072 [==============================] - 12s 12ms/step - loss: 3196.6710 - val_loss: 3260.2786\n",
      "Epoch 96/200\n",
      "1072/1072 [==============================] - 12s 12ms/step - loss: 3195.9159 - val_loss: 3258.9023\n",
      "Epoch 97/200\n",
      "1072/1072 [==============================] - 13s 12ms/step - loss: 3194.8470 - val_loss: 3258.1385\n",
      "Epoch 98/200\n",
      "1072/1072 [==============================] - 13s 12ms/step - loss: 3194.9568 - val_loss: 3259.1641\n",
      "Epoch 99/200\n",
      "1072/1072 [==============================] - 13s 12ms/step - loss: 3193.4984 - val_loss: 3262.8108\n",
      "Epoch 100/200\n",
      "1072/1072 [==============================] - 12s 11ms/step - loss: 3193.9763 - val_loss: 3259.1955\n",
      "Epoch 101/200\n",
      "1072/1072 [==============================] - 13s 12ms/step - loss: 3192.7884 - val_loss: 3261.2637\n",
      "Epoch 102/200\n",
      "1072/1072 [==============================] - 12s 11ms/step - loss: 3193.1653 - val_loss: 3260.7714\n",
      "Epoch 103/200\n",
      "1072/1072 [==============================] - 12s 12ms/step - loss: 3192.7428 - val_loss: 3258.0177\n",
      "Epoch 104/200\n",
      "1072/1072 [==============================] - 13s 12ms/step - loss: 3192.6111 - val_loss: 3260.3963\n",
      "Epoch 105/200\n",
      "1072/1072 [==============================] - 13s 12ms/step - loss: 3191.8069 - val_loss: 3259.8659\n",
      "Epoch 106/200\n",
      "1072/1072 [==============================] - 13s 12ms/step - loss: 3192.6657 - val_loss: 3260.2708\n",
      "Epoch 107/200\n",
      "1072/1072 [==============================] - 12s 11ms/step - loss: 3191.3753 - val_loss: 3260.1740\n",
      "Epoch 108/200\n",
      "1072/1072 [==============================] - 12s 12ms/step - loss: 3191.1719 - val_loss: 3260.9420\n",
      "Epoch 109/200\n",
      "1072/1072 [==============================] - 13s 12ms/step - loss: 3190.3341 - val_loss: 3258.2572\n",
      "Epoch 110/200\n",
      "1072/1072 [==============================] - 13s 12ms/step - loss: 3190.2263 - val_loss: 3260.6260\n",
      "Epoch 111/200\n",
      "1072/1072 [==============================] - 13s 12ms/step - loss: 3190.2548 - val_loss: 3259.0946\n",
      "Epoch 112/200\n",
      "1072/1072 [==============================] - 12s 11ms/step - loss: 3189.8027 - val_loss: 3256.9866\n",
      "Epoch 113/200\n",
      "1072/1072 [==============================] - 12s 12ms/step - loss: 3189.5049 - val_loss: 3258.8170\n",
      "Epoch 114/200\n",
      "1072/1072 [==============================] - 13s 12ms/step - loss: 3189.4916 - val_loss: 3259.7087\n",
      "Epoch 115/200\n",
      "1072/1072 [==============================] - 12s 12ms/step - loss: 3189.9300 - val_loss: 3260.2920\n",
      "Epoch 116/200\n",
      "1072/1072 [==============================] - 12s 12ms/step - loss: 3189.0137 - val_loss: 3257.5146\n",
      "Epoch 117/200\n",
      "1072/1072 [==============================] - 12s 11ms/step - loss: 3188.7138 - val_loss: 3256.8287\n",
      "Epoch 118/200\n",
      "1072/1072 [==============================] - 13s 12ms/step - loss: 3188.3169 - val_loss: 3257.8097\n",
      "Epoch 119/200\n",
      "1072/1072 [==============================] - 13s 12ms/step - loss: 3188.5800 - val_loss: 3257.9089\n",
      "Epoch 120/200\n",
      "1072/1072 [==============================] - 12s 12ms/step - loss: 3188.0813 - val_loss: 3257.8185\n",
      "Epoch 121/200\n",
      "1072/1072 [==============================] - 12s 11ms/step - loss: 3188.4616 - val_loss: 3260.8235\n",
      "Epoch 122/200\n",
      "1072/1072 [==============================] - 12s 11ms/step - loss: 3187.9522 - val_loss: 3258.8747\n",
      "Epoch 123/200\n",
      "1072/1072 [==============================] - 12s 11ms/step - loss: 3187.2240 - val_loss: 3259.3628\n",
      "Epoch 124/200\n",
      "1072/1072 [==============================] - 12s 12ms/step - loss: 3186.8321 - val_loss: 3257.1443\n",
      "Epoch 125/200\n",
      "1072/1072 [==============================] - 12s 11ms/step - loss: 3186.1364 - val_loss: 3255.8827\n",
      "Epoch 126/200\n",
      "1072/1072 [==============================] - 12s 12ms/step - loss: 3186.2078 - val_loss: 3256.5706\n",
      "Epoch 127/200\n",
      "1072/1072 [==============================] - 12s 12ms/step - loss: 3185.3604 - val_loss: 3256.2567\n",
      "Epoch 128/200\n",
      "1072/1072 [==============================] - 12s 11ms/step - loss: 3185.1457 - val_loss: 3253.9921\n",
      "Epoch 129/200\n",
      "1072/1072 [==============================] - 12s 11ms/step - loss: 3185.8309 - val_loss: 3255.9415\n",
      "Epoch 130/200\n",
      "1072/1072 [==============================] - 12s 12ms/step - loss: 3185.2925 - val_loss: 3255.6848\n",
      "Epoch 131/200\n",
      "1072/1072 [==============================] - 13s 12ms/step - loss: 3184.6815 - val_loss: 3257.2874\n",
      "Epoch 132/200\n",
      "1072/1072 [==============================] - 12s 12ms/step - loss: 3184.6606 - val_loss: 3258.0310\n",
      "Epoch 133/200\n",
      "1072/1072 [==============================] - 12s 11ms/step - loss: 3184.6893 - val_loss: 3255.9552\n",
      "Epoch 134/200\n",
      "1072/1072 [==============================] - 12s 11ms/step - loss: 3184.4840 - val_loss: 3257.1684\n",
      "Epoch 135/200\n",
      "1072/1072 [==============================] - 12s 11ms/step - loss: 3184.6177 - val_loss: 3255.7561\n",
      "Epoch 136/200\n",
      "1072/1072 [==============================] - 12s 11ms/step - loss: 3184.6544 - val_loss: 3256.6602\n",
      "Epoch 137/200\n",
      "1072/1072 [==============================] - 12s 11ms/step - loss: 3183.6569 - val_loss: 3256.0616\n",
      "Epoch 138/200\n",
      "1072/1072 [==============================] - 12s 11ms/step - loss: 3184.1164 - val_loss: 3253.7530\n",
      "Epoch 139/200\n",
      "1072/1072 [==============================] - 12s 11ms/step - loss: 3183.6192 - val_loss: 3254.4682\n",
      "Epoch 140/200\n",
      "1072/1072 [==============================] - 12s 11ms/step - loss: 3184.1688 - val_loss: 3255.4417\n",
      "Epoch 141/200\n",
      "1072/1072 [==============================] - 12s 11ms/step - loss: 3183.7867 - val_loss: 3259.5804\n",
      "Epoch 142/200\n",
      "1072/1072 [==============================] - 12s 11ms/step - loss: 3183.0424 - val_loss: 3259.0132\n",
      "Epoch 143/200\n",
      "1072/1072 [==============================] - 12s 11ms/step - loss: 3183.4179 - val_loss: 3256.6724\n",
      "Epoch 144/200\n",
      "1072/1072 [==============================] - 12s 11ms/step - loss: 3183.0741 - val_loss: 3257.4772\n",
      "Epoch 145/200\n",
      "1072/1072 [==============================] - 12s 11ms/step - loss: 3182.9737 - val_loss: 3256.5037\n",
      "Epoch 146/200\n",
      "1072/1072 [==============================] - 12s 11ms/step - loss: 3182.3765 - val_loss: 3255.1071\n",
      "Epoch 147/200\n",
      "1072/1072 [==============================] - 12s 11ms/step - loss: 3182.5365 - val_loss: 3256.6770\n",
      "Epoch 148/200\n",
      "1072/1072 [==============================] - 12s 11ms/step - loss: 3181.9644 - val_loss: 3254.0274\n",
      "Epoch 149/200\n",
      "1072/1072 [==============================] - 12s 11ms/step - loss: 3181.6960 - val_loss: 3254.5212\n",
      "Epoch 150/200\n",
      "1072/1072 [==============================] - 12s 11ms/step - loss: 3182.0068 - val_loss: 3255.3317\n",
      "Epoch 151/200\n",
      "1072/1072 [==============================] - 12s 11ms/step - loss: 3181.5178 - val_loss: 3257.2530\n",
      "Epoch 152/200\n",
      "1072/1072 [==============================] - 12s 11ms/step - loss: 3181.1111 - val_loss: 3256.3373\n",
      "Epoch 153/200\n",
      "1072/1072 [==============================] - 12s 11ms/step - loss: 3180.8551 - val_loss: 3258.9820\n",
      "Epoch 154/200\n",
      "1072/1072 [==============================] - 12s 11ms/step - loss: 3181.3412 - val_loss: 3255.3786\n",
      "Epoch 155/200\n",
      "1072/1072 [==============================] - 12s 11ms/step - loss: 3181.2340 - val_loss: 3255.5892\n",
      "Epoch 156/200\n",
      "1072/1072 [==============================] - 12s 11ms/step - loss: 3181.6270 - val_loss: 3255.0229\n",
      "Epoch 157/200\n",
      "1072/1072 [==============================] - 12s 11ms/step - loss: 3181.2877 - val_loss: 3259.0553\n",
      "Epoch 158/200\n",
      "1072/1072 [==============================] - 12s 11ms/step - loss: 3180.5640 - val_loss: 3257.7225\n",
      "Epoch 159/200\n",
      "1072/1072 [==============================] - 12s 11ms/step - loss: 3180.3170 - val_loss: 3255.1534\n",
      "Epoch 160/200\n",
      "1072/1072 [==============================] - 12s 11ms/step - loss: 3180.5848 - val_loss: 3256.1082\n",
      "Epoch 161/200\n",
      "1072/1072 [==============================] - 12s 11ms/step - loss: 3179.6250 - val_loss: 3255.0702\n",
      "Epoch 162/200\n",
      "1072/1072 [==============================] - 12s 11ms/step - loss: 3179.5764 - val_loss: 3255.5575\n",
      "Epoch 163/200\n",
      "1072/1072 [==============================] - 12s 11ms/step - loss: 3180.1235 - val_loss: 3255.2789\n",
      "Epoch 164/200\n",
      "1072/1072 [==============================] - 12s 11ms/step - loss: 3179.5926 - val_loss: 3255.3399\n",
      "Epoch 165/200\n",
      "1072/1072 [==============================] - 12s 11ms/step - loss: 3179.3336 - val_loss: 3253.9837\n",
      "Epoch 166/200\n",
      "1072/1072 [==============================] - 12s 11ms/step - loss: 3179.4374 - val_loss: 3256.3680\n",
      "Epoch 167/200\n",
      "1072/1072 [==============================] - 12s 11ms/step - loss: 3178.9479 - val_loss: 3257.0459\n",
      "Epoch 168/200\n",
      "1072/1072 [==============================] - 12s 11ms/step - loss: 3179.4539 - val_loss: 3256.9354\n",
      "Epoch 169/200\n",
      "1072/1072 [==============================] - 12s 11ms/step - loss: 3179.5892 - val_loss: 3259.0311\n",
      "Epoch 170/200\n",
      "1072/1072 [==============================] - 12s 11ms/step - loss: 3179.1165 - val_loss: 3256.8579\n",
      "Epoch 171/200\n",
      "1072/1072 [==============================] - 12s 11ms/step - loss: 3178.6568 - val_loss: 3257.0955\n",
      "Epoch 172/200\n",
      "1072/1072 [==============================] - 12s 11ms/step - loss: 3178.1908 - val_loss: 3254.3898\n",
      "Epoch 173/200\n",
      "1072/1072 [==============================] - 12s 11ms/step - loss: 3178.9449 - val_loss: 3254.6992\n",
      "Epoch 174/200\n",
      "1072/1072 [==============================] - 12s 11ms/step - loss: 3178.7048 - val_loss: 3254.4252\n",
      "Epoch 175/200\n",
      "1072/1072 [==============================] - 12s 11ms/step - loss: 3177.8402 - val_loss: 3256.5029\n",
      "Epoch 176/200\n",
      "1072/1072 [==============================] - 12s 11ms/step - loss: 3178.6988 - val_loss: 3257.3375\n",
      "Epoch 177/200\n",
      "1072/1072 [==============================] - 12s 11ms/step - loss: 3178.2299 - val_loss: 3256.7240\n",
      "Epoch 178/200\n",
      "1072/1072 [==============================] - 12s 11ms/step - loss: 3178.4617 - val_loss: 3255.6976\n",
      "Epoch 179/200\n",
      "1072/1072 [==============================] - 12s 11ms/step - loss: 3178.1338 - val_loss: 3255.2956\n",
      "Epoch 180/200\n",
      "1072/1072 [==============================] - 12s 11ms/step - loss: 3178.0675 - val_loss: 3256.3992\n",
      "Epoch 181/200\n",
      "1072/1072 [==============================] - 12s 11ms/step - loss: 3177.7639 - val_loss: 3255.2139\n",
      "Epoch 182/200\n",
      "1072/1072 [==============================] - 12s 11ms/step - loss: 3178.1211 - val_loss: 3256.3558\n",
      "Epoch 183/200\n",
      "1072/1072 [==============================] - 12s 11ms/step - loss: 3177.9379 - val_loss: 3258.9641\n",
      "Epoch 184/200\n",
      "1072/1072 [==============================] - 12s 11ms/step - loss: 3177.3510 - val_loss: 3255.5096\n",
      "Epoch 185/200\n",
      "1072/1072 [==============================] - 12s 11ms/step - loss: 3178.2855 - val_loss: 3255.5416\n",
      "Epoch 186/200\n",
      "1072/1072 [==============================] - 12s 11ms/step - loss: 3177.9966 - val_loss: 3256.6116\n",
      "Epoch 187/200\n",
      "1072/1072 [==============================] - 12s 11ms/step - loss: 3177.3679 - val_loss: 3255.5655\n",
      "Epoch 188/200\n",
      "1072/1072 [==============================] - 12s 11ms/step - loss: 3177.2470 - val_loss: 3254.9688\n",
      "Epoch 189/200\n",
      "1072/1072 [==============================] - 12s 11ms/step - loss: 3176.8483 - val_loss: 3254.9709\n",
      "Epoch 190/200\n",
      "1072/1072 [==============================] - 12s 11ms/step - loss: 3176.5323 - val_loss: 3255.2274\n",
      "Epoch 191/200\n",
      "1072/1072 [==============================] - 12s 11ms/step - loss: 3177.0540 - val_loss: 3255.7904\n",
      "Epoch 192/200\n",
      "1072/1072 [==============================] - 12s 11ms/step - loss: 3176.4965 - val_loss: 3256.5844\n",
      "Epoch 193/200\n",
      "1072/1072 [==============================] - 12s 11ms/step - loss: 3177.1536 - val_loss: 3255.4311\n",
      "Epoch 194/200\n",
      "1072/1072 [==============================] - 12s 11ms/step - loss: 3176.9267 - val_loss: 3256.4510\n",
      "Epoch 195/200\n",
      "1072/1072 [==============================] - 12s 11ms/step - loss: 3176.4152 - val_loss: 3257.4599\n",
      "Epoch 196/200\n",
      "1072/1072 [==============================] - 12s 11ms/step - loss: 3176.2936 - val_loss: 3257.0047\n",
      "Epoch 197/200\n",
      "1072/1072 [==============================] - 12s 11ms/step - loss: 3176.7977 - val_loss: 3256.6798\n",
      "Epoch 198/200\n",
      "1072/1072 [==============================] - 12s 11ms/step - loss: 3177.1662 - val_loss: 3256.7875\n",
      "Epoch 199/200\n",
      "1072/1072 [==============================] - 12s 11ms/step - loss: 3176.6243 - val_loss: 3254.5220\n",
      "Epoch 200/200\n",
      "1072/1072 [==============================] - 12s 11ms/step - loss: 3175.9765 - val_loss: 3253.9445\n",
      "CPU times: user 36min 42s, sys: 4min 35s, total: 41min 18s\n",
      "Wall time: 41min 13s\n"
     ]
    },
    {
     "data": {
      "image/png": "[encoded data removed]",
      "text/plain": [
       "<matplotlib.figure.Figure at 0x7f3f5ea663c8>"
      ]
     },
     "metadata": {},
     "output_type": "display_data"
    }
   ],
   "source": [
    "%%time\n",
    "# Parameters to train nonlinear (VAE) compression method\n",
    "learning_rate = 0.001\n",
    "batch_size = 100\n",
    "epochs = 200\n",
    "kappa = 0.01\n",
    "intermediate_dim = 2775\n",
    "latent_dim = 300\n",
    "epsilon_std = 1.0\n",
    "num_PCs = latent_dim\n",
    "\n",
    "base_dir = os.path.dirname(os.getcwd())\n",
    "\n",
    "# Train nonlinear (VAE)\n",
    "vae.tybalt_2layer_model(learning_rate, batch_size, epochs, kappa, intermediate_dim,\n",
    "                        latent_dim, epsilon_std, base_dir, analysis_name)\n",
    "# Train linear (PCA)\n",
    "pca.pca_model(base_dir, analysis_name, num_PCs)"
   ]
  },
  {
   "cell_type": "markdown",
   "metadata": {},
   "source": [
    "## Prediction\n",
    "Predict gene expression for each sample in the compendium\n",
    "\n",
    "Details about how the prediction computation works can be found within the prediction script: [interpolate.py](/functions/interpolate.py)\n",
    "\n",
    "Algorithm:\n",
    "```python\n",
    "sort samples based on gene A expression\n",
    "\n",
    "for sample in compendium:\n",
    "    baseline_expression = expression(sample with low gene A expression)\n",
    "    offset_vector = (expression(high gene A expression) - expression(low gene A expression)\n",
    "    scale_factor = expression(sample)/((expression(high gene A expression) - expression(low gene A expression))\n",
    "    predict_expression = baseline_expression + scale_factor*offset_vector \n",
    "```"
   ]
  },
  {
   "cell_type": "code",
   "execution_count": 16,
   "metadata": {
    "ExecuteTime": {
     "end_time": "2019-01-31T16:00:33.430326Z",
     "start_time": "2019-01-31T16:00:07.264021Z"
    }
   },
   "outputs": [
    {
     "name": "stdout",
     "output_type": "stream",
     "text": [
      "Number of genes in low expression group is (60, 5549)\n",
      "Number of gene in high expression group is (60, 5549)\n"
     ]
    },
    {
     "name": "stderr",
     "output_type": "stream",
     "text": [
      "/home/alexandra/anaconda3/envs/Pa/lib/python3.5/site-packages/keras/models.py:255: UserWarning: No training configuration found in save file: the model was *not* compiled. Compile it manually.\n",
      "  warnings.warn('No training configuration found in save file: '\n"
     ]
    },
    {
     "name": "stdout",
     "output_type": "stream",
     "text": [
      "Number of genes in low expression group is (60, 5549)\n",
      "Number of gene in high expression group is (60, 5549)\n",
      "Number of genes in low expression group is (60, 5549)\n",
      "Number of gene in high expression group is (60, 5549)\n"
     ]
    }
   ],
   "source": [
    "# Prediction based calculation described in interpolate.py\n",
    "\n",
    "# Define offset vectors in gene space\n",
    "data_dir = os.path.join(base_dirs[0], analysis_name)\n",
    "target_gene = geneSetA_pick\n",
    "percent_low = 5\n",
    "percent_high = 95\n",
    "\n",
    "def_offset.gene_space_offset(data_dir, target_gene, percent_low, percent_high)\n",
    "\n",
    "model_dir = os.path.join(base_dirs[2], analysis_name)\n",
    "encoded_dir = os.path.join(base_dirs[1], analysis_name)\n",
    "\n",
    "# Define offset vectors for VAE latent space\n",
    "# The offset vector represents the \"essence\" of gene A\n",
    "# The offset vector = highest percent_high gene expression - lowest percent_low gene expression  \n",
    "def_offset.vae_latent_space_offset(data_dir, model_dir, encoded_dir, latent_dim, target_gene, percent_low,\n",
    "                                   percent_high)\n",
    "# Define offset vectors for PCA latent space\n",
    "def_offset.pca_latent_space_offset(data_dir, model_dir, encoded_dir, target_gene, percent_low, percent_high)\n",
    "\n",
    "\n",
    "# Predict gene expression using offset in gene space and latent space\n",
    "# Predict sample gene expression = baseline low gene expression + scale factor * offset vector\n",
    "# interpolate.py returns correlation between predicted expression and actual expression\n",
    "out_dir = os.path.join(base_dirs[3], analysis_name)\n",
    "\n",
    "interpolate.interpolate_in_gene_space(data_dir, target_gene, out_dir, percent_low, percent_high)\n",
    "interpolate.interpolate_in_vae_latent_space(data_dir, model_dir, encoded_dir, latent_dim, \n",
    "                                            target_gene, out_dir, percent_low, percent_high)\n",
    "interpolate.interpolate_in_pca_latent_space(data_dir, model_dir, encoded_dir, target_gene, \n",
    "                                            out_dir, percent_low, percent_high)"
   ]
  },
  {
   "cell_type": "markdown",
   "metadata": {},
   "source": [
    "## Visualize\n",
    "Visualize prediction performance comparing VAE, PCA, No compression"
   ]
  },
  {
   "cell_type": "code",
   "execution_count": 17,
   "metadata": {
    "ExecuteTime": {
     "end_time": "2019-01-31T16:00:35.398300Z",
     "start_time": "2019-01-31T16:00:33.432206Z"
    }
   },
   "outputs": [
    {
     "name": "stderr",
     "output_type": "stream",
     "text": [
      "/home/alexandra/Documents/Repos/Pseudomonas_latent_spaces/scripts/functions/plot.py:87: FutureWarning: \n",
      "Passing list-likes to .loc or [] with any missing label will raise\n",
      "KeyError in the future, you can use .reindex() as an alternative.\n",
      "\n",
      "See the documentation here:\n",
      "http://pandas.pydata.org/pandas-docs/stable/indexing.html#deprecate-loc-reindex-listlike\n",
      "  X_sorted = X.loc[sorted_id.index].dropna()\n"
     ]
    },
    {
     "data": {
      "image/png": "[encoded data removed]",
      "text/plain": [
       "<matplotlib.figure.Figure at 0x7f3f5e9b85f8>"
      ]
     },
     "metadata": {},
     "output_type": "display_data"
    },
    {
     "data": {
      "image/png": "[encoded data removed]",
      "text/plain": [
       "<matplotlib.figure.Figure at 0x7f3f47655588>"
      ]
     },
     "metadata": {},
     "output_type": "display_data"
    },
    {
     "data": {
      "image/png": "[encoded data removed]",
      "text/plain": [
       "<matplotlib.figure.Figure at 0x7f3f4e4fd3c8>"
      ]
     },
     "metadata": {},
     "output_type": "display_data"
    }
   ],
   "source": [
    "# True if the x-axis of the plot uses the sample index\n",
    "# False if the x-asix of the plot uses the gene expression of the target gene\n",
    "by_sample_ind = False\n",
    "\n",
    "# Plot correlation score per sample along gradient of gene A expression\n",
    "viz_dir = os.path.join(base_dirs[5], analysis_name)\n",
    "plot.plot_corr_gradient(out_dir, viz_dir, target_gene, by_sample_ind)"
   ]
  }
 ],
 "metadata": {
  "kernelspec": {
   "display_name": "Python [conda env:Pa]",
   "language": "python",
   "name": "conda-env-Pa-py"
  },
  "language_info": {
   "codemirror_mode": {
    "name": "ipython",
    "version": 3
   },
   "file_extension": ".py",
   "mimetype": "text/x-python",
   "name": "python",
   "nbconvert_exporter": "python",
   "pygments_lexer": "ipython3",
   "version": "3.5.5"
  }
 },
 "nbformat": 4,
 "nbformat_minor": 2
}
