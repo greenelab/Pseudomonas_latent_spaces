{
 "cells": [
  {
   "cell_type": "code",
   "execution_count": 1,
   "metadata": {},
   "outputs": [
    {
     "name": "stderr",
     "output_type": "stream",
     "text": [
      "Using TensorFlow backend.\n"
     ]
    },
    {
     "ename": "NameError",
     "evalue": "name 'Layer' is not defined",
     "output_type": "error",
     "traceback": [
      "\u001b[0;31m---------------------------------------------------------------------------\u001b[0m",
      "\u001b[0;31mNameError\u001b[0m                                 Traceback (most recent call last)",
      "\u001b[0;32m<ipython-input-1-70fc8c787dba>\u001b[0m in \u001b[0;36m<module>\u001b[0;34m()\u001b[0m\n\u001b[1;32m     29\u001b[0m \u001b[0;32mimport\u001b[0m \u001b[0mseaborn\u001b[0m \u001b[0;32mas\u001b[0m \u001b[0msns\u001b[0m\u001b[0;34m\u001b[0m\u001b[0m\n\u001b[1;32m     30\u001b[0m \u001b[0;34m\u001b[0m\u001b[0m\n\u001b[0;32m---> 31\u001b[0;31m \u001b[0;32mfrom\u001b[0m \u001b[0mfunctions\u001b[0m \u001b[0;32mimport\u001b[0m \u001b[0mgenerate_input\u001b[0m\u001b[0;34m,\u001b[0m \u001b[0mvae\u001b[0m\u001b[0;34m,\u001b[0m \u001b[0mdef_offset\u001b[0m\u001b[0;34m,\u001b[0m \u001b[0minterpolate\u001b[0m\u001b[0;34m,\u001b[0m \u001b[0mpca\u001b[0m\u001b[0;34m,\u001b[0m \u001b[0mplot\u001b[0m\u001b[0;34m\u001b[0m\u001b[0m\n\u001b[0m\u001b[1;32m     32\u001b[0m \u001b[0;34m\u001b[0m\u001b[0m\n\u001b[1;32m     33\u001b[0m \u001b[0;32mfrom\u001b[0m \u001b[0mnumpy\u001b[0m\u001b[0;34m.\u001b[0m\u001b[0mrandom\u001b[0m \u001b[0;32mimport\u001b[0m \u001b[0mseed\u001b[0m\u001b[0;34m\u001b[0m\u001b[0m\n",
      "\u001b[0;32m~/Documents/Repos/Pseudomonas_latent_spaces/scripts/functions/vae.py\u001b[0m in \u001b[0;36m<module>\u001b[0;34m()\u001b[0m\n\u001b[1;32m     61\u001b[0m \u001b[0;32mfrom\u001b[0m \u001b[0mkeras\u001b[0m\u001b[0;34m.\u001b[0m\u001b[0mcallbacks\u001b[0m \u001b[0;32mimport\u001b[0m \u001b[0mCallback\u001b[0m\u001b[0;34m\u001b[0m\u001b[0m\n\u001b[1;32m     62\u001b[0m \u001b[0;34m\u001b[0m\u001b[0m\n\u001b[0;32m---> 63\u001b[0;31m \u001b[0;32mfrom\u001b[0m \u001b[0mfunctions\u001b[0m \u001b[0;32mimport\u001b[0m \u001b[0mhelper_ae\u001b[0m\u001b[0;34m\u001b[0m\u001b[0m\n\u001b[0m\u001b[1;32m     64\u001b[0m \u001b[0;32mfrom\u001b[0m \u001b[0mhelper_ae\u001b[0m \u001b[0;32mimport\u001b[0m \u001b[0msampling\u001b[0m\u001b[0;34m,\u001b[0m \u001b[0mCustomVariationalLayer\u001b[0m\u001b[0;34m,\u001b[0m \u001b[0mWarmUpCallback\u001b[0m\u001b[0;34m\u001b[0m\u001b[0m\n\u001b[1;32m     65\u001b[0m \u001b[0;34m\u001b[0m\u001b[0m\n",
      "\u001b[0;32m~/Documents/Repos/Pseudomonas_latent_spaces/scripts/functions/helper_ae.py\u001b[0m in \u001b[0;36m<module>\u001b[0;34m()\u001b[0m\n\u001b[1;32m     24\u001b[0m     \u001b[0;32mreturn\u001b[0m \u001b[0mz\u001b[0m\u001b[0;34m\u001b[0m\u001b[0m\n\u001b[1;32m     25\u001b[0m \u001b[0;34m\u001b[0m\u001b[0m\n\u001b[0;32m---> 26\u001b[0;31m \u001b[0;32mclass\u001b[0m \u001b[0mCustomVariationalLayer\u001b[0m\u001b[0;34m(\u001b[0m\u001b[0mLayer\u001b[0m\u001b[0;34m)\u001b[0m\u001b[0;34m:\u001b[0m\u001b[0;34m\u001b[0m\u001b[0m\n\u001b[0m\u001b[1;32m     27\u001b[0m     \"\"\"\n\u001b[1;32m     28\u001b[0m     \u001b[0mDefine\u001b[0m \u001b[0ma\u001b[0m \u001b[0mcustom\u001b[0m \u001b[0mlayer\u001b[0m \u001b[0mthat\u001b[0m \u001b[0mlearns\u001b[0m \u001b[0;32mand\u001b[0m \u001b[0mperforms\u001b[0m \u001b[0mthe\u001b[0m \u001b[0mtraining\u001b[0m\u001b[0;34m\u001b[0m\u001b[0m\n",
      "\u001b[0;31mNameError\u001b[0m: name 'Layer' is not defined"
     ]
    }
   ],
   "source": [
    "#-----------------------------------------------------------------------------------------------------------------\n",
    "# Simulation experiment\n",
    "#\n",
    "# Network:\n",
    "# A --> gene set C\n",
    "#\n",
    "# Algorithm\n",
    "# Let gene A and B be TF's:\n",
    "# if gene A expression > threshold_A:\n",
    "#     genes in set C are set to some proportion of the expression of gene A\n",
    "#\n",
    "# Apply this algorithm for each sample in the compendium (essentially adding a signal to the existing gene expression data in the compendium)\n",
    "# \n",
    "# Hyperparmeters should include: \n",
    "# 1. Gene A\n",
    "# 2. Size of gene sets C\n",
    "# 3. Proportion of gene A expression\n",
    "# 4. Thresholds\n",
    "# 5. Percentage to 1.0 (effect size)\n",
    "# 6. Log file with hyperparameter selections\n",
    "#-----------------------------------------------------------------------------------------------------------------\n",
    "%load_ext autoreload\n",
    "%autoreload 2\n",
    "\n",
    "import os\n",
    "import pandas as pd\n",
    "import numpy as np\n",
    "import random\n",
    "import seaborn as sns\n",
    "\n",
    "from functions import generate_input, vae, def_offset, interpolate, pca, plot\n",
    "\n",
    "from numpy.random import seed\n",
    "randomState = 5\n",
    "seed(randomState)"
   ]
  },
  {
   "cell_type": "code",
   "execution_count": null,
   "metadata": {},
   "outputs": [],
   "source": [
    "# Hyperparameters\n",
    "\n",
    "# Transcription factors\n",
    "# If empty, genes will be randomly assigned\n",
    "geneA = ''\n",
    "\n",
    "# Size of the gene set that will be regulated by gene A\n",
    "geneSetC_size = 1000 \n",
    "\n",
    "# Percentage of gene A expression to use to set new value for each gene in set C\n",
    "proportion = 1.0\n",
    "\n",
    "# Threshold for activation of gene A \n",
    "thresholdA = 0.5\n",
    "\n",
    "# Amount that genes in gene sets C \n",
    "effect_sizeA = 0.5\n",
    "\n",
    "# Name of analysis\n",
    "analysis_name = 'sim_lin_test'"
   ]
  },
  {
   "cell_type": "code",
   "execution_count": null,
   "metadata": {},
   "outputs": [],
   "source": [
    "# Load arguments\n",
    "data_file = os.path.join(os.path.dirname(os.getcwd()), \"data\", \"all-pseudomonas-gene-normalized.zip\")"
   ]
  },
  {
   "cell_type": "code",
   "execution_count": null,
   "metadata": {},
   "outputs": [],
   "source": [
    "# Read in data\n",
    "data = pd.read_table(data_file, header=0, sep='\\t', index_col=0, compression='zip').T\n",
    "data.head(5)"
   ]
  },
  {
   "cell_type": "code",
   "execution_count": null,
   "metadata": {},
   "outputs": [],
   "source": [
    "# Randomly select gene A if not specified\n",
    "# Note: 'replace=False' indicates sampling WITHOUT replacement\n",
    "if not geneA:\n",
    "    gene_ids = list(data.columns)\n",
    "    [geneA] = np.random.choice(gene_ids, size=1, replace=False)\n",
    "\n",
    "print(geneA)"
   ]
  },
  {
   "cell_type": "code",
   "execution_count": null,
   "metadata": {},
   "outputs": [],
   "source": [
    "# checkpoint\n",
    "assert(len(gene_ids)==5549)"
   ]
  },
  {
   "cell_type": "code",
   "execution_count": null,
   "metadata": {},
   "outputs": [],
   "source": [
    "# Randomly select genes for gene set C\n",
    "# remove() doesn't return a value it will remove the element from the list object\n",
    "gene_ids.remove(geneA)\n",
    "print(len(gene_ids))\n",
    "\n",
    "# Random sample of genes for set C\n",
    "geneSetC = random.sample(gene_ids, geneSetC_size)\n",
    "\n",
    "print(len(geneSetC))"
   ]
  },
  {
   "cell_type": "code",
   "execution_count": null,
   "metadata": {},
   "outputs": [],
   "source": [
    "# checkpoint\n",
    "assert(geneA not in geneSetC)"
   ]
  },
  {
   "cell_type": "code",
   "execution_count": null,
   "metadata": {},
   "outputs": [],
   "source": [
    "# checkpoint\n",
    "# print(data[geneA])"
   ]
  },
  {
   "cell_type": "code",
   "execution_count": null,
   "metadata": {},
   "outputs": [],
   "source": [
    "# checkpoint\n",
    "# data.loc[data[geneA]>thresholdA,geneA]"
   ]
  },
  {
   "cell_type": "code",
   "execution_count": null,
   "metadata": {},
   "outputs": [],
   "source": [
    "# checkpoint: before transformation\n",
    "# data.loc[data[geneA]<=thresholdA,geneSetC[0]]"
   ]
  },
  {
   "cell_type": "code",
   "execution_count": null,
   "metadata": {},
   "outputs": [],
   "source": [
    "# checkpoint\n",
    "# plot expression of select gene C across all samples BEFORE transformation\n",
    "\n",
    "# Randomly from gene set C\n",
    "geneC = random.sample(geneSetC, 1)[0]\n",
    "\n",
    "# Dataframe with only gene C and only gene A\n",
    "geneC_only = pd.DataFrame(data[geneC], index=data.index, columns=[geneC])\n",
    "geneA_only = pd.DataFrame(data[geneA], index=data.index, columns=[geneA])\n",
    "\n",
    "# Join \n",
    "X = pd.merge(geneA_only, geneC_only, left_index=True, right_index=True)\n",
    "\n",
    "# Plot\n",
    "sns.regplot(x=geneA, y=geneC, data=X, scatter=True)"
   ]
  },
  {
   "cell_type": "code",
   "execution_count": null,
   "metadata": {},
   "outputs": [],
   "source": [
    "# Loop through all samples\n",
    "num_samples = data.shape[1]\n",
    "\n",
    "for sample_id in data.index:\n",
    "    row = data.loc[sample_id]\n",
    "        \n",
    "    if data.loc[sample_id,geneA] > thresholdA:\n",
    "        # Scale genes by some fixed percentage\n",
    "        for gene in geneSetC:\n",
    "            data.loc[sample_id,gene] = proportion*data.loc[sample_id,geneA]            \n",
    "            \n",
    "# if any exceed 1 then set to 1 since gene expression is normalized\n",
    "data[data>=1.0] = 1.0"
   ]
  },
  {
   "cell_type": "code",
   "execution_count": null,
   "metadata": {},
   "outputs": [],
   "source": [
    "# checkpoint\n",
    "# plot expression of select gene C across all samples AFTER transformation\n",
    "\n",
    "# Dataframe with only gene C and only gene A\n",
    "geneC_only = pd.DataFrame(data[geneC], index=data.index, columns=[geneC])\n",
    "geneA_only = pd.DataFrame(data[geneA], index=data.index, columns=[geneA])\n",
    "\n",
    "# Join \n",
    "X = pd.merge(geneA_only, geneC_only, left_index=True, right_index=True)\n",
    "\n",
    "# Plot\n",
    "sns.regplot(x=geneA, y=geneC, data=X, scatter=True)"
   ]
  },
  {
   "cell_type": "code",
   "execution_count": null,
   "metadata": {},
   "outputs": [],
   "source": [
    "# checkpoint: after transformation\n",
    "# data.loc[data[geneA]<=thresholdA,geneSetC[0]]"
   ]
  },
  {
   "cell_type": "code",
   "execution_count": null,
   "metadata": {},
   "outputs": [],
   "source": [
    "# Dataframe with only gene A\n",
    "geneA_only = pd.DataFrame(data[geneA], index=data.index, columns=[geneA])\n",
    "\n",
    "# Drop gene A\n",
    "data_holdout = data.drop(columns=[geneA])"
   ]
  },
  {
   "cell_type": "code",
   "execution_count": null,
   "metadata": {},
   "outputs": [],
   "source": [
    "# checkpoint\n",
    "# plot distribution of gene A\n",
    "geneA_only.hist()"
   ]
  },
  {
   "cell_type": "code",
   "execution_count": null,
   "metadata": {},
   "outputs": [],
   "source": [
    "# checkpoint\n",
    "data_holdout.shape"
   ]
  },
  {
   "cell_type": "code",
   "execution_count": null,
   "metadata": {},
   "outputs": [],
   "source": [
    "# Create list of base directories\n",
    "base_dirs = [os.path.join(os.path.dirname(os.getcwd()), 'data'),\n",
    "             os.path.join(os.path.dirname(os.getcwd()), 'encoded'),\n",
    "             os.path.join(os.path.dirname(os.getcwd()), 'models'),\n",
    "             os.path.join(os.path.dirname(os.getcwd()), 'output'),\n",
    "             os.path.join(os.path.dirname(os.getcwd()), 'stats'),\n",
    "             os.path.join(os.path.dirname(os.getcwd()), 'viz')    \n",
    "]\n",
    "\n",
    "# Check if directory exist otherwise create\n",
    "for each_dir in base_dirs:\n",
    "    analysis_dir = os.path.join(each_dir, analysis_name)\n",
    "    if os.path.exists(analysis_dir):\n",
    "        print('directory already exists: {}'.format(analysis_dir))\n",
    "    else:\n",
    "        os.mkdir(analysis_dir)\n",
    "        print('creating new directory: {}'.format(analysis_dir))"
   ]
  },
  {
   "cell_type": "code",
   "execution_count": null,
   "metadata": {},
   "outputs": [],
   "source": [
    "# Output the new gene expression values for each sample\n",
    "train_input_file = os.path.join(base_dirs[0], analysis_name, \"train_model_input.txt.xz\")\n",
    "data_holdout.to_csv(train_input_file, sep='\\t', compression='xz', float_format=\"%.5g\")\n",
    "\n",
    "# Output log file with params\n",
    "log_file = os.path.join(os.path.dirname(os.getcwd()), 'metadata', analysis_name,'.txt')\n",
    "\n",
    "args_dict = {\n",
    "    \"gene A\": geneA,\n",
    "    \"size of gene set C\": geneSetC_size,\n",
    "    \"genes in set C\": geneSetC,\n",
    "    \"proportion of gene A to use to update genes in C\": proportion,\n",
    "    \"threshold of A activation\": thresholdA,\n",
    "    \"effect size of genes in set C\": effect_sizeA,\n",
    "}\n",
    "\n",
    "with open(log_file, 'w') as f:\n",
    "    for key, value in args_dict.items():\n",
    "        f.write('%s: %s\\n' % (key, value))\n",
    "        \n",
    "# Output geneA only file\n",
    "geneA_file = os.path.join(base_dirs[0], analysis_name, geneA + \".txt\")\n",
    "geneA_only.to_csv(geneA_file, sep='\\t', float_format=\"%.5g\")"
   ]
  },
  {
   "cell_type": "code",
   "execution_count": null,
   "metadata": {},
   "outputs": [],
   "source": [
    "%time\n",
    "# Train models on input dataset\n",
    "\n",
    "# params\n",
    "learning_rate = 0.001\n",
    "batch_size = 100\n",
    "epochs = 200\n",
    "kappa = 0.01\n",
    "intermediate_dim = 100\n",
    "latent_dim = 10\n",
    "epsilon_std = 1.0\n",
    "num_PCs = latent_dim\n",
    "\n",
    "base_dir = os.path.dirname(os.getcwd())\n",
    "vae.tybalt_2layer_model(learning_rate, batch_size, epochs, kappa, intermediate_dim,\n",
    "                        latent_dim, epsilon_std, base_dir, analysis_name)\n",
    "pca.pca_model(base_dir, analysis_name, num_PCs)\n",
    "\n",
    "\n",
    "# Define offset vectors in gene space\n",
    "data_dir = os.path.join(base_dirs[0], analysis_name)\n",
    "target_gene = geneA\n",
    "percent_low = 5\n",
    "percent_high = 95\n",
    "\n",
    "def_offset.gene_space_offset(data_dir, target_gene, percent_low, percent_high)\n",
    "\n",
    "\n",
    "# Define offset vectors for different latent spaces\n",
    "model_dir = os.path.join(base_dirs[2], analysis_name)\n",
    "encoded_dir = os.path.join(base_dirs[1], analysis_name)\n",
    "\n",
    "def_offset.vae_latent_space_offset(data_dir, model_dir, encoded_dir, target_gene, percent_low, percent_high)\n",
    "def_offset.pca_latent_space_offset(data_dir, model_dir, encoded_dir, target_gene, percent_low, percent_high)\n",
    "\n",
    "\n",
    "# Predict gene expression using offset in gene space and latent space\n",
    "out_dir = os.path.join(base_dirs[3], analysis_name)\n",
    "\n",
    "interpolate.interpolate_in_gene_space(data_dir, target_gene, out_dir, percent_low, percent_high)\n",
    "interpolate.interpolate_in_vae_latent_space(data_dir, model_dir, encoded_dir, target_gene, out_dir, percent_low, percent_high)\n",
    "interpolate.interpolate_in_pca_latent_space(data_dir, model_dir, encoded_dir, target_gene, out_dir, percent_low, percent_high)\n",
    "\n",
    "\n",
    "# Plot prediction per sample along gradient of PA1673 expression\n",
    "viz_dir = os.path.join(base_dirs[5], analysis_name)\n",
    "plot.plot_corr_gradient(out_dir, viz_dir)"
   ]
  }
 ],
 "metadata": {
  "kernelspec": {
   "display_name": "Python [conda env:Pa]",
   "language": "python",
   "name": "conda-env-Pa-py"
  },
  "language_info": {
   "codemirror_mode": {
    "name": "ipython",
    "version": 3
   },
   "file_extension": ".py",
   "mimetype": "text/x-python",
   "name": "python",
   "nbconvert_exporter": "python",
   "pygments_lexer": "ipython3",
   "version": "3.5.5"
  }
 },
 "nbformat": 4,
 "nbformat_minor": 2
}
