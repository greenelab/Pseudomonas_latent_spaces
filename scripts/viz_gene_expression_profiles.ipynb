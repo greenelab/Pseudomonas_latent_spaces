{
 "cells": [
  {
   "cell_type": "markdown",
   "metadata": {},
   "source": [
    "# Visualize\n",
    "Gene expression data in raw gene space vs low dimensional latent space using UMAP"
   ]
  },
  {
   "cell_type": "code",
   "execution_count": 1,
   "metadata": {
    "ExecuteTime": {
     "end_time": "2019-05-02T18:40:20.022625Z",
     "start_time": "2019-05-02T18:40:18.727195Z"
    }
   },
   "outputs": [],
   "source": [
    "%load_ext autoreload\n",
    "%autoreload 2\n",
    "\n",
    "import os\n",
    "import pandas as pd\n",
    "import numpy as np\n",
    "import random\n",
    "import glob\n",
    "import umap\n",
    "import seaborn as sns\n",
    "import matplotlib.pyplot as plt\n",
    "\n",
    "from numpy.random import seed\n",
    "randomState = 123\n",
    "seed(randomState)"
   ]
  },
  {
   "cell_type": "code",
   "execution_count": 2,
   "metadata": {
    "ExecuteTime": {
     "end_time": "2019-05-02T18:40:20.039153Z",
     "start_time": "2019-05-02T18:40:20.023938Z"
    }
   },
   "outputs": [],
   "source": [
    "# Load \n",
    "base_dir = os.path.dirname(os.getcwd())\n",
    "analysis_name = 'sim_balancedAB_2latent'\n",
    "\n",
    "sim_data_file = os.path.join(\n",
    "    base_dir,\n",
    "    \"data\",\n",
    "    analysis_name,\n",
    "    \"train_model_input.txt.xz\"\n",
    ")\n",
    "data_encoded_file = glob.glob(os.path.join(\n",
    "    base_dir,\n",
    "    \"encoded\",\n",
    "    analysis_name,\n",
    "    \"train_input_2layer_2latent_encoded.txt\"))[0]\n",
    "A_file = os.path.join(\n",
    "    base_dir,\n",
    "    \"data\",\n",
    "    analysis_name,\n",
    "    \"geneSetA.txt\"\n",
    ")\n",
    "\n",
    "geneSpace_file = os.path.join(\n",
    "    base_dir,\n",
    "    \"viz\",\n",
    "    analysis_name,\n",
    "    \"geneSpace_Umap.png\"\n",
    ")\n",
    "latentSpace_file = os.path.join(\n",
    "    base_dir,\n",
    "    \"viz\",\n",
    "    analysis_name,\n",
    "    \"latentSpace.png\"\n",
    ")"
   ]
  },
  {
   "cell_type": "code",
   "execution_count": 3,
   "metadata": {
    "ExecuteTime": {
     "end_time": "2019-05-02T18:40:20.662036Z",
     "start_time": "2019-05-02T18:40:20.040472Z"
    }
   },
   "outputs": [],
   "source": [
    "# Read data\n",
    "sim_data = pd.read_table(sim_data_file, index_col=0, header=0, compression='xz')\n",
    "sim_data_encoded = pd.read_table(data_encoded_file, header=0, index_col=0)\n",
    "geneSetA = pd.read_table(A_file, header=0, index_col=0)"
   ]
  },
  {
   "cell_type": "code",
   "execution_count": 4,
   "metadata": {
    "ExecuteTime": {
     "end_time": "2019-05-02T18:40:20.695252Z",
     "start_time": "2019-05-02T18:40:20.663227Z"
    }
   },
   "outputs": [
    {
     "data": {
      "text/html": [
       "<div>\n",
       "<style scoped>\n",
       "    .dataframe tbody tr th:only-of-type {\n",
       "        vertical-align: middle;\n",
       "    }\n",
       "\n",
       "    .dataframe tbody tr th {\n",
       "        vertical-align: top;\n",
       "    }\n",
       "\n",
       "    .dataframe thead th {\n",
       "        text-align: right;\n",
       "    }\n",
       "</style>\n",
       "<table border=\"1\" class=\"dataframe\">\n",
       "  <thead>\n",
       "    <tr style=\"text-align: right;\">\n",
       "      <th></th>\n",
       "      <th>PA3423</th>\n",
       "      <th>PA0084</th>\n",
       "      <th>PA2455</th>\n",
       "      <th>PA3029</th>\n",
       "      <th>PA1588</th>\n",
       "      <th>PA2220</th>\n",
       "      <th>PA4656</th>\n",
       "      <th>PA3585</th>\n",
       "      <th>PA1325</th>\n",
       "      <th>PA3067</th>\n",
       "      <th>...</th>\n",
       "      <th>PA5348</th>\n",
       "      <th>PA4148</th>\n",
       "      <th>PA2158</th>\n",
       "      <th>PA2839</th>\n",
       "      <th>PA2410</th>\n",
       "      <th>PA0090</th>\n",
       "      <th>PA4963</th>\n",
       "      <th>PA3790</th>\n",
       "      <th>PA0969</th>\n",
       "      <th>PA4776</th>\n",
       "    </tr>\n",
       "  </thead>\n",
       "  <tbody>\n",
       "    <tr>\n",
       "      <th>0.1_12hr_CSV86(Pae_G1a).CEL</th>\n",
       "      <td>0.45541</td>\n",
       "      <td>0.45541</td>\n",
       "      <td>0.45541</td>\n",
       "      <td>0.45541</td>\n",
       "      <td>0.45541</td>\n",
       "      <td>0.45541</td>\n",
       "      <td>0.45541</td>\n",
       "      <td>0.45541</td>\n",
       "      <td>0.45541</td>\n",
       "      <td>0.45541</td>\n",
       "      <td>...</td>\n",
       "      <td>0.039832</td>\n",
       "      <td>0.254100</td>\n",
       "      <td>0.30768</td>\n",
       "      <td>0.16118</td>\n",
       "      <td>0.37444</td>\n",
       "      <td>0.64132</td>\n",
       "      <td>0.359890</td>\n",
       "      <td>0.29978</td>\n",
       "      <td>0.47914</td>\n",
       "      <td>0.45004</td>\n",
       "    </tr>\n",
       "    <tr>\n",
       "      <th>0.1_2hr_CSV86(Pae_G1a).CEL</th>\n",
       "      <td>0.58208</td>\n",
       "      <td>0.58208</td>\n",
       "      <td>0.58208</td>\n",
       "      <td>0.58208</td>\n",
       "      <td>0.58208</td>\n",
       "      <td>0.58208</td>\n",
       "      <td>0.58208</td>\n",
       "      <td>0.58208</td>\n",
       "      <td>0.58208</td>\n",
       "      <td>0.58208</td>\n",
       "      <td>...</td>\n",
       "      <td>0.349910</td>\n",
       "      <td>0.619100</td>\n",
       "      <td>0.40616</td>\n",
       "      <td>0.23314</td>\n",
       "      <td>0.77043</td>\n",
       "      <td>0.27328</td>\n",
       "      <td>0.065203</td>\n",
       "      <td>0.97198</td>\n",
       "      <td>0.20305</td>\n",
       "      <td>0.29230</td>\n",
       "    </tr>\n",
       "    <tr>\n",
       "      <th>0.1_6hr_CSV86(Pae_G1a).CEL</th>\n",
       "      <td>0.24626</td>\n",
       "      <td>0.24626</td>\n",
       "      <td>0.24626</td>\n",
       "      <td>0.24626</td>\n",
       "      <td>0.24626</td>\n",
       "      <td>0.24626</td>\n",
       "      <td>0.24626</td>\n",
       "      <td>0.24626</td>\n",
       "      <td>0.24626</td>\n",
       "      <td>0.24626</td>\n",
       "      <td>...</td>\n",
       "      <td>0.030076</td>\n",
       "      <td>0.031428</td>\n",
       "      <td>0.52120</td>\n",
       "      <td>0.49219</td>\n",
       "      <td>0.52767</td>\n",
       "      <td>0.35445</td>\n",
       "      <td>0.307290</td>\n",
       "      <td>0.38095</td>\n",
       "      <td>0.34503</td>\n",
       "      <td>0.14212</td>\n",
       "    </tr>\n",
       "    <tr>\n",
       "      <th>0.1_7hr_CSV86(Pae_G1a).CEL</th>\n",
       "      <td>0.75444</td>\n",
       "      <td>0.75444</td>\n",
       "      <td>0.75444</td>\n",
       "      <td>0.75444</td>\n",
       "      <td>0.75444</td>\n",
       "      <td>0.75444</td>\n",
       "      <td>0.75444</td>\n",
       "      <td>0.75444</td>\n",
       "      <td>0.75444</td>\n",
       "      <td>0.75444</td>\n",
       "      <td>...</td>\n",
       "      <td>0.416210</td>\n",
       "      <td>0.390080</td>\n",
       "      <td>0.45683</td>\n",
       "      <td>0.46744</td>\n",
       "      <td>0.54591</td>\n",
       "      <td>0.47546</td>\n",
       "      <td>0.440540</td>\n",
       "      <td>0.63655</td>\n",
       "      <td>0.42038</td>\n",
       "      <td>0.21466</td>\n",
       "    </tr>\n",
       "    <tr>\n",
       "      <th>0.1_9hr_CSV86(Pae_G1a).CEL</th>\n",
       "      <td>0.25606</td>\n",
       "      <td>0.25606</td>\n",
       "      <td>0.25606</td>\n",
       "      <td>0.25606</td>\n",
       "      <td>0.25606</td>\n",
       "      <td>0.25606</td>\n",
       "      <td>0.25606</td>\n",
       "      <td>0.25606</td>\n",
       "      <td>0.25606</td>\n",
       "      <td>0.25606</td>\n",
       "      <td>...</td>\n",
       "      <td>0.022703</td>\n",
       "      <td>0.132680</td>\n",
       "      <td>0.24480</td>\n",
       "      <td>0.44281</td>\n",
       "      <td>0.41727</td>\n",
       "      <td>0.42175</td>\n",
       "      <td>0.214940</td>\n",
       "      <td>0.36677</td>\n",
       "      <td>0.43960</td>\n",
       "      <td>0.26945</td>\n",
       "    </tr>\n",
       "  </tbody>\n",
       "</table>\n",
       "<p>5 rows × 2000 columns</p>\n",
       "</div>"
      ],
      "text/plain": [
       "                              PA3423   PA0084   PA2455   PA3029   PA1588  \\\n",
       "0.1_12hr_CSV86(Pae_G1a).CEL  0.45541  0.45541  0.45541  0.45541  0.45541   \n",
       "0.1_2hr_CSV86(Pae_G1a).CEL   0.58208  0.58208  0.58208  0.58208  0.58208   \n",
       "0.1_6hr_CSV86(Pae_G1a).CEL   0.24626  0.24626  0.24626  0.24626  0.24626   \n",
       "0.1_7hr_CSV86(Pae_G1a).CEL   0.75444  0.75444  0.75444  0.75444  0.75444   \n",
       "0.1_9hr_CSV86(Pae_G1a).CEL   0.25606  0.25606  0.25606  0.25606  0.25606   \n",
       "\n",
       "                              PA2220   PA4656   PA3585   PA1325   PA3067  \\\n",
       "0.1_12hr_CSV86(Pae_G1a).CEL  0.45541  0.45541  0.45541  0.45541  0.45541   \n",
       "0.1_2hr_CSV86(Pae_G1a).CEL   0.58208  0.58208  0.58208  0.58208  0.58208   \n",
       "0.1_6hr_CSV86(Pae_G1a).CEL   0.24626  0.24626  0.24626  0.24626  0.24626   \n",
       "0.1_7hr_CSV86(Pae_G1a).CEL   0.75444  0.75444  0.75444  0.75444  0.75444   \n",
       "0.1_9hr_CSV86(Pae_G1a).CEL   0.25606  0.25606  0.25606  0.25606  0.25606   \n",
       "\n",
       "                              ...       PA5348    PA4148   PA2158   PA2839  \\\n",
       "0.1_12hr_CSV86(Pae_G1a).CEL   ...     0.039832  0.254100  0.30768  0.16118   \n",
       "0.1_2hr_CSV86(Pae_G1a).CEL    ...     0.349910  0.619100  0.40616  0.23314   \n",
       "0.1_6hr_CSV86(Pae_G1a).CEL    ...     0.030076  0.031428  0.52120  0.49219   \n",
       "0.1_7hr_CSV86(Pae_G1a).CEL    ...     0.416210  0.390080  0.45683  0.46744   \n",
       "0.1_9hr_CSV86(Pae_G1a).CEL    ...     0.022703  0.132680  0.24480  0.44281   \n",
       "\n",
       "                              PA2410   PA0090    PA4963   PA3790   PA0969  \\\n",
       "0.1_12hr_CSV86(Pae_G1a).CEL  0.37444  0.64132  0.359890  0.29978  0.47914   \n",
       "0.1_2hr_CSV86(Pae_G1a).CEL   0.77043  0.27328  0.065203  0.97198  0.20305   \n",
       "0.1_6hr_CSV86(Pae_G1a).CEL   0.52767  0.35445  0.307290  0.38095  0.34503   \n",
       "0.1_7hr_CSV86(Pae_G1a).CEL   0.54591  0.47546  0.440540  0.63655  0.42038   \n",
       "0.1_9hr_CSV86(Pae_G1a).CEL   0.41727  0.42175  0.214940  0.36677  0.43960   \n",
       "\n",
       "                              PA4776  \n",
       "0.1_12hr_CSV86(Pae_G1a).CEL  0.45004  \n",
       "0.1_2hr_CSV86(Pae_G1a).CEL   0.29230  \n",
       "0.1_6hr_CSV86(Pae_G1a).CEL   0.14212  \n",
       "0.1_7hr_CSV86(Pae_G1a).CEL   0.21466  \n",
       "0.1_9hr_CSV86(Pae_G1a).CEL   0.26945  \n",
       "\n",
       "[5 rows x 2000 columns]"
      ]
     },
     "execution_count": 4,
     "metadata": {},
     "output_type": "execute_result"
    }
   ],
   "source": [
    "sim_data.head()"
   ]
  },
  {
   "cell_type": "code",
   "execution_count": 5,
   "metadata": {
    "ExecuteTime": {
     "end_time": "2019-05-02T18:40:20.715389Z",
     "start_time": "2019-05-02T18:40:20.696348Z"
    }
   },
   "outputs": [
    {
     "data": {
      "text/html": [
       "<div>\n",
       "<style scoped>\n",
       "    .dataframe tbody tr th:only-of-type {\n",
       "        vertical-align: middle;\n",
       "    }\n",
       "\n",
       "    .dataframe tbody tr th {\n",
       "        vertical-align: top;\n",
       "    }\n",
       "\n",
       "    .dataframe thead th {\n",
       "        text-align: right;\n",
       "    }\n",
       "</style>\n",
       "<table border=\"1\" class=\"dataframe\">\n",
       "  <thead>\n",
       "    <tr style=\"text-align: right;\">\n",
       "      <th></th>\n",
       "      <th>1</th>\n",
       "      <th>2</th>\n",
       "    </tr>\n",
       "  </thead>\n",
       "  <tbody>\n",
       "    <tr>\n",
       "      <th>0.1_12hr_CSV86(Pae_G1a).CEL</th>\n",
       "      <td>0.000000</td>\n",
       "      <td>0.033438</td>\n",
       "    </tr>\n",
       "    <tr>\n",
       "      <th>0.1_2hr_CSV86(Pae_G1a).CEL</th>\n",
       "      <td>0.430557</td>\n",
       "      <td>2.364759</td>\n",
       "    </tr>\n",
       "    <tr>\n",
       "      <th>0.1_6hr_CSV86(Pae_G1a).CEL</th>\n",
       "      <td>0.000000</td>\n",
       "      <td>0.000000</td>\n",
       "    </tr>\n",
       "    <tr>\n",
       "      <th>0.1_7hr_CSV86(Pae_G1a).CEL</th>\n",
       "      <td>0.907591</td>\n",
       "      <td>4.142205</td>\n",
       "    </tr>\n",
       "    <tr>\n",
       "      <th>0.1_9hr_CSV86(Pae_G1a).CEL</th>\n",
       "      <td>0.000000</td>\n",
       "      <td>0.000000</td>\n",
       "    </tr>\n",
       "  </tbody>\n",
       "</table>\n",
       "</div>"
      ],
      "text/plain": [
       "                                    1         2\n",
       "0.1_12hr_CSV86(Pae_G1a).CEL  0.000000  0.033438\n",
       "0.1_2hr_CSV86(Pae_G1a).CEL   0.430557  2.364759\n",
       "0.1_6hr_CSV86(Pae_G1a).CEL   0.000000  0.000000\n",
       "0.1_7hr_CSV86(Pae_G1a).CEL   0.907591  4.142205\n",
       "0.1_9hr_CSV86(Pae_G1a).CEL   0.000000  0.000000"
      ]
     },
     "execution_count": 5,
     "metadata": {},
     "output_type": "execute_result"
    }
   ],
   "source": [
    "sim_data_encoded.head()"
   ]
  },
  {
   "cell_type": "code",
   "execution_count": 6,
   "metadata": {
    "ExecuteTime": {
     "end_time": "2019-05-02T18:40:20.737564Z",
     "start_time": "2019-05-02T18:40:20.717999Z"
    }
   },
   "outputs": [
    {
     "data": {
      "text/html": [
       "<div>\n",
       "<style scoped>\n",
       "    .dataframe tbody tr th:only-of-type {\n",
       "        vertical-align: middle;\n",
       "    }\n",
       "\n",
       "    .dataframe tbody tr th {\n",
       "        vertical-align: top;\n",
       "    }\n",
       "\n",
       "    .dataframe thead th {\n",
       "        text-align: right;\n",
       "    }\n",
       "</style>\n",
       "<table border=\"1\" class=\"dataframe\">\n",
       "  <thead>\n",
       "    <tr style=\"text-align: right;\">\n",
       "      <th></th>\n",
       "      <th>gene id</th>\n",
       "    </tr>\n",
       "  </thead>\n",
       "  <tbody>\n",
       "    <tr>\n",
       "      <th>0</th>\n",
       "      <td>PA3423</td>\n",
       "    </tr>\n",
       "    <tr>\n",
       "      <th>1</th>\n",
       "      <td>PA0084</td>\n",
       "    </tr>\n",
       "    <tr>\n",
       "      <th>2</th>\n",
       "      <td>PA2455</td>\n",
       "    </tr>\n",
       "    <tr>\n",
       "      <th>3</th>\n",
       "      <td>PA3029</td>\n",
       "    </tr>\n",
       "    <tr>\n",
       "      <th>4</th>\n",
       "      <td>PA1588</td>\n",
       "    </tr>\n",
       "  </tbody>\n",
       "</table>\n",
       "</div>"
      ],
      "text/plain": [
       "  gene id\n",
       "0  PA3423\n",
       "1  PA0084\n",
       "2  PA2455\n",
       "3  PA3029\n",
       "4  PA1588"
      ]
     },
     "execution_count": 6,
     "metadata": {},
     "output_type": "execute_result"
    }
   ],
   "source": [
    "geneSetA.head()"
   ]
  },
  {
   "cell_type": "code",
   "execution_count": 7,
   "metadata": {
    "ExecuteTime": {
     "end_time": "2019-05-02T18:40:20.955922Z",
     "start_time": "2019-05-02T18:40:20.739978Z"
    }
   },
   "outputs": [
    {
     "data": {
      "text/html": [
       "<div>\n",
       "<style scoped>\n",
       "    .dataframe tbody tr th:only-of-type {\n",
       "        vertical-align: middle;\n",
       "    }\n",
       "\n",
       "    .dataframe tbody tr th {\n",
       "        vertical-align: top;\n",
       "    }\n",
       "\n",
       "    .dataframe thead th {\n",
       "        text-align: right;\n",
       "    }\n",
       "</style>\n",
       "<table border=\"1\" class=\"dataframe\">\n",
       "  <thead>\n",
       "    <tr style=\"text-align: right;\">\n",
       "      <th></th>\n",
       "      <th>PA3423</th>\n",
       "      <th>PA0084</th>\n",
       "      <th>PA2455</th>\n",
       "      <th>PA3029</th>\n",
       "      <th>PA1588</th>\n",
       "      <th>PA2220</th>\n",
       "      <th>PA4656</th>\n",
       "      <th>PA3585</th>\n",
       "      <th>PA1325</th>\n",
       "      <th>PA3067</th>\n",
       "      <th>...</th>\n",
       "      <th>PA4148</th>\n",
       "      <th>PA2158</th>\n",
       "      <th>PA2839</th>\n",
       "      <th>PA2410</th>\n",
       "      <th>PA0090</th>\n",
       "      <th>PA4963</th>\n",
       "      <th>PA3790</th>\n",
       "      <th>PA0969</th>\n",
       "      <th>PA4776</th>\n",
       "      <th>rep_geneA</th>\n",
       "    </tr>\n",
       "  </thead>\n",
       "  <tbody>\n",
       "    <tr>\n",
       "      <th>0.1_12hr_CSV86(Pae_G1a).CEL</th>\n",
       "      <td>0.45541</td>\n",
       "      <td>0.45541</td>\n",
       "      <td>0.45541</td>\n",
       "      <td>0.45541</td>\n",
       "      <td>0.45541</td>\n",
       "      <td>0.45541</td>\n",
       "      <td>0.45541</td>\n",
       "      <td>0.45541</td>\n",
       "      <td>0.45541</td>\n",
       "      <td>0.45541</td>\n",
       "      <td>...</td>\n",
       "      <td>0.254100</td>\n",
       "      <td>0.30768</td>\n",
       "      <td>0.16118</td>\n",
       "      <td>0.37444</td>\n",
       "      <td>0.64132</td>\n",
       "      <td>0.359890</td>\n",
       "      <td>0.29978</td>\n",
       "      <td>0.47914</td>\n",
       "      <td>0.45004</td>\n",
       "      <td>5</td>\n",
       "    </tr>\n",
       "    <tr>\n",
       "      <th>0.1_2hr_CSV86(Pae_G1a).CEL</th>\n",
       "      <td>0.58208</td>\n",
       "      <td>0.58208</td>\n",
       "      <td>0.58208</td>\n",
       "      <td>0.58208</td>\n",
       "      <td>0.58208</td>\n",
       "      <td>0.58208</td>\n",
       "      <td>0.58208</td>\n",
       "      <td>0.58208</td>\n",
       "      <td>0.58208</td>\n",
       "      <td>0.58208</td>\n",
       "      <td>...</td>\n",
       "      <td>0.619100</td>\n",
       "      <td>0.40616</td>\n",
       "      <td>0.23314</td>\n",
       "      <td>0.77043</td>\n",
       "      <td>0.27328</td>\n",
       "      <td>0.065203</td>\n",
       "      <td>0.97198</td>\n",
       "      <td>0.20305</td>\n",
       "      <td>0.29230</td>\n",
       "      <td>6</td>\n",
       "    </tr>\n",
       "    <tr>\n",
       "      <th>0.1_6hr_CSV86(Pae_G1a).CEL</th>\n",
       "      <td>0.24626</td>\n",
       "      <td>0.24626</td>\n",
       "      <td>0.24626</td>\n",
       "      <td>0.24626</td>\n",
       "      <td>0.24626</td>\n",
       "      <td>0.24626</td>\n",
       "      <td>0.24626</td>\n",
       "      <td>0.24626</td>\n",
       "      <td>0.24626</td>\n",
       "      <td>0.24626</td>\n",
       "      <td>...</td>\n",
       "      <td>0.031428</td>\n",
       "      <td>0.52120</td>\n",
       "      <td>0.49219</td>\n",
       "      <td>0.52767</td>\n",
       "      <td>0.35445</td>\n",
       "      <td>0.307290</td>\n",
       "      <td>0.38095</td>\n",
       "      <td>0.34503</td>\n",
       "      <td>0.14212</td>\n",
       "      <td>3</td>\n",
       "    </tr>\n",
       "    <tr>\n",
       "      <th>0.1_7hr_CSV86(Pae_G1a).CEL</th>\n",
       "      <td>0.75444</td>\n",
       "      <td>0.75444</td>\n",
       "      <td>0.75444</td>\n",
       "      <td>0.75444</td>\n",
       "      <td>0.75444</td>\n",
       "      <td>0.75444</td>\n",
       "      <td>0.75444</td>\n",
       "      <td>0.75444</td>\n",
       "      <td>0.75444</td>\n",
       "      <td>0.75444</td>\n",
       "      <td>...</td>\n",
       "      <td>0.390080</td>\n",
       "      <td>0.45683</td>\n",
       "      <td>0.46744</td>\n",
       "      <td>0.54591</td>\n",
       "      <td>0.47546</td>\n",
       "      <td>0.440540</td>\n",
       "      <td>0.63655</td>\n",
       "      <td>0.42038</td>\n",
       "      <td>0.21466</td>\n",
       "      <td>8</td>\n",
       "    </tr>\n",
       "    <tr>\n",
       "      <th>0.1_9hr_CSV86(Pae_G1a).CEL</th>\n",
       "      <td>0.25606</td>\n",
       "      <td>0.25606</td>\n",
       "      <td>0.25606</td>\n",
       "      <td>0.25606</td>\n",
       "      <td>0.25606</td>\n",
       "      <td>0.25606</td>\n",
       "      <td>0.25606</td>\n",
       "      <td>0.25606</td>\n",
       "      <td>0.25606</td>\n",
       "      <td>0.25606</td>\n",
       "      <td>...</td>\n",
       "      <td>0.132680</td>\n",
       "      <td>0.24480</td>\n",
       "      <td>0.44281</td>\n",
       "      <td>0.41727</td>\n",
       "      <td>0.42175</td>\n",
       "      <td>0.214940</td>\n",
       "      <td>0.36677</td>\n",
       "      <td>0.43960</td>\n",
       "      <td>0.26945</td>\n",
       "      <td>3</td>\n",
       "    </tr>\n",
       "  </tbody>\n",
       "</table>\n",
       "<p>5 rows × 2001 columns</p>\n",
       "</div>"
      ],
      "text/plain": [
       "                              PA3423   PA0084   PA2455   PA3029   PA1588  \\\n",
       "0.1_12hr_CSV86(Pae_G1a).CEL  0.45541  0.45541  0.45541  0.45541  0.45541   \n",
       "0.1_2hr_CSV86(Pae_G1a).CEL   0.58208  0.58208  0.58208  0.58208  0.58208   \n",
       "0.1_6hr_CSV86(Pae_G1a).CEL   0.24626  0.24626  0.24626  0.24626  0.24626   \n",
       "0.1_7hr_CSV86(Pae_G1a).CEL   0.75444  0.75444  0.75444  0.75444  0.75444   \n",
       "0.1_9hr_CSV86(Pae_G1a).CEL   0.25606  0.25606  0.25606  0.25606  0.25606   \n",
       "\n",
       "                              PA2220   PA4656   PA3585   PA1325   PA3067  \\\n",
       "0.1_12hr_CSV86(Pae_G1a).CEL  0.45541  0.45541  0.45541  0.45541  0.45541   \n",
       "0.1_2hr_CSV86(Pae_G1a).CEL   0.58208  0.58208  0.58208  0.58208  0.58208   \n",
       "0.1_6hr_CSV86(Pae_G1a).CEL   0.24626  0.24626  0.24626  0.24626  0.24626   \n",
       "0.1_7hr_CSV86(Pae_G1a).CEL   0.75444  0.75444  0.75444  0.75444  0.75444   \n",
       "0.1_9hr_CSV86(Pae_G1a).CEL   0.25606  0.25606  0.25606  0.25606  0.25606   \n",
       "\n",
       "                               ...        PA4148   PA2158   PA2839   PA2410  \\\n",
       "0.1_12hr_CSV86(Pae_G1a).CEL    ...      0.254100  0.30768  0.16118  0.37444   \n",
       "0.1_2hr_CSV86(Pae_G1a).CEL     ...      0.619100  0.40616  0.23314  0.77043   \n",
       "0.1_6hr_CSV86(Pae_G1a).CEL     ...      0.031428  0.52120  0.49219  0.52767   \n",
       "0.1_7hr_CSV86(Pae_G1a).CEL     ...      0.390080  0.45683  0.46744  0.54591   \n",
       "0.1_9hr_CSV86(Pae_G1a).CEL     ...      0.132680  0.24480  0.44281  0.41727   \n",
       "\n",
       "                              PA0090    PA4963   PA3790   PA0969   PA4776  \\\n",
       "0.1_12hr_CSV86(Pae_G1a).CEL  0.64132  0.359890  0.29978  0.47914  0.45004   \n",
       "0.1_2hr_CSV86(Pae_G1a).CEL   0.27328  0.065203  0.97198  0.20305  0.29230   \n",
       "0.1_6hr_CSV86(Pae_G1a).CEL   0.35445  0.307290  0.38095  0.34503  0.14212   \n",
       "0.1_7hr_CSV86(Pae_G1a).CEL   0.47546  0.440540  0.63655  0.42038  0.21466   \n",
       "0.1_9hr_CSV86(Pae_G1a).CEL   0.42175  0.214940  0.36677  0.43960  0.26945   \n",
       "\n",
       "                             rep_geneA  \n",
       "0.1_12hr_CSV86(Pae_G1a).CEL          5  \n",
       "0.1_2hr_CSV86(Pae_G1a).CEL           6  \n",
       "0.1_6hr_CSV86(Pae_G1a).CEL           3  \n",
       "0.1_7hr_CSV86(Pae_G1a).CEL           8  \n",
       "0.1_9hr_CSV86(Pae_G1a).CEL           3  \n",
       "\n",
       "[5 rows x 2001 columns]"
      ]
     },
     "execution_count": 7,
     "metadata": {},
     "output_type": "execute_result"
    }
   ],
   "source": [
    "# Label samples by gene A expression\n",
    "\n",
    "# Since our simulation set all genes in set A to be the same value for a give sample\n",
    "# we can consider a single gene in set A to query by\n",
    "rep_gene_A = geneSetA.iloc[0][0]\n",
    "geneA_exp = sim_data[rep_gene_A]\n",
    "\n",
    "sample_id = sim_data.index\n",
    "\n",
    "# Bin gene A expression\n",
    "geneA_exp_labeled = sim_data.assign(\n",
    "    rep_geneA=(\n",
    "        list( \n",
    "            map(\n",
    "                lambda x:\n",
    "                '1' if 0 < x and x <=0.1 \n",
    "                else '2' if 0.1< x and x <=0.2 \n",
    "                else '3' if 0.2<x and x<=0.3\n",
    "                else '4' if 0.3<x  and x<=0.4\n",
    "                else '5' if 0.4<x and x<=0.5\n",
    "                else '6' if 0.5<x and x<=0.6\n",
    "                else '7' if 0.6<x and x<=0.7\n",
    "                else '8' if 0.7<x and x<=0.8\n",
    "                else '9' if 0.8<x and x<=0.9\n",
    "                else '10',\n",
    "                geneA_exp\n",
    "            )      \n",
    "        )\n",
    "    )\n",
    ")\n",
    "geneA_exp_labeled = geneA_exp_labeled.astype({\"rep_geneA\": int})\n",
    "geneA_exp_labeled.head()"
   ]
  },
  {
   "cell_type": "markdown",
   "metadata": {},
   "source": [
    "## Plot gene expression in gene space\n",
    "\n",
    "Each dot is a sample.  Each sample is colored based on its expression of gene A\n",
    "\n",
    "In the legend 1 ~ gene A expression is (0.0, 0.1], 2 ~ gene A expression is (0.1, 0.2], etc."
   ]
  },
  {
   "cell_type": "code",
   "execution_count": 8,
   "metadata": {
    "ExecuteTime": {
     "end_time": "2019-05-02T18:40:26.931952Z",
     "start_time": "2019-05-02T18:40:20.957526Z"
    }
   },
   "outputs": [
    {
     "data": {
      "text/plain": [
       "(1191, 2)"
      ]
     },
     "execution_count": 8,
     "metadata": {},
     "output_type": "execute_result"
    }
   ],
   "source": [
    "# UMAP embedding of raw gene space data\n",
    "embedding = umap.UMAP().fit_transform(sim_data)\n",
    "embedding.shape"
   ]
  },
  {
   "cell_type": "code",
   "execution_count": 9,
   "metadata": {
    "ExecuteTime": {
     "end_time": "2019-05-02T18:40:27.637305Z",
     "start_time": "2019-05-02T18:40:26.933506Z"
    }
   },
   "outputs": [
    {
     "data": {
      "image/png": "[encoded data removed]",
      "text/plain": [
       "<matplotlib.figure.Figure at 0x7fad4d6a8cf8>"
      ]
     },
     "metadata": {},
     "output_type": "display_data"
    }
   ],
   "source": [
    "# UMAP plot of raw gene expression data\n",
    "geneA_exp_labeled = geneA_exp_labeled.assign(sample_index=list(range(geneA_exp_labeled.shape[0])))\n",
    "for x in geneA_exp_labeled.rep_geneA.sort_values().unique():\n",
    "    plt.scatter(\n",
    "        embedding[geneA_exp_labeled.query(\"rep_geneA == @x\").sample_index.values, 0], \n",
    "        embedding[geneA_exp_labeled.query(\"rep_geneA == @x\").sample_index.values, 1], \n",
    "        c=sns.color_palette()[x-1],\n",
    "        alpha=0.7,\n",
    "        label=str(x)\n",
    "    )\n",
    "plt.gca().set_aspect('equal', 'datalim')\n",
    "plt.title('UMAP projection of gene expression data in GENE space', fontsize=14)\n",
    "plt.legend()\n",
    "plt.savefig(geneSpace_file, dpi=300)"
   ]
  },
  {
   "cell_type": "markdown",
   "metadata": {
    "ExecuteTime": {
     "end_time": "2019-04-18T15:58:08.460400Z",
     "start_time": "2019-04-18T15:58:08.442572Z"
    }
   },
   "source": [
    "## Plot gene expression in VAE encoded latent space"
   ]
  },
  {
   "cell_type": "code",
   "execution_count": 10,
   "metadata": {
    "ExecuteTime": {
     "end_time": "2019-05-02T18:40:28.143648Z",
     "start_time": "2019-05-02T18:40:27.641432Z"
    }
   },
   "outputs": [
    {
     "data": {
      "image/png": "[encoded data removed]",
      "text/plain": [
       "<matplotlib.figure.Figure at 0x7fad4ddc0198>"
      ]
     },
     "metadata": {},
     "output_type": "display_data"
    }
   ],
   "source": [
    "# Plot of gene expression data in VAE latent space\n",
    "geneA_exp_labeled = geneA_exp_labeled.assign(sample_index=list(range(geneA_exp_labeled.shape[0])))\n",
    "for x in geneA_exp_labeled.rep_geneA.sort_values().unique():\n",
    "    sample_ids = list(geneA_exp_labeled.query(\"rep_geneA == @x\").sample_index.index)\n",
    "    plt.scatter(\n",
    "        sim_data_encoded.loc[sample_ids, '1'], \n",
    "        sim_data_encoded.loc[sample_ids, '2'], \n",
    "        c=sns.color_palette()[x-1],\n",
    "        alpha=0.7,\n",
    "        label=str(x)\n",
    "    )\n",
    "plt.gca().set_aspect('equal', 'datalim')\n",
    "plt.title('Encoded gene expression data in VAE latent space', fontsize=14)\n",
    "plt.legend()\n",
    "plt.savefig(latentSpace_file, dpi=300)"
   ]
  },
  {
   "cell_type": "code",
   "execution_count": 11,
   "metadata": {
    "ExecuteTime": {
     "end_time": "2019-05-02T18:40:34.223667Z",
     "start_time": "2019-05-02T18:40:28.144999Z"
    }
   },
   "outputs": [
    {
     "name": "stderr",
     "output_type": "stream",
     "text": [
      "/home/alexandra/anaconda3/envs/Pa/lib/python3.5/site-packages/umap/spectral.py:229: UserWarning: Embedding 2 connected components using meta-embedding (experimental)\n",
      "  n_components\n"
     ]
    },
    {
     "data": {
      "text/plain": [
       "(1191, 2)"
      ]
     },
     "execution_count": 11,
     "metadata": {},
     "output_type": "execute_result"
    }
   ],
   "source": [
    "# UMAP embedding of VAE encoded gene space data\n",
    "embedding_encoded = umap.UMAP().fit_transform(sim_data_encoded)\n",
    "embedding_encoded.shape"
   ]
  },
  {
   "cell_type": "code",
   "execution_count": 12,
   "metadata": {
    "ExecuteTime": {
     "end_time": "2019-05-02T18:40:34.688446Z",
     "start_time": "2019-05-02T18:40:34.225257Z"
    }
   },
   "outputs": [
    {
     "data": {
      "text/plain": [
       "<matplotlib.legend.Legend at 0x7fad4dcd7198>"
      ]
     },
     "execution_count": 12,
     "metadata": {},
     "output_type": "execute_result"
    },
    {
     "data": {
      "image/png": "[encoded data removed]",
      "text/plain": [
       "<matplotlib.figure.Figure at 0x7fad4c444080>"
      ]
     },
     "metadata": {},
     "output_type": "display_data"
    }
   ],
   "source": [
    "# UMAP plot of raw gene expression data\n",
    "geneA_exp_labeled = geneA_exp_labeled.assign(sample_index=list(range(geneA_exp_labeled.shape[0])))\n",
    "for x in geneA_exp_labeled.rep_geneA.sort_values().unique():\n",
    "    plt.scatter(\n",
    "        embedding_encoded[geneA_exp_labeled.query(\"rep_geneA == @x\").sample_index.values, 0], \n",
    "        embedding_encoded[geneA_exp_labeled.query(\"rep_geneA == @x\").sample_index.values, 1], \n",
    "        c=sns.color_palette()[x-1],\n",
    "        alpha=0.3,\n",
    "        label=str(x)\n",
    "    )\n",
    "plt.gca().set_aspect('equal', 'datalim')\n",
    "plt.title('UMAP projection of encoded gene expression data in VAE space', fontsize=14)\n",
    "plt.legend()"
   ]
  }
 ],
 "metadata": {
  "kernelspec": {
   "display_name": "Python [conda env:Pa]",
   "language": "python",
   "name": "conda-env-Pa-py"
  },
  "language_info": {
   "codemirror_mode": {
    "name": "ipython",
    "version": 3
   },
   "file_extension": ".py",
   "mimetype": "text/x-python",
   "name": "python",
   "nbconvert_exporter": "python",
   "pygments_lexer": "ipython3",
   "version": "3.5.5"
  }
 },
 "nbformat": 4,
 "nbformat_minor": 2
}
