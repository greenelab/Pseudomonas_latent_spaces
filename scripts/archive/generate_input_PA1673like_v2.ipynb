{
 "cells": [
  {
   "cell_type": "code",
   "execution_count": 3,
   "metadata": {},
   "outputs": [],
   "source": [
    "%matplotlib inline"
   ]
  },
  {
   "cell_type": "code",
   "execution_count": 4,
   "metadata": {},
   "outputs": [],
   "source": [
    "#-------------------------------------------------------------------------------------------------------------------------------\n",
    "# By Alexandra Lee (Septermber 2018) \n",
    "#\n",
    "# Generate input files\n",
    "#\n",
    "# Dataset: Pseudomonas aeruginosa gene expression compendium referenced in https://www.ncbi.nlm.nih.gov/pmc/articles/PMC5069748/\n",
    "# \n",
    "# Group samples based on gene expression of PA1673\n",
    "#\n",
    "# Generate offset vector using extreme gene expression values (train_offset_original):\n",
    "# average highest gene expression - average lowest gene expression \n",
    "#-------------------------------------------------------------------------------------------------------------------------------\n",
    "import os\n",
    "import pandas as pd\n",
    "import numpy as np\n",
    "from scipy.stats import variation\n",
    "import seaborn as sns\n",
    "import matplotlib.pyplot as plt\n",
    "\n",
    "randomState = 123\n",
    "from numpy.random import seed\n",
    "seed(randomState)"
   ]
  },
  {
   "cell_type": "code",
   "execution_count": 5,
   "metadata": {},
   "outputs": [],
   "source": [
    "# Load arguments\n",
    "data_file = os.path.join(os.path.dirname(os.getcwd()), \"data\", \"all-pseudomonas-gene-normalized.zip\")  # repo file is zipped\n",
    "gene_id = \"PA1673\"\n",
    "\n",
    "# Output training\n",
    "train_highest_file = os.path.join(os.path.dirname(os.getcwd()), \"data\", \"PA1673_full_test\", \"train_highest_PA1673.txt\")\n",
    "train_lowest_file = os.path.join(os.path.dirname(os.getcwd()), \"data\", \"PA1673_full_test\", \"train_lowest_PA1673.txt\")\n",
    "train_mid1_file = os.path.join(os.path.dirname(os.getcwd()), \"data\", \"PA1673_full_test\", \"train_mid1_PA1673.txt\")\n",
    "train_mid2_file = os.path.join(os.path.dirname(os.getcwd()), \"data\", \"PA1673_full_test\", \"train_mid2_PA1673.txt\")\n",
    "train_input_file = os.path.join(os.path.dirname(os.getcwd()), \"data\", \"PA1673_full_test\", \"train_model_input.txt.xz\")\n",
    "\n",
    "# Output test\n",
    "test_lowest_file = os.path.join(os.path.dirname(os.getcwd()), \"data\", \"PA1673_full_test\", \"test_lowest_PA1673.txt\")\n",
    "test_mid1_file = os.path.join(os.path.dirname(os.getcwd()), \"data\", \"PA1673_full_test\", \"test_mid1_PA1673.txt\")\n",
    "test_mid2_file = os.path.join(os.path.dirname(os.getcwd()), \"data\", \"PA1673_full_test\", \"test_mid2_PA1673.txt\")\n",
    "test_highest_file = os.path.join(os.path.dirname(os.getcwd()), \"data\", \"PA1673_full_test\", \"test_highest_PA1673.txt\")\n",
    "\n",
    "# Output offset\n",
    "original_offset_file = os.path.join(os.path.dirname(os.getcwd()), \"data\", \"PA1673_full_test\", \"train_offset_original.txt\")"
   ]
  },
  {
   "cell_type": "code",
   "execution_count": 6,
   "metadata": {},
   "outputs": [
    {
     "data": {
      "text/plain": [
       "(1191, 5549)"
      ]
     },
     "execution_count": 6,
     "metadata": {},
     "output_type": "execute_result"
    }
   ],
   "source": [
    "# Read in data\n",
    "data = pd.read_table(data_file, header=0, sep='\\t', index_col=0, compression='zip')\n",
    "X = data.transpose()\n",
    "X.shape"
   ]
  },
  {
   "cell_type": "code",
   "execution_count": 7,
   "metadata": {},
   "outputs": [
    {
     "data": {
      "text/plain": [
       "<matplotlib.axes._subplots.AxesSubplot at 0x7f65043bbfd0>"
      ]
     },
     "execution_count": 7,
     "metadata": {},
     "output_type": "execute_result"
    },
    {
     "data": {
      "image/png": "[encoded data removed]",
      "text/plain": [
       "<matplotlib.figure.Figure at 0x7f6512af0898>"
      ]
     },
     "metadata": {},
     "output_type": "display_data"
    }
   ],
   "source": [
    "# Plot distribution of gene_id gene expression \n",
    "sns.distplot(X[gene_id])"
   ]
  },
  {
   "cell_type": "code",
   "execution_count": 8,
   "metadata": {},
   "outputs": [],
   "source": [
    "# Collect the extreme gene expressions\n",
    "highest = X[X[gene_id] >= np.percentile(X[gene_id], 95)]\n",
    "lowest = X[X[gene_id] <= np.percentile(X[gene_id], 5)]"
   ]
  },
  {
   "cell_type": "code",
   "execution_count": 9,
   "metadata": {},
   "outputs": [
    {
     "name": "stdout",
     "output_type": "stream",
     "text": [
      "(60, 5549)\n",
      "(60, 5549)\n"
     ]
    }
   ],
   "source": [
    "# Checkpoint\n",
    "print(highest.shape)\n",
    "print(lowest.shape)"
   ]
  },
  {
   "cell_type": "code",
   "execution_count": 17,
   "metadata": {},
   "outputs": [
    {
     "name": "stdout",
     "output_type": "stream",
     "text": [
      "120330-10978D_23_(Pae_G1a).CEL                 0.071791\n",
      "120330-10978D_M4_(Pae_G1a).CEL                 0.027608\n",
      "DC2.CEL                                        0.068697\n",
      "Glu_6Hour_(Pae_G1a).CEL                        0.000000\n",
      "GSM1133191_Weiqing_He_D-Glu-2_022410.CEL       0.072930\n",
      "GSM1191067_sphR-pyr-2.CEL                      0.076990\n",
      "GSM1267086_HZI1981_G1a.CEL                     0.084342\n",
      "GSM1267102_HZI1968_Pae_G1a.CEL                 0.085562\n",
      "GSM1267103_HZI1969_Pae_G1a.CEL                 0.059341\n",
      "GSM1267104_HZI1970_Pae_G1a.CEL                 0.049060\n",
      "GSM1267109_HZI1975_G1a.CEL                     0.042902\n",
      "GSM1267110_HZI1976_G1a.CEL                     0.059627\n",
      "GSM1267111_HZI1977_G1a.CEL                     0.063059\n",
      "GSM1267112_HZI1978_G1a.CEL                     0.042610\n",
      "GSM1267113_HZI1979_G1a.CEL                     0.064405\n",
      "GSM1420994_anr_control1.CEL                    0.036889\n",
      "GSM1420995_anr_control2.CEL                    0.048264\n",
      "GSM1420996_anr_NO1.CEL                         0.044510\n",
      "GSM1420997_anr_NO2.CEL                         0.053376\n",
      "GSM1421003_EXdnr_control2.CEL                  0.031869\n",
      "GSM198188.CEL                                  0.070026\n",
      "GSM252496.CEL                                  0.087432\n",
      "GSM432864.CEL                                  0.039183\n",
      "GSM432865.CEL                                  0.052980\n",
      "GSM432871.CEL                                  0.060136\n",
      "GSM767700.CEL                                  0.087466\n",
      "GSM774100_CF105-1973a.CEL                      0.037760\n",
      "GSM774101_CF105-1973b.CEL                      0.039662\n",
      "GSM774102_CF105-1973c.CEL                      0.047179\n",
      "GSM774103_CF114-1973a.CEL                      0.057587\n",
      "GSM774104_CF114-1973b.CEL                      0.036974\n",
      "GSM774105_CF114-1973c.CEL                      0.044995\n",
      "GSM774132_CF333-2007c.CEL                      0.082618\n",
      "GSM774133_B6-0_1.CEL                           0.067151\n",
      "GSM774135_B6-0_3.CEL                           0.038953\n",
      "GSM774136_B6-4_1.CEL                           0.026436\n",
      "GSM774137_B6-4_2.CEL                           0.069343\n",
      "GSM774138_B6-4_3.CEL                           0.034720\n",
      "GSM774139_B12-0_1.CEL                          0.054942\n",
      "GSM774140_B12-0_2.CEL                          0.066115\n",
      "GSM774141_B12-0_3.CEL                          0.026262\n",
      "GSM774142_B12-4_1.CEL                          0.041586\n",
      "GSM774143_B12-4_2.CEL                          0.075926\n",
      "GSM774144_B12-4_3.CEL                          0.049771\n",
      "GSM774145_B12-7_1.CEL                          0.080295\n",
      "GSM774146_B12-7_2.CEL                          0.079941\n",
      "GSM774147_B12-7_3.CEL                          0.057824\n",
      "GSM774160_PAO1a.CEL                            0.064363\n",
      "GSM774161_PAO1b.CEL                            0.052827\n",
      "GSM774162_PAO1c.CEL                            0.059431\n",
      "GSM842844_Wright_6_WT-stat-3_Pae_G1a.CEL       0.065164\n",
      "GSM842845_Wright_7_4203-log-1_Pae_G1a.CEL      0.078319\n",
      "GSM842846_Wright_8_4203-log-2_Pae_G1a.CEL      0.085306\n",
      "GSM842849_Wright_11_4203-stat-2_Pae_G1a.CEL    0.087863\n",
      "GSM842850_Wright_12_4203-stat-3_Pae_G1a.CEL    0.086805\n",
      "GSM854796.CEL                                  0.065167\n",
      "GSM954576_Nomura_PA01-1_Pae_G1a_.CEL           0.050185\n",
      "JS-1B4.9.07.CEL                                0.060793\n",
      "JS-A84.9.07.CEL                                0.023501\n",
      "JS-T24.9.07.CEL                                0.051630\n",
      "Name: PA1673, dtype: float64\n"
     ]
    }
   ],
   "source": [
    "# Checkpoint\n",
    "#print(np.percentile(X[gene_id], 95))\n",
    "#print(highest[gene_id])\n",
    "#print(np.percentile(X[gene_id], 5))\n",
    "print(lowest[gene_id])"
   ]
  },
  {
   "cell_type": "code",
   "execution_count": 11,
   "metadata": {},
   "outputs": [],
   "source": [
    "# Create dataframes with intermediate gene expression levels\n",
    "mid_1 = X[(X[gene_id] > np.percentile(X[gene_id], 40)) & (X[gene_id] <= np.percentile(X[gene_id], 50))]\n",
    "mid_2 = X[(X[gene_id] > np.percentile(X[gene_id], 70)) & (X[gene_id] <= np.percentile(X[gene_id], 80))]"
   ]
  },
  {
   "cell_type": "code",
   "execution_count": 14,
   "metadata": {},
   "outputs": [
    {
     "data": {
      "text/plain": [
       "0.1_6hr_CSV86(Pae_G1a).CEL                  0.431393\n",
       "1_6hr_CSV86(Pae_G1a).CEL                    0.392230\n",
       "AKGlu_plus_nt_7-8-09_s1.CEL                 0.397391\n",
       "control1_anaerobic_Pae_G1a.CEL              0.383615\n",
       "ETJan12B_1380_2012PAO5dR-aero.CEL           0.432787\n",
       "fos2_anaerobic_Pae_G1a.CEL                  0.398856\n",
       "FT1aerobic_Pae_G1a.CEL                      0.369642\n",
       "FT2_aerobic_wdh_Pae_G1a.CEL                 0.406955\n",
       "FT2_anaerobic_Pae_G1a.CEL                   0.372025\n",
       "FT3aerobic_Pae_G1a.CEL                      0.421186\n",
       "GPphhRminus_11-30-09_12-3-09_s1.CEL         0.402124\n",
       "GSM1067456_PAO1_CK_1.CEL                    0.423994\n",
       "GSM1141729_PA01_none_PC_.CEL                0.413426\n",
       "GSM1191066_sphR-pyr-1.CEL                   0.410839\n",
       "GSM1206646_WT-CHO-2.CEL                     0.404602\n",
       "GSM1206649_WT-ETC-1.CEL                     0.434105\n",
       "GSM1206654_dgcA-CHO-2.CEL                   0.376869\n",
       "GSM1244970_PAO1-37-replicate-01.CEL         0.433192\n",
       "GSM1244971_PAO1-37-replicate-02.CEL         0.431105\n",
       "GSM1267108_HZI1974_G1a.CEL                  0.432913\n",
       "GSM1306125_Nomura_PAO1_NS-1_Pae_G1a_.CEL    0.367855\n",
       "GSM1306127_Nomura_PAO1_NS-3_Pae_G1a_.CEL    0.369409\n",
       "GSM1419154_BC2_CAZ.CEL                      0.393481\n",
       "GSM155244.CEL                               0.368267\n",
       "GSM156172.CEL                               0.432785\n",
       "GSM1608067_Biofilm+12hrcipro_rep1.CEL       0.431443\n",
       "GSM1608070_Biofilm+12hrtobra_rep1.CEL       0.379360\n",
       "GSM1662224_PAO1_2.CEL                       0.378885\n",
       "GSM1662225_PAO1_3.CEL                       0.424770\n",
       "GSM1662231_WFPA513_3.CEL                    0.369123\n",
       "                                              ...   \n",
       "GSM821093_HZI0149_Pae_G1a.CEL               0.374504\n",
       "GSM821095_HZI0150_Pae_G1a.CEL               0.386009\n",
       "GSM823341.CEL                               0.389743\n",
       "GSM865130_schurr_5511_1_Pae_G1a_.CEL        0.398472\n",
       "GSM92165.CEL                                0.366842\n",
       "GSM92170.CEL                                0.404883\n",
       "GSM92171.CEL                                0.402502\n",
       "GSM92173.CEL                                0.434966\n",
       "GSM92174.CEL                                0.413343\n",
       "GSM92175.CEL                                0.419924\n",
       "GSM92177.CEL                                0.422902\n",
       "GSM92180.CEL                                0.432880\n",
       "GSM994496_PAO1-replicate-01.CEL             0.433192\n",
       "GSM994497_PAO1-replicate-02.CEL             0.431105\n",
       "L_13.CEL                                    0.393553\n",
       "MBU_JGOLD_pakA1.CEL                         0.421368\n",
       "MBU_JGOLD_pakA2.CEL                         0.395967\n",
       "MSC_01.CEL                                  0.372618\n",
       "MSC_05.CEL                                  0.407865\n",
       "Nag_cDNA_1-30-09_S2.CEL                     0.370090\n",
       "Overhage11001_Pae_G1a.CEL                   0.390868\n",
       "Overhage13001_(Pae_G1a).CEL                 0.374500\n",
       "Overhage13002_(Pae_G1a).CEL                 0.389641\n",
       "Overhage5001_Pae_G1a.CEL                    0.421625\n",
       "Overhage5002_Pae_G1a.CEL                    0.369562\n",
       "Pae_Fe03_16.CEL                             0.418462\n",
       "Pae_Fe03_18.CEL                             0.396011\n",
       "SJ01_Treated_1.CEL                          0.397391\n",
       "SJ16_Treated_1.CEL                          0.377119\n",
       "Tob2_aerobic_wdh_Pae_G1a.CEL                0.435077\n",
       "Name: PA1673, Length: 119, dtype: float64"
      ]
     },
     "execution_count": 14,
     "metadata": {},
     "output_type": "execute_result"
    }
   ],
   "source": [
    "mid_1[gene_id]\n",
    "#print(np.percentile(X[gene_id], 40))\n",
    "#print(np.percentile(X[gene_id], 50))"
   ]
  },
  {
   "cell_type": "code",
   "execution_count": 10,
   "metadata": {},
   "outputs": [
    {
     "name": "stdout",
     "output_type": "stream",
     "text": [
      "(119, 5549)\n",
      "(119, 5549)\n"
     ]
    }
   ],
   "source": [
    "# Checkpoint\n",
    "print(mid_1.shape)\n",
    "print(mid_2.shape)"
   ]
  },
  {
   "cell_type": "code",
   "execution_count": 11,
   "metadata": {},
   "outputs": [],
   "source": [
    "# Partition the lowest, mid_1, mid_2, highest into training and test sets\n",
    "# Training sets will be used to:\n",
    "# (1) Train the VAE\n",
    "# (2) Define the offset vectors\n",
    "# (3) Define the scale factors for the offset\n",
    "\n",
    "# Test sets will be used in the perturbation analysis\n",
    "\n",
    "# Split 20% test set randomly\n",
    "test_set_percent = 0.2\n",
    "test_lowest = lowest.sample(frac=test_set_percent, random_state=randomState)\n",
    "test_highest = highest.sample(frac=test_set_percent, random_state=randomState)\n",
    "test_mid1 = mid_1.sample(frac=test_set_percent, random_state=randomState)\n",
    "test_mid2 = mid_2.sample(frac=test_set_percent, random_state=randomState)\n",
    "\n",
    "# Training sets\n",
    "train_lowest = lowest.drop(test_lowest.index)\n",
    "train_mid1 = mid_1.drop(test_mid1.index)\n",
    "train_mid2 = mid_2.drop(test_mid2.index)\n",
    "train_highest = highest.drop(test_highest.index)"
   ]
  },
  {
   "cell_type": "code",
   "execution_count": 12,
   "metadata": {},
   "outputs": [],
   "source": [
    "# Create input to VAE using all samples and holding out test sets\n",
    "input_holdout = (\n",
    "    X\n",
    "    .drop(test_lowest.index)\n",
    "    .drop(test_mid1.index)\n",
    "    .drop(test_mid2.index)\n",
    "    .drop(test_highest.index)\n",
    ")"
   ]
  },
  {
   "cell_type": "code",
   "execution_count": 13,
   "metadata": {},
   "outputs": [
    {
     "name": "stdout",
     "output_type": "stream",
     "text": [
      "(1191, 5549)\n",
      "(1119, 5549)\n",
      "(12, 5549)\n",
      "(24, 5549)\n",
      "(24, 5549)\n",
      "(12, 5549)\n"
     ]
    }
   ],
   "source": [
    "# Checkpoint\n",
    "print(X.shape)\n",
    "print(input_holdout.shape)\n",
    "print(test_lowest.shape)\n",
    "print(test_mid1.shape)\n",
    "print(test_mid2.shape)\n",
    "print(test_highest.shape)"
   ]
  },
  {
   "cell_type": "code",
   "execution_count": 14,
   "metadata": {},
   "outputs": [
    {
     "data": {
      "text/html": [
       "<div>\n",
       "<style scoped>\n",
       "    .dataframe tbody tr th:only-of-type {\n",
       "        vertical-align: middle;\n",
       "    }\n",
       "\n",
       "    .dataframe tbody tr th {\n",
       "        vertical-align: top;\n",
       "    }\n",
       "\n",
       "    .dataframe thead th {\n",
       "        text-align: right;\n",
       "    }\n",
       "</style>\n",
       "<table border=\"1\" class=\"dataframe\">\n",
       "  <thead>\n",
       "    <tr style=\"text-align: right;\">\n",
       "      <th>Gene_symbol</th>\n",
       "      <th>PA0001</th>\n",
       "      <th>PA0002</th>\n",
       "      <th>PA0003</th>\n",
       "      <th>PA0004</th>\n",
       "      <th>PA0005</th>\n",
       "      <th>PA0006</th>\n",
       "      <th>PA0007</th>\n",
       "      <th>PA0008</th>\n",
       "      <th>PA0009</th>\n",
       "      <th>PA0010</th>\n",
       "      <th>...</th>\n",
       "      <th>PA5561</th>\n",
       "      <th>PA5562</th>\n",
       "      <th>PA5563</th>\n",
       "      <th>PA5564</th>\n",
       "      <th>PA5565</th>\n",
       "      <th>PA5566</th>\n",
       "      <th>PA5567</th>\n",
       "      <th>PA5568</th>\n",
       "      <th>PA5569</th>\n",
       "      <th>PA5570</th>\n",
       "    </tr>\n",
       "  </thead>\n",
       "  <tbody>\n",
       "    <tr>\n",
       "      <th>0</th>\n",
       "      <td>-0.124991</td>\n",
       "      <td>-0.052741</td>\n",
       "      <td>-0.131056</td>\n",
       "      <td>-0.078281</td>\n",
       "      <td>-0.127893</td>\n",
       "      <td>-0.090651</td>\n",
       "      <td>-0.012079</td>\n",
       "      <td>-0.179264</td>\n",
       "      <td>-0.246376</td>\n",
       "      <td>-0.029216</td>\n",
       "      <td>...</td>\n",
       "      <td>-0.157879</td>\n",
       "      <td>-0.072043</td>\n",
       "      <td>-0.078406</td>\n",
       "      <td>-0.136966</td>\n",
       "      <td>-0.117403</td>\n",
       "      <td>-0.005398</td>\n",
       "      <td>-0.06753</td>\n",
       "      <td>-0.180604</td>\n",
       "      <td>-0.106672</td>\n",
       "      <td>-0.083724</td>\n",
       "    </tr>\n",
       "  </tbody>\n",
       "</table>\n",
       "<p>1 rows × 5549 columns</p>\n",
       "</div>"
      ],
      "text/plain": [
       "Gene_symbol    PA0001    PA0002    PA0003    PA0004    PA0005    PA0006  \\\n",
       "0           -0.124991 -0.052741 -0.131056 -0.078281 -0.127893 -0.090651   \n",
       "\n",
       "Gene_symbol    PA0007    PA0008    PA0009    PA0010    ...       PA5561  \\\n",
       "0           -0.012079 -0.179264 -0.246376 -0.029216    ...    -0.157879   \n",
       "\n",
       "Gene_symbol    PA5562    PA5563    PA5564    PA5565    PA5566   PA5567  \\\n",
       "0           -0.072043 -0.078406 -0.136966 -0.117403 -0.005398 -0.06753   \n",
       "\n",
       "Gene_symbol    PA5568    PA5569    PA5570  \n",
       "0           -0.180604 -0.106672 -0.083724  \n",
       "\n",
       "[1 rows x 5549 columns]"
      ]
     },
     "execution_count": 14,
     "metadata": {},
     "output_type": "execute_result"
    }
   ],
   "source": [
    "# Define offset vector using all genes\n",
    "# Average gene expression across samples in training set\n",
    "train_highest_mean = train_highest.mean(axis=0)\n",
    "train_lowest_mean = train_lowest.mean(axis=0)\n",
    "\n",
    "# Generate offset using average gene expression in original dataset\n",
    "train_offset_original = train_highest_mean - train_lowest_mean\n",
    "train_offset_original_df = pd.DataFrame(train_offset_original).transpose()\n",
    "train_offset_original_df"
   ]
  },
  {
   "cell_type": "code",
   "execution_count": 15,
   "metadata": {},
   "outputs": [],
   "source": [
    "# Output training and test sets\n",
    "\n",
    "# training data\n",
    "train_highest.to_csv(train_highest_file, sep='\\t')\n",
    "train_mid1.to_csv(train_mid1_file, sep='\\t')\n",
    "train_mid2.to_csv(train_mid2_file, sep='\\t')\n",
    "train_lowest.to_csv(train_lowest_file, sep='\\t')\n",
    "input_holdout.to_csv(train_input_file, sep='\\t', compression='xz')\n",
    "\n",
    "# test data\n",
    "test_lowest.to_csv(test_lowest_file, sep='\\t')\n",
    "test_mid1.to_csv(test_mid1_file, sep='\\t')\n",
    "test_mid2.to_csv(test_mid2_file, sep='\\t')\n",
    "test_highest.to_csv(test_highest_file, sep='\\t')\n",
    "\n",
    "# original offset\n",
    "train_offset_original.to_csv(original_offset_file, sep='\\t')"
   ]
  }
 ],
 "metadata": {
  "kernelspec": {
   "display_name": "Python [conda env:Pa]",
   "language": "python",
   "name": "conda-env-Pa-py"
  },
  "language_info": {
   "codemirror_mode": {
    "name": "ipython",
    "version": 3
   },
   "file_extension": ".py",
   "mimetype": "text/x-python",
   "name": "python",
   "nbconvert_exporter": "python",
   "pygments_lexer": "ipython3",
   "version": "3.5.5"
  }
 },
 "nbformat": 4,
 "nbformat_minor": 2
}
