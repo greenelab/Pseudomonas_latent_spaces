{
 "cells": [
  {
   "cell_type": "code",
   "execution_count": 1,
   "metadata": {},
   "outputs": [
    {
     "name": "stderr",
     "output_type": "stream",
     "text": [
      "Using TensorFlow backend.\n"
     ]
    }
   ],
   "source": [
    "#-----------------------------------------------------------------------------------------------------------------\n",
    "# Simulation experiment\n",
    "#\n",
    "# Network:\n",
    "# A --> gene set C\n",
    "#\n",
    "# Algorithm\n",
    "# Let gene A and B be TF's:\n",
    "# if gene A expression > threshold_A:\n",
    "#     genes in set C are upregulated by some percentage of its original expression\n",
    "#\n",
    "# Apply this algorithm for each sample in the compendium (essentially adding a signal to the existing gene expression data in the compendium)\n",
    "# \n",
    "# Hyperparmeters should include: \n",
    "# 1. Gene A\n",
    "# 2. Size of gene sets C\n",
    "# 3. Thresholds\n",
    "# 4. Percentage to 1.0 (effect size)\n",
    "# 5. Log file with hyperparameter selections\n",
    "#-----------------------------------------------------------------------------------------------------------------\n",
    "%load_ext autoreload\n",
    "%autoreload 2\n",
    "\n",
    "import os\n",
    "import pandas as pd\n",
    "import numpy as np\n",
    "import random\n",
    "import seaborn as sns\n",
    "\n",
    "from functions import generate_input, vae, def_offset, interpolate, pca, plot\n",
    "\n",
    "from numpy.random import seed\n",
    "randomState = 5\n",
    "seed(randomState)"
   ]
  },
  {
   "cell_type": "code",
   "execution_count": 2,
   "metadata": {},
   "outputs": [],
   "source": [
    "# Hyperparameters\n",
    "\n",
    "# Transcription factors\n",
    "# If empty, genes will be randomly assigned\n",
    "geneA = ''\n",
    "\n",
    "# Size of the gene set that will be regulated by gene A\n",
    "geneSetC_size = 1000 \n",
    "\n",
    "# Threshold for activation of gene A \n",
    "thresholdA = 0.5\n",
    "\n",
    "# Amount that genes in gene sets C \n",
    "effect_sizeA = 0.5\n",
    "\n",
    "# Name of analysis\n",
    "analysis_name = 'sim_nonlin_5'"
   ]
  },
  {
   "cell_type": "code",
   "execution_count": 3,
   "metadata": {},
   "outputs": [],
   "source": [
    "# Load arguments\n",
    "data_file = os.path.join(os.path.dirname(os.getcwd()), \"data\", \"all-pseudomonas-gene-normalized.zip\")"
   ]
  },
  {
   "cell_type": "code",
   "execution_count": 4,
   "metadata": {},
   "outputs": [
    {
     "data": {
      "text/html": [
       "<div>\n",
       "<style scoped>\n",
       "    .dataframe tbody tr th:only-of-type {\n",
       "        vertical-align: middle;\n",
       "    }\n",
       "\n",
       "    .dataframe tbody tr th {\n",
       "        vertical-align: top;\n",
       "    }\n",
       "\n",
       "    .dataframe thead th {\n",
       "        text-align: right;\n",
       "    }\n",
       "</style>\n",
       "<table border=\"1\" class=\"dataframe\">\n",
       "  <thead>\n",
       "    <tr style=\"text-align: right;\">\n",
       "      <th>Gene_symbol</th>\n",
       "      <th>PA0001</th>\n",
       "      <th>PA0002</th>\n",
       "      <th>PA0003</th>\n",
       "      <th>PA0004</th>\n",
       "      <th>PA0005</th>\n",
       "      <th>PA0006</th>\n",
       "      <th>PA0007</th>\n",
       "      <th>PA0008</th>\n",
       "      <th>PA0009</th>\n",
       "      <th>PA0010</th>\n",
       "      <th>...</th>\n",
       "      <th>PA5561</th>\n",
       "      <th>PA5562</th>\n",
       "      <th>PA5563</th>\n",
       "      <th>PA5564</th>\n",
       "      <th>PA5565</th>\n",
       "      <th>PA5566</th>\n",
       "      <th>PA5567</th>\n",
       "      <th>PA5568</th>\n",
       "      <th>PA5569</th>\n",
       "      <th>PA5570</th>\n",
       "    </tr>\n",
       "  </thead>\n",
       "  <tbody>\n",
       "    <tr>\n",
       "      <th>0.1_12hr_CSV86(Pae_G1a).CEL</th>\n",
       "      <td>0.472897</td>\n",
       "      <td>0.396658</td>\n",
       "      <td>0.253776</td>\n",
       "      <td>0.000000</td>\n",
       "      <td>0.175640</td>\n",
       "      <td>0.554385</td>\n",
       "      <td>0.411370</td>\n",
       "      <td>0.382222</td>\n",
       "      <td>0.310144</td>\n",
       "      <td>0.642522</td>\n",
       "      <td>...</td>\n",
       "      <td>0.358597</td>\n",
       "      <td>0.390048</td>\n",
       "      <td>0.457406</td>\n",
       "      <td>0.684082</td>\n",
       "      <td>0.338351</td>\n",
       "      <td>0.608325</td>\n",
       "      <td>0.643496</td>\n",
       "      <td>0.276075</td>\n",
       "      <td>0.112773</td>\n",
       "      <td>0.145170</td>\n",
       "    </tr>\n",
       "    <tr>\n",
       "      <th>0.1_2hr_CSV86(Pae_G1a).CEL</th>\n",
       "      <td>0.262346</td>\n",
       "      <td>0.086216</td>\n",
       "      <td>0.359853</td>\n",
       "      <td>0.439214</td>\n",
       "      <td>0.269749</td>\n",
       "      <td>0.768433</td>\n",
       "      <td>0.212505</td>\n",
       "      <td>0.062043</td>\n",
       "      <td>0.567695</td>\n",
       "      <td>0.467073</td>\n",
       "      <td>...</td>\n",
       "      <td>0.358504</td>\n",
       "      <td>0.414206</td>\n",
       "      <td>0.389879</td>\n",
       "      <td>0.477693</td>\n",
       "      <td>0.000000</td>\n",
       "      <td>0.479385</td>\n",
       "      <td>0.154471</td>\n",
       "      <td>0.140891</td>\n",
       "      <td>0.167505</td>\n",
       "      <td>0.157060</td>\n",
       "    </tr>\n",
       "    <tr>\n",
       "      <th>0.1_6hr_CSV86(Pae_G1a).CEL</th>\n",
       "      <td>0.473658</td>\n",
       "      <td>0.244862</td>\n",
       "      <td>0.330750</td>\n",
       "      <td>0.097697</td>\n",
       "      <td>0.387226</td>\n",
       "      <td>0.328319</td>\n",
       "      <td>0.228820</td>\n",
       "      <td>0.330039</td>\n",
       "      <td>0.318081</td>\n",
       "      <td>0.512864</td>\n",
       "      <td>...</td>\n",
       "      <td>0.180744</td>\n",
       "      <td>0.380741</td>\n",
       "      <td>0.173501</td>\n",
       "      <td>0.251571</td>\n",
       "      <td>0.182793</td>\n",
       "      <td>0.528301</td>\n",
       "      <td>0.504985</td>\n",
       "      <td>0.499782</td>\n",
       "      <td>0.061106</td>\n",
       "      <td>0.365612</td>\n",
       "    </tr>\n",
       "    <tr>\n",
       "      <th>0.1_7hr_CSV86(Pae_G1a).CEL</th>\n",
       "      <td>0.439273</td>\n",
       "      <td>0.343402</td>\n",
       "      <td>0.192698</td>\n",
       "      <td>0.274677</td>\n",
       "      <td>0.628979</td>\n",
       "      <td>0.553796</td>\n",
       "      <td>0.431391</td>\n",
       "      <td>0.363480</td>\n",
       "      <td>0.385721</td>\n",
       "      <td>0.094584</td>\n",
       "      <td>...</td>\n",
       "      <td>0.346837</td>\n",
       "      <td>0.153927</td>\n",
       "      <td>0.067349</td>\n",
       "      <td>0.319723</td>\n",
       "      <td>0.282442</td>\n",
       "      <td>0.490655</td>\n",
       "      <td>0.531415</td>\n",
       "      <td>0.153880</td>\n",
       "      <td>0.132333</td>\n",
       "      <td>0.260087</td>\n",
       "    </tr>\n",
       "    <tr>\n",
       "      <th>0.1_9hr_CSV86(Pae_G1a).CEL</th>\n",
       "      <td>0.220827</td>\n",
       "      <td>0.145525</td>\n",
       "      <td>0.437803</td>\n",
       "      <td>0.293201</td>\n",
       "      <td>0.635120</td>\n",
       "      <td>0.462893</td>\n",
       "      <td>0.488733</td>\n",
       "      <td>0.309584</td>\n",
       "      <td>0.318646</td>\n",
       "      <td>0.591914</td>\n",
       "      <td>...</td>\n",
       "      <td>0.237726</td>\n",
       "      <td>0.301945</td>\n",
       "      <td>0.070222</td>\n",
       "      <td>0.513605</td>\n",
       "      <td>0.114277</td>\n",
       "      <td>0.360259</td>\n",
       "      <td>0.386868</td>\n",
       "      <td>0.223995</td>\n",
       "      <td>0.105343</td>\n",
       "      <td>0.102088</td>\n",
       "    </tr>\n",
       "  </tbody>\n",
       "</table>\n",
       "<p>5 rows × 5549 columns</p>\n",
       "</div>"
      ],
      "text/plain": [
       "Gene_symbol                    PA0001    PA0002    PA0003    PA0004    PA0005  \\\n",
       "0.1_12hr_CSV86(Pae_G1a).CEL  0.472897  0.396658  0.253776  0.000000  0.175640   \n",
       "0.1_2hr_CSV86(Pae_G1a).CEL   0.262346  0.086216  0.359853  0.439214  0.269749   \n",
       "0.1_6hr_CSV86(Pae_G1a).CEL   0.473658  0.244862  0.330750  0.097697  0.387226   \n",
       "0.1_7hr_CSV86(Pae_G1a).CEL   0.439273  0.343402  0.192698  0.274677  0.628979   \n",
       "0.1_9hr_CSV86(Pae_G1a).CEL   0.220827  0.145525  0.437803  0.293201  0.635120   \n",
       "\n",
       "Gene_symbol                    PA0006    PA0007    PA0008    PA0009    PA0010  \\\n",
       "0.1_12hr_CSV86(Pae_G1a).CEL  0.554385  0.411370  0.382222  0.310144  0.642522   \n",
       "0.1_2hr_CSV86(Pae_G1a).CEL   0.768433  0.212505  0.062043  0.567695  0.467073   \n",
       "0.1_6hr_CSV86(Pae_G1a).CEL   0.328319  0.228820  0.330039  0.318081  0.512864   \n",
       "0.1_7hr_CSV86(Pae_G1a).CEL   0.553796  0.431391  0.363480  0.385721  0.094584   \n",
       "0.1_9hr_CSV86(Pae_G1a).CEL   0.462893  0.488733  0.309584  0.318646  0.591914   \n",
       "\n",
       "Gene_symbol                    ...       PA5561    PA5562    PA5563    PA5564  \\\n",
       "0.1_12hr_CSV86(Pae_G1a).CEL    ...     0.358597  0.390048  0.457406  0.684082   \n",
       "0.1_2hr_CSV86(Pae_G1a).CEL     ...     0.358504  0.414206  0.389879  0.477693   \n",
       "0.1_6hr_CSV86(Pae_G1a).CEL     ...     0.180744  0.380741  0.173501  0.251571   \n",
       "0.1_7hr_CSV86(Pae_G1a).CEL     ...     0.346837  0.153927  0.067349  0.319723   \n",
       "0.1_9hr_CSV86(Pae_G1a).CEL     ...     0.237726  0.301945  0.070222  0.513605   \n",
       "\n",
       "Gene_symbol                    PA5565    PA5566    PA5567    PA5568    PA5569  \\\n",
       "0.1_12hr_CSV86(Pae_G1a).CEL  0.338351  0.608325  0.643496  0.276075  0.112773   \n",
       "0.1_2hr_CSV86(Pae_G1a).CEL   0.000000  0.479385  0.154471  0.140891  0.167505   \n",
       "0.1_6hr_CSV86(Pae_G1a).CEL   0.182793  0.528301  0.504985  0.499782  0.061106   \n",
       "0.1_7hr_CSV86(Pae_G1a).CEL   0.282442  0.490655  0.531415  0.153880  0.132333   \n",
       "0.1_9hr_CSV86(Pae_G1a).CEL   0.114277  0.360259  0.386868  0.223995  0.105343   \n",
       "\n",
       "Gene_symbol                    PA5570  \n",
       "0.1_12hr_CSV86(Pae_G1a).CEL  0.145170  \n",
       "0.1_2hr_CSV86(Pae_G1a).CEL   0.157060  \n",
       "0.1_6hr_CSV86(Pae_G1a).CEL   0.365612  \n",
       "0.1_7hr_CSV86(Pae_G1a).CEL   0.260087  \n",
       "0.1_9hr_CSV86(Pae_G1a).CEL   0.102088  \n",
       "\n",
       "[5 rows x 5549 columns]"
      ]
     },
     "execution_count": 4,
     "metadata": {},
     "output_type": "execute_result"
    }
   ],
   "source": [
    "# Read in data\n",
    "data = pd.read_table(data_file, header=0, sep='\\t', index_col=0, compression='zip').T\n",
    "data.head(5)"
   ]
  },
  {
   "cell_type": "code",
   "execution_count": 5,
   "metadata": {},
   "outputs": [
    {
     "name": "stdout",
     "output_type": "stream",
     "text": [
      "PA2845\n"
     ]
    }
   ],
   "source": [
    "# Randomly select gene A if not specified\n",
    "# Note: 'replace=False' indicates sampling WITHOUT replacement\n",
    "if not geneA:\n",
    "    gene_ids = list(data.columns)\n",
    "    [geneA] = np.random.choice(gene_ids, size=1, replace=False)\n",
    "\n",
    "print(geneA)"
   ]
  },
  {
   "cell_type": "code",
   "execution_count": 6,
   "metadata": {},
   "outputs": [],
   "source": [
    "# checkpoint\n",
    "assert(len(gene_ids)==5549)"
   ]
  },
  {
   "cell_type": "code",
   "execution_count": 7,
   "metadata": {},
   "outputs": [
    {
     "name": "stdout",
     "output_type": "stream",
     "text": [
      "5548\n",
      "1000\n"
     ]
    }
   ],
   "source": [
    "# Randomly select genes for gene set C\n",
    "# remove() doesn't return a value it will remove the element from the list object\n",
    "gene_ids.remove(geneA)\n",
    "print(len(gene_ids))\n",
    "\n",
    "# Random sample of genes for set C\n",
    "geneSetC = random.sample(gene_ids, geneSetC_size)\n",
    "\n",
    "print(len(geneSetC))"
   ]
  },
  {
   "cell_type": "code",
   "execution_count": 8,
   "metadata": {},
   "outputs": [],
   "source": [
    "# checkpoint\n",
    "assert(geneA not in geneSetC)"
   ]
  },
  {
   "cell_type": "code",
   "execution_count": 9,
   "metadata": {},
   "outputs": [],
   "source": [
    "# checkpoint\n",
    "# print(data[geneA])"
   ]
  },
  {
   "cell_type": "code",
   "execution_count": 10,
   "metadata": {},
   "outputs": [],
   "source": [
    "# checkpoint: before transformation\n",
    "# data.loc[data[geneA]<=thresholdA,geneSetC[0]]"
   ]
  },
  {
   "cell_type": "code",
   "execution_count": 11,
   "metadata": {},
   "outputs": [
    {
     "data": {
      "text/plain": [
       "<matplotlib.axes._subplots.AxesSubplot at 0x7f67b5168320>"
      ]
     },
     "execution_count": 11,
     "metadata": {},
     "output_type": "execute_result"
    },
    {
     "data": {
      "image/png": "[encoded data removed]",
      "text/plain": [
       "<matplotlib.figure.Figure at 0x7f67b45a1cc0>"
      ]
     },
     "metadata": {},
     "output_type": "display_data"
    }
   ],
   "source": [
    "# checkpoint\n",
    "# plot expression of select gene C across all samples BEFORE transformation\n",
    "\n",
    "# Randomly from gene set C\n",
    "geneC = random.sample(geneSetC, 1)[0]\n",
    "\n",
    "# Dataframe with only gene C and only gene A\n",
    "geneC_only = pd.DataFrame(data[geneC], index=data.index, columns=[geneC])\n",
    "geneA_only = pd.DataFrame(data[geneA], index=data.index, columns=[geneA])\n",
    "\n",
    "# Join \n",
    "X = pd.merge(geneA_only, geneC_only, left_index=True, right_index=True)\n",
    "\n",
    "# Plot\n",
    "sns.regplot(x=geneA, y=geneC, data=X, scatter=True)"
   ]
  },
  {
   "cell_type": "code",
   "execution_count": 12,
   "metadata": {},
   "outputs": [],
   "source": [
    "# Loop through all samples\n",
    "num_samples = data.shape[1]\n",
    "\n",
    "for sample_id in data.index:\n",
    "    row = data.loc[sample_id]\n",
    "        \n",
    "    if data.loc[sample_id,geneA] > thresholdA:\n",
    "        # Scale genes by some fixed percentage\n",
    "        for gene in geneSetC:\n",
    "            data.loc[sample_id,gene] = data.loc[sample_id,gene]*(1+effect_sizeA)            \n",
    "            \n",
    "# if any exceed 1 then set to 1 since gene expression is normalized\n",
    "data[data>=1.0] = 1.0"
   ]
  },
  {
   "cell_type": "code",
   "execution_count": 13,
   "metadata": {},
   "outputs": [
    {
     "data": {
      "text/plain": [
       "<matplotlib.axes._subplots.AxesSubplot at 0x7f67b51ae748>"
      ]
     },
     "execution_count": 13,
     "metadata": {},
     "output_type": "execute_result"
    },
    {
     "data": {
      "image/png": "[encoded data removed]",
      "text/plain": [
       "<matplotlib.figure.Figure at 0x7f67b5191390>"
      ]
     },
     "metadata": {},
     "output_type": "display_data"
    }
   ],
   "source": [
    "# checkpoint\n",
    "# plot expression of select gene C across all samples AFTER transformation\n",
    "\n",
    "# Dataframe with only gene C and only gene A\n",
    "geneC_only = pd.DataFrame(data[geneC], index=data.index, columns=[geneC])\n",
    "geneA_only = pd.DataFrame(data[geneA], index=data.index, columns=[geneA])\n",
    "\n",
    "# Join \n",
    "X = pd.merge(geneA_only, geneC_only, left_index=True, right_index=True)\n",
    "\n",
    "# Plot\n",
    "sns.regplot(x=geneA, y=geneC, data=X, scatter=True)"
   ]
  },
  {
   "cell_type": "code",
   "execution_count": 14,
   "metadata": {},
   "outputs": [],
   "source": [
    "# checkpoint: after transformation\n",
    "# data.loc[data[geneA]<=thresholdA,geneSetC[0]]"
   ]
  },
  {
   "cell_type": "code",
   "execution_count": 15,
   "metadata": {},
   "outputs": [],
   "source": [
    "# Dataframe with only gene A\n",
    "geneA_only = pd.DataFrame(data[geneA], index=data.index, columns=[geneA])\n",
    "\n",
    "# Drop gene A\n",
    "data_holdout = data.drop(columns=[geneA])"
   ]
  },
  {
   "cell_type": "code",
   "execution_count": 16,
   "metadata": {},
   "outputs": [
    {
     "data": {
      "text/plain": [
       "array([[<matplotlib.axes._subplots.AxesSubplot object at 0x7f67b515b470>]], dtype=object)"
      ]
     },
     "execution_count": 16,
     "metadata": {},
     "output_type": "execute_result"
    },
    {
     "data": {
      "image/png": "[encoded data removed]",
      "text/plain": [
       "<matplotlib.figure.Figure at 0x7f67b50d5c88>"
      ]
     },
     "metadata": {},
     "output_type": "display_data"
    }
   ],
   "source": [
    "# checkpoint\n",
    "# plot distribution of gene A\n",
    "geneA_only.hist()"
   ]
  },
  {
   "cell_type": "code",
   "execution_count": 17,
   "metadata": {},
   "outputs": [
    {
     "data": {
      "text/plain": [
       "(1191, 5548)"
      ]
     },
     "execution_count": 17,
     "metadata": {},
     "output_type": "execute_result"
    }
   ],
   "source": [
    "# checkpoint\n",
    "data_holdout.shape"
   ]
  },
  {
   "cell_type": "code",
   "execution_count": 18,
   "metadata": {},
   "outputs": [
    {
     "name": "stdout",
     "output_type": "stream",
     "text": [
      "directory already exists: /home/alexandra/Documents/Repos/Pseudomonas_latent_spaces/data/sim_nonlin_5\n",
      "directory already exists: /home/alexandra/Documents/Repos/Pseudomonas_latent_spaces/encoded/sim_nonlin_5\n",
      "directory already exists: /home/alexandra/Documents/Repos/Pseudomonas_latent_spaces/models/sim_nonlin_5\n",
      "directory already exists: /home/alexandra/Documents/Repos/Pseudomonas_latent_spaces/output/sim_nonlin_5\n",
      "directory already exists: /home/alexandra/Documents/Repos/Pseudomonas_latent_spaces/stats/sim_nonlin_5\n",
      "directory already exists: /home/alexandra/Documents/Repos/Pseudomonas_latent_spaces/viz/sim_nonlin_5\n"
     ]
    }
   ],
   "source": [
    "# Create list of base directories\n",
    "base_dirs = [os.path.join(os.path.dirname(os.getcwd()), 'data'),\n",
    "             os.path.join(os.path.dirname(os.getcwd()), 'encoded'),\n",
    "             os.path.join(os.path.dirname(os.getcwd()), 'models'),\n",
    "             os.path.join(os.path.dirname(os.getcwd()), 'output'),\n",
    "             os.path.join(os.path.dirname(os.getcwd()), 'stats'),\n",
    "             os.path.join(os.path.dirname(os.getcwd()), 'viz')    \n",
    "]\n",
    "\n",
    "# Check if directory exist otherwise create\n",
    "for each_dir in base_dirs:\n",
    "    analysis_dir = os.path.join(each_dir, analysis_name)\n",
    "    if os.path.exists(analysis_dir):\n",
    "        print('directory already exists: {}'.format(analysis_dir))\n",
    "    else:\n",
    "        os.mkdir(analysis_dir)\n",
    "        print('creating new directory: {}'.format(analysis_dir))"
   ]
  },
  {
   "cell_type": "code",
   "execution_count": 19,
   "metadata": {},
   "outputs": [],
   "source": [
    "# Output the new gene expression values for each sample\n",
    "train_input_file = os.path.join(base_dirs[0], analysis_name, \"train_model_input.txt.xz\")\n",
    "data_holdout.to_csv(train_input_file, sep='\\t', compression='xz', float_format=\"%.5g\")\n",
    "\n",
    "# Output log file with params\n",
    "log_file = os.path.join(os.path.dirname(os.getcwd()), 'metadata', analysis_name,'.txt')\n",
    "\n",
    "args_dict = {\n",
    "    \"gene A\": geneA,\n",
    "    \"size of gene set C\": geneSetC_size,\n",
    "    \"genes in set C\": geneSetC,\n",
    "    \"threshold of A activation\": thresholdA,\n",
    "    \"effect size of genes in set C\": effect_sizeA,\n",
    "}\n",
    "\n",
    "with open(log_file, 'w') as f:\n",
    "    for key, value in args_dict.items():\n",
    "        f.write('%s: %s\\n' % (key, value))\n",
    "        \n",
    "# Output geneA only file\n",
    "geneA_file = os.path.join(base_dirs[0], analysis_name, geneA + \".txt\")\n",
    "geneA_only.to_csv(geneA_file, sep='\\t', float_format=\"%.5g\")"
   ]
  },
  {
   "cell_type": "code",
   "execution_count": 20,
   "metadata": {},
   "outputs": [
    {
     "name": "stdout",
     "output_type": "stream",
     "text": [
      "CPU times: user 2 µs, sys: 0 ns, total: 2 µs\n",
      "Wall time: 3.81 µs\n"
     ]
    },
    {
     "data": {
      "text/plain": [
       "'\\n# Train models on input dataset\\n\\n# params\\nlearning_rate = 0.001\\nbatch_size = 100\\nepochs = 200\\nkappa = 0.01\\nintermediate_dim = 100\\nlatent_dim = 10\\nepsilon_std = 1.0\\nnum_PCs = latent_dim\\n\\nbase_dir = os.path.dirname(os.getcwd())\\nvae.tybalt_2layer_model(learning_rate, batch_size, epochs, kappa, intermediate_dim, latent_dim, epsilon_std, base_dir, analysis_name)\\npca.pca_model(base_dir, analysis_name, num_PCs)\\n\\n\\n# Define offset vectors in gene space\\ndata_dir = os.path.join(base_dirs[0], analysis_name)\\ntarget_gene = geneA\\npercent_low = 5\\npercent_high = 95\\n\\ndef_offset.gene_space_offset(data_dir, target_gene, percent_low, percent_high)\\n\\n\\n# Define offset vectors for different latent spaces\\nmodel_dir = os.path.join(base_dirs[2], analysis_name)\\nencoded_dir = os.path.join(base_dirs[1], analysis_name)\\n\\ndef_offset.vae_latent_space_offset(data_dir, model_dir, encoded_dir, target_gene, percent_low, percent_high)\\ndef_offset.pca_latent_space_offset(data_dir, model_dir, encoded_dir, target_gene, percent_low, percent_high)\\n\\n\\n# Predict gene expression using offset in gene space and latent space\\nout_dir = os.path.join(base_dirs[3], analysis_name)\\n\\ninterpolate.interpolate_in_gene_space(data_dir, target_gene, out_dir, percent_low, percent_high)\\ninterpolate.interpolate_in_vae_latent_space(data_dir, model_dir, encoded_dir, target_gene, out_dir, percent_low, percent_high)\\ninterpolate.interpolate_in_pca_latent_space(data_dir, model_dir, encoded_dir, target_gene, out_dir, percent_low, percent_high)\\n\\n\\n# Plot prediction per sample along gradient of PA1673 expression\\nviz_dir = os.path.join(base_dirs[5], analysis_name)\\nplot.plot_corr_gradient(out_dir, viz_dir)\\n'"
      ]
     },
     "execution_count": 20,
     "metadata": {},
     "output_type": "execute_result"
    }
   ],
   "source": [
    "%time\n",
    "\n",
    "# Train models on input dataset\n",
    "\n",
    "# params\n",
    "learning_rate = 0.001\n",
    "batch_size = 100\n",
    "epochs = 200\n",
    "kappa = 0.01\n",
    "intermediate_dim = 100\n",
    "latent_dim = 10\n",
    "epsilon_std = 1.0\n",
    "num_PCs = latent_dim\n",
    "\n",
    "base_dir = os.path.dirname(os.getcwd())\n",
    "vae.tybalt_2layer_model(learning_rate, batch_size, epochs, kappa, intermediate_dim,\n",
    "                        latent_dim, epsilon_std, base_dir, analysis_name)\n",
    "pca.pca_model(base_dir, analysis_name, num_PCs)\n",
    "\n",
    "\n",
    "# Define offset vectors in gene space\n",
    "data_dir = os.path.join(base_dirs[0], analysis_name)\n",
    "target_gene = geneA\n",
    "percent_low = 5\n",
    "percent_high = 95\n",
    "\n",
    "def_offset.gene_space_offset(data_dir, target_gene, percent_low, percent_high)\n",
    "\n",
    "\n",
    "# Define offset vectors for different latent spaces\n",
    "model_dir = os.path.join(base_dirs[2], analysis_name)\n",
    "encoded_dir = os.path.join(base_dirs[1], analysis_name)\n",
    "\n",
    "def_offset.vae_latent_space_offset(data_dir, model_dir, encoded_dir, target_gene, percent_low, percent_high)\n",
    "def_offset.pca_latent_space_offset(data_dir, model_dir, encoded_dir, target_gene, percent_low, percent_high)\n",
    "\n",
    "\n",
    "# Predict gene expression using offset in gene space and latent space\n",
    "out_dir = os.path.join(base_dirs[3], analysis_name)\n",
    "\n",
    "interpolate.interpolate_in_gene_space(data_dir, target_gene, out_dir, percent_low, percent_high)\n",
    "interpolate.interpolate_in_vae_latent_space(data_dir, model_dir, encoded_dir, target_gene, out_dir, percent_low, percent_high)\n",
    "interpolate.interpolate_in_pca_latent_space(data_dir, model_dir, encoded_dir, target_gene, out_dir, percent_low, percent_high)\n",
    "\n",
    "\n",
    "# Plot prediction per sample along gradient of PA1673 expression\n",
    "viz_dir = os.path.join(base_dirs[5], analysis_name)\n",
    "plot.plot_corr_gradient(out_dir, viz_dir)\n"
   ]
  }
 ],
 "metadata": {
  "kernelspec": {
   "display_name": "Python [conda env:Pa]",
   "language": "python",
   "name": "conda-env-Pa-py"
  },
  "language_info": {
   "codemirror_mode": {
    "name": "ipython",
    "version": 3
   },
   "file_extension": ".py",
   "mimetype": "text/x-python",
   "name": "python",
   "nbconvert_exporter": "python",
   "pygments_lexer": "ipython3",
   "version": "3.5.5"
  }
 },
 "nbformat": 4,
 "nbformat_minor": 2
}
