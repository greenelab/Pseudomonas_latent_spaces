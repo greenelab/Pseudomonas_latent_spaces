{
 "cells": [
  {
   "cell_type": "code",
   "execution_count": 1,
   "metadata": {},
   "outputs": [
    {
     "name": "stderr",
     "output_type": "stream",
     "text": [
      "Using TensorFlow backend.\n"
     ]
    }
   ],
   "source": [
    "#-------------------------------------------------------------------------------------------------------------------------------\n",
    "# By Alexandra Lee (July 2018) \n",
    "#\n",
    "# Apply saved model to new samples including:\n",
    "#\n",
    "# Encode samples from new condition using saved model\n",
    "# Encode test set using saved model\n",
    "# Decode estimated gene experssion after LSA\n",
    "#-------------------------------------------------------------------------------------------------------------------------------\n",
    "import os\n",
    "import pandas as pd\n",
    "import numpy as np\n",
    "from keras.models import model_from_json, load_model\n",
    "from keras import metrics, optimizers\n",
    "\n",
    "randomState = 123\n",
    "from numpy.random import seed\n",
    "seed(randomState)"
   ]
  },
  {
   "cell_type": "code",
   "execution_count": 2,
   "metadata": {},
   "outputs": [],
   "source": [
    "# load arguments\n",
    "input_file = os.path.join(os.path.dirname(os.getcwd()), \"encoded\",\"oxygen_level\", \"estimated_test_t90_2layer_10latent_encoded.txt\")\n",
    "model_file = os.path.join(os.path.dirname(os.getcwd()), \"models\", \"oxygen_level\", \"tybalt_2layer_10latent_decoder_model.h5\")\n",
    "weights_file = os.path.join(os.path.dirname(os.getcwd()), \"models\", \"oxygen_level\", \"tybalt_2layer_10latent_decoder_weights.h5\")\n",
    "\n",
    "# output files\n",
    "out_file = os.path.join(os.path.dirname(os.getcwd()), \"output\", \"oxygen_level\", \"esimated_test_t90_2layer_10latent.txt\")"
   ]
  },
  {
   "cell_type": "code",
   "execution_count": 3,
   "metadata": {},
   "outputs": [
    {
     "data": {
      "text/html": [
       "<div>\n",
       "<style scoped>\n",
       "    .dataframe tbody tr th:only-of-type {\n",
       "        vertical-align: middle;\n",
       "    }\n",
       "\n",
       "    .dataframe tbody tr th {\n",
       "        vertical-align: top;\n",
       "    }\n",
       "\n",
       "    .dataframe thead th {\n",
       "        text-align: right;\n",
       "    }\n",
       "</style>\n",
       "<table border=\"1\" class=\"dataframe\">\n",
       "  <thead>\n",
       "    <tr style=\"text-align: right;\">\n",
       "      <th></th>\n",
       "      <th>0</th>\n",
       "      <th>1</th>\n",
       "      <th>2</th>\n",
       "      <th>3</th>\n",
       "      <th>4</th>\n",
       "      <th>5</th>\n",
       "      <th>6</th>\n",
       "      <th>7</th>\n",
       "      <th>8</th>\n",
       "      <th>9</th>\n",
       "    </tr>\n",
       "  </thead>\n",
       "  <tbody>\n",
       "    <tr>\n",
       "      <th>GSM1267087_HZI1950_Pae_G1a.CEL</th>\n",
       "      <td>0.0</td>\n",
       "      <td>2.8105</td>\n",
       "      <td>2.933027</td>\n",
       "      <td>1.275784</td>\n",
       "      <td>4.812092</td>\n",
       "      <td>0.0</td>\n",
       "      <td>2.047977</td>\n",
       "      <td>5.385044</td>\n",
       "      <td>4.673862</td>\n",
       "      <td>7.561147</td>\n",
       "    </tr>\n",
       "  </tbody>\n",
       "</table>\n",
       "</div>"
      ],
      "text/plain": [
       "                                  0       1         2         3         4  \\\n",
       "GSM1267087_HZI1950_Pae_G1a.CEL  0.0  2.8105  2.933027  1.275784  4.812092   \n",
       "\n",
       "                                  5         6         7         8         9  \n",
       "GSM1267087_HZI1950_Pae_G1a.CEL  0.0  2.047977  5.385044  4.673862  7.561147  "
      ]
     },
     "execution_count": 3,
     "metadata": {},
     "output_type": "execute_result"
    }
   ],
   "source": [
    "# read in data\n",
    "data = pd.read_table(input_file, header = 0, sep = '\\t', index_col = 0)\n",
    "data"
   ]
  },
  {
   "cell_type": "code",
   "execution_count": 4,
   "metadata": {},
   "outputs": [
    {
     "name": "stderr",
     "output_type": "stream",
     "text": [
      "/home/alexandra/anaconda3/envs/Pa/lib/python3.5/site-packages/keras/models.py:255: UserWarning: No training configuration found in save file: the model was *not* compiled. Compile it manually.\n",
      "  warnings.warn('No training configuration found in save file: '\n"
     ]
    }
   ],
   "source": [
    "# read in saved models\n",
    "\n",
    "loaded_model = load_model(model_file)\n",
    "# load weights into new model\n",
    "loaded_model.load_weights(weights_file)"
   ]
  },
  {
   "cell_type": "code",
   "execution_count": 5,
   "metadata": {},
   "outputs": [
    {
     "data": {
      "text/html": [
       "<div>\n",
       "<style scoped>\n",
       "    .dataframe tbody tr th:only-of-type {\n",
       "        vertical-align: middle;\n",
       "    }\n",
       "\n",
       "    .dataframe tbody tr th {\n",
       "        vertical-align: top;\n",
       "    }\n",
       "\n",
       "    .dataframe thead th {\n",
       "        text-align: right;\n",
       "    }\n",
       "</style>\n",
       "<table border=\"1\" class=\"dataframe\">\n",
       "  <thead>\n",
       "    <tr style=\"text-align: right;\">\n",
       "      <th></th>\n",
       "      <th>0</th>\n",
       "      <th>1</th>\n",
       "      <th>2</th>\n",
       "      <th>3</th>\n",
       "      <th>4</th>\n",
       "      <th>5</th>\n",
       "      <th>6</th>\n",
       "      <th>7</th>\n",
       "      <th>8</th>\n",
       "      <th>9</th>\n",
       "      <th>...</th>\n",
       "      <th>5539</th>\n",
       "      <th>5540</th>\n",
       "      <th>5541</th>\n",
       "      <th>5542</th>\n",
       "      <th>5543</th>\n",
       "      <th>5544</th>\n",
       "      <th>5545</th>\n",
       "      <th>5546</th>\n",
       "      <th>5547</th>\n",
       "      <th>5548</th>\n",
       "    </tr>\n",
       "  </thead>\n",
       "  <tbody>\n",
       "    <tr>\n",
       "      <th>GSM1267087_HZI1950_Pae_G1a.CEL</th>\n",
       "      <td>0.686177</td>\n",
       "      <td>0.72357</td>\n",
       "      <td>0.437746</td>\n",
       "      <td>0.67743</td>\n",
       "      <td>0.439992</td>\n",
       "      <td>0.364563</td>\n",
       "      <td>0.50503</td>\n",
       "      <td>0.587372</td>\n",
       "      <td>0.641727</td>\n",
       "      <td>0.192211</td>\n",
       "      <td>...</td>\n",
       "      <td>0.35716</td>\n",
       "      <td>0.543123</td>\n",
       "      <td>0.601631</td>\n",
       "      <td>0.641289</td>\n",
       "      <td>0.669666</td>\n",
       "      <td>0.16932</td>\n",
       "      <td>0.427658</td>\n",
       "      <td>0.584807</td>\n",
       "      <td>0.765351</td>\n",
       "      <td>0.728943</td>\n",
       "    </tr>\n",
       "  </tbody>\n",
       "</table>\n",
       "<p>1 rows × 5549 columns</p>\n",
       "</div>"
      ],
      "text/plain": [
       "                                    0        1         2        3     \\\n",
       "GSM1267087_HZI1950_Pae_G1a.CEL  0.686177  0.72357  0.437746  0.67743   \n",
       "\n",
       "                                    4         5        6         7     \\\n",
       "GSM1267087_HZI1950_Pae_G1a.CEL  0.439992  0.364563  0.50503  0.587372   \n",
       "\n",
       "                                    8         9       ...        5539  \\\n",
       "GSM1267087_HZI1950_Pae_G1a.CEL  0.641727  0.192211    ...     0.35716   \n",
       "\n",
       "                                    5540      5541      5542      5543  \\\n",
       "GSM1267087_HZI1950_Pae_G1a.CEL  0.543123  0.601631  0.641289  0.669666   \n",
       "\n",
       "                                   5544      5545      5546      5547  \\\n",
       "GSM1267087_HZI1950_Pae_G1a.CEL  0.16932  0.427658  0.584807  0.765351   \n",
       "\n",
       "                                    5548  \n",
       "GSM1267087_HZI1950_Pae_G1a.CEL  0.728943  \n",
       "\n",
       "[1 rows x 5549 columns]"
      ]
     },
     "execution_count": 5,
     "metadata": {},
     "output_type": "execute_result"
    }
   ],
   "source": [
    "# Use trained model to encode new data into SAME latent space\n",
    "reconstructed = loaded_model.predict_on_batch(data)\n",
    "\n",
    "reconstructed_df = pd.DataFrame(reconstructed, index=data.index)\n",
    "reconstructed_df"
   ]
  },
  {
   "cell_type": "code",
   "execution_count": 6,
   "metadata": {},
   "outputs": [],
   "source": [
    "# Save latent space representation\n",
    "reconstructed_df.to_csv(out_file, sep='\\t')"
   ]
  }
 ],
 "metadata": {
  "kernelspec": {
   "display_name": "Python [default]",
   "language": "python",
   "name": "python3"
  },
  "language_info": {
   "codemirror_mode": {
    "name": "ipython",
    "version": 3
   },
   "file_extension": ".py",
   "mimetype": "text/x-python",
   "name": "python",
   "nbconvert_exporter": "python",
   "pygments_lexer": "ipython3",
   "version": "3.5.5"
  }
 },
 "nbformat": 4,
 "nbformat_minor": 2
}
