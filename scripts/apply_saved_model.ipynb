{
 "cells": [
  {
   "cell_type": "code",
   "execution_count": 1,
   "metadata": {},
   "outputs": [
    {
     "name": "stderr",
     "output_type": "stream",
     "text": [
      "Using TensorFlow backend.\n"
     ]
    }
   ],
   "source": [
    "#-------------------------------------------------------------------------------------------------------------------------------\n",
    "# By Alexandra Lee (July 2018) \n",
    "#\n",
    "# Apply saved model to new samples including:\n",
    "#\n",
    "# Encode samples from new condition using saved model\n",
    "# Encode test set using saved model\n",
    "# Decode estimated gene experssion after LSA\n",
    "#-------------------------------------------------------------------------------------------------------------------------------\n",
    "import os\n",
    "import pandas as pd\n",
    "import numpy as np\n",
    "from keras.models import model_from_json\n",
    "from keras import metrics, optimizers\n",
    "np.random.seed(123)"
   ]
  },
  {
   "cell_type": "code",
   "execution_count": 2,
   "metadata": {},
   "outputs": [],
   "source": [
    "# load arguments\n",
    "new_data_file = os.path.join(os.path.dirname(os.getcwd()), \"estimated_geneExp\", \"estimated_test_B.txt\")\n",
    "latent = True\n",
    "\n",
    "# output files\n",
    "out_file = os.path.join(os.path.dirname(os.getcwd()), \"estimated_geneExp\", \"decoded_test_B.txt\")\n",
    "model_file = os.path.join(os.path.dirname(os.getcwd()), \"models\", \"tybalt_1layer_10_trainA_decoder_model.json\")\n",
    "weights_file = os.path.join(os.path.dirname(os.getcwd()), \"models\", \"tybalt_1layer_10_trainA_decoder_weights.h5\")"
   ]
  },
  {
   "cell_type": "code",
   "execution_count": 3,
   "metadata": {},
   "outputs": [
    {
     "data": {
      "text/html": [
       "<div>\n",
       "<style scoped>\n",
       "    .dataframe tbody tr th:only-of-type {\n",
       "        vertical-align: middle;\n",
       "    }\n",
       "\n",
       "    .dataframe tbody tr th {\n",
       "        vertical-align: top;\n",
       "    }\n",
       "\n",
       "    .dataframe thead th {\n",
       "        text-align: right;\n",
       "    }\n",
       "</style>\n",
       "<table border=\"1\" class=\"dataframe\">\n",
       "  <thead>\n",
       "    <tr style=\"text-align: right;\">\n",
       "      <th></th>\n",
       "      <th>0</th>\n",
       "      <th>1</th>\n",
       "      <th>2</th>\n",
       "      <th>3</th>\n",
       "      <th>4</th>\n",
       "      <th>5</th>\n",
       "      <th>6</th>\n",
       "      <th>7</th>\n",
       "      <th>8</th>\n",
       "      <th>9</th>\n",
       "    </tr>\n",
       "  </thead>\n",
       "  <tbody>\n",
       "    <tr>\n",
       "      <th>GSM767703.CEL</th>\n",
       "      <td>0.000006</td>\n",
       "      <td>-0.138464</td>\n",
       "      <td>0.572442</td>\n",
       "      <td>0.391148</td>\n",
       "      <td>0.0</td>\n",
       "      <td>0.000006</td>\n",
       "      <td>0.0</td>\n",
       "      <td>1.499966</td>\n",
       "      <td>9.536743e-07</td>\n",
       "      <td>0.000005</td>\n",
       "    </tr>\n",
       "  </tbody>\n",
       "</table>\n",
       "</div>"
      ],
      "text/plain": [
       "                      0         1         2         3    4         5    6  \\\n",
       "GSM767703.CEL  0.000006 -0.138464  0.572442  0.391148  0.0  0.000006  0.0   \n",
       "\n",
       "                      7             8         9  \n",
       "GSM767703.CEL  1.499966  9.536743e-07  0.000005  "
      ]
     },
     "execution_count": 3,
     "metadata": {},
     "output_type": "execute_result"
    }
   ],
   "source": [
    "# read in data\n",
    "if latent:\n",
    "    new_data = pd.read_table(new_data_file, header = 0, sep = '\\t', index_col = 0).transpose()\n",
    "else:\n",
    "    new_data = pd.read_table(new_data_file, header = 0, sep = '\\t', index_col = 0)\n",
    "new_data.head(5)"
   ]
  },
  {
   "cell_type": "code",
   "execution_count": 4,
   "metadata": {},
   "outputs": [],
   "source": [
    "# read in saved models\n",
    "\n",
    "# load json and create model\n",
    "json_file = open(model_file, 'r')\n",
    "loaded_model_json = json_file.read()\n",
    "json_file.close()\n",
    "loaded_model = model_from_json(loaded_model_json)\n",
    "                 \n",
    "# load weights into new model\n",
    "loaded_model.load_weights(weights_file)"
   ]
  },
  {
   "cell_type": "code",
   "execution_count": 5,
   "metadata": {},
   "outputs": [],
   "source": [
    "# Use trained model to encode new data into SAME latent space\n",
    "new_reconstructed = loaded_model.predict_on_batch(new_data)\n",
    "new_reconstructed_df = pd.DataFrame(new_reconstructed, index=new_data.index)"
   ]
  },
  {
   "cell_type": "code",
   "execution_count": 6,
   "metadata": {},
   "outputs": [],
   "source": [
    "# Save latent space representation\n",
    "new_reconstructed_df.to_csv(out_file, sep='\\t')"
   ]
  }
 ],
 "metadata": {
  "kernelspec": {
   "display_name": "Python 3",
   "language": "python",
   "name": "python3"
  },
  "language_info": {
   "codemirror_mode": {
    "name": "ipython",
    "version": 3
   },
   "file_extension": ".py",
   "mimetype": "text/x-python",
   "name": "python",
   "nbconvert_exporter": "python",
   "pygments_lexer": "ipython3",
   "version": "3.5.5"
  }
 },
 "nbformat": 4,
 "nbformat_minor": 2
}
