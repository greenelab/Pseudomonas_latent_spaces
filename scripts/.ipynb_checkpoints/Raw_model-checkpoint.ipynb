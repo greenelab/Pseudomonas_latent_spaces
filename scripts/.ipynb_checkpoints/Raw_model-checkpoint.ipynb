{
 "cells": [
  {
   "cell_type": "code",
   "execution_count": 1,
   "metadata": {},
   "outputs": [],
   "source": [
    "%matplotlib inline"
   ]
  },
  {
   "cell_type": "code",
   "execution_count": 2,
   "metadata": {},
   "outputs": [],
   "source": [
    "#-------------------------------------------------------------------------------------------------------------------------------\n",
    "# Plot raw data (without any compression transformations applied) using t-SNE  \n",
    "#-------------------------------------------------------------------------------------------------------------------------------\n",
    "from sklearn.manifold import TSNE\n",
    "import pandas as pd\n",
    "import matplotlib.pyplot as plt\n",
    "import seaborn as sns\n",
    "import numpy as np\n",
    "np.random.seed(123)"
   ]
  },
  {
   "cell_type": "code",
   "execution_count": 12,
   "metadata": {
    "collapsed": true
   },
   "outputs": [],
   "source": [
    "# load arguments\n",
    "data_file = 'C:/Users/alexj/Documents/UPenn/CGreene/Pseudomonas/data/all-pseudomonas-gene.pcl'\n",
    "map_file = 'C:/Users/alexj/Documents/UPenn/CGreene/Pseudomonas/metadata/mapping_sampleID_medium.txt'"
   ]
  },
  {
   "cell_type": "code",
   "execution_count": 13,
   "metadata": {},
   "outputs": [
    {
     "data": {
      "text/html": [
       "<div>\n",
       "<style>\n",
       "    .dataframe thead tr:only-child th {\n",
       "        text-align: right;\n",
       "    }\n",
       "\n",
       "    .dataframe thead th {\n",
       "        text-align: left;\n",
       "    }\n",
       "\n",
       "    .dataframe tbody tr th {\n",
       "        vertical-align: top;\n",
       "    }\n",
       "</style>\n",
       "<table border=\"1\" class=\"dataframe\">\n",
       "  <thead>\n",
       "    <tr style=\"text-align: right;\">\n",
       "      <th></th>\n",
       "      <th>PA0001</th>\n",
       "      <th>PA0002</th>\n",
       "      <th>PA0003</th>\n",
       "      <th>PA0004</th>\n",
       "      <th>PA0005</th>\n",
       "      <th>PA0006</th>\n",
       "      <th>PA0007</th>\n",
       "      <th>PA0008</th>\n",
       "      <th>PA0009</th>\n",
       "      <th>PA0010</th>\n",
       "      <th>...</th>\n",
       "      <th>PA5561</th>\n",
       "      <th>PA5562</th>\n",
       "      <th>PA5563</th>\n",
       "      <th>PA5564</th>\n",
       "      <th>PA5565</th>\n",
       "      <th>PA5566</th>\n",
       "      <th>PA5567</th>\n",
       "      <th>PA5568</th>\n",
       "      <th>PA5569</th>\n",
       "      <th>PA5570</th>\n",
       "    </tr>\n",
       "  </thead>\n",
       "  <tbody>\n",
       "    <tr>\n",
       "      <th>0.1_12hr_CSV86(Pae_G1a).CEL</th>\n",
       "      <td>7.838544</td>\n",
       "      <td>8.497065</td>\n",
       "      <td>7.307553</td>\n",
       "      <td>5.702930</td>\n",
       "      <td>5.916741</td>\n",
       "      <td>8.063651</td>\n",
       "      <td>7.886661</td>\n",
       "      <td>7.727567</td>\n",
       "      <td>6.892924</td>\n",
       "      <td>7.342850</td>\n",
       "      <td>...</td>\n",
       "      <td>7.072203</td>\n",
       "      <td>7.999211</td>\n",
       "      <td>8.198070</td>\n",
       "      <td>9.263671</td>\n",
       "      <td>7.543691</td>\n",
       "      <td>7.660837</td>\n",
       "      <td>7.939869</td>\n",
       "      <td>8.036795</td>\n",
       "      <td>7.422011</td>\n",
       "      <td>6.363520</td>\n",
       "    </tr>\n",
       "    <tr>\n",
       "      <th>0.1_2hr_CSV86(Pae_G1a).CEL</th>\n",
       "      <td>6.875033</td>\n",
       "      <td>6.776369</td>\n",
       "      <td>7.817901</td>\n",
       "      <td>7.785099</td>\n",
       "      <td>6.341328</td>\n",
       "      <td>8.819276</td>\n",
       "      <td>7.044294</td>\n",
       "      <td>6.209714</td>\n",
       "      <td>8.125990</td>\n",
       "      <td>6.579754</td>\n",
       "      <td>...</td>\n",
       "      <td>7.071695</td>\n",
       "      <td>8.125990</td>\n",
       "      <td>7.778503</td>\n",
       "      <td>8.144801</td>\n",
       "      <td>6.022443</td>\n",
       "      <td>7.066444</td>\n",
       "      <td>6.132326</td>\n",
       "      <td>7.254421</td>\n",
       "      <td>7.765065</td>\n",
       "      <td>6.449344</td>\n",
       "    </tr>\n",
       "    <tr>\n",
       "      <th>0.1_6hr_CSV86(Pae_G1a).CEL</th>\n",
       "      <td>7.842026</td>\n",
       "      <td>7.655701</td>\n",
       "      <td>7.677886</td>\n",
       "      <td>6.166077</td>\n",
       "      <td>6.871341</td>\n",
       "      <td>7.265597</td>\n",
       "      <td>7.113404</td>\n",
       "      <td>7.480186</td>\n",
       "      <td>6.930921</td>\n",
       "      <td>6.778917</td>\n",
       "      <td>...</td>\n",
       "      <td>6.098874</td>\n",
       "      <td>7.950371</td>\n",
       "      <td>6.434071</td>\n",
       "      <td>6.918956</td>\n",
       "      <td>6.844293</td>\n",
       "      <td>7.291937</td>\n",
       "      <td>7.427901</td>\n",
       "      <td>9.331491</td>\n",
       "      <td>7.098162</td>\n",
       "      <td>7.954667</td>\n",
       "    </tr>\n",
       "    <tr>\n",
       "      <th>0.1_7hr_CSV86(Pae_G1a).CEL</th>\n",
       "      <td>7.684676</td>\n",
       "      <td>8.201883</td>\n",
       "      <td>7.013697</td>\n",
       "      <td>7.005081</td>\n",
       "      <td>7.962038</td>\n",
       "      <td>8.061572</td>\n",
       "      <td>7.971468</td>\n",
       "      <td>7.638721</td>\n",
       "      <td>7.254758</td>\n",
       "      <td>4.959658</td>\n",
       "      <td>...</td>\n",
       "      <td>7.007845</td>\n",
       "      <td>6.760074</td>\n",
       "      <td>5.774510</td>\n",
       "      <td>7.288419</td>\n",
       "      <td>7.292321</td>\n",
       "      <td>7.118397</td>\n",
       "      <td>7.525591</td>\n",
       "      <td>7.329594</td>\n",
       "      <td>7.544611</td>\n",
       "      <td>7.192988</td>\n",
       "    </tr>\n",
       "    <tr>\n",
       "      <th>0.1_9hr_CSV86(Pae_G1a).CEL</th>\n",
       "      <td>6.685037</td>\n",
       "      <td>7.105100</td>\n",
       "      <td>8.192931</td>\n",
       "      <td>7.092900</td>\n",
       "      <td>7.989745</td>\n",
       "      <td>7.740668</td>\n",
       "      <td>8.214360</td>\n",
       "      <td>7.383215</td>\n",
       "      <td>6.933628</td>\n",
       "      <td>7.122736</td>\n",
       "      <td>...</td>\n",
       "      <td>6.410715</td>\n",
       "      <td>7.536854</td>\n",
       "      <td>5.792362</td>\n",
       "      <td>8.339486</td>\n",
       "      <td>6.536239</td>\n",
       "      <td>6.517288</td>\n",
       "      <td>6.991313</td>\n",
       "      <td>7.735386</td>\n",
       "      <td>7.375440</td>\n",
       "      <td>6.052557</td>\n",
       "    </tr>\n",
       "  </tbody>\n",
       "</table>\n",
       "<p>5 rows × 5549 columns</p>\n",
       "</div>"
      ],
      "text/plain": [
       "                               PA0001    PA0002    PA0003    PA0004    PA0005  \\\n",
       "0.1_12hr_CSV86(Pae_G1a).CEL  7.838544  8.497065  7.307553  5.702930  5.916741   \n",
       "0.1_2hr_CSV86(Pae_G1a).CEL   6.875033  6.776369  7.817901  7.785099  6.341328   \n",
       "0.1_6hr_CSV86(Pae_G1a).CEL   7.842026  7.655701  7.677886  6.166077  6.871341   \n",
       "0.1_7hr_CSV86(Pae_G1a).CEL   7.684676  8.201883  7.013697  7.005081  7.962038   \n",
       "0.1_9hr_CSV86(Pae_G1a).CEL   6.685037  7.105100  8.192931  7.092900  7.989745   \n",
       "\n",
       "                               PA0006    PA0007    PA0008    PA0009    PA0010  \\\n",
       "0.1_12hr_CSV86(Pae_G1a).CEL  8.063651  7.886661  7.727567  6.892924  7.342850   \n",
       "0.1_2hr_CSV86(Pae_G1a).CEL   8.819276  7.044294  6.209714  8.125990  6.579754   \n",
       "0.1_6hr_CSV86(Pae_G1a).CEL   7.265597  7.113404  7.480186  6.930921  6.778917   \n",
       "0.1_7hr_CSV86(Pae_G1a).CEL   8.061572  7.971468  7.638721  7.254758  4.959658   \n",
       "0.1_9hr_CSV86(Pae_G1a).CEL   7.740668  8.214360  7.383215  6.933628  7.122736   \n",
       "\n",
       "                               ...       PA5561    PA5562    PA5563    PA5564  \\\n",
       "0.1_12hr_CSV86(Pae_G1a).CEL    ...     7.072203  7.999211  8.198070  9.263671   \n",
       "0.1_2hr_CSV86(Pae_G1a).CEL     ...     7.071695  8.125990  7.778503  8.144801   \n",
       "0.1_6hr_CSV86(Pae_G1a).CEL     ...     6.098874  7.950371  6.434071  6.918956   \n",
       "0.1_7hr_CSV86(Pae_G1a).CEL     ...     7.007845  6.760074  5.774510  7.288419   \n",
       "0.1_9hr_CSV86(Pae_G1a).CEL     ...     6.410715  7.536854  5.792362  8.339486   \n",
       "\n",
       "                               PA5565    PA5566    PA5567    PA5568    PA5569  \\\n",
       "0.1_12hr_CSV86(Pae_G1a).CEL  7.543691  7.660837  7.939869  8.036795  7.422011   \n",
       "0.1_2hr_CSV86(Pae_G1a).CEL   6.022443  7.066444  6.132326  7.254421  7.765065   \n",
       "0.1_6hr_CSV86(Pae_G1a).CEL   6.844293  7.291937  7.427901  9.331491  7.098162   \n",
       "0.1_7hr_CSV86(Pae_G1a).CEL   7.292321  7.118397  7.525591  7.329594  7.544611   \n",
       "0.1_9hr_CSV86(Pae_G1a).CEL   6.536239  6.517288  6.991313  7.735386  7.375440   \n",
       "\n",
       "                               PA5570  \n",
       "0.1_12hr_CSV86(Pae_G1a).CEL  6.363520  \n",
       "0.1_2hr_CSV86(Pae_G1a).CEL   6.449344  \n",
       "0.1_6hr_CSV86(Pae_G1a).CEL   7.954667  \n",
       "0.1_7hr_CSV86(Pae_G1a).CEL   7.192988  \n",
       "0.1_9hr_CSV86(Pae_G1a).CEL   6.052557  \n",
       "\n",
       "[5 rows x 5549 columns]"
      ]
     },
     "execution_count": 13,
     "metadata": {},
     "output_type": "execute_result"
    }
   ],
   "source": [
    "# read in data\n",
    "data = pd.read_table(data_file, header = 0, sep = '\\t', index_col = 0)\n",
    "data = pd.DataFrame(data)\n",
    "X = data.transpose()\n",
    "X.head(5)"
   ]
  },
  {
   "cell_type": "code",
   "execution_count": 17,
   "metadata": {},
   "outputs": [
    {
     "data": {
      "text/plain": [
       "(array([  22.,   61.,   51.,   53.,   95.,  137.,  259.,  306.,  163.,   44.]),\n",
       " array([  5.31568935,   6.03748621,   6.75928306,   7.48107991,\n",
       "          8.20287677,   8.92467362,   9.64647047,  10.36826732,\n",
       "         11.09006418,  11.81186103,  12.53365788]),\n",
       " <a list of 10 Patch objects>)"
      ]
     },
     "execution_count": 17,
     "metadata": {},
     "output_type": "execute_result"
    },
    {
     "data": {
      "image/png": "[encoded data removed]",
      "text/plain": [
       "<matplotlib.figure.Figure at 0x13e5aa20>"
      ]
     },
     "metadata": {},
     "output_type": "display_data"
    }
   ],
   "source": [
    "# Test plotting\n",
    "plt.hist(X['PA5570'])"
   ]
  },
  {
   "cell_type": "code",
   "execution_count": 5,
   "metadata": {},
   "outputs": [
    {
     "data": {
      "text/plain": [
       "array([[ 10.40016778,   2.57752228],\n",
       "       [ 11.51376764,   1.02143245],\n",
       "       [ 11.78602465,   1.23401965],\n",
       "       ..., \n",
       "       [ -3.30975706,  11.29352822],\n",
       "       [-12.56763948,  -0.54164726],\n",
       "       [-12.57514335,  -0.52908116]])"
      ]
     },
     "execution_count": 5,
     "metadata": {},
     "output_type": "execute_result"
    }
   ],
   "source": [
    "# tSNE raw data in original (all) feature space\n",
    "tsne = TSNE(n_components=2, init='pca', random_state=123, perplexity=30, learning_rate=300, n_iter=400)\n",
    "tsne_X = tsne.fit_transform(X)\n",
    "tsne_X"
   ]
  },
  {
   "cell_type": "code",
   "execution_count": 6,
   "metadata": {},
   "outputs": [
    {
     "data": {
      "text/html": [
       "<div>\n",
       "<style>\n",
       "    .dataframe thead tr:only-child th {\n",
       "        text-align: right;\n",
       "    }\n",
       "\n",
       "    .dataframe thead th {\n",
       "        text-align: left;\n",
       "    }\n",
       "\n",
       "    .dataframe tbody tr th {\n",
       "        vertical-align: top;\n",
       "    }\n",
       "</style>\n",
       "<table border=\"1\" class=\"dataframe\">\n",
       "  <thead>\n",
       "    <tr style=\"text-align: right;\">\n",
       "      <th></th>\n",
       "      <th>tsne1</th>\n",
       "      <th>tsne2</th>\n",
       "      <th>medium</th>\n",
       "    </tr>\n",
       "  </thead>\n",
       "  <tbody>\n",
       "    <tr>\n",
       "      <th>0.1_12hr_CSV86(Pae_G1a).CEL</th>\n",
       "      <td>10.400168</td>\n",
       "      <td>2.577522</td>\n",
       "      <td>Mineral salt medium (MSM)</td>\n",
       "    </tr>\n",
       "    <tr>\n",
       "      <th>0.1_2hr_CSV86(Pae_G1a).CEL</th>\n",
       "      <td>11.513768</td>\n",
       "      <td>1.021432</td>\n",
       "      <td>Mineral salt medium (MSM)</td>\n",
       "    </tr>\n",
       "    <tr>\n",
       "      <th>0.1_6hr_CSV86(Pae_G1a).CEL</th>\n",
       "      <td>11.786025</td>\n",
       "      <td>1.234020</td>\n",
       "      <td>Mineral salt medium (MSM)</td>\n",
       "    </tr>\n",
       "    <tr>\n",
       "      <th>0.1_7hr_CSV86(Pae_G1a).CEL</th>\n",
       "      <td>12.043608</td>\n",
       "      <td>0.684684</td>\n",
       "      <td>Mineral salt medium (MSM)</td>\n",
       "    </tr>\n",
       "    <tr>\n",
       "      <th>0.1_9hr_CSV86(Pae_G1a).CEL</th>\n",
       "      <td>10.847805</td>\n",
       "      <td>1.703522</td>\n",
       "      <td>Mineral salt medium (MSM)</td>\n",
       "    </tr>\n",
       "  </tbody>\n",
       "</table>\n",
       "</div>"
      ],
      "text/plain": [
       "                                 tsne1     tsne2                      medium\n",
       "0.1_12hr_CSV86(Pae_G1a).CEL  10.400168  2.577522  Mineral salt medium (MSM) \n",
       "0.1_2hr_CSV86(Pae_G1a).CEL   11.513768  1.021432  Mineral salt medium (MSM) \n",
       "0.1_6hr_CSV86(Pae_G1a).CEL   11.786025  1.234020  Mineral salt medium (MSM) \n",
       "0.1_7hr_CSV86(Pae_G1a).CEL   12.043608  0.684684  Mineral salt medium (MSM) \n",
       "0.1_9hr_CSV86(Pae_G1a).CEL   10.847805  1.703522  Mineral salt medium (MSM) "
      ]
     },
     "execution_count": 6,
     "metadata": {},
     "output_type": "execute_result"
    }
   ],
   "source": [
    "# Map sample id to clinial phenotype (i.e. experimental condition)\n",
    "\n",
    "# According to the source, you input will be transformed by np.array() before doing PCA. So you will lose the row index during \n",
    "# PCA.fit_transform(X) even you use a structured array or a pandas DataFrame. However, the order of your data is preserved, \n",
    "# meaning you can attach the index back if you want\n",
    "X_ann = pd.DataFrame(tsne_X, index=X.index, columns=['tsne1', 'tsne2'])\n",
    "\n",
    "# read in mapping file (sample id -- phenotype)\n",
    "map = pd.read_table(map_file, header = 0, sep = '\\t', index_col = 0)\n",
    "\n",
    "# Join \n",
    "X_new = pd.merge(X_ann, map, left_index=True, right_index=True)\n",
    "X_new.head(5)"
   ]
  },
  {
   "cell_type": "code",
   "execution_count": 7,
   "metadata": {},
   "outputs": [
    {
     "data": {
      "image/png": "[encoded data removed]",
      "text/plain": [
       "<matplotlib.figure.Figure at 0xdcc1b70>"
      ]
     },
     "metadata": {},
     "output_type": "display_data"
    }
   ],
   "source": [
    "# Plot\n",
    "# Note: t-SNE has a cost function that is not convex, i.e. with different initializations we can get different results.\n",
    "\n",
    "fg = sns.FacetGrid(data=X_new, hue='medium', aspect=1.61)\n",
    "fg.map(plt.scatter, 'tsne1', 'tsne2')\n",
    "#fg.add_legend()\n",
    "#legend_file = 'C:/Users/alexj/Documents/UPenn/CGreene/Pseudomonas/output/all_dim_legend.png'\n",
    "fig_file = 'C:/Users/alexj/Documents/UPenn/CGreene/Pseudomonas/output/all_dim.png'\n",
    "fg.savefig(fig_file)\n",
    "#fg.savefig(legend_file)"
   ]
  }
 ],
 "metadata": {
  "kernelspec": {
   "display_name": "Python 3",
   "language": "python",
   "name": "python3"
  },
  "language_info": {
   "codemirror_mode": {
    "name": "ipython",
    "version": 3
   },
   "file_extension": ".py",
   "mimetype": "text/x-python",
   "name": "python",
   "nbconvert_exporter": "python",
   "pygments_lexer": "ipython3",
   "version": "3.5.5"
  }
 },
 "nbformat": 4,
 "nbformat_minor": 2
}
