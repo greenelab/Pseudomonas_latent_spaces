{
 "cells": [
  {
   "cell_type": "code",
   "execution_count": 1,
   "metadata": {},
   "outputs": [],
   "source": [
    "%matplotlib inline"
   ]
  },
  {
   "cell_type": "code",
   "execution_count": 2,
   "metadata": {},
   "outputs": [],
   "source": [
    "#-------------------------------------------------------------------------------------------------------------------------------\n",
    "# Visualize tybalt encoded data using tsne\n",
    "#-------------------------------------------------------------------------------------------------------------------------------\n",
    "from sklearn.manifold import TSNE\n",
    "#from sklearn import preprocessing\n",
    "import pandas as pd\n",
    "import matplotlib.pyplot as plt\n",
    "import seaborn as sns\n",
    "import numpy as np\n",
    "np.random.seed(123)"
   ]
  },
  {
   "cell_type": "code",
   "execution_count": 3,
   "metadata": {},
   "outputs": [],
   "source": [
    "# load arguments\n",
    "file_name = 'eADAGE_300node_seed1'\n",
    "encoded_data_file = 'C:/Users/alexj/Documents/UPenn/CGreene/Pseudomonas/models/'+file_name+'.txt'\n",
    "#encoded_data_file = 'C:/Users/alexj/Documents/UPenn/CGreene/Pseudomonas/output/eADAGE_activity.txt'\n",
    "map_file = 'C:/Users/alexj/Documents/UPenn/CGreene/Pseudomonas/metadata/mapping_sampleID_medium.txt'\n",
    "viz = 'tsne'"
   ]
  },
  {
   "cell_type": "code",
   "execution_count": 4,
   "metadata": {},
   "outputs": [
    {
     "data": {
      "text/html": [
       "<div>\n",
       "<style scoped>\n",
       "    .dataframe tbody tr th:only-of-type {\n",
       "        vertical-align: middle;\n",
       "    }\n",
       "\n",
       "    .dataframe tbody tr th {\n",
       "        vertical-align: top;\n",
       "    }\n",
       "\n",
       "    .dataframe thead th {\n",
       "        text-align: right;\n",
       "    }\n",
       "</style>\n",
       "<table border=\"1\" class=\"dataframe\">\n",
       "  <thead>\n",
       "    <tr style=\"text-align: right;\">\n",
       "      <th></th>\n",
       "      <th>0</th>\n",
       "      <th>1</th>\n",
       "      <th>2</th>\n",
       "      <th>3</th>\n",
       "      <th>4</th>\n",
       "      <th>5</th>\n",
       "      <th>6</th>\n",
       "      <th>7</th>\n",
       "      <th>8</th>\n",
       "      <th>9</th>\n",
       "      <th>...</th>\n",
       "      <th>290</th>\n",
       "      <th>291</th>\n",
       "      <th>292</th>\n",
       "      <th>293</th>\n",
       "      <th>294</th>\n",
       "      <th>295</th>\n",
       "      <th>296</th>\n",
       "      <th>297</th>\n",
       "      <th>298</th>\n",
       "      <th>299</th>\n",
       "    </tr>\n",
       "  </thead>\n",
       "  <tbody>\n",
       "    <tr>\n",
       "      <th>0</th>\n",
       "      <td>0.056912</td>\n",
       "      <td>-0.000023</td>\n",
       "      <td>-0.001048</td>\n",
       "      <td>-0.026698</td>\n",
       "      <td>0.028085</td>\n",
       "      <td>-0.030234</td>\n",
       "      <td>0.020373</td>\n",
       "      <td>-0.008139</td>\n",
       "      <td>0.013439</td>\n",
       "      <td>0.003340</td>\n",
       "      <td>...</td>\n",
       "      <td>0.011707</td>\n",
       "      <td>-0.000593</td>\n",
       "      <td>0.024093</td>\n",
       "      <td>0.011752</td>\n",
       "      <td>-0.015495</td>\n",
       "      <td>-0.007527</td>\n",
       "      <td>-0.034314</td>\n",
       "      <td>0.014673</td>\n",
       "      <td>-0.070019</td>\n",
       "      <td>0.039280</td>\n",
       "    </tr>\n",
       "    <tr>\n",
       "      <th>1</th>\n",
       "      <td>0.060316</td>\n",
       "      <td>0.000092</td>\n",
       "      <td>-0.001539</td>\n",
       "      <td>-0.003000</td>\n",
       "      <td>0.014459</td>\n",
       "      <td>-0.027857</td>\n",
       "      <td>-0.024854</td>\n",
       "      <td>0.017927</td>\n",
       "      <td>0.018741</td>\n",
       "      <td>0.000684</td>\n",
       "      <td>...</td>\n",
       "      <td>0.016673</td>\n",
       "      <td>0.001204</td>\n",
       "      <td>0.018973</td>\n",
       "      <td>-0.004263</td>\n",
       "      <td>0.008279</td>\n",
       "      <td>0.049464</td>\n",
       "      <td>0.030535</td>\n",
       "      <td>-0.016053</td>\n",
       "      <td>-0.006413</td>\n",
       "      <td>0.001443</td>\n",
       "    </tr>\n",
       "    <tr>\n",
       "      <th>2</th>\n",
       "      <td>0.018715</td>\n",
       "      <td>-0.008673</td>\n",
       "      <td>-0.008253</td>\n",
       "      <td>0.004356</td>\n",
       "      <td>0.001318</td>\n",
       "      <td>-0.032812</td>\n",
       "      <td>0.011957</td>\n",
       "      <td>0.006881</td>\n",
       "      <td>0.012356</td>\n",
       "      <td>-0.011305</td>\n",
       "      <td>...</td>\n",
       "      <td>0.017833</td>\n",
       "      <td>0.034274</td>\n",
       "      <td>0.004634</td>\n",
       "      <td>-0.007731</td>\n",
       "      <td>0.026479</td>\n",
       "      <td>-0.008371</td>\n",
       "      <td>-0.021976</td>\n",
       "      <td>-0.005619</td>\n",
       "      <td>0.061645</td>\n",
       "      <td>0.020425</td>\n",
       "    </tr>\n",
       "    <tr>\n",
       "      <th>3</th>\n",
       "      <td>0.047687</td>\n",
       "      <td>0.017387</td>\n",
       "      <td>-0.000069</td>\n",
       "      <td>-0.032743</td>\n",
       "      <td>0.006618</td>\n",
       "      <td>-0.016963</td>\n",
       "      <td>-0.019011</td>\n",
       "      <td>0.003581</td>\n",
       "      <td>-0.006040</td>\n",
       "      <td>-0.004838</td>\n",
       "      <td>...</td>\n",
       "      <td>0.008990</td>\n",
       "      <td>0.005092</td>\n",
       "      <td>-0.000540</td>\n",
       "      <td>-0.004402</td>\n",
       "      <td>-0.009340</td>\n",
       "      <td>-0.029776</td>\n",
       "      <td>0.005591</td>\n",
       "      <td>-0.002770</td>\n",
       "      <td>-0.021289</td>\n",
       "      <td>-0.009352</td>\n",
       "    </tr>\n",
       "    <tr>\n",
       "      <th>4</th>\n",
       "      <td>-0.022325</td>\n",
       "      <td>-0.019560</td>\n",
       "      <td>-0.007894</td>\n",
       "      <td>-0.017836</td>\n",
       "      <td>0.018110</td>\n",
       "      <td>-0.001569</td>\n",
       "      <td>0.000221</td>\n",
       "      <td>0.000825</td>\n",
       "      <td>-0.039639</td>\n",
       "      <td>0.013387</td>\n",
       "      <td>...</td>\n",
       "      <td>0.007978</td>\n",
       "      <td>-0.013724</td>\n",
       "      <td>0.047704</td>\n",
       "      <td>-0.026334</td>\n",
       "      <td>-0.003978</td>\n",
       "      <td>-0.021603</td>\n",
       "      <td>-0.030141</td>\n",
       "      <td>-0.042684</td>\n",
       "      <td>0.029084</td>\n",
       "      <td>-0.020542</td>\n",
       "    </tr>\n",
       "  </tbody>\n",
       "</table>\n",
       "<p>5 rows × 300 columns</p>\n",
       "</div>"
      ],
      "text/plain": [
       "        0         1         2         3         4         5         6    \\\n",
       "0  0.056912 -0.000023 -0.001048 -0.026698  0.028085 -0.030234  0.020373   \n",
       "1  0.060316  0.000092 -0.001539 -0.003000  0.014459 -0.027857 -0.024854   \n",
       "2  0.018715 -0.008673 -0.008253  0.004356  0.001318 -0.032812  0.011957   \n",
       "3  0.047687  0.017387 -0.000069 -0.032743  0.006618 -0.016963 -0.019011   \n",
       "4 -0.022325 -0.019560 -0.007894 -0.017836  0.018110 -0.001569  0.000221   \n",
       "\n",
       "        7         8         9      ...          290       291       292  \\\n",
       "0 -0.008139  0.013439  0.003340    ...     0.011707 -0.000593  0.024093   \n",
       "1  0.017927  0.018741  0.000684    ...     0.016673  0.001204  0.018973   \n",
       "2  0.006881  0.012356 -0.011305    ...     0.017833  0.034274  0.004634   \n",
       "3  0.003581 -0.006040 -0.004838    ...     0.008990  0.005092 -0.000540   \n",
       "4  0.000825 -0.039639  0.013387    ...     0.007978 -0.013724  0.047704   \n",
       "\n",
       "        293       294       295       296       297       298       299  \n",
       "0  0.011752 -0.015495 -0.007527 -0.034314  0.014673 -0.070019  0.039280  \n",
       "1 -0.004263  0.008279  0.049464  0.030535 -0.016053 -0.006413  0.001443  \n",
       "2 -0.007731  0.026479 -0.008371 -0.021976 -0.005619  0.061645  0.020425  \n",
       "3 -0.004402 -0.009340 -0.029776  0.005591 -0.002770 -0.021289 -0.009352  \n",
       "4 -0.026334 -0.003978 -0.021603 -0.030141 -0.042684  0.029084 -0.020542  \n",
       "\n",
       "[5 rows x 300 columns]"
      ]
     },
     "execution_count": 4,
     "metadata": {},
     "output_type": "execute_result"
    }
   ],
   "source": [
    "# read in encoded data\n",
    "#X = pd.read_table(encoded_data_file, header = 0, sep = '\\t', index_col = 0)\n",
    "X = pd.read_table(encoded_data_file, header = None, sep = '\\t', index_col = None)\n",
    "#X_normalized = preprocessing.MinMaxScaler().fit_transform(X)\n",
    "X = pd.DataFrame(X)\n",
    "X.head(5)\n",
    "#X.shape"
   ]
  },
  {
   "cell_type": "code",
   "execution_count": 5,
   "metadata": {},
   "outputs": [],
   "source": [
    "# tSNE raw data in original (all) feature space\n",
    "if viz == 'tsne':\n",
    "    tsne = TSNE(n_components=2, init='pca', random_state=123, perplexity=30, learning_rate=300, n_iter=400)\n",
    "    tsne_X = tsne.fit_transform(X)\n",
    "    tsne_X = pd.DataFrame(tsne_X, columns=['1', '2'])\n",
    "    tsne_X.index = X.index\n",
    "    tsne_X.index.name = 'sample_id'\n",
    "#elif viz == 'umap':\n",
    "#    tsne = umap.UMAP()\n",
    "#    tsne_X = tsne.fit_transform(X)\n",
    "#    tsne_X = pd.DataFrame(tsne_X, columns=['1', '2'])\n",
    "#    tsne_X.index = X.index\n",
    "#    tsne_X.index.name = 'sample_id'        "
   ]
  },
  {
   "cell_type": "code",
   "execution_count": 6,
   "metadata": {},
   "outputs": [
    {
     "data": {
      "text/plain": [
       "(1129, 3)"
      ]
     },
     "execution_count": 6,
     "metadata": {},
     "output_type": "execute_result"
    }
   ],
   "source": [
    "# Map sample id to clinial phenotype (i.e. experimental condition)\n",
    "\n",
    "# According to the source, you input will be transformed by np.array() before doing PCA. So you will lose the row index during \n",
    "# PCA.fit_transform(X) even you use a structured array or a pandas DataFrame. However, the order of your data is preserved, \n",
    "# meaning you can attach the index back if you want\n",
    "\n",
    "# read in mapping file (sample id -- phenotype)\n",
    "map = pd.read_table(map_file, header = 0, sep = '\\t', index_col = 0)\n",
    "\n",
    "# Join \n",
    "X_new = pd.merge(tsne_X, map, left_index=True, right_index=True)\n",
    "X_new.head(5)\n",
    "X_new.shape"
   ]
  },
  {
   "cell_type": "code",
   "execution_count": 22,
   "metadata": {},
   "outputs": [
    {
     "data": {
      "image/png": "[encoded data removed]",
      "text/plain": [
       "<matplotlib.figure.Figure at 0x1ed673c6160>"
      ]
     },
     "metadata": {},
     "output_type": "display_data"
    }
   ],
   "source": [
    "# Plot\n",
    "# Note: t-SNE has a cost function that is not convex, i.e. with different initializations we can get different results.\n",
    "\n",
    "#fg = sns.FacetGrid(data=X_new, hue='medium', aspect=1.61)\n",
    "#fg = sns.FacetGrid(data=tsne_X, aspect=1.61)\n",
    "#fg.map(plt.scatter, '1', '2')\n",
    "fg=sns.jointplot(x=\"1\", y=\"2\", data=tsne_X);\n",
    "\n",
    "#fg.add_legend()\n",
    "#legend_file = 'C:/Users/alexj/Documents/UPenn/CGreene/Pseudomonas/output/all_dim_legend.png'\n",
    "fig_file = 'C:/Users/alexj/Documents/UPenn/CGreene/Pseudomonas/viz/'+file_name+'.png'\n",
    "fg.savefig(fig_file)\n",
    "#fg.savefig(legend_file)"
   ]
  },
  {
   "cell_type": "code",
   "execution_count": 17,
   "metadata": {},
   "outputs": [
    {
     "data": {
      "text/plain": [
       "<matplotlib.axes._subplots.AxesSubplot at 0x1ed66d63710>"
      ]
     },
     "execution_count": 17,
     "metadata": {},
     "output_type": "execute_result"
    },
    {
     "data": {
      "image/png": "[encoded data removed]",
      "text/plain": [
       "<matplotlib.figure.Figure at 0x1ed66d1fa90>"
      ]
     },
     "metadata": {},
     "output_type": "display_data"
    }
   ],
   "source": [
    "sns.heatmap(data=tsne_X.T, cmap='PiYG')"
   ]
  },
  {
   "cell_type": "code",
   "execution_count": 12,
   "metadata": {},
   "outputs": [
    {
     "data": {
      "text/html": [
       "<div>\n",
       "<style scoped>\n",
       "    .dataframe tbody tr th:only-of-type {\n",
       "        vertical-align: middle;\n",
       "    }\n",
       "\n",
       "    .dataframe tbody tr th {\n",
       "        vertical-align: top;\n",
       "    }\n",
       "\n",
       "    .dataframe thead th {\n",
       "        text-align: right;\n",
       "    }\n",
       "</style>\n",
       "<table border=\"1\" class=\"dataframe\">\n",
       "  <thead>\n",
       "    <tr style=\"text-align: right;\">\n",
       "      <th></th>\n",
       "      <th>1</th>\n",
       "      <th>2</th>\n",
       "    </tr>\n",
       "    <tr>\n",
       "      <th>sample_id</th>\n",
       "      <th></th>\n",
       "      <th></th>\n",
       "    </tr>\n",
       "  </thead>\n",
       "  <tbody>\n",
       "    <tr>\n",
       "      <th>0</th>\n",
       "      <td>20.777773</td>\n",
       "      <td>-7.116353</td>\n",
       "    </tr>\n",
       "    <tr>\n",
       "      <th>1</th>\n",
       "      <td>20.954618</td>\n",
       "      <td>-1.970053</td>\n",
       "    </tr>\n",
       "    <tr>\n",
       "      <th>2</th>\n",
       "      <td>13.381550</td>\n",
       "      <td>-8.081645</td>\n",
       "    </tr>\n",
       "    <tr>\n",
       "      <th>3</th>\n",
       "      <td>18.642214</td>\n",
       "      <td>-9.213655</td>\n",
       "    </tr>\n",
       "    <tr>\n",
       "      <th>4</th>\n",
       "      <td>14.656783</td>\n",
       "      <td>-7.127993</td>\n",
       "    </tr>\n",
       "  </tbody>\n",
       "</table>\n",
       "</div>"
      ],
      "text/plain": [
       "                   1         2\n",
       "sample_id                     \n",
       "0          20.777773 -7.116353\n",
       "1          20.954618 -1.970053\n",
       "2          13.381550 -8.081645\n",
       "3          18.642214 -9.213655\n",
       "4          14.656783 -7.127993"
      ]
     },
     "execution_count": 12,
     "metadata": {},
     "output_type": "execute_result"
    }
   ],
   "source": [
    "tsne_X.head(5)"
   ]
  }
 ],
 "metadata": {
  "kernelspec": {
   "display_name": "Python 3",
   "language": "python",
   "name": "python3"
  },
  "language_info": {
   "codemirror_mode": {
    "name": "ipython",
    "version": 3
   },
   "file_extension": ".py",
   "mimetype": "text/x-python",
   "name": "python",
   "nbconvert_exporter": "python",
   "pygments_lexer": "ipython3",
   "version": "3.5.5"
  }
 },
 "nbformat": 4,
 "nbformat_minor": 2
}
