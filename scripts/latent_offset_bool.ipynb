{
 "cells": [
  {
   "cell_type": "code",
   "execution_count": 1,
   "metadata": {},
   "outputs": [],
   "source": [
    "#-------------------------------------------------------------------------------------------------------------------------------\n",
    "# By Alexandra Lee (July 2018) \n",
    "#\n",
    "# Take the average of the encoded gene expression for the two experimental conditions\n",
    "# Take the difference of the averages -- this will be the offset for the latent space\n",
    "#-------------------------------------------------------------------------------------------------------------------------------\n",
    "import os\n",
    "import pandas as pd\n",
    "import numpy as np\n",
    "\n",
    "randomState = 123\n",
    "from numpy.random import seed\n",
    "seed(randomState)"
   ]
  },
  {
   "cell_type": "code",
   "execution_count": 2,
   "metadata": {},
   "outputs": [],
   "source": [
    "# load arguments\n",
    "encodedA_file = os.path.join(os.path.dirname(os.getcwd()), \"encoded\", \"cipro_treatment\", \"train_treat_2layer_10latent_encoded.txt\")\n",
    "encodedB_file = os.path.join(os.path.dirname(os.getcwd()), \"encoded\", \"cipro_treatment\", \"train_control_2layer_10latent_encoded.txt\")\n",
    "\n",
    "# output files\n",
    "out_file = os.path.join(os.path.dirname(os.getcwd()), \"data\", \"cipro_treatment\", \"train_offset_2layer_10latent.txt\")"
   ]
  },
  {
   "cell_type": "code",
   "execution_count": 3,
   "metadata": {},
   "outputs": [
    {
     "data": {
      "text/html": [
       "<div>\n",
       "<style scoped>\n",
       "    .dataframe tbody tr th:only-of-type {\n",
       "        vertical-align: middle;\n",
       "    }\n",
       "\n",
       "    .dataframe tbody tr th {\n",
       "        vertical-align: top;\n",
       "    }\n",
       "\n",
       "    .dataframe thead th {\n",
       "        text-align: right;\n",
       "    }\n",
       "</style>\n",
       "<table border=\"1\" class=\"dataframe\">\n",
       "  <thead>\n",
       "    <tr style=\"text-align: right;\">\n",
       "      <th></th>\n",
       "      <th>0</th>\n",
       "      <th>1</th>\n",
       "      <th>2</th>\n",
       "      <th>3</th>\n",
       "      <th>4</th>\n",
       "      <th>5</th>\n",
       "      <th>6</th>\n",
       "      <th>7</th>\n",
       "      <th>8</th>\n",
       "      <th>9</th>\n",
       "    </tr>\n",
       "  </thead>\n",
       "  <tbody>\n",
       "    <tr>\n",
       "      <th>GSM1608067_Biofilm+12hrcipro_rep1.CEL</th>\n",
       "      <td>0.286802</td>\n",
       "      <td>3.508864</td>\n",
       "      <td>0.000000</td>\n",
       "      <td>0.000000</td>\n",
       "      <td>3.707403</td>\n",
       "      <td>0.000000</td>\n",
       "      <td>0.108762</td>\n",
       "      <td>0.835352</td>\n",
       "      <td>0.0</td>\n",
       "      <td>0.379854</td>\n",
       "    </tr>\n",
       "    <tr>\n",
       "      <th>GSM1608068_Biofilm+12hrcipro_rep2.CEL</th>\n",
       "      <td>2.841053</td>\n",
       "      <td>3.484010</td>\n",
       "      <td>0.000000</td>\n",
       "      <td>0.000000</td>\n",
       "      <td>0.294664</td>\n",
       "      <td>0.000000</td>\n",
       "      <td>0.260758</td>\n",
       "      <td>0.875666</td>\n",
       "      <td>0.0</td>\n",
       "      <td>0.224994</td>\n",
       "    </tr>\n",
       "    <tr>\n",
       "      <th>GSM1608069_Biofilm+12hrcipro_rep3.CEL</th>\n",
       "      <td>0.000000</td>\n",
       "      <td>0.260629</td>\n",
       "      <td>0.000000</td>\n",
       "      <td>0.000000</td>\n",
       "      <td>3.269254</td>\n",
       "      <td>0.000000</td>\n",
       "      <td>0.969558</td>\n",
       "      <td>0.000000</td>\n",
       "      <td>0.0</td>\n",
       "      <td>0.000000</td>\n",
       "    </tr>\n",
       "    <tr>\n",
       "      <th>GSM1244967_PAO1-22-replicate-01.CEL</th>\n",
       "      <td>6.010061</td>\n",
       "      <td>0.000000</td>\n",
       "      <td>7.605605</td>\n",
       "      <td>1.371147</td>\n",
       "      <td>3.421830</td>\n",
       "      <td>5.601919</td>\n",
       "      <td>0.000000</td>\n",
       "      <td>3.339226</td>\n",
       "      <td>0.0</td>\n",
       "      <td>0.000000</td>\n",
       "    </tr>\n",
       "    <tr>\n",
       "      <th>GSM1244969_PAO1-22-replicate-03.CEL</th>\n",
       "      <td>6.035924</td>\n",
       "      <td>0.000000</td>\n",
       "      <td>7.688664</td>\n",
       "      <td>1.378435</td>\n",
       "      <td>3.342392</td>\n",
       "      <td>5.749014</td>\n",
       "      <td>0.000000</td>\n",
       "      <td>3.414607</td>\n",
       "      <td>0.0</td>\n",
       "      <td>0.000000</td>\n",
       "    </tr>\n",
       "  </tbody>\n",
       "</table>\n",
       "</div>"
      ],
      "text/plain": [
       "                                              0         1         2         3  \\\n",
       "GSM1608067_Biofilm+12hrcipro_rep1.CEL  0.286802  3.508864  0.000000  0.000000   \n",
       "GSM1608068_Biofilm+12hrcipro_rep2.CEL  2.841053  3.484010  0.000000  0.000000   \n",
       "GSM1608069_Biofilm+12hrcipro_rep3.CEL  0.000000  0.260629  0.000000  0.000000   \n",
       "GSM1244967_PAO1-22-replicate-01.CEL    6.010061  0.000000  7.605605  1.371147   \n",
       "GSM1244969_PAO1-22-replicate-03.CEL    6.035924  0.000000  7.688664  1.378435   \n",
       "\n",
       "                                              4         5         6         7  \\\n",
       "GSM1608067_Biofilm+12hrcipro_rep1.CEL  3.707403  0.000000  0.108762  0.835352   \n",
       "GSM1608068_Biofilm+12hrcipro_rep2.CEL  0.294664  0.000000  0.260758  0.875666   \n",
       "GSM1608069_Biofilm+12hrcipro_rep3.CEL  3.269254  0.000000  0.969558  0.000000   \n",
       "GSM1244967_PAO1-22-replicate-01.CEL    3.421830  5.601919  0.000000  3.339226   \n",
       "GSM1244969_PAO1-22-replicate-03.CEL    3.342392  5.749014  0.000000  3.414607   \n",
       "\n",
       "                                         8         9  \n",
       "GSM1608067_Biofilm+12hrcipro_rep1.CEL  0.0  0.379854  \n",
       "GSM1608068_Biofilm+12hrcipro_rep2.CEL  0.0  0.224994  \n",
       "GSM1608069_Biofilm+12hrcipro_rep3.CEL  0.0  0.000000  \n",
       "GSM1244967_PAO1-22-replicate-01.CEL    0.0  0.000000  \n",
       "GSM1244969_PAO1-22-replicate-03.CEL    0.0  0.000000  "
      ]
     },
     "execution_count": 3,
     "metadata": {},
     "output_type": "execute_result"
    }
   ],
   "source": [
    "# read in data\n",
    "encodedA_data = pd.read_table(encodedA_file, header = 0, sep = '\\t', index_col = 0)\n",
    "encodedB_data = pd.read_table(encodedB_file, header = 0, sep = '\\t', index_col = 0)\n",
    "encodedA_data.head(5)"
   ]
  },
  {
   "cell_type": "code",
   "execution_count": 4,
   "metadata": {},
   "outputs": [
    {
     "data": {
      "text/plain": [
       "0    3.822224\n",
       "1    2.670032\n",
       "2    2.537466\n",
       "3    0.528063\n",
       "4    3.808728\n",
       "5    2.047496\n",
       "6    0.124221\n",
       "7    2.653390\n",
       "8    0.008043\n",
       "9    0.064670\n",
       "dtype: float64"
      ]
     },
     "execution_count": 4,
     "metadata": {},
     "output_type": "execute_result"
    }
   ],
   "source": [
    "# Average gene expression across samples in training set\n",
    "train_A_mean = encodedA_data.mean(axis=0)\n",
    "train_B_mean = encodedB_data.mean(axis=0)\n",
    "\n",
    "train_A_mean"
   ]
  },
  {
   "cell_type": "code",
   "execution_count": 5,
   "metadata": {},
   "outputs": [
    {
     "data": {
      "text/plain": [
       "0    0.782199\n",
       "1    2.479994\n",
       "2    0.695804\n",
       "3    0.962233\n",
       "4    0.999819\n",
       "5    3.063112\n",
       "6    0.403031\n",
       "7    2.981466\n",
       "8    0.917664\n",
       "9    1.417317\n",
       "dtype: float64"
      ]
     },
     "execution_count": 5,
     "metadata": {},
     "output_type": "execute_result"
    }
   ],
   "source": [
    "train_B_mean"
   ]
  },
  {
   "cell_type": "code",
   "execution_count": 6,
   "metadata": {},
   "outputs": [
    {
     "data": {
      "text/html": [
       "<div>\n",
       "<style scoped>\n",
       "    .dataframe tbody tr th:only-of-type {\n",
       "        vertical-align: middle;\n",
       "    }\n",
       "\n",
       "    .dataframe tbody tr th {\n",
       "        vertical-align: top;\n",
       "    }\n",
       "\n",
       "    .dataframe thead th {\n",
       "        text-align: right;\n",
       "    }\n",
       "</style>\n",
       "<table border=\"1\" class=\"dataframe\">\n",
       "  <thead>\n",
       "    <tr style=\"text-align: right;\">\n",
       "      <th></th>\n",
       "      <th>0</th>\n",
       "      <th>1</th>\n",
       "      <th>2</th>\n",
       "      <th>3</th>\n",
       "      <th>4</th>\n",
       "      <th>5</th>\n",
       "      <th>6</th>\n",
       "      <th>7</th>\n",
       "      <th>8</th>\n",
       "      <th>9</th>\n",
       "    </tr>\n",
       "  </thead>\n",
       "  <tbody>\n",
       "    <tr>\n",
       "      <th>0</th>\n",
       "      <td>3.040025</td>\n",
       "      <td>0.190039</td>\n",
       "      <td>1.841662</td>\n",
       "      <td>-0.43417</td>\n",
       "      <td>2.808909</td>\n",
       "      <td>-1.015616</td>\n",
       "      <td>-0.278809</td>\n",
       "      <td>-0.328075</td>\n",
       "      <td>-0.909621</td>\n",
       "      <td>-1.352648</td>\n",
       "    </tr>\n",
       "  </tbody>\n",
       "</table>\n",
       "</div>"
      ],
      "text/plain": [
       "          0         1         2        3         4         5         6  \\\n",
       "0  3.040025  0.190039  1.841662 -0.43417  2.808909 -1.015616 -0.278809   \n",
       "\n",
       "          7         8         9  \n",
       "0 -0.328075 -0.909621 -1.352648  "
      ]
     },
     "execution_count": 6,
     "metadata": {},
     "output_type": "execute_result"
    }
   ],
   "source": [
    "# Generate offset using average gene expression in original dataset\n",
    "train_offset_latent = train_A_mean - train_B_mean\n",
    "\n",
    "\n",
    "train_offset_latent_df = pd.Series.to_frame(train_offset_latent).transpose()\n",
    "train_offset_latent_df"
   ]
  },
  {
   "cell_type": "code",
   "execution_count": 7,
   "metadata": {},
   "outputs": [],
   "source": [
    "# output\n",
    "train_offset_latent_df.to_csv(out_file, sep='\\t')"
   ]
  }
 ],
 "metadata": {
  "kernelspec": {
   "display_name": "Python [default]",
   "language": "python",
   "name": "python3"
  },
  "language_info": {
   "codemirror_mode": {
    "name": "ipython",
    "version": 3
   },
   "file_extension": ".py",
   "mimetype": "text/x-python",
   "name": "python",
   "nbconvert_exporter": "python",
   "pygments_lexer": "ipython3",
   "version": "3.5.5"
  }
 },
 "nbformat": 4,
 "nbformat_minor": 2
}
