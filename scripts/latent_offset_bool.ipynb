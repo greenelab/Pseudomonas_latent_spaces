{
 "cells": [
  {
   "cell_type": "code",
   "execution_count": 1,
   "metadata": {},
   "outputs": [],
   "source": [
    "#-------------------------------------------------------------------------------------------------------------------------------\n",
    "# By Alexandra Lee (July 2018) \n",
    "#\n",
    "# Take the average of the encoded gene expression for the two experimental conditions\n",
    "# Take the difference of the averages -- this will be the offset for the latent space\n",
    "#-------------------------------------------------------------------------------------------------------------------------------\n",
    "import os\n",
    "import pandas as pd\n",
    "import numpy as np\n",
    "\n",
    "randomState = 123\n",
    "from numpy.random import seed\n",
    "seed(randomState)"
   ]
  },
  {
   "cell_type": "code",
   "execution_count": 2,
   "metadata": {},
   "outputs": [],
   "source": [
    "# load arguments\n",
    "encodedA_file = os.path.join(os.path.dirname(os.getcwd()), \"encoded\", \"train_treat_1layer_10latent_encoded.txt\")\n",
    "encodedB_file = os.path.join(os.path.dirname(os.getcwd()), \"encoded\", \"train_control_1layer_10latent_encoded.txt\")\n",
    "\n",
    "# output files\n",
    "out_file = os.path.join(os.path.dirname(os.getcwd()), \"data\", \"train_offset_1layer_10latent.txt\")"
   ]
  },
  {
   "cell_type": "code",
   "execution_count": 3,
   "metadata": {},
   "outputs": [
    {
     "data": {
      "text/html": [
       "<div>\n",
       "<style scoped>\n",
       "    .dataframe tbody tr th:only-of-type {\n",
       "        vertical-align: middle;\n",
       "    }\n",
       "\n",
       "    .dataframe tbody tr th {\n",
       "        vertical-align: top;\n",
       "    }\n",
       "\n",
       "    .dataframe thead th {\n",
       "        text-align: right;\n",
       "    }\n",
       "</style>\n",
       "<table border=\"1\" class=\"dataframe\">\n",
       "  <thead>\n",
       "    <tr style=\"text-align: right;\">\n",
       "      <th></th>\n",
       "      <th>0</th>\n",
       "      <th>1</th>\n",
       "      <th>2</th>\n",
       "      <th>3</th>\n",
       "      <th>4</th>\n",
       "      <th>5</th>\n",
       "      <th>6</th>\n",
       "      <th>7</th>\n",
       "      <th>8</th>\n",
       "      <th>9</th>\n",
       "    </tr>\n",
       "  </thead>\n",
       "  <tbody>\n",
       "    <tr>\n",
       "      <th>GSM1608067_Biofilm+12hrcipro_rep1.CEL</th>\n",
       "      <td>0.000000</td>\n",
       "      <td>0.133183</td>\n",
       "      <td>0.000000</td>\n",
       "      <td>2.542186</td>\n",
       "      <td>0.000000</td>\n",
       "      <td>0.000000</td>\n",
       "      <td>0.000000</td>\n",
       "      <td>2.805570</td>\n",
       "      <td>0.000000</td>\n",
       "      <td>4.663349</td>\n",
       "    </tr>\n",
       "    <tr>\n",
       "      <th>GSM1608068_Biofilm+12hrcipro_rep2.CEL</th>\n",
       "      <td>1.140755</td>\n",
       "      <td>1.716108</td>\n",
       "      <td>0.487591</td>\n",
       "      <td>0.000000</td>\n",
       "      <td>0.000000</td>\n",
       "      <td>0.908535</td>\n",
       "      <td>1.170017</td>\n",
       "      <td>4.757957</td>\n",
       "      <td>0.000000</td>\n",
       "      <td>2.691764</td>\n",
       "    </tr>\n",
       "    <tr>\n",
       "      <th>GSM1608069_Biofilm+12hrcipro_rep3.CEL</th>\n",
       "      <td>1.626078</td>\n",
       "      <td>0.000000</td>\n",
       "      <td>0.000000</td>\n",
       "      <td>2.953320</td>\n",
       "      <td>0.000000</td>\n",
       "      <td>0.000000</td>\n",
       "      <td>0.000000</td>\n",
       "      <td>4.110030</td>\n",
       "      <td>0.913531</td>\n",
       "      <td>1.117890</td>\n",
       "    </tr>\n",
       "    <tr>\n",
       "      <th>GSM1244967_PAO1-22-replicate-01.CEL</th>\n",
       "      <td>0.000000</td>\n",
       "      <td>4.258472</td>\n",
       "      <td>0.000000</td>\n",
       "      <td>3.946286</td>\n",
       "      <td>3.798057</td>\n",
       "      <td>7.482199</td>\n",
       "      <td>0.000000</td>\n",
       "      <td>0.000000</td>\n",
       "      <td>0.000000</td>\n",
       "      <td>0.000000</td>\n",
       "    </tr>\n",
       "    <tr>\n",
       "      <th>GSM1244969_PAO1-22-replicate-03.CEL</th>\n",
       "      <td>0.000000</td>\n",
       "      <td>4.217313</td>\n",
       "      <td>0.000000</td>\n",
       "      <td>3.896841</td>\n",
       "      <td>3.889508</td>\n",
       "      <td>7.628132</td>\n",
       "      <td>0.000000</td>\n",
       "      <td>0.000000</td>\n",
       "      <td>0.000000</td>\n",
       "      <td>0.000000</td>\n",
       "    </tr>\n",
       "  </tbody>\n",
       "</table>\n",
       "</div>"
      ],
      "text/plain": [
       "                                              0         1         2         3  \\\n",
       "GSM1608067_Biofilm+12hrcipro_rep1.CEL  0.000000  0.133183  0.000000  2.542186   \n",
       "GSM1608068_Biofilm+12hrcipro_rep2.CEL  1.140755  1.716108  0.487591  0.000000   \n",
       "GSM1608069_Biofilm+12hrcipro_rep3.CEL  1.626078  0.000000  0.000000  2.953320   \n",
       "GSM1244967_PAO1-22-replicate-01.CEL    0.000000  4.258472  0.000000  3.946286   \n",
       "GSM1244969_PAO1-22-replicate-03.CEL    0.000000  4.217313  0.000000  3.896841   \n",
       "\n",
       "                                              4         5         6         7  \\\n",
       "GSM1608067_Biofilm+12hrcipro_rep1.CEL  0.000000  0.000000  0.000000  2.805570   \n",
       "GSM1608068_Biofilm+12hrcipro_rep2.CEL  0.000000  0.908535  1.170017  4.757957   \n",
       "GSM1608069_Biofilm+12hrcipro_rep3.CEL  0.000000  0.000000  0.000000  4.110030   \n",
       "GSM1244967_PAO1-22-replicate-01.CEL    3.798057  7.482199  0.000000  0.000000   \n",
       "GSM1244969_PAO1-22-replicate-03.CEL    3.889508  7.628132  0.000000  0.000000   \n",
       "\n",
       "                                              8         9  \n",
       "GSM1608067_Biofilm+12hrcipro_rep1.CEL  0.000000  4.663349  \n",
       "GSM1608068_Biofilm+12hrcipro_rep2.CEL  0.000000  2.691764  \n",
       "GSM1608069_Biofilm+12hrcipro_rep3.CEL  0.913531  1.117890  \n",
       "GSM1244967_PAO1-22-replicate-01.CEL    0.000000  0.000000  \n",
       "GSM1244969_PAO1-22-replicate-03.CEL    0.000000  0.000000  "
      ]
     },
     "execution_count": 3,
     "metadata": {},
     "output_type": "execute_result"
    }
   ],
   "source": [
    "# read in data\n",
    "encodedA_data = pd.read_table(encodedA_file, header = 0, sep = '\\t', index_col = 0)\n",
    "encodedB_data = pd.read_table(encodedB_file, header = 0, sep = '\\t', index_col = 0)\n",
    "encodedA_data.head(5)"
   ]
  },
  {
   "cell_type": "code",
   "execution_count": 4,
   "metadata": {},
   "outputs": [
    {
     "data": {
      "text/plain": [
       "0    0.230569\n",
       "1    1.714602\n",
       "2    0.040633\n",
       "3    2.771958\n",
       "4    1.258668\n",
       "5    3.255904\n",
       "6    0.115666\n",
       "7    2.419205\n",
       "8    0.076128\n",
       "9    2.729467\n",
       "dtype: float64"
      ]
     },
     "execution_count": 4,
     "metadata": {},
     "output_type": "execute_result"
    }
   ],
   "source": [
    "# Average gene expression across samples in training set\n",
    "train_A_mean = encodedA_data.mean(axis=0)\n",
    "train_B_mean = encodedB_data.mean(axis=0)\n",
    "\n",
    "train_A_mean"
   ]
  },
  {
   "cell_type": "code",
   "execution_count": 5,
   "metadata": {},
   "outputs": [
    {
     "data": {
      "text/plain": [
       "0    2.281682\n",
       "1    0.776898\n",
       "2    1.004865\n",
       "3    0.581459\n",
       "4    3.173047\n",
       "5    2.529348\n",
       "6    0.970227\n",
       "7    1.973405\n",
       "8    0.924208\n",
       "9    1.517139\n",
       "dtype: float64"
      ]
     },
     "execution_count": 5,
     "metadata": {},
     "output_type": "execute_result"
    }
   ],
   "source": [
    "train_B_mean"
   ]
  },
  {
   "cell_type": "code",
   "execution_count": 6,
   "metadata": {},
   "outputs": [
    {
     "data": {
      "text/html": [
       "<div>\n",
       "<style scoped>\n",
       "    .dataframe tbody tr th:only-of-type {\n",
       "        vertical-align: middle;\n",
       "    }\n",
       "\n",
       "    .dataframe tbody tr th {\n",
       "        vertical-align: top;\n",
       "    }\n",
       "\n",
       "    .dataframe thead th {\n",
       "        text-align: right;\n",
       "    }\n",
       "</style>\n",
       "<table border=\"1\" class=\"dataframe\">\n",
       "  <thead>\n",
       "    <tr style=\"text-align: right;\">\n",
       "      <th></th>\n",
       "      <th>0</th>\n",
       "      <th>1</th>\n",
       "      <th>2</th>\n",
       "      <th>3</th>\n",
       "      <th>4</th>\n",
       "      <th>5</th>\n",
       "      <th>6</th>\n",
       "      <th>7</th>\n",
       "      <th>8</th>\n",
       "      <th>9</th>\n",
       "    </tr>\n",
       "  </thead>\n",
       "  <tbody>\n",
       "    <tr>\n",
       "      <th>0</th>\n",
       "      <td>-2.051113</td>\n",
       "      <td>0.937703</td>\n",
       "      <td>-0.964232</td>\n",
       "      <td>2.190499</td>\n",
       "      <td>-1.914379</td>\n",
       "      <td>0.726556</td>\n",
       "      <td>-0.854561</td>\n",
       "      <td>0.4458</td>\n",
       "      <td>-0.84808</td>\n",
       "      <td>1.212327</td>\n",
       "    </tr>\n",
       "  </tbody>\n",
       "</table>\n",
       "</div>"
      ],
      "text/plain": [
       "          0         1         2         3         4         5         6  \\\n",
       "0 -2.051113  0.937703 -0.964232  2.190499 -1.914379  0.726556 -0.854561   \n",
       "\n",
       "        7        8         9  \n",
       "0  0.4458 -0.84808  1.212327  "
      ]
     },
     "execution_count": 6,
     "metadata": {},
     "output_type": "execute_result"
    }
   ],
   "source": [
    "# Generate offset using average gene expression in original dataset\n",
    "train_offset_latent = train_A_mean - train_B_mean\n",
    "\n",
    "\n",
    "train_offset_latent_df = pd.Series.to_frame(train_offset_latent).transpose()\n",
    "train_offset_latent_df"
   ]
  },
  {
   "cell_type": "code",
   "execution_count": 7,
   "metadata": {},
   "outputs": [],
   "source": [
    "# output\n",
    "train_offset_latent_df.to_csv(out_file, sep='\\t')"
   ]
  }
 ],
 "metadata": {
  "kernelspec": {
   "display_name": "Python [default]",
   "language": "python",
   "name": "python3"
  },
  "language_info": {
   "codemirror_mode": {
    "name": "ipython",
    "version": 3
   },
   "file_extension": ".py",
   "mimetype": "text/x-python",
   "name": "python",
   "nbconvert_exporter": "python",
   "pygments_lexer": "ipython3",
   "version": "3.5.5"
  }
 },
 "nbformat": 4,
 "nbformat_minor": 2
}
