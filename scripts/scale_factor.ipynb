{
 "cells": [
  {
   "cell_type": "code",
   "execution_count": 1,
   "metadata": {},
   "outputs": [],
   "source": [
    "# Determine scale factor for offset\n",
    "# scale factor = avg PA1673 exp @ new location - avg PA1673 exp @ baseline  \n",
    "import os\n",
    "import pandas as pd\n",
    "import numpy as np\n",
    "\n",
    "randomState = 123\n",
    "from numpy.random import seed\n",
    "seed(randomState)"
   ]
  },
  {
   "cell_type": "code",
   "execution_count": 2,
   "metadata": {},
   "outputs": [],
   "source": [
    "# load arguments\n",
    "baseline_file = os.path.join(os.path.dirname(os.getcwd()), \"data\", \"PA1673_full_old\", \"test_lowest_PA1673.txt\")\n",
    "new_file = os.path.join(os.path.dirname(os.getcwd()), \"data\", \"PA1673_full_old\", \"test_mid2_PA1673.txt\")"
   ]
  },
  {
   "cell_type": "code",
   "execution_count": 3,
   "metadata": {},
   "outputs": [],
   "source": [
    "# read in data\n",
    "baseline_data = pd.read_table(baseline_file, header=0, sep='\\t', index_col=0)\n",
    "new_data = pd.read_table(new_file, header=0, sep='\\t', index_col=0)"
   ]
  },
  {
   "cell_type": "code",
   "execution_count": 4,
   "metadata": {},
   "outputs": [
    {
     "data": {
      "text/plain": [
       "0.11026520519238218"
      ]
     },
     "execution_count": 4,
     "metadata": {},
     "output_type": "execute_result"
    }
   ],
   "source": [
    "# average PA1673 expression across samples\n",
    "baseline_mean = baseline_data['PA1673'].mean()\n",
    "new_mean = new_data['PA1673'].mean()\n",
    "\n",
    "baseline_mean"
   ]
  },
  {
   "cell_type": "code",
   "execution_count": 5,
   "metadata": {},
   "outputs": [
    {
     "data": {
      "text/plain": [
       "0.6639491689502679"
      ]
     },
     "execution_count": 5,
     "metadata": {},
     "output_type": "execute_result"
    }
   ],
   "source": [
    "new_mean"
   ]
  },
  {
   "cell_type": "code",
   "execution_count": 6,
   "metadata": {},
   "outputs": [
    {
     "name": "stdout",
     "output_type": "stream",
     "text": [
      "0.553683963758\n"
     ]
    }
   ],
   "source": [
    "# Get scale factor\n",
    "scale_factor = new_mean - baseline_mean\n",
    "print(scale_factor)"
   ]
  }
 ],
 "metadata": {
  "kernelspec": {
   "display_name": "Python [conda env:Pa]",
   "language": "python",
   "name": "conda-env-Pa-py"
  },
  "language_info": {
   "codemirror_mode": {
    "name": "ipython",
    "version": 3
   },
   "file_extension": ".py",
   "mimetype": "text/x-python",
   "name": "python",
   "nbconvert_exporter": "python",
   "pygments_lexer": "ipython3",
   "version": "3.5.5"
  }
 },
 "nbformat": 4,
 "nbformat_minor": 2
}
