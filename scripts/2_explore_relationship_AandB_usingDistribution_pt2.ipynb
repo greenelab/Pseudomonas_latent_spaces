{
 "cells": [
  {
   "cell_type": "markdown",
   "metadata": {
    "ExecuteTime": {
     "end_time": "2019-02-06T16:19:43.939569Z",
     "start_time": "2019-02-06T16:19:43.935158Z"
    }
   },
   "source": [
    "# Explore simulated relationship (part 2)\n",
    "\n",
    "This notebook is using simulated data generated from [main_Pa_sim_enhance_AtoB](1_main_Pa_sim_enhance_AtoB.ipynb).  This notebook input raw Pseudomonas gene expression data from the Pseudomonas compendium referenced in [ADAGE](https://www.ncbi.nlm.nih.gov/pmc/articles/PMC5069748/) paper and added a strong nonlinear signal.  This signal assigned a set of genes to group A and a set of genes to group B.  If the expression of genes in group A exceeded some threshold then the genes in group B were upregulated.  \n",
    "\n",
    "This notebook is extending from the exploration performed in [explore_relationship_AandB_pt1](explore_relationship_AandB_pt1.ipynb).  In this notebook we determined that the modeled/predicted gene expression data between A and B (i.e. after applying a linear transformation in the latent space and decoding) is a mostly linear relationship.  We assume that this means that the *decoder* is learning this linear relationship.  So now we want to determine what the *encoder* is learning. "
   ]
  },
  {
   "cell_type": "code",
   "execution_count": 1,
   "metadata": {
    "ExecuteTime": {
     "end_time": "2019-04-16T17:04:05.911830Z",
     "start_time": "2019-04-16T17:04:04.858938Z"
    }
   },
   "outputs": [
    {
     "name": "stderr",
     "output_type": "stream",
     "text": [
      "Using TensorFlow backend.\n"
     ]
    }
   ],
   "source": [
    "%load_ext autoreload\n",
    "%autoreload 2\n",
    "\n",
    "import os\n",
    "import pandas as pd\n",
    "import numpy as np\n",
    "import random\n",
    "import glob\n",
    "import seaborn as sns\n",
    "from keras.models import model_from_json, load_model\n",
    "from functions import utils\n",
    "import matplotlib.pyplot as plt\n",
    "from matplotlib_venn import venn2\n",
    "\n",
    "from numpy.random import seed\n",
    "randomState = 123\n",
    "seed(randomState)"
   ]
  },
  {
   "cell_type": "code",
   "execution_count": 2,
   "metadata": {
    "ExecuteTime": {
     "end_time": "2019-04-16T17:04:05.929292Z",
     "start_time": "2019-04-16T17:04:05.913105Z"
    }
   },
   "outputs": [],
   "source": [
    "# Run notebook to generate simulated data\n",
    "#%run ./main_Pa_sim_enhance_AtoB.ipynb"
   ]
  },
  {
   "cell_type": "code",
   "execution_count": 3,
   "metadata": {
    "ExecuteTime": {
     "end_time": "2019-04-16T17:04:05.950013Z",
     "start_time": "2019-04-16T17:04:05.930431Z"
    }
   },
   "outputs": [],
   "source": [
    "# Load \n",
    "base_dir = os.path.dirname(os.getcwd())\n",
    "analysis_name = 'sim_distAB_1000AB'\n",
    "\n",
    "sim_data_file = os.path.join(\n",
    "    base_dir,\n",
    "    \"data\",\n",
    "    analysis_name,\n",
    "    \"train_model_input.txt.xz\"\n",
    ")\n",
    "\n",
    "A_file = os.path.join(\n",
    "    base_dir,\n",
    "    \"data\",\n",
    "    analysis_name,\n",
    "    \"geneSetA.txt\"\n",
    ")\n",
    "\n",
    "B_file = os.path.join(\n",
    "    base_dir,\n",
    "    \"data\",\n",
    "    analysis_name,\n",
    "    \"geneSetB.txt\"\n",
    ")\n",
    "\n",
    "offset_vae_file = os.path.join(\n",
    "    os.path.dirname(os.getcwd()), \n",
    "    \"encoded\",\n",
    "    analysis_name, \n",
    "    \"offset_latent_space_vae.txt\"\n",
    ")\n",
    "\n",
    "weight_file = os.path.join(\n",
    "    os.path.dirname(os.getcwd()),\n",
    "    \"data\",\n",
    "    analysis_name,\n",
    "    \"VAE_weight_matrix.txt\"\n",
    ")\n",
    "\n",
    "model_encoder_file = glob.glob(os.path.join(\n",
    "    base_dir,\n",
    "    \"models\",\n",
    "    analysis_name,\n",
    "    \"*_encoder_model.h5\"))[0]\n",
    "\n",
    "weights_encoder_file = glob.glob(\n",
    "    os.path.join(\n",
    "        base_dir,\n",
    "        \"models\",\n",
    "        analysis_name,\n",
    "        \"*_encoder_weights.h5\"\n",
    "    )\n",
    ")[0]\n",
    "\n",
    "model_decoder_file = glob.glob(\n",
    "    os.path.join(\n",
    "        base_dir,\n",
    "        \"models\",\n",
    "        analysis_name, \n",
    "        \"*_decoder_model.h5\"\n",
    "    )\n",
    ")[0]\n",
    "\n",
    "weights_decoder_file = glob.glob(\n",
    "    os.path.join(\n",
    "        base_dir,\n",
    "        \"models\", \n",
    "        analysis_name, \n",
    "        \"*_decoder_weights.h5\"\n",
    "    )\n",
    ")[0]"
   ]
  },
  {
   "cell_type": "code",
   "execution_count": 4,
   "metadata": {
    "ExecuteTime": {
     "end_time": "2019-04-16T17:04:06.591429Z",
     "start_time": "2019-04-16T17:04:05.951236Z"
    }
   },
   "outputs": [
    {
     "name": "stdout",
     "output_type": "stream",
     "text": [
      "(1191, 2000)\n"
     ]
    },
    {
     "data": {
      "text/html": [
       "<div>\n",
       "<style scoped>\n",
       "    .dataframe tbody tr th:only-of-type {\n",
       "        vertical-align: middle;\n",
       "    }\n",
       "\n",
       "    .dataframe tbody tr th {\n",
       "        vertical-align: top;\n",
       "    }\n",
       "\n",
       "    .dataframe thead th {\n",
       "        text-align: right;\n",
       "    }\n",
       "</style>\n",
       "<table border=\"1\" class=\"dataframe\">\n",
       "  <thead>\n",
       "    <tr style=\"text-align: right;\">\n",
       "      <th></th>\n",
       "      <th>PA3423</th>\n",
       "      <th>PA0084</th>\n",
       "      <th>PA2455</th>\n",
       "      <th>PA3029</th>\n",
       "      <th>PA1588</th>\n",
       "      <th>PA2220</th>\n",
       "      <th>PA4656</th>\n",
       "      <th>PA3585</th>\n",
       "      <th>PA1325</th>\n",
       "      <th>PA3067</th>\n",
       "      <th>...</th>\n",
       "      <th>PA5348</th>\n",
       "      <th>PA4148</th>\n",
       "      <th>PA2158</th>\n",
       "      <th>PA2839</th>\n",
       "      <th>PA2410</th>\n",
       "      <th>PA0090</th>\n",
       "      <th>PA4963</th>\n",
       "      <th>PA3790</th>\n",
       "      <th>PA0969</th>\n",
       "      <th>PA4776</th>\n",
       "    </tr>\n",
       "  </thead>\n",
       "  <tbody>\n",
       "    <tr>\n",
       "      <th>0.1_12hr_CSV86(Pae_G1a).CEL</th>\n",
       "      <td>0.065748</td>\n",
       "      <td>0.898940</td>\n",
       "      <td>0.61319</td>\n",
       "      <td>0.00000</td>\n",
       "      <td>0.26856</td>\n",
       "      <td>1.00000</td>\n",
       "      <td>0.00000</td>\n",
       "      <td>0.328430</td>\n",
       "      <td>1.00000</td>\n",
       "      <td>0.15330</td>\n",
       "      <td>...</td>\n",
       "      <td>0.039832</td>\n",
       "      <td>0.25410</td>\n",
       "      <td>0.30768</td>\n",
       "      <td>0.16118</td>\n",
       "      <td>0.37444</td>\n",
       "      <td>0.64132</td>\n",
       "      <td>0.35989</td>\n",
       "      <td>0.29978</td>\n",
       "      <td>0.47914</td>\n",
       "      <td>0.45004</td>\n",
       "    </tr>\n",
       "    <tr>\n",
       "      <th>0.1_2hr_CSV86(Pae_G1a).CEL</th>\n",
       "      <td>0.000000</td>\n",
       "      <td>0.019449</td>\n",
       "      <td>0.93850</td>\n",
       "      <td>0.84441</td>\n",
       "      <td>0.00000</td>\n",
       "      <td>0.32102</td>\n",
       "      <td>0.68539</td>\n",
       "      <td>0.657000</td>\n",
       "      <td>0.00000</td>\n",
       "      <td>0.60400</td>\n",
       "      <td>...</td>\n",
       "      <td>0.789690</td>\n",
       "      <td>0.62387</td>\n",
       "      <td>0.78148</td>\n",
       "      <td>0.85041</td>\n",
       "      <td>0.93546</td>\n",
       "      <td>0.70920</td>\n",
       "      <td>0.61820</td>\n",
       "      <td>0.78773</td>\n",
       "      <td>0.97945</td>\n",
       "      <td>0.76795</td>\n",
       "    </tr>\n",
       "    <tr>\n",
       "      <th>0.1_6hr_CSV86(Pae_G1a).CEL</th>\n",
       "      <td>0.311490</td>\n",
       "      <td>0.933630</td>\n",
       "      <td>0.34831</td>\n",
       "      <td>0.35509</td>\n",
       "      <td>0.22757</td>\n",
       "      <td>0.54608</td>\n",
       "      <td>0.49297</td>\n",
       "      <td>0.565050</td>\n",
       "      <td>0.54114</td>\n",
       "      <td>0.00000</td>\n",
       "      <td>...</td>\n",
       "      <td>0.872670</td>\n",
       "      <td>0.78931</td>\n",
       "      <td>0.92892</td>\n",
       "      <td>0.94578</td>\n",
       "      <td>0.89772</td>\n",
       "      <td>0.79785</td>\n",
       "      <td>0.97098</td>\n",
       "      <td>0.93249</td>\n",
       "      <td>0.75492</td>\n",
       "      <td>0.82408</td>\n",
       "    </tr>\n",
       "    <tr>\n",
       "      <th>0.1_7hr_CSV86(Pae_G1a).CEL</th>\n",
       "      <td>0.590760</td>\n",
       "      <td>0.000000</td>\n",
       "      <td>0.32086</td>\n",
       "      <td>0.57895</td>\n",
       "      <td>0.75095</td>\n",
       "      <td>0.94217</td>\n",
       "      <td>0.67022</td>\n",
       "      <td>0.075776</td>\n",
       "      <td>0.43977</td>\n",
       "      <td>1.00000</td>\n",
       "      <td>...</td>\n",
       "      <td>0.928860</td>\n",
       "      <td>1.00000</td>\n",
       "      <td>0.90181</td>\n",
       "      <td>0.73394</td>\n",
       "      <td>0.97635</td>\n",
       "      <td>0.87585</td>\n",
       "      <td>0.85825</td>\n",
       "      <td>0.63930</td>\n",
       "      <td>0.76092</td>\n",
       "      <td>0.91443</td>\n",
       "    </tr>\n",
       "    <tr>\n",
       "      <th>0.1_9hr_CSV86(Pae_G1a).CEL</th>\n",
       "      <td>0.370830</td>\n",
       "      <td>0.700460</td>\n",
       "      <td>0.55437</td>\n",
       "      <td>0.65881</td>\n",
       "      <td>0.39321</td>\n",
       "      <td>0.89321</td>\n",
       "      <td>1.00000</td>\n",
       "      <td>0.000000</td>\n",
       "      <td>0.38810</td>\n",
       "      <td>0.79718</td>\n",
       "      <td>...</td>\n",
       "      <td>0.693930</td>\n",
       "      <td>0.67149</td>\n",
       "      <td>0.90713</td>\n",
       "      <td>0.99109</td>\n",
       "      <td>0.86492</td>\n",
       "      <td>0.74021</td>\n",
       "      <td>0.66021</td>\n",
       "      <td>0.75277</td>\n",
       "      <td>0.85820</td>\n",
       "      <td>0.89706</td>\n",
       "    </tr>\n",
       "  </tbody>\n",
       "</table>\n",
       "<p>5 rows × 2000 columns</p>\n",
       "</div>"
      ],
      "text/plain": [
       "                               PA3423    PA0084   PA2455   PA3029   PA1588  \\\n",
       "0.1_12hr_CSV86(Pae_G1a).CEL  0.065748  0.898940  0.61319  0.00000  0.26856   \n",
       "0.1_2hr_CSV86(Pae_G1a).CEL   0.000000  0.019449  0.93850  0.84441  0.00000   \n",
       "0.1_6hr_CSV86(Pae_G1a).CEL   0.311490  0.933630  0.34831  0.35509  0.22757   \n",
       "0.1_7hr_CSV86(Pae_G1a).CEL   0.590760  0.000000  0.32086  0.57895  0.75095   \n",
       "0.1_9hr_CSV86(Pae_G1a).CEL   0.370830  0.700460  0.55437  0.65881  0.39321   \n",
       "\n",
       "                              PA2220   PA4656    PA3585   PA1325   PA3067  \\\n",
       "0.1_12hr_CSV86(Pae_G1a).CEL  1.00000  0.00000  0.328430  1.00000  0.15330   \n",
       "0.1_2hr_CSV86(Pae_G1a).CEL   0.32102  0.68539  0.657000  0.00000  0.60400   \n",
       "0.1_6hr_CSV86(Pae_G1a).CEL   0.54608  0.49297  0.565050  0.54114  0.00000   \n",
       "0.1_7hr_CSV86(Pae_G1a).CEL   0.94217  0.67022  0.075776  0.43977  1.00000   \n",
       "0.1_9hr_CSV86(Pae_G1a).CEL   0.89321  1.00000  0.000000  0.38810  0.79718   \n",
       "\n",
       "                              ...       PA5348   PA4148   PA2158   PA2839  \\\n",
       "0.1_12hr_CSV86(Pae_G1a).CEL   ...     0.039832  0.25410  0.30768  0.16118   \n",
       "0.1_2hr_CSV86(Pae_G1a).CEL    ...     0.789690  0.62387  0.78148  0.85041   \n",
       "0.1_6hr_CSV86(Pae_G1a).CEL    ...     0.872670  0.78931  0.92892  0.94578   \n",
       "0.1_7hr_CSV86(Pae_G1a).CEL    ...     0.928860  1.00000  0.90181  0.73394   \n",
       "0.1_9hr_CSV86(Pae_G1a).CEL    ...     0.693930  0.67149  0.90713  0.99109   \n",
       "\n",
       "                              PA2410   PA0090   PA4963   PA3790   PA0969  \\\n",
       "0.1_12hr_CSV86(Pae_G1a).CEL  0.37444  0.64132  0.35989  0.29978  0.47914   \n",
       "0.1_2hr_CSV86(Pae_G1a).CEL   0.93546  0.70920  0.61820  0.78773  0.97945   \n",
       "0.1_6hr_CSV86(Pae_G1a).CEL   0.89772  0.79785  0.97098  0.93249  0.75492   \n",
       "0.1_7hr_CSV86(Pae_G1a).CEL   0.97635  0.87585  0.85825  0.63930  0.76092   \n",
       "0.1_9hr_CSV86(Pae_G1a).CEL   0.86492  0.74021  0.66021  0.75277  0.85820   \n",
       "\n",
       "                              PA4776  \n",
       "0.1_12hr_CSV86(Pae_G1a).CEL  0.45004  \n",
       "0.1_2hr_CSV86(Pae_G1a).CEL   0.76795  \n",
       "0.1_6hr_CSV86(Pae_G1a).CEL   0.82408  \n",
       "0.1_7hr_CSV86(Pae_G1a).CEL   0.91443  \n",
       "0.1_9hr_CSV86(Pae_G1a).CEL   0.89706  \n",
       "\n",
       "[5 rows x 2000 columns]"
      ]
     },
     "execution_count": 4,
     "metadata": {},
     "output_type": "execute_result"
    }
   ],
   "source": [
    "# Read data\n",
    "sim_data = pd.read_table(sim_data_file, index_col=0, header=0, compression='xz')\n",
    "geneSetA = pd.read_table(A_file, header=0, index_col=0)\n",
    "geneSetB = pd.read_table(B_file, header=0, index_col=0)\n",
    "\n",
    "print(sim_data.shape)\n",
    "sim_data.head()"
   ]
  },
  {
   "cell_type": "markdown",
   "metadata": {},
   "source": [
    "## 1. Trend of gene B with respect to A (input)\n",
    "\n",
    "How is B changing with respect to A in our simulated dataset (before the data goes into the autoencoder)?\n",
    "\n",
    "Plot gene expression of A vs mean(gene B expression).  This plot will serve as a reference against later plots that will show the relationship between A and B after transforming the data (i.e. after the data has been fed through the autoencoder)"
   ]
  },
  {
   "cell_type": "code",
   "execution_count": 5,
   "metadata": {
    "ExecuteTime": {
     "end_time": "2019-04-16T17:04:06.625000Z",
     "start_time": "2019-04-16T17:04:06.592938Z"
    }
   },
   "outputs": [
    {
     "data": {
      "text/plain": [
       "0.1_12hr_CSV86(Pae_G1a).CEL    0.381348\n",
       "0.1_2hr_CSV86(Pae_G1a).CEL     0.805404\n",
       "0.1_6hr_CSV86(Pae_G1a).CEL     0.797817\n",
       "0.1_7hr_CSV86(Pae_G1a).CEL     0.795529\n",
       "0.1_9hr_CSV86(Pae_G1a).CEL     0.797226\n",
       "dtype: float64"
      ]
     },
     "execution_count": 5,
     "metadata": {},
     "output_type": "execute_result"
    }
   ],
   "source": [
    "# Get the means of ORIGINAL B genes\n",
    "\n",
    "# Convert dataframe with gene ids to list\n",
    "geneSetB_ls = geneSetB['gene id'].values.tolist()\n",
    "\n",
    "geneSetB_exp = sim_data[geneSetB_ls]\n",
    "\n",
    "# Get the mean for each sample\n",
    "geneSetB_mean_original_all = geneSetB_exp.mean(axis=1)\n",
    "geneSetB_mean_original_all.head()"
   ]
  },
  {
   "cell_type": "code",
   "execution_count": 6,
   "metadata": {
    "ExecuteTime": {
     "end_time": "2019-04-16T17:04:06.669265Z",
     "start_time": "2019-04-16T17:04:06.626307Z"
    }
   },
   "outputs": [
    {
     "data": {
      "text/plain": [
       "0.1_12hr_CSV86(Pae_G1a).CEL    0.488785\n",
       "0.1_2hr_CSV86(Pae_G1a).CEL     0.504159\n",
       "0.1_6hr_CSV86(Pae_G1a).CEL     0.519795\n",
       "0.1_7hr_CSV86(Pae_G1a).CEL     0.509011\n",
       "0.1_9hr_CSV86(Pae_G1a).CEL     0.506159\n",
       "dtype: float64"
      ]
     },
     "execution_count": 6,
     "metadata": {},
     "output_type": "execute_result"
    }
   ],
   "source": [
    "# Get the means of ORIGINAL A genes\n",
    "\n",
    "# Convert dataframe with gene ids to list\n",
    "geneSetA_ls = geneSetA['gene id'].values.tolist()\n",
    "\n",
    "geneSetA_exp = sim_data[geneSetA_ls]\n",
    "\n",
    "# Get the mean for each sample\n",
    "geneSetA_mean_original_all = geneSetA_exp.mean(axis=1)\n",
    "geneSetA_mean_original_all.head()"
   ]
  },
  {
   "cell_type": "code",
   "execution_count": 7,
   "metadata": {
    "ExecuteTime": {
     "end_time": "2019-04-16T17:04:06.705060Z",
     "start_time": "2019-04-16T17:04:06.670759Z"
    }
   },
   "outputs": [
    {
     "data": {
      "text/html": [
       "<div>\n",
       "<style scoped>\n",
       "    .dataframe tbody tr th:only-of-type {\n",
       "        vertical-align: middle;\n",
       "    }\n",
       "\n",
       "    .dataframe tbody tr th {\n",
       "        vertical-align: top;\n",
       "    }\n",
       "\n",
       "    .dataframe thead th {\n",
       "        text-align: right;\n",
       "    }\n",
       "</style>\n",
       "<table border=\"1\" class=\"dataframe\">\n",
       "  <thead>\n",
       "    <tr style=\"text-align: right;\">\n",
       "      <th></th>\n",
       "      <th>mean gene A untransformed</th>\n",
       "      <th>mean gene B untransformed</th>\n",
       "    </tr>\n",
       "  </thead>\n",
       "  <tbody>\n",
       "    <tr>\n",
       "      <th>0.1_12hr_CSV86(Pae_G1a).CEL</th>\n",
       "      <td>0.488785</td>\n",
       "      <td>0.381348</td>\n",
       "    </tr>\n",
       "    <tr>\n",
       "      <th>0.1_2hr_CSV86(Pae_G1a).CEL</th>\n",
       "      <td>0.504159</td>\n",
       "      <td>0.805404</td>\n",
       "    </tr>\n",
       "    <tr>\n",
       "      <th>0.1_6hr_CSV86(Pae_G1a).CEL</th>\n",
       "      <td>0.519795</td>\n",
       "      <td>0.797817</td>\n",
       "    </tr>\n",
       "    <tr>\n",
       "      <th>0.1_7hr_CSV86(Pae_G1a).CEL</th>\n",
       "      <td>0.509011</td>\n",
       "      <td>0.795529</td>\n",
       "    </tr>\n",
       "    <tr>\n",
       "      <th>0.1_9hr_CSV86(Pae_G1a).CEL</th>\n",
       "      <td>0.506159</td>\n",
       "      <td>0.797226</td>\n",
       "    </tr>\n",
       "  </tbody>\n",
       "</table>\n",
       "</div>"
      ],
      "text/plain": [
       "                             mean gene A untransformed  \\\n",
       "0.1_12hr_CSV86(Pae_G1a).CEL                   0.488785   \n",
       "0.1_2hr_CSV86(Pae_G1a).CEL                    0.504159   \n",
       "0.1_6hr_CSV86(Pae_G1a).CEL                    0.519795   \n",
       "0.1_7hr_CSV86(Pae_G1a).CEL                    0.509011   \n",
       "0.1_9hr_CSV86(Pae_G1a).CEL                    0.506159   \n",
       "\n",
       "                             mean gene B untransformed  \n",
       "0.1_12hr_CSV86(Pae_G1a).CEL                   0.381348  \n",
       "0.1_2hr_CSV86(Pae_G1a).CEL                    0.805404  \n",
       "0.1_6hr_CSV86(Pae_G1a).CEL                    0.797817  \n",
       "0.1_7hr_CSV86(Pae_G1a).CEL                    0.795529  \n",
       "0.1_9hr_CSV86(Pae_G1a).CEL                    0.797226  "
      ]
     },
     "execution_count": 7,
     "metadata": {},
     "output_type": "execute_result"
    }
   ],
   "source": [
    "# Join original expression of A and mean(transformed expression of B)\n",
    "original_A_mean_exp = geneSetA_mean_original_all\n",
    "original_B_mean_exp = geneSetB_mean_original_all\n",
    "\n",
    "original_A_vs_original_B_df = pd.merge(original_A_mean_exp.to_frame('mean gene A untransformed'),\n",
    "                      original_B_mean_exp.to_frame('mean gene B untransformed'),\n",
    "                      left_index=True, right_index=True)\n",
    "original_A_vs_original_B_df.head()"
   ]
  },
  {
   "cell_type": "markdown",
   "metadata": {},
   "source": [
    "**Plot**\n",
    "The plot below shows the signal that was added to the dataset.  This signal assigned a set of genes to group A and a set of genes to group B. If the expression of genes in group A exceeded some threshold then the genes in group B were upregulated.  \n",
    "\n",
    "So we see a step function relationship between the expression of genes in group A and the expression of genes in group B.  With a threshold of 0.5 we can see that the expression of genes in B are upregulated."
   ]
  },
  {
   "cell_type": "code",
   "execution_count": 8,
   "metadata": {
    "ExecuteTime": {
     "end_time": "2019-04-16T17:04:07.013695Z",
     "start_time": "2019-04-16T17:04:06.706282Z"
    }
   },
   "outputs": [
    {
     "data": {
      "text/plain": [
       "<matplotlib.axes._subplots.AxesSubplot at 0x7f31f8329e80>"
      ]
     },
     "execution_count": 8,
     "metadata": {},
     "output_type": "execute_result"
    },
    {
     "data": {
      "image/png": "[encoded data removed]",
      "text/plain": [
       "<matplotlib.figure.Figure at 0x7f31f82a6cc0>"
      ]
     },
     "metadata": {},
     "output_type": "display_data"
    }
   ],
   "source": [
    "# Plot\n",
    "sns.regplot(x='mean gene A untransformed',\n",
    "            y='mean gene B untransformed',\n",
    "           data = original_A_vs_original_B_df)"
   ]
  },
  {
   "cell_type": "markdown",
   "metadata": {},
   "source": [
    "## 3.  Trend of gene B with respect to A (encoder)\n",
    "\n",
    "How is B changing with respect to A after shifting input expression and then applying our latent space transformation?\n",
    "\n",
    "Here we are only changing samples **before** they have been encoded into the latent space and then we apply our latent space transformation.  If we compare these trends with those from #2 module, which show what the decoder is supposedly learning, then we can conclude what the encoder is learning.\n",
    "\n",
    "In order to test this we manually shift A genes from being below the activation threshold to being above it and see how the gene expression data is reconstructed"
   ]
  },
  {
   "cell_type": "code",
   "execution_count": 9,
   "metadata": {
    "ExecuteTime": {
     "end_time": "2019-04-16T17:04:07.321512Z",
     "start_time": "2019-04-16T17:04:07.016086Z"
    }
   },
   "outputs": [
    {
     "name": "stdout",
     "output_type": "stream",
     "text": [
      "GSM774162_PAO1c.CEL\n"
     ]
    },
    {
     "data": {
      "text/html": [
       "<div>\n",
       "<style scoped>\n",
       "    .dataframe tbody tr th:only-of-type {\n",
       "        vertical-align: middle;\n",
       "    }\n",
       "\n",
       "    .dataframe tbody tr th {\n",
       "        vertical-align: top;\n",
       "    }\n",
       "\n",
       "    .dataframe thead th {\n",
       "        text-align: right;\n",
       "    }\n",
       "</style>\n",
       "<table border=\"1\" class=\"dataframe\">\n",
       "  <thead>\n",
       "    <tr style=\"text-align: right;\">\n",
       "      <th></th>\n",
       "      <th>PA0002</th>\n",
       "      <th>PA0003</th>\n",
       "      <th>PA0007</th>\n",
       "      <th>PA0009</th>\n",
       "      <th>PA0010</th>\n",
       "      <th>PA0014</th>\n",
       "      <th>PA0015</th>\n",
       "      <th>PA0017</th>\n",
       "      <th>PA0019</th>\n",
       "      <th>PA0020</th>\n",
       "      <th>...</th>\n",
       "      <th>PA5543</th>\n",
       "      <th>PA5544</th>\n",
       "      <th>PA5552</th>\n",
       "      <th>PA5554</th>\n",
       "      <th>PA5556</th>\n",
       "      <th>PA5560</th>\n",
       "      <th>PA5565</th>\n",
       "      <th>PA5566</th>\n",
       "      <th>PA5567</th>\n",
       "      <th>PA5568</th>\n",
       "    </tr>\n",
       "  </thead>\n",
       "  <tbody>\n",
       "    <tr>\n",
       "      <th>0</th>\n",
       "      <td>0.329806</td>\n",
       "      <td>0.360680</td>\n",
       "      <td>0.25423</td>\n",
       "      <td>0.89583</td>\n",
       "      <td>0.409416</td>\n",
       "      <td>0.556992</td>\n",
       "      <td>0.50185</td>\n",
       "      <td>0.449369</td>\n",
       "      <td>0.322643</td>\n",
       "      <td>0.535655</td>\n",
       "      <td>...</td>\n",
       "      <td>0.15488</td>\n",
       "      <td>0.298189</td>\n",
       "      <td>0.293156</td>\n",
       "      <td>0.90005</td>\n",
       "      <td>0.404643</td>\n",
       "      <td>0.429334</td>\n",
       "      <td>0.91275</td>\n",
       "      <td>0.1578</td>\n",
       "      <td>0.80773</td>\n",
       "      <td>0.88472</td>\n",
       "    </tr>\n",
       "    <tr>\n",
       "      <th>1</th>\n",
       "      <td>0.414093</td>\n",
       "      <td>0.552172</td>\n",
       "      <td>0.25423</td>\n",
       "      <td>0.89583</td>\n",
       "      <td>0.479455</td>\n",
       "      <td>0.339018</td>\n",
       "      <td>0.50185</td>\n",
       "      <td>0.389313</td>\n",
       "      <td>0.329444</td>\n",
       "      <td>0.415702</td>\n",
       "      <td>...</td>\n",
       "      <td>0.15488</td>\n",
       "      <td>0.414329</td>\n",
       "      <td>0.554430</td>\n",
       "      <td>0.90005</td>\n",
       "      <td>0.342969</td>\n",
       "      <td>0.332321</td>\n",
       "      <td>0.91275</td>\n",
       "      <td>0.1578</td>\n",
       "      <td>0.80773</td>\n",
       "      <td>0.88472</td>\n",
       "    </tr>\n",
       "    <tr>\n",
       "      <th>2</th>\n",
       "      <td>0.453730</td>\n",
       "      <td>0.369600</td>\n",
       "      <td>0.25423</td>\n",
       "      <td>0.89583</td>\n",
       "      <td>0.425205</td>\n",
       "      <td>0.357400</td>\n",
       "      <td>0.50185</td>\n",
       "      <td>0.452626</td>\n",
       "      <td>0.524714</td>\n",
       "      <td>0.553599</td>\n",
       "      <td>...</td>\n",
       "      <td>0.15488</td>\n",
       "      <td>0.354719</td>\n",
       "      <td>0.321810</td>\n",
       "      <td>0.90005</td>\n",
       "      <td>0.564343</td>\n",
       "      <td>0.309103</td>\n",
       "      <td>0.91275</td>\n",
       "      <td>0.1578</td>\n",
       "      <td>0.80773</td>\n",
       "      <td>0.88472</td>\n",
       "    </tr>\n",
       "    <tr>\n",
       "      <th>3</th>\n",
       "      <td>0.426662</td>\n",
       "      <td>0.635862</td>\n",
       "      <td>0.25423</td>\n",
       "      <td>0.89583</td>\n",
       "      <td>0.497336</td>\n",
       "      <td>0.271226</td>\n",
       "      <td>0.50185</td>\n",
       "      <td>0.447780</td>\n",
       "      <td>0.369926</td>\n",
       "      <td>0.470515</td>\n",
       "      <td>...</td>\n",
       "      <td>0.15488</td>\n",
       "      <td>0.626151</td>\n",
       "      <td>0.549495</td>\n",
       "      <td>0.90005</td>\n",
       "      <td>0.442716</td>\n",
       "      <td>0.307923</td>\n",
       "      <td>0.91275</td>\n",
       "      <td>0.1578</td>\n",
       "      <td>0.80773</td>\n",
       "      <td>0.88472</td>\n",
       "    </tr>\n",
       "    <tr>\n",
       "      <th>4</th>\n",
       "      <td>0.517083</td>\n",
       "      <td>0.656853</td>\n",
       "      <td>0.25423</td>\n",
       "      <td>0.89583</td>\n",
       "      <td>0.456250</td>\n",
       "      <td>0.312177</td>\n",
       "      <td>0.50185</td>\n",
       "      <td>0.559084</td>\n",
       "      <td>0.315138</td>\n",
       "      <td>0.665910</td>\n",
       "      <td>...</td>\n",
       "      <td>0.15488</td>\n",
       "      <td>0.578864</td>\n",
       "      <td>0.303839</td>\n",
       "      <td>0.90005</td>\n",
       "      <td>0.349975</td>\n",
       "      <td>0.478697</td>\n",
       "      <td>0.91275</td>\n",
       "      <td>0.1578</td>\n",
       "      <td>0.80773</td>\n",
       "      <td>0.88472</td>\n",
       "    </tr>\n",
       "  </tbody>\n",
       "</table>\n",
       "<p>5 rows × 2000 columns</p>\n",
       "</div>"
      ],
      "text/plain": [
       "     PA0002    PA0003   PA0007   PA0009    PA0010    PA0014   PA0015  \\\n",
       "0  0.329806  0.360680  0.25423  0.89583  0.409416  0.556992  0.50185   \n",
       "1  0.414093  0.552172  0.25423  0.89583  0.479455  0.339018  0.50185   \n",
       "2  0.453730  0.369600  0.25423  0.89583  0.425205  0.357400  0.50185   \n",
       "3  0.426662  0.635862  0.25423  0.89583  0.497336  0.271226  0.50185   \n",
       "4  0.517083  0.656853  0.25423  0.89583  0.456250  0.312177  0.50185   \n",
       "\n",
       "     PA0017    PA0019    PA0020   ...      PA5543    PA5544    PA5552  \\\n",
       "0  0.449369  0.322643  0.535655   ...     0.15488  0.298189  0.293156   \n",
       "1  0.389313  0.329444  0.415702   ...     0.15488  0.414329  0.554430   \n",
       "2  0.452626  0.524714  0.553599   ...     0.15488  0.354719  0.321810   \n",
       "3  0.447780  0.369926  0.470515   ...     0.15488  0.626151  0.549495   \n",
       "4  0.559084  0.315138  0.665910   ...     0.15488  0.578864  0.303839   \n",
       "\n",
       "    PA5554    PA5556    PA5560   PA5565  PA5566   PA5567   PA5568  \n",
       "0  0.90005  0.404643  0.429334  0.91275  0.1578  0.80773  0.88472  \n",
       "1  0.90005  0.342969  0.332321  0.91275  0.1578  0.80773  0.88472  \n",
       "2  0.90005  0.564343  0.309103  0.91275  0.1578  0.80773  0.88472  \n",
       "3  0.90005  0.442716  0.307923  0.91275  0.1578  0.80773  0.88472  \n",
       "4  0.90005  0.349975  0.478697  0.91275  0.1578  0.80773  0.88472  \n",
       "\n",
       "[5 rows x 2000 columns]"
      ]
     },
     "execution_count": 9,
     "metadata": {},
     "output_type": "execute_result"
    }
   ],
   "source": [
    "# Artificially shift gene A expression\n",
    "\n",
    "# Get single sample\n",
    "test_sample = geneSetA_mean_original_all[geneSetA_mean_original_all == min(geneSetA_mean_original_all)].index[0]\n",
    "print(test_sample)\n",
    "\n",
    "# Sample with original value of gene A\n",
    "A_exp_sample = sim_data.loc[test_sample]\n",
    "\n",
    "A_exp_sample_modified_df = pd.DataFrame()\n",
    "\n",
    "A_exp_sample_modified_df.append(A_exp_sample, ignore_index=True)\n",
    "\n",
    "# Convert dataframe with gene ids to list\n",
    "geneSetA_ls = geneSetA['gene id'].values.tolist()\n",
    "\n",
    "# Artificially shift genes in set A\n",
    "mu_As = np.linspace(0.45, 0.55, num=100)\n",
    "geneSetA_size = len(geneSetA_ls)\n",
    "\n",
    "for i in mu_As:\n",
    "    sigma_A = 0.1\n",
    "    new_geneA_dist = np.random.normal(i, sigma_A, geneSetA_size)\n",
    "    sim_data.loc[test_sample,geneSetA_ls] = new_geneA_dist \n",
    "    A_exp_sample = sim_data.loc[test_sample]\n",
    "    A_exp_sample_modified_df = A_exp_sample_modified_df.append(A_exp_sample, ignore_index=True)\n",
    "\n",
    "A_exp_sample_modified_df.head()"
   ]
  },
  {
   "cell_type": "code",
   "execution_count": 10,
   "metadata": {
    "ExecuteTime": {
     "end_time": "2019-04-16T17:04:07.347825Z",
     "start_time": "2019-04-16T17:04:07.322847Z"
    }
   },
   "outputs": [],
   "source": [
    "# Define function to apply latent space transformation to SHIFTED data and output reconstructed data\n",
    "\n",
    "def interpolate_in_vae_latent_space_shiftA(all_data, \n",
    "                                       sample_data,\n",
    "                                       model_encoder_file,\n",
    "                                       model_decoder_file,\n",
    "                                       weights_encoder_file,\n",
    "                                       weights_decoder_file,\n",
    "                                       encoded_dir,\n",
    "                                       percent_low,\n",
    "                                       percent_high,\n",
    "                                       out_dir):\n",
    "    \"\"\"\n",
    "    interpolate_in_vae_latent_space(all_data: dataframe,\n",
    "                                    sample_data: dataframe,\n",
    "                                    model_encoder_file: string,\n",
    "                                    model_decoder_file: string,\n",
    "                                    weights_encoder_file: string,\n",
    "                                    weights_decoder_file: string,\n",
    "                                    encoded_dir: string,\n",
    "                                    gene_id: string,\n",
    "                                    percent_low: integer,\n",
    "                                    percent_high: integer,\n",
    "                                    out_dir: string):\n",
    "\n",
    "    input:\n",
    "        all_data: Dataframe with gene expression data from all samples\n",
    "        \n",
    "        sample_data:  Dataframe with gene expression data from subset of samples (around the treshold)\n",
    "\n",
    "        model_encoder_file: file containing the learned vae encoder model\n",
    "\n",
    "        model_decoder_file: file containing the learned vae decoder model\n",
    "        \n",
    "        weights_encoder_file: file containing the learned weights associated with the vae encoder model\n",
    "        \n",
    "        weights_decoder_file: file containing the learned weights associated with the vae decoder model\n",
    "        \n",
    "        encoded_dir:  directory to use to output offset vector to \n",
    "\n",
    "        gene_id: gene you are using as the \"phenotype\" to sort samples by \n",
    "\n",
    "                 This gene is referred to as \"target_gene\" in comments below\n",
    "\n",
    "\n",
    "        percent_low: integer between 0 and 1\n",
    "\n",
    "        percent_high: integer between 0 and 1\n",
    "        \n",
    "        out_dir: directory to output predicted gene expression to\n",
    "\n",
    "    computation:\n",
    "        1.  Sort samples based on the expression level of the target gene defined by the user\n",
    "        2.  Sample_data are encoded into VAE latent space\n",
    "        3.  We predict the expression profile of the OTHER genes at a given level of target gene \n",
    "            expression by adding a scale factor of offset vector to the sample\n",
    "\n",
    "            The scale factor depends on the distance along the target gene expression gradient\n",
    "            the sample is.  For example the range along the target gene expression is from 0 to 1.  \n",
    "            If the sample of interest has a target gene expression of 0.3 then our prediction\n",
    "            for the gene expression of all other genes is equal to the gene expression corresponding\n",
    "            to the target gene expression=0 + 0.3*offset latent vector\n",
    "        3.  Prediction is decoded back into gene space\n",
    "        4.  This computation is repeated for all samples \n",
    "\n",
    "    output: \n",
    "         1. encoded predicted expression profile per sample\n",
    "         2. predicted expression profile per sample\n",
    "\n",
    "    \"\"\"\n",
    "\n",
    "    # Load arguments\n",
    "    offset_file = os.path.join(encoded_dir, \"offset_latent_space_vae.txt\")\n",
    "\n",
    "    # Output file\n",
    "    predict_file = os.path.join(out_dir, \"shifted_predicted_gene_exp.txt\")\n",
    "    predict_encoded_file = os.path.join(out_dir, \"shifted_predicted_encoded_gene_exp.txt\")  \n",
    "    \n",
    "    # read in saved VAE models\n",
    "    loaded_model = load_model(model_encoder_file)\n",
    "    loaded_decoder_model = load_model(model_decoder_file)\n",
    "\n",
    "    # load weights into models\n",
    "    loaded_model.load_weights(weights_encoder_file)\n",
    "    loaded_decoder_model.load_weights(weights_decoder_file)\n",
    "    \n",
    "    # Initialize dataframe for predicted expression of sampled data\n",
    "    predicted_sample_data = pd.DataFrame(columns=sample_data.columns)\n",
    "    predicted_encoded_sample_data = pd.DataFrame()\n",
    "    \n",
    "    sample_ids = sample_data.index\n",
    "    for sample_id in sample_ids:\n",
    "        sample_exp = sample_data.loc[sample_id].to_frame().T\n",
    "        \n",
    "        # Use trained model to encode expression data into SAME latent space\n",
    "        predict = loaded_model.predict_on_batch(sample_exp)\n",
    "\n",
    "        predict_encoded_df = pd.DataFrame(predict)\n",
    "        \n",
    "        predicted_encoded_sample_data = (\n",
    "            predicted_encoded_sample_data\n",
    "            .append(predict_encoded_df, ignore_index=True)\n",
    "        )\n",
    "        \n",
    "        # Decode prediction\n",
    "        predict_decoded = loaded_decoder_model.predict_on_batch(predict_encoded_df)\n",
    "        predict_df = pd.DataFrame(\n",
    "            predict_decoded, columns=sample_data.columns)\n",
    "        \n",
    "        predicted_sample_data = (\n",
    "            predicted_sample_data\n",
    "            .append(predict_df, ignore_index=True)\n",
    "        )\n",
    "\n",
    "    predicted_sample_data.set_index(sample_data.index, inplace=True)\n",
    "    predicted_encoded_sample_data.set_index(sample_data.index, inplace=True)\n",
    "    \n",
    "    # Output estimated gene experession values\n",
    "    predicted_sample_data.to_csv(predict_file, sep='\\t')\n",
    "    predicted_encoded_sample_data.to_csv(predict_encoded_file, sep='\\t')"
   ]
  },
  {
   "cell_type": "code",
   "execution_count": 11,
   "metadata": {
    "ExecuteTime": {
     "end_time": "2019-04-16T17:04:08.106083Z",
     "start_time": "2019-04-16T17:04:07.349044Z"
    }
   },
   "outputs": [
    {
     "name": "stderr",
     "output_type": "stream",
     "text": [
      "/home/alexandra/anaconda3/envs/Pa/lib/python3.5/site-packages/keras/models.py:255: UserWarning: No training configuration found in save file: the model was *not* compiled. Compile it manually.\n",
      "  warnings.warn('No training configuration found in save file: '\n"
     ]
    }
   ],
   "source": [
    "# Apply function \n",
    "out_dir = os.path.join(base_dir, \"output\", analysis_name)\n",
    "encoded_dir = os.path.join(base_dir, \"encoded\", analysis_name)\n",
    "\n",
    "percent_low = 5\n",
    "percent_high = 95\n",
    "interpolate_in_vae_latent_space_shiftA(sim_data,\n",
    "                                   A_exp_sample_modified_df,\n",
    "                                   model_encoder_file,\n",
    "                                   model_decoder_file,\n",
    "                                   weights_encoder_file,\n",
    "                                   weights_decoder_file,\n",
    "                                   encoded_dir,\n",
    "                                   percent_low,\n",
    "                                   percent_high,\n",
    "                                   out_dir)"
   ]
  },
  {
   "cell_type": "code",
   "execution_count": 12,
   "metadata": {
    "ExecuteTime": {
     "end_time": "2019-04-16T17:04:08.205625Z",
     "start_time": "2019-04-16T17:04:08.107196Z"
    }
   },
   "outputs": [
    {
     "name": "stdout",
     "output_type": "stream",
     "text": [
      "(100, 2000)\n"
     ]
    },
    {
     "data": {
      "text/html": [
       "<div>\n",
       "<style scoped>\n",
       "    .dataframe tbody tr th:only-of-type {\n",
       "        vertical-align: middle;\n",
       "    }\n",
       "\n",
       "    .dataframe tbody tr th {\n",
       "        vertical-align: top;\n",
       "    }\n",
       "\n",
       "    .dataframe thead th {\n",
       "        text-align: right;\n",
       "    }\n",
       "</style>\n",
       "<table border=\"1\" class=\"dataframe\">\n",
       "  <thead>\n",
       "    <tr style=\"text-align: right;\">\n",
       "      <th></th>\n",
       "      <th>PA0002</th>\n",
       "      <th>PA0003</th>\n",
       "      <th>PA0007</th>\n",
       "      <th>PA0009</th>\n",
       "      <th>PA0010</th>\n",
       "      <th>PA0014</th>\n",
       "      <th>PA0015</th>\n",
       "      <th>PA0017</th>\n",
       "      <th>PA0019</th>\n",
       "      <th>PA0020</th>\n",
       "      <th>...</th>\n",
       "      <th>PA5543</th>\n",
       "      <th>PA5544</th>\n",
       "      <th>PA5552</th>\n",
       "      <th>PA5554</th>\n",
       "      <th>PA5556</th>\n",
       "      <th>PA5560</th>\n",
       "      <th>PA5565</th>\n",
       "      <th>PA5566</th>\n",
       "      <th>PA5567</th>\n",
       "      <th>PA5568</th>\n",
       "    </tr>\n",
       "  </thead>\n",
       "  <tbody>\n",
       "    <tr>\n",
       "      <th>0</th>\n",
       "      <td>0.502564</td>\n",
       "      <td>0.496413</td>\n",
       "      <td>0.492944</td>\n",
       "      <td>0.489103</td>\n",
       "      <td>0.490971</td>\n",
       "      <td>0.476231</td>\n",
       "      <td>0.508421</td>\n",
       "      <td>0.484849</td>\n",
       "      <td>0.508823</td>\n",
       "      <td>0.470500</td>\n",
       "      <td>...</td>\n",
       "      <td>0.611784</td>\n",
       "      <td>0.198850</td>\n",
       "      <td>0.299635</td>\n",
       "      <td>0.219586</td>\n",
       "      <td>0.437674</td>\n",
       "      <td>0.439927</td>\n",
       "      <td>0.516796</td>\n",
       "      <td>0.412408</td>\n",
       "      <td>0.600539</td>\n",
       "      <td>0.402798</td>\n",
       "    </tr>\n",
       "    <tr>\n",
       "      <th>1</th>\n",
       "      <td>0.502608</td>\n",
       "      <td>0.496591</td>\n",
       "      <td>0.492832</td>\n",
       "      <td>0.489006</td>\n",
       "      <td>0.490978</td>\n",
       "      <td>0.476483</td>\n",
       "      <td>0.508468</td>\n",
       "      <td>0.484809</td>\n",
       "      <td>0.508882</td>\n",
       "      <td>0.470553</td>\n",
       "      <td>...</td>\n",
       "      <td>0.611690</td>\n",
       "      <td>0.200087</td>\n",
       "      <td>0.300438</td>\n",
       "      <td>0.220446</td>\n",
       "      <td>0.438036</td>\n",
       "      <td>0.440215</td>\n",
       "      <td>0.516834</td>\n",
       "      <td>0.412684</td>\n",
       "      <td>0.600116</td>\n",
       "      <td>0.403252</td>\n",
       "    </tr>\n",
       "    <tr>\n",
       "      <th>2</th>\n",
       "      <td>0.502560</td>\n",
       "      <td>0.496440</td>\n",
       "      <td>0.492913</td>\n",
       "      <td>0.489072</td>\n",
       "      <td>0.490948</td>\n",
       "      <td>0.476303</td>\n",
       "      <td>0.508409</td>\n",
       "      <td>0.484893</td>\n",
       "      <td>0.508850</td>\n",
       "      <td>0.470525</td>\n",
       "      <td>...</td>\n",
       "      <td>0.611686</td>\n",
       "      <td>0.199237</td>\n",
       "      <td>0.299939</td>\n",
       "      <td>0.219893</td>\n",
       "      <td>0.437803</td>\n",
       "      <td>0.439988</td>\n",
       "      <td>0.516768</td>\n",
       "      <td>0.412485</td>\n",
       "      <td>0.600332</td>\n",
       "      <td>0.402925</td>\n",
       "    </tr>\n",
       "    <tr>\n",
       "      <th>3</th>\n",
       "      <td>0.502805</td>\n",
       "      <td>0.497235</td>\n",
       "      <td>0.492471</td>\n",
       "      <td>0.488707</td>\n",
       "      <td>0.491086</td>\n",
       "      <td>0.477282</td>\n",
       "      <td>0.508709</td>\n",
       "      <td>0.484494</td>\n",
       "      <td>0.509035</td>\n",
       "      <td>0.470695</td>\n",
       "      <td>...</td>\n",
       "      <td>0.611646</td>\n",
       "      <td>0.203950</td>\n",
       "      <td>0.302752</td>\n",
       "      <td>0.222989</td>\n",
       "      <td>0.439103</td>\n",
       "      <td>0.441211</td>\n",
       "      <td>0.517094</td>\n",
       "      <td>0.413579</td>\n",
       "      <td>0.599081</td>\n",
       "      <td>0.404711</td>\n",
       "    </tr>\n",
       "    <tr>\n",
       "      <th>4</th>\n",
       "      <td>0.502605</td>\n",
       "      <td>0.496651</td>\n",
       "      <td>0.492768</td>\n",
       "      <td>0.488943</td>\n",
       "      <td>0.490936</td>\n",
       "      <td>0.476631</td>\n",
       "      <td>0.508448</td>\n",
       "      <td>0.484888</td>\n",
       "      <td>0.508937</td>\n",
       "      <td>0.470602</td>\n",
       "      <td>...</td>\n",
       "      <td>0.611503</td>\n",
       "      <td>0.200884</td>\n",
       "      <td>0.301051</td>\n",
       "      <td>0.221070</td>\n",
       "      <td>0.438297</td>\n",
       "      <td>0.440344</td>\n",
       "      <td>0.516785</td>\n",
       "      <td>0.412845</td>\n",
       "      <td>0.599706</td>\n",
       "      <td>0.403516</td>\n",
       "    </tr>\n",
       "  </tbody>\n",
       "</table>\n",
       "<p>5 rows × 2000 columns</p>\n",
       "</div>"
      ],
      "text/plain": [
       "     PA0002    PA0003    PA0007    PA0009    PA0010    PA0014    PA0015  \\\n",
       "0  0.502564  0.496413  0.492944  0.489103  0.490971  0.476231  0.508421   \n",
       "1  0.502608  0.496591  0.492832  0.489006  0.490978  0.476483  0.508468   \n",
       "2  0.502560  0.496440  0.492913  0.489072  0.490948  0.476303  0.508409   \n",
       "3  0.502805  0.497235  0.492471  0.488707  0.491086  0.477282  0.508709   \n",
       "4  0.502605  0.496651  0.492768  0.488943  0.490936  0.476631  0.508448   \n",
       "\n",
       "     PA0017    PA0019    PA0020    ...       PA5543    PA5544    PA5552  \\\n",
       "0  0.484849  0.508823  0.470500    ...     0.611784  0.198850  0.299635   \n",
       "1  0.484809  0.508882  0.470553    ...     0.611690  0.200087  0.300438   \n",
       "2  0.484893  0.508850  0.470525    ...     0.611686  0.199237  0.299939   \n",
       "3  0.484494  0.509035  0.470695    ...     0.611646  0.203950  0.302752   \n",
       "4  0.484888  0.508937  0.470602    ...     0.611503  0.200884  0.301051   \n",
       "\n",
       "     PA5554    PA5556    PA5560    PA5565    PA5566    PA5567    PA5568  \n",
       "0  0.219586  0.437674  0.439927  0.516796  0.412408  0.600539  0.402798  \n",
       "1  0.220446  0.438036  0.440215  0.516834  0.412684  0.600116  0.403252  \n",
       "2  0.219893  0.437803  0.439988  0.516768  0.412485  0.600332  0.402925  \n",
       "3  0.222989  0.439103  0.441211  0.517094  0.413579  0.599081  0.404711  \n",
       "4  0.221070  0.438297  0.440344  0.516785  0.412845  0.599706  0.403516  \n",
       "\n",
       "[5 rows x 2000 columns]"
      ]
     },
     "execution_count": 12,
     "metadata": {},
     "output_type": "execute_result"
    }
   ],
   "source": [
    "# Read dataframe with gene expression transformed\n",
    "predict_file = os.path.join(base_dir, \"output\", analysis_name, \"shifted_predicted_gene_exp.txt\")\n",
    "predict_gene_exp = pd.read_table(predict_file, header=0, index_col=0)\n",
    "\n",
    "print(predict_gene_exp.shape)\n",
    "predict_gene_exp.head()"
   ]
  },
  {
   "cell_type": "code",
   "execution_count": 13,
   "metadata": {
    "ExecuteTime": {
     "end_time": "2019-04-16T17:04:08.224601Z",
     "start_time": "2019-04-16T17:04:08.206930Z"
    }
   },
   "outputs": [
    {
     "data": {
      "text/plain": [
       "0    0.41219\n",
       "1    0.41219\n",
       "2    0.41219\n",
       "3    0.41219\n",
       "4    0.41219\n",
       "dtype: float64"
      ]
     },
     "execution_count": 13,
     "metadata": {},
     "output_type": "execute_result"
    }
   ],
   "source": [
    "# Get the means of ORIGINAL B genes\n",
    "\n",
    "# Convert dataframe with gene ids to list\n",
    "geneSetB_ls = geneSetB['gene id'].values.tolist()\n",
    "\n",
    "geneSetB_exp = A_exp_sample_modified_df[geneSetB_ls]\n",
    "\n",
    "# Get the mean for each sample\n",
    "geneSetB_mean_original = geneSetB_exp.mean(axis=1)\n",
    "geneSetB_mean_original.head()"
   ]
  },
  {
   "cell_type": "code",
   "execution_count": 14,
   "metadata": {
    "ExecuteTime": {
     "end_time": "2019-04-16T17:04:08.252209Z",
     "start_time": "2019-04-16T17:04:08.226247Z"
    }
   },
   "outputs": [
    {
     "data": {
      "text/plain": [
       "0    0.446044\n",
       "1    0.451849\n",
       "2    0.453056\n",
       "3    0.459678\n",
       "4    0.460016\n",
       "dtype: float64"
      ]
     },
     "execution_count": 14,
     "metadata": {},
     "output_type": "execute_result"
    }
   ],
   "source": [
    "# Get the means of ORIGINAL A genes\n",
    "\n",
    "# Convert dataframe with gene ids to list\n",
    "geneSetA_ls = geneSetA['gene id'].values.tolist()\n",
    "\n",
    "geneSetA_exp = A_exp_sample_modified_df[geneSetA_ls]\n",
    "\n",
    "# Get the mean for each sample\n",
    "geneSetA_mean_original = geneSetA_exp.mean(axis=1)\n",
    "geneSetA_mean_original.head()"
   ]
  },
  {
   "cell_type": "code",
   "execution_count": 15,
   "metadata": {
    "ExecuteTime": {
     "end_time": "2019-04-16T17:04:08.277183Z",
     "start_time": "2019-04-16T17:04:08.254030Z"
    }
   },
   "outputs": [
    {
     "data": {
      "text/plain": [
       "0    0.457477\n",
       "1    0.457662\n",
       "2    0.457534\n",
       "3    0.458243\n",
       "4    0.457779\n",
       "dtype: float64"
      ]
     },
     "execution_count": 15,
     "metadata": {},
     "output_type": "execute_result"
    }
   ],
   "source": [
    "# Get the means of TRANSFORMED B genes\n",
    "\n",
    "# Convert dataframe with gene ids to list\n",
    "geneSetB_ls = geneSetB['gene id'].values.tolist()\n",
    "\n",
    "geneSetB_exp = predict_gene_exp[geneSetB_ls]\n",
    "\n",
    "# Get the mean for each sample\n",
    "geneSetB_mean_transformed = geneSetB_exp.mean(axis=1)\n",
    "geneSetB_mean_transformed.head()"
   ]
  },
  {
   "cell_type": "code",
   "execution_count": 16,
   "metadata": {
    "ExecuteTime": {
     "end_time": "2019-04-16T17:04:08.297492Z",
     "start_time": "2019-04-16T17:04:08.279683Z"
    }
   },
   "outputs": [
    {
     "data": {
      "text/plain": [
       "0    0.454224\n",
       "1    0.454420\n",
       "2    0.454287\n",
       "3    0.455023\n",
       "4    0.454550\n",
       "dtype: float64"
      ]
     },
     "execution_count": 16,
     "metadata": {},
     "output_type": "execute_result"
    }
   ],
   "source": [
    "# Get the means of TRANSFORMED A genes\n",
    "\n",
    "# Convert dataframe with gene ids to list\n",
    "geneSetA_ls = geneSetA['gene id'].values.tolist()\n",
    "\n",
    "geneSetA_exp = predict_gene_exp[geneSetA_ls]\n",
    "\n",
    "# Get the mean for each sample\n",
    "geneSetA_mean_transformed = geneSetA_exp.mean(axis=1)\n",
    "geneSetA_mean_transformed.head()"
   ]
  },
  {
   "cell_type": "markdown",
   "metadata": {},
   "source": [
    "**Plot:** Original A vs Transformed A"
   ]
  },
  {
   "cell_type": "code",
   "execution_count": 17,
   "metadata": {
    "ExecuteTime": {
     "end_time": "2019-04-16T17:04:08.318860Z",
     "start_time": "2019-04-16T17:04:08.298863Z"
    }
   },
   "outputs": [
    {
     "data": {
      "text/html": [
       "<div>\n",
       "<style scoped>\n",
       "    .dataframe tbody tr th:only-of-type {\n",
       "        vertical-align: middle;\n",
       "    }\n",
       "\n",
       "    .dataframe tbody tr th {\n",
       "        vertical-align: top;\n",
       "    }\n",
       "\n",
       "    .dataframe thead th {\n",
       "        text-align: right;\n",
       "    }\n",
       "</style>\n",
       "<table border=\"1\" class=\"dataframe\">\n",
       "  <thead>\n",
       "    <tr style=\"text-align: right;\">\n",
       "      <th></th>\n",
       "      <th>mean gene A untransformed</th>\n",
       "      <th>mean gene A transformed</th>\n",
       "    </tr>\n",
       "  </thead>\n",
       "  <tbody>\n",
       "    <tr>\n",
       "      <th>0</th>\n",
       "      <td>0.446044</td>\n",
       "      <td>0.454224</td>\n",
       "    </tr>\n",
       "    <tr>\n",
       "      <th>1</th>\n",
       "      <td>0.451849</td>\n",
       "      <td>0.454420</td>\n",
       "    </tr>\n",
       "    <tr>\n",
       "      <th>2</th>\n",
       "      <td>0.453056</td>\n",
       "      <td>0.454287</td>\n",
       "    </tr>\n",
       "    <tr>\n",
       "      <th>3</th>\n",
       "      <td>0.459678</td>\n",
       "      <td>0.455023</td>\n",
       "    </tr>\n",
       "    <tr>\n",
       "      <th>4</th>\n",
       "      <td>0.460016</td>\n",
       "      <td>0.454550</td>\n",
       "    </tr>\n",
       "  </tbody>\n",
       "</table>\n",
       "</div>"
      ],
      "text/plain": [
       "   mean gene A untransformed  mean gene A transformed\n",
       "0                   0.446044                 0.454224\n",
       "1                   0.451849                 0.454420\n",
       "2                   0.453056                 0.454287\n",
       "3                   0.459678                 0.455023\n",
       "4                   0.460016                 0.454550"
      ]
     },
     "execution_count": 17,
     "metadata": {},
     "output_type": "execute_result"
    }
   ],
   "source": [
    "# Join original expression of A and transformed expression of A\n",
    "original_A_mean_exp = geneSetA_mean_original\n",
    "predict_A_mean_exp = geneSetA_mean_transformed\n",
    "\n",
    "original_A_vs_transformed_A_df = pd.merge(original_A_mean_exp.to_frame('mean gene A untransformed'),\n",
    "                                          predict_A_mean_exp.to_frame('mean gene A transformed'),\n",
    "                                          left_index=True, right_index=True)\n",
    "\n",
    "original_A_vs_transformed_A_df.head()"
   ]
  },
  {
   "cell_type": "code",
   "execution_count": 18,
   "metadata": {
    "ExecuteTime": {
     "end_time": "2019-04-16T17:04:08.686596Z",
     "start_time": "2019-04-16T17:04:08.321793Z"
    }
   },
   "outputs": [
    {
     "data": {
      "text/plain": [
       "<matplotlib.axes._subplots.AxesSubplot at 0x7f31d07d0278>"
      ]
     },
     "execution_count": 18,
     "metadata": {},
     "output_type": "execute_result"
    },
    {
     "data": {
      "image/png": "[encoded data removed]",
      "text/plain": [
       "<matplotlib.figure.Figure at 0x7f31d07b5fd0>"
      ]
     },
     "metadata": {},
     "output_type": "display_data"
    }
   ],
   "source": [
    "# Plot\n",
    "sns.regplot(x='mean gene A untransformed',\n",
    "            y='mean gene A transformed',\n",
    "           data = original_A_vs_transformed_A_df)"
   ]
  },
  {
   "cell_type": "markdown",
   "metadata": {},
   "source": [
    "**Plot:** Original A vs Mean(Transformed B)"
   ]
  },
  {
   "cell_type": "code",
   "execution_count": 19,
   "metadata": {
    "ExecuteTime": {
     "end_time": "2019-04-16T17:04:08.718477Z",
     "start_time": "2019-04-16T17:04:08.688024Z"
    }
   },
   "outputs": [
    {
     "data": {
      "text/html": [
       "<div>\n",
       "<style scoped>\n",
       "    .dataframe tbody tr th:only-of-type {\n",
       "        vertical-align: middle;\n",
       "    }\n",
       "\n",
       "    .dataframe tbody tr th {\n",
       "        vertical-align: top;\n",
       "    }\n",
       "\n",
       "    .dataframe thead th {\n",
       "        text-align: right;\n",
       "    }\n",
       "</style>\n",
       "<table border=\"1\" class=\"dataframe\">\n",
       "  <thead>\n",
       "    <tr style=\"text-align: right;\">\n",
       "      <th></th>\n",
       "      <th>mean gene A untransformed</th>\n",
       "      <th>mean gene B transformed</th>\n",
       "    </tr>\n",
       "  </thead>\n",
       "  <tbody>\n",
       "    <tr>\n",
       "      <th>0</th>\n",
       "      <td>0.446044</td>\n",
       "      <td>0.457477</td>\n",
       "    </tr>\n",
       "    <tr>\n",
       "      <th>1</th>\n",
       "      <td>0.451849</td>\n",
       "      <td>0.457662</td>\n",
       "    </tr>\n",
       "    <tr>\n",
       "      <th>2</th>\n",
       "      <td>0.453056</td>\n",
       "      <td>0.457534</td>\n",
       "    </tr>\n",
       "    <tr>\n",
       "      <th>3</th>\n",
       "      <td>0.459678</td>\n",
       "      <td>0.458243</td>\n",
       "    </tr>\n",
       "    <tr>\n",
       "      <th>4</th>\n",
       "      <td>0.460016</td>\n",
       "      <td>0.457779</td>\n",
       "    </tr>\n",
       "  </tbody>\n",
       "</table>\n",
       "</div>"
      ],
      "text/plain": [
       "   mean gene A untransformed  mean gene B transformed\n",
       "0                   0.446044                 0.457477\n",
       "1                   0.451849                 0.457662\n",
       "2                   0.453056                 0.457534\n",
       "3                   0.459678                 0.458243\n",
       "4                   0.460016                 0.457779"
      ]
     },
     "execution_count": 19,
     "metadata": {},
     "output_type": "execute_result"
    }
   ],
   "source": [
    "# Join original expression of A and mean(transformed expression of B)\n",
    "original_A_mean_exp = geneSetA_mean_original\n",
    "predict_B_mean_exp = geneSetB_mean_transformed\n",
    "\n",
    "original_A_vs_transformed_B_df = pd.merge(original_A_mean_exp.to_frame('mean gene A untransformed'),\n",
    "                      predict_B_mean_exp.to_frame('mean gene B transformed'),\n",
    "                      left_index=True, right_index=True)\n",
    "\n",
    "original_A_vs_transformed_B_df.head()"
   ]
  },
  {
   "cell_type": "code",
   "execution_count": 20,
   "metadata": {
    "ExecuteTime": {
     "end_time": "2019-04-16T17:04:08.960079Z",
     "start_time": "2019-04-16T17:04:08.719785Z"
    }
   },
   "outputs": [
    {
     "data": {
      "text/plain": [
       "<matplotlib.axes._subplots.AxesSubplot at 0x7f31d07d1a58>"
      ]
     },
     "execution_count": 20,
     "metadata": {},
     "output_type": "execute_result"
    },
    {
     "data": {
      "image/png": "[encoded data removed]",
      "text/plain": [
       "<matplotlib.figure.Figure at 0x7f31d07d0208>"
      ]
     },
     "metadata": {},
     "output_type": "display_data"
    }
   ],
   "source": [
    "# Plot\n",
    "# A before transformation vs B after transformation\n",
    "sns.regplot(x='mean gene A untransformed',\n",
    "            y='mean gene B transformed',\n",
    "           data = original_A_vs_transformed_B_df)"
   ]
  },
  {
   "cell_type": "markdown",
   "metadata": {},
   "source": [
    "**Plot:** Transformed A vs Mean(Transformed B)"
   ]
  },
  {
   "cell_type": "code",
   "execution_count": 21,
   "metadata": {
    "ExecuteTime": {
     "end_time": "2019-04-16T17:04:08.988570Z",
     "start_time": "2019-04-16T17:04:08.962073Z"
    }
   },
   "outputs": [
    {
     "data": {
      "text/html": [
       "<div>\n",
       "<style scoped>\n",
       "    .dataframe tbody tr th:only-of-type {\n",
       "        vertical-align: middle;\n",
       "    }\n",
       "\n",
       "    .dataframe tbody tr th {\n",
       "        vertical-align: top;\n",
       "    }\n",
       "\n",
       "    .dataframe thead th {\n",
       "        text-align: right;\n",
       "    }\n",
       "</style>\n",
       "<table border=\"1\" class=\"dataframe\">\n",
       "  <thead>\n",
       "    <tr style=\"text-align: right;\">\n",
       "      <th></th>\n",
       "      <th>mean gene A transformed</th>\n",
       "      <th>mean gene B transformed</th>\n",
       "    </tr>\n",
       "  </thead>\n",
       "  <tbody>\n",
       "    <tr>\n",
       "      <th>0</th>\n",
       "      <td>0.454224</td>\n",
       "      <td>0.457477</td>\n",
       "    </tr>\n",
       "    <tr>\n",
       "      <th>1</th>\n",
       "      <td>0.454420</td>\n",
       "      <td>0.457662</td>\n",
       "    </tr>\n",
       "    <tr>\n",
       "      <th>2</th>\n",
       "      <td>0.454287</td>\n",
       "      <td>0.457534</td>\n",
       "    </tr>\n",
       "    <tr>\n",
       "      <th>3</th>\n",
       "      <td>0.455023</td>\n",
       "      <td>0.458243</td>\n",
       "    </tr>\n",
       "    <tr>\n",
       "      <th>4</th>\n",
       "      <td>0.454550</td>\n",
       "      <td>0.457779</td>\n",
       "    </tr>\n",
       "  </tbody>\n",
       "</table>\n",
       "</div>"
      ],
      "text/plain": [
       "   mean gene A transformed  mean gene B transformed\n",
       "0                 0.454224                 0.457477\n",
       "1                 0.454420                 0.457662\n",
       "2                 0.454287                 0.457534\n",
       "3                 0.455023                 0.458243\n",
       "4                 0.454550                 0.457779"
      ]
     },
     "execution_count": 21,
     "metadata": {},
     "output_type": "execute_result"
    }
   ],
   "source": [
    "# Join original expression of transformed A and mean(transformed expression of B)\n",
    "predict_A_mean_exp = geneSetA_mean_transformed\n",
    "predict_B_mean_exp = geneSetB_mean_transformed\n",
    "\n",
    "transformed_A_vs_transformed_B_df = pd.merge(predict_A_mean_exp.to_frame('mean gene A transformed'),\n",
    "                      predict_B_mean_exp.to_frame('mean gene B transformed'),\n",
    "                      left_index=True, right_index=True)\n",
    "transformed_A_vs_transformed_B_df.head()"
   ]
  },
  {
   "cell_type": "code",
   "execution_count": 22,
   "metadata": {
    "ExecuteTime": {
     "end_time": "2019-04-16T17:04:09.257939Z",
     "start_time": "2019-04-16T17:04:08.989913Z"
    }
   },
   "outputs": [
    {
     "data": {
      "text/plain": [
       "<matplotlib.axes._subplots.AxesSubplot at 0x7f31d07d1e10>"
      ]
     },
     "execution_count": 22,
     "metadata": {},
     "output_type": "execute_result"
    },
    {
     "data": {
      "image/png": "[encoded data removed]",
      "text/plain": [
       "<matplotlib.figure.Figure at 0x7f31d07cc358>"
      ]
     },
     "metadata": {},
     "output_type": "display_data"
    }
   ],
   "source": [
    "# Plot\n",
    "sns.regplot(x='mean gene A transformed',\n",
    "            y='mean gene B transformed',\n",
    "           data = transformed_A_vs_transformed_B_df)"
   ]
  }
 ],
 "metadata": {
  "kernelspec": {
   "display_name": "Python [conda env:Pa]",
   "language": "python",
   "name": "conda-env-Pa-py"
  },
  "language_info": {
   "codemirror_mode": {
    "name": "ipython",
    "version": 3
   },
   "file_extension": ".py",
   "mimetype": "text/x-python",
   "name": "python",
   "nbconvert_exporter": "python",
   "pygments_lexer": "ipython3",
   "version": "3.5.5"
  }
 },
 "nbformat": 4,
 "nbformat_minor": 2
}
