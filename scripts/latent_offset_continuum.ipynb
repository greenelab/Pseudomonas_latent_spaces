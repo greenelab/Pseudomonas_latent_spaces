{
 "cells": [
  {
   "cell_type": "code",
   "execution_count": 2,
   "metadata": {},
   "outputs": [],
   "source": [
    "#-------------------------------------------------------------------------------------------------------------------------------\n",
    "# By Alexandra Lee (July 2018) \n",
    "#\n",
    "# Take the difference of the encoded gene expression of the two extreme experimental conditions\n",
    "# This will be the offset for the latent space\n",
    "#-------------------------------------------------------------------------------------------------------------------------------\n",
    "import os\n",
    "import pandas as pd\n",
    "import numpy as np\n",
    "np.random.seed(123)"
   ]
  },
  {
   "cell_type": "code",
   "execution_count": 3,
   "metadata": {},
   "outputs": [],
   "source": [
    "# load arguments\n",
    "max_file = os.path.join(os.path.dirname(os.getcwd()), \"encoded\", \"tybalt_2layer_10_train_anr_maxO2_encoded.txt\")\n",
    "min_file = os.path.join(os.path.dirname(os.getcwd()), \"encoded\", \"tybalt_2layer_10_train_anr_minO2_encoded.txt\")\n",
    "\n",
    "# output files\n",
    "out_file = os.path.join(os.path.dirname(os.getcwd()), \"data\", \"train_offset_latent_2layer_anr.txt\")"
   ]
  },
  {
   "cell_type": "code",
   "execution_count": 4,
   "metadata": {},
   "outputs": [
    {
     "data": {
      "text/html": [
       "<div>\n",
       "<style scoped>\n",
       "    .dataframe tbody tr th:only-of-type {\n",
       "        vertical-align: middle;\n",
       "    }\n",
       "\n",
       "    .dataframe tbody tr th {\n",
       "        vertical-align: top;\n",
       "    }\n",
       "\n",
       "    .dataframe thead th {\n",
       "        text-align: right;\n",
       "    }\n",
       "</style>\n",
       "<table border=\"1\" class=\"dataframe\">\n",
       "  <thead>\n",
       "    <tr style=\"text-align: right;\">\n",
       "      <th></th>\n",
       "      <th>0</th>\n",
       "      <th>1</th>\n",
       "      <th>2</th>\n",
       "      <th>3</th>\n",
       "      <th>4</th>\n",
       "      <th>5</th>\n",
       "      <th>6</th>\n",
       "      <th>7</th>\n",
       "      <th>8</th>\n",
       "      <th>9</th>\n",
       "    </tr>\n",
       "  </thead>\n",
       "  <tbody>\n",
       "    <tr>\n",
       "      <th>GSM1267099_HZI1963_Pae_G1a.CEL</th>\n",
       "      <td>3.245681</td>\n",
       "      <td>0.005025</td>\n",
       "      <td>2.595078</td>\n",
       "      <td>4.015588</td>\n",
       "      <td>1.54856</td>\n",
       "      <td>1.446642</td>\n",
       "      <td>0.0</td>\n",
       "      <td>0.0</td>\n",
       "      <td>3.443726</td>\n",
       "      <td>2.499972</td>\n",
       "    </tr>\n",
       "  </tbody>\n",
       "</table>\n",
       "</div>"
      ],
      "text/plain": [
       "                                       0         1         2         3  \\\n",
       "GSM1267099_HZI1963_Pae_G1a.CEL  3.245681  0.005025  2.595078  4.015588   \n",
       "\n",
       "                                      4         5    6    7         8  \\\n",
       "GSM1267099_HZI1963_Pae_G1a.CEL  1.54856  1.446642  0.0  0.0  3.443726   \n",
       "\n",
       "                                       9  \n",
       "GSM1267099_HZI1963_Pae_G1a.CEL  2.499972  "
      ]
     },
     "execution_count": 4,
     "metadata": {},
     "output_type": "execute_result"
    }
   ],
   "source": [
    "# read in data\n",
    "max_data = pd.read_table(max_file, header = 0, sep = '\\t', index_col = 0)\n",
    "min_data = pd.read_table(min_file, header = 0, sep = '\\t', index_col = 0)\n",
    "\n",
    "min_data"
   ]
  },
  {
   "cell_type": "code",
   "execution_count": 5,
   "metadata": {},
   "outputs": [
    {
     "data": {
      "text/html": [
       "<div>\n",
       "<style scoped>\n",
       "    .dataframe tbody tr th:only-of-type {\n",
       "        vertical-align: middle;\n",
       "    }\n",
       "\n",
       "    .dataframe tbody tr th {\n",
       "        vertical-align: top;\n",
       "    }\n",
       "\n",
       "    .dataframe thead th {\n",
       "        text-align: right;\n",
       "    }\n",
       "</style>\n",
       "<table border=\"1\" class=\"dataframe\">\n",
       "  <thead>\n",
       "    <tr style=\"text-align: right;\">\n",
       "      <th></th>\n",
       "      <th>0</th>\n",
       "      <th>1</th>\n",
       "      <th>2</th>\n",
       "      <th>3</th>\n",
       "      <th>4</th>\n",
       "      <th>5</th>\n",
       "      <th>6</th>\n",
       "      <th>7</th>\n",
       "      <th>8</th>\n",
       "      <th>9</th>\n",
       "    </tr>\n",
       "  </thead>\n",
       "  <tbody>\n",
       "    <tr>\n",
       "      <th>GSM1267086_HZI1981_G1a.CEL</th>\n",
       "      <td>3.859057</td>\n",
       "      <td>2.52673</td>\n",
       "      <td>3.691222</td>\n",
       "      <td>4.987357</td>\n",
       "      <td>1.956961</td>\n",
       "      <td>0.0</td>\n",
       "      <td>0.346095</td>\n",
       "      <td>0.0</td>\n",
       "      <td>4.078182</td>\n",
       "      <td>0.0</td>\n",
       "    </tr>\n",
       "  </tbody>\n",
       "</table>\n",
       "</div>"
      ],
      "text/plain": [
       "                                   0        1         2         3         4  \\\n",
       "GSM1267086_HZI1981_G1a.CEL  3.859057  2.52673  3.691222  4.987357  1.956961   \n",
       "\n",
       "                              5         6    7         8    9  \n",
       "GSM1267086_HZI1981_G1a.CEL  0.0  0.346095  0.0  4.078182  0.0  "
      ]
     },
     "execution_count": 5,
     "metadata": {},
     "output_type": "execute_result"
    }
   ],
   "source": [
    "max_data"
   ]
  },
  {
   "cell_type": "code",
   "execution_count": 7,
   "metadata": {},
   "outputs": [
    {
     "data": {
      "text/html": [
       "<div>\n",
       "<style scoped>\n",
       "    .dataframe tbody tr th:only-of-type {\n",
       "        vertical-align: middle;\n",
       "    }\n",
       "\n",
       "    .dataframe tbody tr th {\n",
       "        vertical-align: top;\n",
       "    }\n",
       "\n",
       "    .dataframe thead th {\n",
       "        text-align: right;\n",
       "    }\n",
       "</style>\n",
       "<table border=\"1\" class=\"dataframe\">\n",
       "  <thead>\n",
       "    <tr style=\"text-align: right;\">\n",
       "      <th></th>\n",
       "      <th>0</th>\n",
       "      <th>1</th>\n",
       "      <th>2</th>\n",
       "      <th>3</th>\n",
       "      <th>4</th>\n",
       "      <th>5</th>\n",
       "      <th>6</th>\n",
       "      <th>7</th>\n",
       "      <th>8</th>\n",
       "      <th>9</th>\n",
       "    </tr>\n",
       "  </thead>\n",
       "  <tbody>\n",
       "    <tr>\n",
       "      <th>0</th>\n",
       "      <td>-0.613376</td>\n",
       "      <td>-2.521705</td>\n",
       "      <td>-1.096144</td>\n",
       "      <td>-0.971769</td>\n",
       "      <td>-0.408401</td>\n",
       "      <td>1.446642</td>\n",
       "      <td>-0.346095</td>\n",
       "      <td>0.0</td>\n",
       "      <td>-0.634456</td>\n",
       "      <td>2.499972</td>\n",
       "    </tr>\n",
       "  </tbody>\n",
       "</table>\n",
       "</div>"
      ],
      "text/plain": [
       "          0         1         2         3         4         5         6    7  \\\n",
       "0 -0.613376 -2.521705 -1.096144 -0.971769 -0.408401  1.446642 -0.346095  0.0   \n",
       "\n",
       "          8         9  \n",
       "0 -0.634456  2.499972  "
      ]
     },
     "execution_count": 7,
     "metadata": {},
     "output_type": "execute_result"
    }
   ],
   "source": [
    "# Generate offset using average gene expression in original dataset\n",
    "train_offset_latent = min_data.values - max_data.values\n",
    "train_offset_latent = pd.DataFrame(train_offset_latent, columns = min_data.columns)\n",
    "train_offset_latent"
   ]
  },
  {
   "cell_type": "code",
   "execution_count": 6,
   "metadata": {},
   "outputs": [],
   "source": [
    "# output\n",
    "train_offset_latent.to_csv(out_file, sep='\\t')"
   ]
  }
 ],
 "metadata": {
  "kernelspec": {
   "display_name": "Python [conda env:Pa]",
   "language": "python",
   "name": "conda-env-Pa-py"
  },
  "language_info": {
   "codemirror_mode": {
    "name": "ipython",
    "version": 3
   },
   "file_extension": ".py",
   "mimetype": "text/x-python",
   "name": "python",
   "nbconvert_exporter": "python",
   "pygments_lexer": "ipython3",
   "version": "3.5.5"
  }
 },
 "nbformat": 4,
 "nbformat_minor": 2
}
