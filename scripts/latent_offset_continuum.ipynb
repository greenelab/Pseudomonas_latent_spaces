{
 "cells": [
  {
   "cell_type": "code",
   "execution_count": 1,
   "metadata": {},
   "outputs": [],
   "source": [
    "#-------------------------------------------------------------------------------------------------------------------------------\n",
    "# By Alexandra Lee (July 2018) \n",
    "#\n",
    "# Take the difference of the encoded gene expression of the two extreme experimental conditions\n",
    "# This will be the offset for the latent space\n",
    "#-------------------------------------------------------------------------------------------------------------------------------\n",
    "import os\n",
    "import pandas as pd\n",
    "import numpy as np\n",
    "np.random.seed(123)"
   ]
  },
  {
   "cell_type": "code",
   "execution_count": 2,
   "metadata": {},
   "outputs": [],
   "source": [
    "# load arguments\n",
    "max_file = os.path.join(os.path.dirname(os.getcwd()), \"encoded\", \"PA1673\", \"train_minExp_2layer_10latent_encoded.txt\")\n",
    "min_file = os.path.join(os.path.dirname(os.getcwd()), \"encoded\", \"PA1673\", \"train_maxExp_2layer_10latent_encoded.txt\")\n",
    "\n",
    "# output files\n",
    "out_file = os.path.join(os.path.dirname(os.getcwd()), \"data\", \"PA1673\", \"train_offset_2layer_10latent.txt\")"
   ]
  },
  {
   "cell_type": "code",
   "execution_count": 3,
   "metadata": {},
   "outputs": [
    {
     "data": {
      "text/html": [
       "<div>\n",
       "<style scoped>\n",
       "    .dataframe tbody tr th:only-of-type {\n",
       "        vertical-align: middle;\n",
       "    }\n",
       "\n",
       "    .dataframe tbody tr th {\n",
       "        vertical-align: top;\n",
       "    }\n",
       "\n",
       "    .dataframe thead th {\n",
       "        text-align: right;\n",
       "    }\n",
       "</style>\n",
       "<table border=\"1\" class=\"dataframe\">\n",
       "  <thead>\n",
       "    <tr style=\"text-align: right;\">\n",
       "      <th></th>\n",
       "      <th>0</th>\n",
       "      <th>1</th>\n",
       "      <th>2</th>\n",
       "      <th>3</th>\n",
       "      <th>4</th>\n",
       "      <th>5</th>\n",
       "      <th>6</th>\n",
       "      <th>7</th>\n",
       "      <th>8</th>\n",
       "      <th>9</th>\n",
       "    </tr>\n",
       "  </thead>\n",
       "  <tbody>\n",
       "    <tr>\n",
       "      <th>GSM1267096_HZI1960a_Pae_G1a.CEL</th>\n",
       "      <td>0.797297</td>\n",
       "      <td>1.174354</td>\n",
       "      <td>0.975494</td>\n",
       "      <td>3.902957</td>\n",
       "      <td>0.0</td>\n",
       "      <td>0.632194</td>\n",
       "      <td>2.122414</td>\n",
       "      <td>0.474345</td>\n",
       "      <td>4.75036</td>\n",
       "      <td>0.0</td>\n",
       "    </tr>\n",
       "  </tbody>\n",
       "</table>\n",
       "</div>"
      ],
      "text/plain": [
       "                                        0         1         2         3    4  \\\n",
       "GSM1267096_HZI1960a_Pae_G1a.CEL  0.797297  1.174354  0.975494  3.902957  0.0   \n",
       "\n",
       "                                        5         6         7        8    9  \n",
       "GSM1267096_HZI1960a_Pae_G1a.CEL  0.632194  2.122414  0.474345  4.75036  0.0  "
      ]
     },
     "execution_count": 3,
     "metadata": {},
     "output_type": "execute_result"
    }
   ],
   "source": [
    "# read in data\n",
    "max_data = pd.read_table(max_file, header=0, sep='\\t', index_col=0)\n",
    "min_data = pd.read_table(min_file, header=0, sep='\\t', index_col=0)\n",
    "\n",
    "min_data"
   ]
  },
  {
   "cell_type": "code",
   "execution_count": 4,
   "metadata": {},
   "outputs": [
    {
     "data": {
      "text/html": [
       "<div>\n",
       "<style scoped>\n",
       "    .dataframe tbody tr th:only-of-type {\n",
       "        vertical-align: middle;\n",
       "    }\n",
       "\n",
       "    .dataframe tbody tr th {\n",
       "        vertical-align: top;\n",
       "    }\n",
       "\n",
       "    .dataframe thead th {\n",
       "        text-align: right;\n",
       "    }\n",
       "</style>\n",
       "<table border=\"1\" class=\"dataframe\">\n",
       "  <thead>\n",
       "    <tr style=\"text-align: right;\">\n",
       "      <th></th>\n",
       "      <th>0</th>\n",
       "      <th>1</th>\n",
       "      <th>2</th>\n",
       "      <th>3</th>\n",
       "      <th>4</th>\n",
       "      <th>5</th>\n",
       "      <th>6</th>\n",
       "      <th>7</th>\n",
       "      <th>8</th>\n",
       "      <th>9</th>\n",
       "    </tr>\n",
       "  </thead>\n",
       "  <tbody>\n",
       "    <tr>\n",
       "      <th>GSM1267086_HZI1981_G1a.CEL</th>\n",
       "      <td>0.0</td>\n",
       "      <td>2.587041</td>\n",
       "      <td>2.479394</td>\n",
       "      <td>0.0</td>\n",
       "      <td>0.0</td>\n",
       "      <td>0.280673</td>\n",
       "      <td>0.0</td>\n",
       "      <td>1.052458</td>\n",
       "      <td>6.253006</td>\n",
       "      <td>0.378667</td>\n",
       "    </tr>\n",
       "  </tbody>\n",
       "</table>\n",
       "</div>"
      ],
      "text/plain": [
       "                              0         1         2    3    4         5    6  \\\n",
       "GSM1267086_HZI1981_G1a.CEL  0.0  2.587041  2.479394  0.0  0.0  0.280673  0.0   \n",
       "\n",
       "                                   7         8         9  \n",
       "GSM1267086_HZI1981_G1a.CEL  1.052458  6.253006  0.378667  "
      ]
     },
     "execution_count": 4,
     "metadata": {},
     "output_type": "execute_result"
    }
   ],
   "source": [
    "max_data"
   ]
  },
  {
   "cell_type": "code",
   "execution_count": 5,
   "metadata": {},
   "outputs": [
    {
     "data": {
      "text/html": [
       "<div>\n",
       "<style scoped>\n",
       "    .dataframe tbody tr th:only-of-type {\n",
       "        vertical-align: middle;\n",
       "    }\n",
       "\n",
       "    .dataframe tbody tr th {\n",
       "        vertical-align: top;\n",
       "    }\n",
       "\n",
       "    .dataframe thead th {\n",
       "        text-align: right;\n",
       "    }\n",
       "</style>\n",
       "<table border=\"1\" class=\"dataframe\">\n",
       "  <thead>\n",
       "    <tr style=\"text-align: right;\">\n",
       "      <th></th>\n",
       "      <th>0</th>\n",
       "      <th>1</th>\n",
       "      <th>2</th>\n",
       "      <th>3</th>\n",
       "      <th>4</th>\n",
       "      <th>5</th>\n",
       "      <th>6</th>\n",
       "      <th>7</th>\n",
       "      <th>8</th>\n",
       "      <th>9</th>\n",
       "    </tr>\n",
       "  </thead>\n",
       "  <tbody>\n",
       "    <tr>\n",
       "      <th>0</th>\n",
       "      <td>0.797297</td>\n",
       "      <td>-1.412687</td>\n",
       "      <td>-1.5039</td>\n",
       "      <td>3.902957</td>\n",
       "      <td>0.0</td>\n",
       "      <td>0.351521</td>\n",
       "      <td>2.122414</td>\n",
       "      <td>-0.578113</td>\n",
       "      <td>-1.502645</td>\n",
       "      <td>-0.378667</td>\n",
       "    </tr>\n",
       "  </tbody>\n",
       "</table>\n",
       "</div>"
      ],
      "text/plain": [
       "          0         1       2         3    4         5         6         7  \\\n",
       "0  0.797297 -1.412687 -1.5039  3.902957  0.0  0.351521  2.122414 -0.578113   \n",
       "\n",
       "          8         9  \n",
       "0 -1.502645 -0.378667  "
      ]
     },
     "execution_count": 5,
     "metadata": {},
     "output_type": "execute_result"
    }
   ],
   "source": [
    "# Generate offset using average gene expression in original dataset\n",
    "train_offset_latent = min_data.values - max_data.values\n",
    "train_offset_latent = pd.DataFrame(train_offset_latent, columns=min_data.columns)\n",
    "train_offset_latent"
   ]
  },
  {
   "cell_type": "code",
   "execution_count": 6,
   "metadata": {},
   "outputs": [],
   "source": [
    "# output\n",
    "train_offset_latent.to_csv(out_file, sep='\\t')"
   ]
  }
 ],
 "metadata": {
  "kernelspec": {
   "display_name": "Python [conda env:Pa]",
   "language": "python",
   "name": "conda-env-Pa-py"
  },
  "language_info": {
   "codemirror_mode": {
    "name": "ipython",
    "version": 3
   },
   "file_extension": ".py",
   "mimetype": "text/x-python",
   "name": "python",
   "nbconvert_exporter": "python",
   "pygments_lexer": "ipython3",
   "version": "3.5.5"
  }
 },
 "nbformat": 4,
 "nbformat_minor": 2
}
